{
 "cells": [
  {
   "cell_type": "markdown",
   "id": "dc438582",
   "metadata": {
    "papermill": {
     "duration": 0.006595,
     "end_time": "2022-11-19T08:16:50.696538",
     "exception": false,
     "start_time": "2022-11-19T08:16:50.689943",
     "status": "completed"
    },
    "tags": []
   },
   "source": [
    "# About this notebook\n",
    "- Deberta-v3-base starter code\n",
    "- pip wheels is [here](https://www.kaggle.com/code/yasufuminakama/fb3-pip-wheels)\n",
    "\n",
    "If this notebook is helpful, feel free to upvote :)"
   ]
  },
  {
   "cell_type": "markdown",
   "id": "f2d72560",
   "metadata": {
    "papermill": {
     "duration": 0.00533,
     "end_time": "2022-11-19T08:16:50.707454",
     "exception": false,
     "start_time": "2022-11-19T08:16:50.702124",
     "status": "completed"
    },
    "tags": []
   },
   "source": [
    "# Directory settings"
   ]
  },
  {
   "cell_type": "code",
   "execution_count": 1,
   "id": "8904110b",
   "metadata": {
    "execution": {
     "iopub.execute_input": "2022-11-19T08:16:50.720859Z",
     "iopub.status.busy": "2022-11-19T08:16:50.720013Z",
     "iopub.status.idle": "2022-11-19T08:16:50.730758Z",
     "shell.execute_reply": "2022-11-19T08:16:50.729913Z"
    },
    "papermill": {
     "duration": 0.020079,
     "end_time": "2022-11-19T08:16:50.732854",
     "exception": false,
     "start_time": "2022-11-19T08:16:50.712775",
     "status": "completed"
    },
    "tags": []
   },
   "outputs": [],
   "source": [
    "# ====================================================\n",
    "# Directory settings\n",
    "# ====================================================\n",
    "import os\n",
    "\n",
    "OUTPUT_DIR = './'\n",
    "if not os.path.exists(OUTPUT_DIR):\n",
    "    os.makedirs(OUTPUT_DIR)"
   ]
  },
  {
   "cell_type": "markdown",
   "id": "861024e4",
   "metadata": {
    "papermill": {
     "duration": 0.005185,
     "end_time": "2022-11-19T08:16:50.743462",
     "exception": false,
     "start_time": "2022-11-19T08:16:50.738277",
     "status": "completed"
    },
    "tags": []
   },
   "source": [
    "# CFG"
   ]
  },
  {
   "cell_type": "code",
   "execution_count": 2,
   "id": "1c3439a9",
   "metadata": {
    "execution": {
     "iopub.execute_input": "2022-11-19T08:16:50.755579Z",
     "iopub.status.busy": "2022-11-19T08:16:50.755322Z",
     "iopub.status.idle": "2022-11-19T08:16:50.762952Z",
     "shell.execute_reply": "2022-11-19T08:16:50.762145Z"
    },
    "papermill": {
     "duration": 0.015977,
     "end_time": "2022-11-19T08:16:50.764836",
     "exception": false,
     "start_time": "2022-11-19T08:16:50.748859",
     "status": "completed"
    },
    "tags": []
   },
   "outputs": [],
   "source": [
    "# ====================================================\n",
    "# CFG\n",
    "# ====================================================\n",
    "class CFG:\n",
    "    wandb=True\n",
    "    competition='FB3'\n",
    "    _wandb_kernel='nakama'\n",
    "    debug=False\n",
    "    apex=True\n",
    "    print_freq=20\n",
    "    num_workers=4\n",
    "    model=\"microsoft/deberta-v3-base\"\n",
    "    gradient_checkpointing=True\n",
    "    scheduler='cosine' # ['linear', 'cosine']\n",
    "    batch_scheduler=True\n",
    "    num_cycles=0.5\n",
    "    num_warmup_steps=0\n",
    "    epochs=4\n",
    "    encoder_lr=2e-6\n",
    "    decoder_lr=2e-6\n",
    "    min_lr=1e-6\n",
    "    eps=1e-6\n",
    "    betas=(0.9, 0.999)\n",
    "    batch_size=8\n",
    "    max_len=512\n",
    "    weight_decay=0.01\n",
    "    gradient_accumulation_steps=1\n",
    "    max_grad_norm=1000\n",
    "    target_cols=['cohesion', 'syntax', 'vocabulary', 'phraseology', 'grammar', 'conventions']\n",
    "    seed=42\n",
    "    n_fold=4\n",
    "    trn_fold=[0, 1, 2, 3]\n",
    "    train=True\n",
    "    \n",
    "if CFG.debug:\n",
    "    CFG.epochs = 2\n",
    "    CFG.trn_fold = [0]"
   ]
  },
  {
   "cell_type": "code",
   "execution_count": 3,
   "id": "6605b85b",
   "metadata": {
    "execution": {
     "iopub.execute_input": "2022-11-19T08:16:50.777161Z",
     "iopub.status.busy": "2022-11-19T08:16:50.776342Z",
     "iopub.status.idle": "2022-11-19T08:17:01.457153Z",
     "shell.execute_reply": "2022-11-19T08:17:01.456219Z"
    },
    "papermill": {
     "duration": 10.689608,
     "end_time": "2022-11-19T08:17:01.459748",
     "exception": false,
     "start_time": "2022-11-19T08:16:50.770140",
     "status": "completed"
    },
    "tags": []
   },
   "outputs": [
    {
     "name": "stdout",
     "output_type": "stream",
     "text": [
      "If you want to use your W&B account, go to Add-ons -> Secrets and provide your W&B access token. Use the Label name as wandb_api. \n",
      "Get your W&B access token from here: https://wandb.ai/authorize\n"
     ]
    },
    {
     "name": "stderr",
     "output_type": "stream",
     "text": [
      "\u001b[34m\u001b[1mwandb\u001b[0m: Appending key for api.wandb.ai to your netrc file: /root/.netrc\n"
     ]
    },
    {
     "data": {
      "text/html": [
       "wandb version 0.13.5 is available!  To upgrade, please run:\n",
       " $ pip install wandb --upgrade"
      ],
      "text/plain": [
       "<IPython.core.display.HTML object>"
      ]
     },
     "metadata": {},
     "output_type": "display_data"
    },
    {
     "data": {
      "text/html": [
       "Tracking run with wandb version 0.12.21"
      ],
      "text/plain": [
       "<IPython.core.display.HTML object>"
      ]
     },
     "metadata": {},
     "output_type": "display_data"
    },
    {
     "data": {
      "text/html": [
       "Run data is saved locally in <code>/kaggle/working/wandb/run-20221119_081654-2kfcbpi4</code>"
      ],
      "text/plain": [
       "<IPython.core.display.HTML object>"
      ]
     },
     "metadata": {},
     "output_type": "display_data"
    },
    {
     "data": {
      "text/html": [
       "Syncing run <strong><a href=\"https://wandb.ai/anony-mouse-444869/FB3-Public/runs/2kfcbpi4?apiKey=f166cae253d77c5d2d38bd1131172f8e32c99f8e\" target=\"_blank\">microsoft/deberta-v3-base</a></strong> to <a href=\"https://wandb.ai/anony-mouse-444869/FB3-Public?apiKey=f166cae253d77c5d2d38bd1131172f8e32c99f8e\" target=\"_blank\">Weights & Biases</a> (<a href=\"https://wandb.me/run\" target=\"_blank\">docs</a>)<br/>"
      ],
      "text/plain": [
       "<IPython.core.display.HTML object>"
      ]
     },
     "metadata": {},
     "output_type": "display_data"
    }
   ],
   "source": [
    "# ====================================================\n",
    "# wandb\n",
    "# ====================================================\n",
    "if CFG.wandb:\n",
    "    \n",
    "    import wandb\n",
    "\n",
    "    try:\n",
    "        from kaggle_secrets import UserSecretsClient\n",
    "        user_secrets = UserSecretsClient()\n",
    "        secret_value_0 = user_secrets.get_secret(\"wandb_api\")\n",
    "        wandb.login(key=secret_value_0)\n",
    "        anony = None\n",
    "    except:\n",
    "        anony = \"must\"\n",
    "        print('If you want to use your W&B account, go to Add-ons -> Secrets and provide your W&B access token. Use the Label name as wandb_api. \\nGet your W&B access token from here: https://wandb.ai/authorize')\n",
    "\n",
    "\n",
    "    def class2dict(f):\n",
    "        return dict((name, getattr(f, name)) for name in dir(f) if not name.startswith('__'))\n",
    "\n",
    "    run = wandb.init(project='FB3-Public', \n",
    "                     name=CFG.model,\n",
    "                     config=class2dict(CFG),\n",
    "                     group=CFG.model,\n",
    "                     job_type=\"train\",\n",
    "                     anonymous=anony)"
   ]
  },
  {
   "cell_type": "markdown",
   "id": "b5d8df75",
   "metadata": {
    "papermill": {
     "duration": 0.01957,
     "end_time": "2022-11-19T08:17:01.492917",
     "exception": false,
     "start_time": "2022-11-19T08:17:01.473347",
     "status": "completed"
    },
    "tags": []
   },
   "source": [
    "# Library"
   ]
  },
  {
   "cell_type": "code",
   "execution_count": 4,
   "id": "e66ed147",
   "metadata": {
    "execution": {
     "iopub.execute_input": "2022-11-19T08:17:01.526229Z",
     "iopub.status.busy": "2022-11-19T08:17:01.525850Z",
     "iopub.status.idle": "2022-11-19T08:17:57.317097Z",
     "shell.execute_reply": "2022-11-19T08:17:57.315857Z"
    },
    "papermill": {
     "duration": 55.813875,
     "end_time": "2022-11-19T08:17:57.319206",
     "exception": false,
     "start_time": "2022-11-19T08:17:01.505331",
     "status": "completed"
    },
    "tags": []
   },
   "outputs": [
    {
     "name": "stdout",
     "output_type": "stream",
     "text": [
      "Collecting iterative-stratification==0.1.7\n",
      "  Downloading iterative_stratification-0.1.7-py3-none-any.whl (8.5 kB)\n",
      "Requirement already satisfied: scikit-learn in /opt/conda/lib/python3.7/site-packages (from iterative-stratification==0.1.7) (1.0.2)\n",
      "Requirement already satisfied: numpy in /opt/conda/lib/python3.7/site-packages (from iterative-stratification==0.1.7) (1.21.6)\n",
      "Requirement already satisfied: scipy in /opt/conda/lib/python3.7/site-packages (from iterative-stratification==0.1.7) (1.7.3)\n",
      "Requirement already satisfied: joblib>=0.11 in /opt/conda/lib/python3.7/site-packages (from scikit-learn->iterative-stratification==0.1.7) (1.0.1)\n",
      "Requirement already satisfied: threadpoolctl>=2.0.0 in /opt/conda/lib/python3.7/site-packages (from scikit-learn->iterative-stratification==0.1.7) (3.1.0)\n",
      "Installing collected packages: iterative-stratification\n",
      "Successfully installed iterative-stratification-0.1.7\n"
     ]
    },
    {
     "name": "stderr",
     "output_type": "stream",
     "text": [
      "WARNING: Running pip as the 'root' user can result in broken permissions and conflicting behaviour with the system package manager. It is recommended to use a virtual environment instead: https://pip.pypa.io/warnings/venv\n"
     ]
    },
    {
     "name": "stdout",
     "output_type": "stream",
     "text": [
      "Found existing installation: transformers 4.20.1\n",
      "Uninstalling transformers-4.20.1:\n",
      "  Successfully uninstalled transformers-4.20.1\n"
     ]
    },
    {
     "name": "stderr",
     "output_type": "stream",
     "text": [
      "WARNING: Running pip as the 'root' user can result in broken permissions and conflicting behaviour with the system package manager. It is recommended to use a virtual environment instead: https://pip.pypa.io/warnings/venv\n"
     ]
    },
    {
     "name": "stdout",
     "output_type": "stream",
     "text": [
      "Found existing installation: tokenizers 0.12.1\n",
      "Uninstalling tokenizers-0.12.1:\n",
      "  Successfully uninstalled tokenizers-0.12.1\n"
     ]
    },
    {
     "name": "stderr",
     "output_type": "stream",
     "text": [
      "WARNING: Running pip as the 'root' user can result in broken permissions and conflicting behaviour with the system package manager. It is recommended to use a virtual environment instead: https://pip.pypa.io/warnings/venv\n"
     ]
    },
    {
     "name": "stdout",
     "output_type": "stream",
     "text": [
      "Looking in links: ../input/fb3-pip-wheels\n",
      "Processing /kaggle/input/fb3-pip-wheels/transformers-4.21.2-py3-none-any.whl\n",
      "Requirement already satisfied: numpy>=1.17 in /opt/conda/lib/python3.7/site-packages (from transformers) (1.21.6)\n",
      "Requirement already satisfied: huggingface-hub<1.0,>=0.1.0 in /opt/conda/lib/python3.7/site-packages (from transformers) (0.8.1)\n",
      "Requirement already satisfied: tqdm>=4.27 in /opt/conda/lib/python3.7/site-packages (from transformers) (4.64.0)\n",
      "Requirement already satisfied: requests in /opt/conda/lib/python3.7/site-packages (from transformers) (2.28.1)\n",
      "Requirement already satisfied: packaging>=20.0 in /opt/conda/lib/python3.7/site-packages (from transformers) (21.3)\n",
      "Processing /kaggle/input/fb3-pip-wheels/tokenizers-0.12.1-cp37-cp37m-manylinux_2_12_x86_64.manylinux2010_x86_64.whl\n",
      "Requirement already satisfied: regex!=2019.12.17 in /opt/conda/lib/python3.7/site-packages (from transformers) (2021.11.10)\n",
      "Requirement already satisfied: importlib-metadata in /opt/conda/lib/python3.7/site-packages (from transformers) (4.12.0)\n",
      "Requirement already satisfied: pyyaml>=5.1 in /opt/conda/lib/python3.7/site-packages (from transformers) (6.0)\n",
      "Requirement already satisfied: filelock in /opt/conda/lib/python3.7/site-packages (from transformers) (3.7.1)\n",
      "Requirement already satisfied: typing-extensions>=3.7.4.3 in /opt/conda/lib/python3.7/site-packages (from huggingface-hub<1.0,>=0.1.0->transformers) (4.3.0)\n",
      "Requirement already satisfied: pyparsing!=3.0.5,>=2.0.2 in /opt/conda/lib/python3.7/site-packages (from packaging>=20.0->transformers) (3.0.9)\n",
      "Requirement already satisfied: zipp>=0.5 in /opt/conda/lib/python3.7/site-packages (from importlib-metadata->transformers) (3.8.0)\n",
      "Requirement already satisfied: certifi>=2017.4.17 in /opt/conda/lib/python3.7/site-packages (from requests->transformers) (2022.6.15)\n",
      "Requirement already satisfied: urllib3<1.27,>=1.21.1 in /opt/conda/lib/python3.7/site-packages (from requests->transformers) (1.26.12)\n",
      "Requirement already satisfied: charset-normalizer<3,>=2 in /opt/conda/lib/python3.7/site-packages (from requests->transformers) (2.1.0)\n",
      "Requirement already satisfied: idna<4,>=2.5 in /opt/conda/lib/python3.7/site-packages (from requests->transformers) (3.3)\n",
      "Installing collected packages: tokenizers, transformers\n"
     ]
    },
    {
     "name": "stderr",
     "output_type": "stream",
     "text": [
      "ERROR: pip's dependency resolver does not currently take into account all the packages that are installed. This behaviour is the source of the following dependency conflicts.\n",
      "allennlp 2.10.0 requires protobuf==3.20.0, but you have protobuf 3.19.4 which is incompatible.\n",
      "allennlp 2.10.0 requires transformers<4.21,>=4.1, but you have transformers 4.21.2 which is incompatible.\n",
      "WARNING: Running pip as the 'root' user can result in broken permissions and conflicting behaviour with the system package manager. It is recommended to use a virtual environment instead: https://pip.pypa.io/warnings/venv\n"
     ]
    },
    {
     "name": "stdout",
     "output_type": "stream",
     "text": [
      "Successfully installed tokenizers-0.12.1 transformers-4.21.2\n",
      "Looking in links: ../input/fb3-pip-wheels\n",
      "Requirement already satisfied: tokenizers in /opt/conda/lib/python3.7/site-packages (0.12.1)\n"
     ]
    },
    {
     "name": "stderr",
     "output_type": "stream",
     "text": [
      "WARNING: Running pip as the 'root' user can result in broken permissions and conflicting behaviour with the system package manager. It is recommended to use a virtual environment instead: https://pip.pypa.io/warnings/venv\n"
     ]
    },
    {
     "name": "stdout",
     "output_type": "stream",
     "text": [
      "tokenizers.__version__: 0.12.1\n",
      "transformers.__version__: 4.21.2\n",
      "env: TOKENIZERS_PARALLELISM=true\n"
     ]
    }
   ],
   "source": [
    "# ====================================================\n",
    "# Library\n",
    "# ====================================================\n",
    "import os\n",
    "import gc\n",
    "import re\n",
    "import ast\n",
    "import sys\n",
    "import copy\n",
    "import json\n",
    "import time\n",
    "import math\n",
    "import string\n",
    "import pickle\n",
    "import random\n",
    "import joblib\n",
    "import itertools\n",
    "import warnings\n",
    "warnings.filterwarnings(\"ignore\")\n",
    "\n",
    "import scipy as sp\n",
    "import numpy as np\n",
    "import pandas as pd\n",
    "pd.set_option('display.max_rows', 500)\n",
    "pd.set_option('display.max_columns', 500)\n",
    "pd.set_option('display.width', 1000)\n",
    "from tqdm.auto import tqdm\n",
    "from sklearn.metrics import mean_squared_error\n",
    "from sklearn.model_selection import StratifiedKFold, GroupKFold, KFold\n",
    "\n",
    "os.system('pip install iterative-stratification==0.1.7')\n",
    "from iterstrat.ml_stratifiers import MultilabelStratifiedKFold\n",
    "\n",
    "import torch\n",
    "import torch.nn as nn\n",
    "from torch.nn import Parameter\n",
    "import torch.nn.functional as F\n",
    "from torch.optim import Adam, SGD, AdamW\n",
    "from torch.utils.data import DataLoader, Dataset\n",
    "\n",
    "os.system('pip uninstall -y transformers')\n",
    "os.system('pip uninstall -y tokenizers')\n",
    "os.system('python -m pip install --no-index --find-links=../input/fb3-pip-wheels transformers')\n",
    "os.system('python -m pip install --no-index --find-links=../input/fb3-pip-wheels tokenizers')\n",
    "import tokenizers\n",
    "import transformers\n",
    "print(f\"tokenizers.__version__: {tokenizers.__version__}\")\n",
    "print(f\"transformers.__version__: {transformers.__version__}\")\n",
    "from transformers import AutoTokenizer, AutoModel, AutoConfig\n",
    "from transformers import get_linear_schedule_with_warmup, get_cosine_schedule_with_warmup\n",
    "%env TOKENIZERS_PARALLELISM=true\n",
    "\n",
    "device = torch.device('cuda' if torch.cuda.is_available() else 'cpu')"
   ]
  },
  {
   "cell_type": "markdown",
   "id": "1e19d45f",
   "metadata": {
    "papermill": {
     "duration": 0.00789,
     "end_time": "2022-11-19T08:17:57.334222",
     "exception": false,
     "start_time": "2022-11-19T08:17:57.326332",
     "status": "completed"
    },
    "tags": []
   },
   "source": [
    "# Utils"
   ]
  },
  {
   "cell_type": "code",
   "execution_count": 5,
   "id": "b5303d95",
   "metadata": {
    "execution": {
     "iopub.execute_input": "2022-11-19T08:17:57.350508Z",
     "iopub.status.busy": "2022-11-19T08:17:57.348851Z",
     "iopub.status.idle": "2022-11-19T08:17:57.362711Z",
     "shell.execute_reply": "2022-11-19T08:17:57.361895Z"
    },
    "papermill": {
     "duration": 0.02357,
     "end_time": "2022-11-19T08:17:57.364584",
     "exception": false,
     "start_time": "2022-11-19T08:17:57.341014",
     "status": "completed"
    },
    "tags": []
   },
   "outputs": [],
   "source": [
    "# ====================================================\n",
    "# Utils\n",
    "# ====================================================\n",
    "def MCRMSE(y_trues, y_preds):\n",
    "    scores = []\n",
    "    idxes = y_trues.shape[1]\n",
    "    for i in range(idxes):\n",
    "        y_true = y_trues[:,i]\n",
    "        y_pred = y_preds[:,i]\n",
    "        score = mean_squared_error(y_true, y_pred, squared=False) # RMSE\n",
    "        scores.append(score)\n",
    "    mcrmse_score = np.mean(scores)\n",
    "    return mcrmse_score, scores\n",
    "\n",
    "\n",
    "def get_score(y_trues, y_preds):\n",
    "    mcrmse_score, scores = MCRMSE(y_trues, y_preds)\n",
    "    return mcrmse_score, scores\n",
    "\n",
    "\n",
    "def get_logger(filename=OUTPUT_DIR+'train'):\n",
    "    from logging import getLogger, INFO, StreamHandler, FileHandler, Formatter\n",
    "    logger = getLogger(__name__)\n",
    "    logger.setLevel(INFO)\n",
    "    handler1 = StreamHandler()\n",
    "    handler1.setFormatter(Formatter(\"%(message)s\"))\n",
    "    handler2 = FileHandler(filename=f\"{filename}.log\")\n",
    "    handler2.setFormatter(Formatter(\"%(message)s\"))\n",
    "    logger.addHandler(handler1)\n",
    "    logger.addHandler(handler2)\n",
    "    return logger\n",
    "\n",
    "LOGGER = get_logger()\n",
    "\n",
    "\n",
    "def seed_everything(seed=42):\n",
    "    random.seed(seed)\n",
    "    os.environ['PYTHONHASHSEED'] = str(seed)\n",
    "    np.random.seed(seed)\n",
    "    torch.manual_seed(seed)\n",
    "    torch.cuda.manual_seed(seed)\n",
    "    torch.backends.cudnn.deterministic = True\n",
    "    \n",
    "seed_everything(seed=42)"
   ]
  },
  {
   "cell_type": "markdown",
   "id": "6ca72a46",
   "metadata": {
    "papermill": {
     "duration": 0.006746,
     "end_time": "2022-11-19T08:17:57.378408",
     "exception": false,
     "start_time": "2022-11-19T08:17:57.371662",
     "status": "completed"
    },
    "tags": []
   },
   "source": [
    "# Data Loading"
   ]
  },
  {
   "cell_type": "code",
   "execution_count": 6,
   "id": "b020516b",
   "metadata": {
    "execution": {
     "iopub.execute_input": "2022-11-19T08:17:57.393867Z",
     "iopub.status.busy": "2022-11-19T08:17:57.393035Z",
     "iopub.status.idle": "2022-11-19T08:17:57.623006Z",
     "shell.execute_reply": "2022-11-19T08:17:57.622104Z"
    },
    "papermill": {
     "duration": 0.239831,
     "end_time": "2022-11-19T08:17:57.625042",
     "exception": false,
     "start_time": "2022-11-19T08:17:57.385211",
     "status": "completed"
    },
    "tags": []
   },
   "outputs": [
    {
     "name": "stdout",
     "output_type": "stream",
     "text": [
      "train.shape: (3911, 8)\n"
     ]
    },
    {
     "data": {
      "text/html": [
       "<div>\n",
       "<style scoped>\n",
       "    .dataframe tbody tr th:only-of-type {\n",
       "        vertical-align: middle;\n",
       "    }\n",
       "\n",
       "    .dataframe tbody tr th {\n",
       "        vertical-align: top;\n",
       "    }\n",
       "\n",
       "    .dataframe thead th {\n",
       "        text-align: right;\n",
       "    }\n",
       "</style>\n",
       "<table border=\"1\" class=\"dataframe\">\n",
       "  <thead>\n",
       "    <tr style=\"text-align: right;\">\n",
       "      <th></th>\n",
       "      <th>text_id</th>\n",
       "      <th>full_text</th>\n",
       "      <th>cohesion</th>\n",
       "      <th>syntax</th>\n",
       "      <th>vocabulary</th>\n",
       "      <th>phraseology</th>\n",
       "      <th>grammar</th>\n",
       "      <th>conventions</th>\n",
       "    </tr>\n",
       "  </thead>\n",
       "  <tbody>\n",
       "    <tr>\n",
       "      <th>0</th>\n",
       "      <td>0016926B079C</td>\n",
       "      <td>I think that students would benefit from learn...</td>\n",
       "      <td>3.5</td>\n",
       "      <td>3.5</td>\n",
       "      <td>3.0</td>\n",
       "      <td>3.0</td>\n",
       "      <td>4.0</td>\n",
       "      <td>3.0</td>\n",
       "    </tr>\n",
       "    <tr>\n",
       "      <th>1</th>\n",
       "      <td>0022683E9EA5</td>\n",
       "      <td>When a problem is a change you have to let it ...</td>\n",
       "      <td>2.5</td>\n",
       "      <td>2.5</td>\n",
       "      <td>3.0</td>\n",
       "      <td>2.0</td>\n",
       "      <td>2.0</td>\n",
       "      <td>2.5</td>\n",
       "    </tr>\n",
       "    <tr>\n",
       "      <th>2</th>\n",
       "      <td>00299B378633</td>\n",
       "      <td>Dear, Principal\\n\\nIf u change the school poli...</td>\n",
       "      <td>3.0</td>\n",
       "      <td>3.5</td>\n",
       "      <td>3.0</td>\n",
       "      <td>3.0</td>\n",
       "      <td>3.0</td>\n",
       "      <td>2.5</td>\n",
       "    </tr>\n",
       "    <tr>\n",
       "      <th>3</th>\n",
       "      <td>003885A45F42</td>\n",
       "      <td>The best time in life is when you become yours...</td>\n",
       "      <td>4.5</td>\n",
       "      <td>4.5</td>\n",
       "      <td>4.5</td>\n",
       "      <td>4.5</td>\n",
       "      <td>4.0</td>\n",
       "      <td>5.0</td>\n",
       "    </tr>\n",
       "    <tr>\n",
       "      <th>4</th>\n",
       "      <td>0049B1DF5CCC</td>\n",
       "      <td>Small act of kindness can impact in other peop...</td>\n",
       "      <td>2.5</td>\n",
       "      <td>3.0</td>\n",
       "      <td>3.0</td>\n",
       "      <td>3.0</td>\n",
       "      <td>2.5</td>\n",
       "      <td>2.5</td>\n",
       "    </tr>\n",
       "  </tbody>\n",
       "</table>\n",
       "</div>"
      ],
      "text/plain": [
       "        text_id                                          full_text  cohesion  syntax  vocabulary  phraseology  grammar  conventions\n",
       "0  0016926B079C  I think that students would benefit from learn...       3.5     3.5         3.0          3.0      4.0          3.0\n",
       "1  0022683E9EA5  When a problem is a change you have to let it ...       2.5     2.5         3.0          2.0      2.0          2.5\n",
       "2  00299B378633  Dear, Principal\\n\\nIf u change the school poli...       3.0     3.5         3.0          3.0      3.0          2.5\n",
       "3  003885A45F42  The best time in life is when you become yours...       4.5     4.5         4.5          4.5      4.0          5.0\n",
       "4  0049B1DF5CCC  Small act of kindness can impact in other peop...       2.5     3.0         3.0          3.0      2.5          2.5"
      ]
     },
     "metadata": {},
     "output_type": "display_data"
    },
    {
     "name": "stdout",
     "output_type": "stream",
     "text": [
      "test.shape: (3, 2)\n"
     ]
    },
    {
     "data": {
      "text/html": [
       "<div>\n",
       "<style scoped>\n",
       "    .dataframe tbody tr th:only-of-type {\n",
       "        vertical-align: middle;\n",
       "    }\n",
       "\n",
       "    .dataframe tbody tr th {\n",
       "        vertical-align: top;\n",
       "    }\n",
       "\n",
       "    .dataframe thead th {\n",
       "        text-align: right;\n",
       "    }\n",
       "</style>\n",
       "<table border=\"1\" class=\"dataframe\">\n",
       "  <thead>\n",
       "    <tr style=\"text-align: right;\">\n",
       "      <th></th>\n",
       "      <th>text_id</th>\n",
       "      <th>full_text</th>\n",
       "    </tr>\n",
       "  </thead>\n",
       "  <tbody>\n",
       "    <tr>\n",
       "      <th>0</th>\n",
       "      <td>0000C359D63E</td>\n",
       "      <td>when a person has no experience on a job their...</td>\n",
       "    </tr>\n",
       "    <tr>\n",
       "      <th>1</th>\n",
       "      <td>000BAD50D026</td>\n",
       "      <td>Do you think students would benefit from being...</td>\n",
       "    </tr>\n",
       "    <tr>\n",
       "      <th>2</th>\n",
       "      <td>00367BB2546B</td>\n",
       "      <td>Thomas Jefferson once states that \"it is wonde...</td>\n",
       "    </tr>\n",
       "  </tbody>\n",
       "</table>\n",
       "</div>"
      ],
      "text/plain": [
       "        text_id                                          full_text\n",
       "0  0000C359D63E  when a person has no experience on a job their...\n",
       "1  000BAD50D026  Do you think students would benefit from being...\n",
       "2  00367BB2546B  Thomas Jefferson once states that \"it is wonde..."
      ]
     },
     "metadata": {},
     "output_type": "display_data"
    },
    {
     "name": "stdout",
     "output_type": "stream",
     "text": [
      "submission.shape: (3, 7)\n"
     ]
    },
    {
     "data": {
      "text/html": [
       "<div>\n",
       "<style scoped>\n",
       "    .dataframe tbody tr th:only-of-type {\n",
       "        vertical-align: middle;\n",
       "    }\n",
       "\n",
       "    .dataframe tbody tr th {\n",
       "        vertical-align: top;\n",
       "    }\n",
       "\n",
       "    .dataframe thead th {\n",
       "        text-align: right;\n",
       "    }\n",
       "</style>\n",
       "<table border=\"1\" class=\"dataframe\">\n",
       "  <thead>\n",
       "    <tr style=\"text-align: right;\">\n",
       "      <th></th>\n",
       "      <th>text_id</th>\n",
       "      <th>cohesion</th>\n",
       "      <th>syntax</th>\n",
       "      <th>vocabulary</th>\n",
       "      <th>phraseology</th>\n",
       "      <th>grammar</th>\n",
       "      <th>conventions</th>\n",
       "    </tr>\n",
       "  </thead>\n",
       "  <tbody>\n",
       "    <tr>\n",
       "      <th>0</th>\n",
       "      <td>0000C359D63E</td>\n",
       "      <td>3.0</td>\n",
       "      <td>3.0</td>\n",
       "      <td>3.0</td>\n",
       "      <td>3.0</td>\n",
       "      <td>3.0</td>\n",
       "      <td>3.0</td>\n",
       "    </tr>\n",
       "    <tr>\n",
       "      <th>1</th>\n",
       "      <td>000BAD50D026</td>\n",
       "      <td>3.0</td>\n",
       "      <td>3.0</td>\n",
       "      <td>3.0</td>\n",
       "      <td>3.0</td>\n",
       "      <td>3.0</td>\n",
       "      <td>3.0</td>\n",
       "    </tr>\n",
       "    <tr>\n",
       "      <th>2</th>\n",
       "      <td>00367BB2546B</td>\n",
       "      <td>3.0</td>\n",
       "      <td>3.0</td>\n",
       "      <td>3.0</td>\n",
       "      <td>3.0</td>\n",
       "      <td>3.0</td>\n",
       "      <td>3.0</td>\n",
       "    </tr>\n",
       "  </tbody>\n",
       "</table>\n",
       "</div>"
      ],
      "text/plain": [
       "        text_id  cohesion  syntax  vocabulary  phraseology  grammar  conventions\n",
       "0  0000C359D63E       3.0     3.0         3.0          3.0      3.0          3.0\n",
       "1  000BAD50D026       3.0     3.0         3.0          3.0      3.0          3.0\n",
       "2  00367BB2546B       3.0     3.0         3.0          3.0      3.0          3.0"
      ]
     },
     "metadata": {},
     "output_type": "display_data"
    }
   ],
   "source": [
    "# ====================================================\n",
    "# Data Loading\n",
    "# ====================================================\n",
    "train = pd.read_csv('../input/feedback-prize-english-language-learning/train.csv')\n",
    "test = pd.read_csv('../input/feedback-prize-english-language-learning/test.csv')\n",
    "submission = pd.read_csv('../input/feedback-prize-english-language-learning/sample_submission.csv')\n",
    "\n",
    "print(f\"train.shape: {train.shape}\")\n",
    "display(train.head())\n",
    "print(f\"test.shape: {test.shape}\")\n",
    "display(test.head())\n",
    "print(f\"submission.shape: {submission.shape}\")\n",
    "display(submission.head())"
   ]
  },
  {
   "cell_type": "markdown",
   "id": "8e6dd6aa",
   "metadata": {
    "papermill": {
     "duration": 0.007511,
     "end_time": "2022-11-19T08:17:57.644238",
     "exception": false,
     "start_time": "2022-11-19T08:17:57.636727",
     "status": "completed"
    },
    "tags": []
   },
   "source": [
    "# CV split"
   ]
  },
  {
   "cell_type": "code",
   "execution_count": 7,
   "id": "16d5d3d8",
   "metadata": {
    "execution": {
     "iopub.execute_input": "2022-11-19T08:17:57.661799Z",
     "iopub.status.busy": "2022-11-19T08:17:57.660256Z",
     "iopub.status.idle": "2022-11-19T08:17:57.798106Z",
     "shell.execute_reply": "2022-11-19T08:17:57.797420Z"
    },
    "papermill": {
     "duration": 0.148336,
     "end_time": "2022-11-19T08:17:57.800106",
     "exception": false,
     "start_time": "2022-11-19T08:17:57.651770",
     "status": "completed"
    },
    "tags": []
   },
   "outputs": [
    {
     "data": {
      "text/plain": [
       "fold\n",
       "0    978\n",
       "1    977\n",
       "2    978\n",
       "3    978\n",
       "dtype: int64"
      ]
     },
     "metadata": {},
     "output_type": "display_data"
    }
   ],
   "source": [
    "# ====================================================\n",
    "# CV split\n",
    "# ====================================================\n",
    "Fold = MultilabelStratifiedKFold(n_splits=CFG.n_fold, shuffle=True, random_state=CFG.seed)\n",
    "for n, (train_index, val_index) in enumerate(Fold.split(train, train[CFG.target_cols])):\n",
    "    train.loc[val_index, 'fold'] = int(n)\n",
    "train['fold'] = train['fold'].astype(int)\n",
    "display(train.groupby('fold').size())"
   ]
  },
  {
   "cell_type": "code",
   "execution_count": 8,
   "id": "07da9227",
   "metadata": {
    "execution": {
     "iopub.execute_input": "2022-11-19T08:17:57.818315Z",
     "iopub.status.busy": "2022-11-19T08:17:57.817443Z",
     "iopub.status.idle": "2022-11-19T08:17:57.823586Z",
     "shell.execute_reply": "2022-11-19T08:17:57.822773Z"
    },
    "papermill": {
     "duration": 0.01727,
     "end_time": "2022-11-19T08:17:57.825541",
     "exception": false,
     "start_time": "2022-11-19T08:17:57.808271",
     "status": "completed"
    },
    "tags": []
   },
   "outputs": [],
   "source": [
    "if CFG.debug:\n",
    "    display(train.groupby('fold').size())\n",
    "    train = train.sample(n=1000, random_state=0).reset_index(drop=True)\n",
    "    display(train.groupby('fold').size())"
   ]
  },
  {
   "cell_type": "markdown",
   "id": "47eb9d69",
   "metadata": {
    "papermill": {
     "duration": 0.007462,
     "end_time": "2022-11-19T08:17:57.840510",
     "exception": false,
     "start_time": "2022-11-19T08:17:57.833048",
     "status": "completed"
    },
    "tags": []
   },
   "source": [
    "# tokenizer"
   ]
  },
  {
   "cell_type": "code",
   "execution_count": 9,
   "id": "14af9d68",
   "metadata": {
    "execution": {
     "iopub.execute_input": "2022-11-19T08:17:57.858141Z",
     "iopub.status.busy": "2022-11-19T08:17:57.856660Z",
     "iopub.status.idle": "2022-11-19T08:18:14.226238Z",
     "shell.execute_reply": "2022-11-19T08:18:14.225233Z"
    },
    "papermill": {
     "duration": 16.380688,
     "end_time": "2022-11-19T08:18:14.228821",
     "exception": false,
     "start_time": "2022-11-19T08:17:57.848133",
     "status": "completed"
    },
    "tags": []
   },
   "outputs": [
    {
     "data": {
      "application/vnd.jupyter.widget-view+json": {
       "model_id": "ef8992439c854685a70d4cd533f58208",
       "version_major": 2,
       "version_minor": 0
      },
      "text/plain": [
       "Downloading tokenizer_config.json:   0%|          | 0.00/52.0 [00:00<?, ?B/s]"
      ]
     },
     "metadata": {},
     "output_type": "display_data"
    },
    {
     "data": {
      "application/vnd.jupyter.widget-view+json": {
       "model_id": "b67dacb8f51d443f8bcd9fb5a0d40f66",
       "version_major": 2,
       "version_minor": 0
      },
      "text/plain": [
       "Downloading config.json:   0%|          | 0.00/579 [00:00<?, ?B/s]"
      ]
     },
     "metadata": {},
     "output_type": "display_data"
    },
    {
     "data": {
      "application/vnd.jupyter.widget-view+json": {
       "model_id": "40d7beaabeed42aaaca1c55b75481b33",
       "version_major": 2,
       "version_minor": 0
      },
      "text/plain": [
       "Downloading spm.model:   0%|          | 0.00/2.35M [00:00<?, ?B/s]"
      ]
     },
     "metadata": {},
     "output_type": "display_data"
    },
    {
     "name": "stderr",
     "output_type": "stream",
     "text": [
      "Special tokens have been added in the vocabulary, make sure the associated word embeddings are fine-tuned or trained.\n",
      "Special tokens have been added in the vocabulary, make sure the associated word embeddings are fine-tuned or trained.\n"
     ]
    }
   ],
   "source": [
    "# ====================================================\n",
    "# tokenizer\n",
    "# ====================================================\n",
    "tokenizer = AutoTokenizer.from_pretrained(CFG.model)\n",
    "tokenizer.save_pretrained(OUTPUT_DIR+'tokenizer/')\n",
    "CFG.tokenizer = tokenizer"
   ]
  },
  {
   "cell_type": "markdown",
   "id": "890e146b",
   "metadata": {
    "papermill": {
     "duration": 0.00841,
     "end_time": "2022-11-19T08:18:14.246736",
     "exception": false,
     "start_time": "2022-11-19T08:18:14.238326",
     "status": "completed"
    },
    "tags": []
   },
   "source": [
    "# Dataset"
   ]
  },
  {
   "cell_type": "code",
   "execution_count": 10,
   "id": "75173f9c",
   "metadata": {
    "execution": {
     "iopub.execute_input": "2022-11-19T08:18:14.266915Z",
     "iopub.status.busy": "2022-11-19T08:18:14.265358Z",
     "iopub.status.idle": "2022-11-19T08:18:19.887121Z",
     "shell.execute_reply": "2022-11-19T08:18:19.886054Z"
    },
    "papermill": {
     "duration": 5.636164,
     "end_time": "2022-11-19T08:18:19.891625",
     "exception": false,
     "start_time": "2022-11-19T08:18:14.255461",
     "status": "completed"
    },
    "tags": []
   },
   "outputs": [
    {
     "data": {
      "application/vnd.jupyter.widget-view+json": {
       "model_id": "6067cad8f52d45aeb1a3f2754c684fa0",
       "version_major": 2,
       "version_minor": 0
      },
      "text/plain": [
       "  0%|          | 0/3911 [00:00<?, ?it/s]"
      ]
     },
     "metadata": {},
     "output_type": "display_data"
    },
    {
     "name": "stderr",
     "output_type": "stream",
     "text": [
      "max_len: 1429\n"
     ]
    }
   ],
   "source": [
    "# ====================================================\n",
    "# Define max_len\n",
    "# ====================================================\n",
    "lengths = []\n",
    "tk0 = tqdm(train['full_text'].fillna(\"\").values, total=len(train))\n",
    "for text in tk0:\n",
    "    length = len(tokenizer(text, add_special_tokens=False)['input_ids'])\n",
    "    lengths.append(length)\n",
    "CFG.max_len = max(lengths) + 3 # cls & sep & sep\n",
    "LOGGER.info(f\"max_len: {CFG.max_len}\")"
   ]
  },
  {
   "cell_type": "code",
   "execution_count": 11,
   "id": "e266cabf",
   "metadata": {
    "execution": {
     "iopub.execute_input": "2022-11-19T08:18:19.914363Z",
     "iopub.status.busy": "2022-11-19T08:18:19.913909Z",
     "iopub.status.idle": "2022-11-19T08:18:19.926004Z",
     "shell.execute_reply": "2022-11-19T08:18:19.925060Z"
    },
    "papermill": {
     "duration": 0.028632,
     "end_time": "2022-11-19T08:18:19.928841",
     "exception": false,
     "start_time": "2022-11-19T08:18:19.900209",
     "status": "completed"
    },
    "tags": []
   },
   "outputs": [],
   "source": [
    "# ====================================================\n",
    "# Dataset\n",
    "# ====================================================\n",
    "def prepare_input(cfg, text):\n",
    "    inputs = cfg.tokenizer.encode_plus(\n",
    "        text, \n",
    "        return_tensors=None, \n",
    "        add_special_tokens=True, \n",
    "        max_length=CFG.max_len,\n",
    "        pad_to_max_length=True,\n",
    "        truncation=True\n",
    "    )\n",
    "    for k, v in inputs.items():\n",
    "        inputs[k] = torch.tensor(v, dtype=torch.long)\n",
    "    return inputs\n",
    "\n",
    "\n",
    "class TrainDataset(Dataset):\n",
    "    def __init__(self, cfg, df):\n",
    "        self.cfg = cfg\n",
    "        self.texts = df['full_text'].values\n",
    "        self.labels = df[cfg.target_cols].values\n",
    "\n",
    "    def __len__(self):\n",
    "        return len(self.texts)\n",
    "\n",
    "    def __getitem__(self, item):\n",
    "        inputs = prepare_input(self.cfg, self.texts[item])\n",
    "        label = torch.tensor(self.labels[item], dtype=torch.float)\n",
    "        return inputs, label\n",
    "    \n",
    "\n",
    "def collate(inputs):\n",
    "    mask_len = int(inputs[\"attention_mask\"].sum(axis=1).max())\n",
    "    for k, v in inputs.items():\n",
    "        inputs[k] = inputs[k][:,:mask_len]\n",
    "    return inputs"
   ]
  },
  {
   "cell_type": "markdown",
   "id": "be06db69",
   "metadata": {
    "papermill": {
     "duration": 0.008124,
     "end_time": "2022-11-19T08:18:19.947642",
     "exception": false,
     "start_time": "2022-11-19T08:18:19.939518",
     "status": "completed"
    },
    "tags": []
   },
   "source": [
    "# Model"
   ]
  },
  {
   "cell_type": "code",
   "execution_count": 12,
   "id": "12a2c137",
   "metadata": {
    "execution": {
     "iopub.execute_input": "2022-11-19T08:18:19.965031Z",
     "iopub.status.busy": "2022-11-19T08:18:19.964741Z",
     "iopub.status.idle": "2022-11-19T08:18:19.979592Z",
     "shell.execute_reply": "2022-11-19T08:18:19.978558Z"
    },
    "papermill": {
     "duration": 0.028554,
     "end_time": "2022-11-19T08:18:19.984231",
     "exception": false,
     "start_time": "2022-11-19T08:18:19.955677",
     "status": "completed"
    },
    "tags": []
   },
   "outputs": [],
   "source": [
    "# ====================================================\n",
    "# Model\n",
    "# ====================================================\n",
    "class MeanPooling(nn.Module):\n",
    "    def __init__(self):\n",
    "        super(MeanPooling, self).__init__()\n",
    "        \n",
    "    def forward(self, last_hidden_state, attention_mask):\n",
    "        input_mask_expanded = attention_mask.unsqueeze(-1).expand(last_hidden_state.size()).float()\n",
    "        sum_embeddings = torch.sum(last_hidden_state * input_mask_expanded, 1)\n",
    "        sum_mask = input_mask_expanded.sum(1)\n",
    "        sum_mask = torch.clamp(sum_mask, min=1e-9)\n",
    "        mean_embeddings = sum_embeddings / sum_mask\n",
    "        return mean_embeddings\n",
    "    \n",
    "\n",
    "class CustomModel(nn.Module):\n",
    "    def __init__(self, cfg, config_path=None, pretrained=False):\n",
    "        super().__init__()\n",
    "        self.cfg = cfg\n",
    "        if config_path is None:\n",
    "            self.config = AutoConfig.from_pretrained(cfg.model, output_hidden_states=True)\n",
    "            self.config.hidden_dropout = 0.\n",
    "            self.config.hidden_dropout_prob = 0.\n",
    "            self.config.attention_dropout = 0.\n",
    "            self.config.attention_probs_dropout_prob = 0.\n",
    "            LOGGER.info(self.config)\n",
    "        else:\n",
    "            self.config = torch.load(config_path)\n",
    "        if pretrained:\n",
    "            self.model = AutoModel.from_pretrained(cfg.model, config=self.config)\n",
    "        else:\n",
    "            self.model = AutoModel(self.config)\n",
    "        if self.cfg.gradient_checkpointing:\n",
    "            self.model.gradient_checkpointing_enable()\n",
    "        self.pool = MeanPooling()\n",
    "        self.fc = nn.Linear(self.config.hidden_size, 6)\n",
    "        self._init_weights(self.fc)\n",
    "        \n",
    "    def _init_weights(self, module):\n",
    "        if isinstance(module, nn.Linear):\n",
    "            module.weight.data.normal_(mean=0.0, std=self.config.initializer_range)\n",
    "            if module.bias is not None:\n",
    "                module.bias.data.zero_()\n",
    "        elif isinstance(module, nn.Embedding):\n",
    "            module.weight.data.normal_(mean=0.0, std=self.config.initializer_range)\n",
    "            if module.padding_idx is not None:\n",
    "                module.weight.data[module.padding_idx].zero_()\n",
    "        elif isinstance(module, nn.LayerNorm):\n",
    "            module.bias.data.zero_()\n",
    "            module.weight.data.fill_(1.0)\n",
    "        \n",
    "    def feature(self, inputs):\n",
    "        outputs = self.model(**inputs)\n",
    "        last_hidden_states = outputs[0]\n",
    "        feature = self.pool(last_hidden_states, inputs['attention_mask'])\n",
    "        return feature\n",
    "\n",
    "    def forward(self, inputs):\n",
    "        feature = self.feature(inputs)\n",
    "        output = self.fc(feature)\n",
    "        return output"
   ]
  },
  {
   "cell_type": "markdown",
   "id": "ad856e2b",
   "metadata": {
    "papermill": {
     "duration": 0.00779,
     "end_time": "2022-11-19T08:18:20.003133",
     "exception": false,
     "start_time": "2022-11-19T08:18:19.995343",
     "status": "completed"
    },
    "tags": []
   },
   "source": [
    "# Loss"
   ]
  },
  {
   "cell_type": "code",
   "execution_count": 13,
   "id": "bba0a1e8",
   "metadata": {
    "execution": {
     "iopub.execute_input": "2022-11-19T08:18:20.020477Z",
     "iopub.status.busy": "2022-11-19T08:18:20.020188Z",
     "iopub.status.idle": "2022-11-19T08:18:20.029249Z",
     "shell.execute_reply": "2022-11-19T08:18:20.026800Z"
    },
    "papermill": {
     "duration": 0.021734,
     "end_time": "2022-11-19T08:18:20.032866",
     "exception": false,
     "start_time": "2022-11-19T08:18:20.011132",
     "status": "completed"
    },
    "tags": []
   },
   "outputs": [],
   "source": [
    "# ====================================================\n",
    "# Loss\n",
    "# ====================================================\n",
    "class RMSELoss(nn.Module):\n",
    "    def __init__(self, reduction='mean', eps=1e-9):\n",
    "        super().__init__()\n",
    "        self.mse = nn.MSELoss(reduction='none')\n",
    "        self.reduction = reduction\n",
    "        self.eps = eps\n",
    "\n",
    "    def forward(self, y_pred, y_true):\n",
    "        loss = torch.sqrt(self.mse(y_pred, y_true) + self.eps)\n",
    "        if self.reduction == 'none':\n",
    "            loss = loss\n",
    "        elif self.reduction == 'sum':\n",
    "            loss = loss.sum()\n",
    "        elif self.reduction == 'mean':\n",
    "            loss = loss.mean()\n",
    "        return loss"
   ]
  },
  {
   "cell_type": "markdown",
   "id": "8456dcf2",
   "metadata": {
    "papermill": {
     "duration": 0.007829,
     "end_time": "2022-11-19T08:18:20.050102",
     "exception": false,
     "start_time": "2022-11-19T08:18:20.042273",
     "status": "completed"
    },
    "tags": []
   },
   "source": [
    "# Helpler functions"
   ]
  },
  {
   "cell_type": "code",
   "execution_count": 14,
   "id": "8ef9e70c",
   "metadata": {
    "execution": {
     "iopub.execute_input": "2022-11-19T08:18:20.068129Z",
     "iopub.status.busy": "2022-11-19T08:18:20.067865Z",
     "iopub.status.idle": "2022-11-19T08:18:20.087677Z",
     "shell.execute_reply": "2022-11-19T08:18:20.086741Z"
    },
    "papermill": {
     "duration": 0.031717,
     "end_time": "2022-11-19T08:18:20.090232",
     "exception": false,
     "start_time": "2022-11-19T08:18:20.058515",
     "status": "completed"
    },
    "tags": []
   },
   "outputs": [],
   "source": [
    "# ====================================================\n",
    "# Helper functions\n",
    "# ====================================================\n",
    "class AverageMeter(object):\n",
    "    \"\"\"Computes and stores the average and current value\"\"\"\n",
    "    def __init__(self):\n",
    "        self.reset()\n",
    "\n",
    "    def reset(self):\n",
    "        self.val = 0\n",
    "        self.avg = 0\n",
    "        self.sum = 0\n",
    "        self.count = 0\n",
    "\n",
    "    def update(self, val, n=1):\n",
    "        self.val = val\n",
    "        self.sum += val * n\n",
    "        self.count += n\n",
    "        self.avg = self.sum / self.count\n",
    "\n",
    "\n",
    "def asMinutes(s):\n",
    "    m = math.floor(s / 60)\n",
    "    s -= m * 60\n",
    "    return '%dm %ds' % (m, s)\n",
    "\n",
    "\n",
    "def timeSince(since, percent):\n",
    "    now = time.time()\n",
    "    s = now - since\n",
    "    es = s / (percent)\n",
    "    rs = es - s\n",
    "    return '%s (remain %s)' % (asMinutes(s), asMinutes(rs))\n",
    "\n",
    "\n",
    "def train_fn(fold, train_loader, model, criterion, optimizer, epoch, scheduler, device):\n",
    "    model.train()\n",
    "    scaler = torch.cuda.amp.GradScaler(enabled=CFG.apex)\n",
    "    losses = AverageMeter()\n",
    "    start = end = time.time()\n",
    "    global_step = 0\n",
    "    for step, (inputs, labels) in enumerate(train_loader):\n",
    "        inputs = collate(inputs)\n",
    "        for k, v in inputs.items():\n",
    "            inputs[k] = v.to(device)\n",
    "        labels = labels.to(device)\n",
    "        batch_size = labels.size(0)\n",
    "        with torch.cuda.amp.autocast(enabled=CFG.apex):\n",
    "            y_preds = model(inputs)\n",
    "            loss = criterion(y_preds, labels)\n",
    "        if CFG.gradient_accumulation_steps > 1:\n",
    "            loss = loss / CFG.gradient_accumulation_steps\n",
    "        losses.update(loss.item(), batch_size)\n",
    "        scaler.scale(loss).backward()\n",
    "        grad_norm = torch.nn.utils.clip_grad_norm_(model.parameters(), CFG.max_grad_norm)\n",
    "        if (step + 1) % CFG.gradient_accumulation_steps == 0:\n",
    "            scaler.step(optimizer)\n",
    "            scaler.update()\n",
    "            optimizer.zero_grad()\n",
    "            global_step += 1\n",
    "            if CFG.batch_scheduler:\n",
    "                scheduler.step()\n",
    "        end = time.time()\n",
    "        if step % CFG.print_freq == 0 or step == (len(train_loader)-1):\n",
    "            print('Epoch: [{0}][{1}/{2}] '\n",
    "                  'Elapsed {remain:s} '\n",
    "                  'Loss: {loss.val:.4f}({loss.avg:.4f}) '\n",
    "                  'Grad: {grad_norm:.4f}  '\n",
    "                  'LR: {lr:.8f}  '\n",
    "                  .format(epoch+1, step, len(train_loader), \n",
    "                          remain=timeSince(start, float(step+1)/len(train_loader)),\n",
    "                          loss=losses,\n",
    "                          grad_norm=grad_norm,\n",
    "                          lr=scheduler.get_lr()[0]))\n",
    "        if CFG.wandb:\n",
    "            wandb.log({f\"[fold{fold}] loss\": losses.val,\n",
    "                       f\"[fold{fold}] lr\": scheduler.get_lr()[0]})\n",
    "    return losses.avg\n",
    "\n",
    "\n",
    "def valid_fn(valid_loader, model, criterion, device):\n",
    "    losses = AverageMeter()\n",
    "    model.eval()\n",
    "    preds = []\n",
    "    start = end = time.time()\n",
    "    for step, (inputs, labels) in enumerate(valid_loader):\n",
    "        inputs = collate(inputs)\n",
    "        for k, v in inputs.items():\n",
    "            inputs[k] = v.to(device)\n",
    "        labels = labels.to(device)\n",
    "        batch_size = labels.size(0)\n",
    "        with torch.no_grad():\n",
    "            y_preds = model(inputs)\n",
    "            loss = criterion(y_preds, labels)\n",
    "        if CFG.gradient_accumulation_steps > 1:\n",
    "            loss = loss / CFG.gradient_accumulation_steps\n",
    "        losses.update(loss.item(), batch_size)\n",
    "        preds.append(y_preds.to('cpu').numpy())\n",
    "        end = time.time()\n",
    "        if step % CFG.print_freq == 0 or step == (len(valid_loader)-1):\n",
    "            print('EVAL: [{0}/{1}] '\n",
    "                  'Elapsed {remain:s} '\n",
    "                  'Loss: {loss.val:.4f}({loss.avg:.4f}) '\n",
    "                  .format(step, len(valid_loader),\n",
    "                          loss=losses,\n",
    "                          remain=timeSince(start, float(step+1)/len(valid_loader))))\n",
    "    predictions = np.concatenate(preds)\n",
    "    return losses.avg, predictions"
   ]
  },
  {
   "cell_type": "markdown",
   "id": "62fdf6e3",
   "metadata": {
    "papermill": {
     "duration": 0.008139,
     "end_time": "2022-11-19T08:18:20.109698",
     "exception": false,
     "start_time": "2022-11-19T08:18:20.101559",
     "status": "completed"
    },
    "tags": []
   },
   "source": [
    "# train loop"
   ]
  },
  {
   "cell_type": "code",
   "execution_count": 15,
   "id": "1c0830e7",
   "metadata": {
    "execution": {
     "iopub.execute_input": "2022-11-19T08:18:20.127373Z",
     "iopub.status.busy": "2022-11-19T08:18:20.127078Z",
     "iopub.status.idle": "2022-11-19T08:18:20.145955Z",
     "shell.execute_reply": "2022-11-19T08:18:20.145060Z"
    },
    "papermill": {
     "duration": 0.03075,
     "end_time": "2022-11-19T08:18:20.148512",
     "exception": false,
     "start_time": "2022-11-19T08:18:20.117762",
     "status": "completed"
    },
    "tags": []
   },
   "outputs": [],
   "source": [
    "# ====================================================\n",
    "# train loop\n",
    "# ====================================================\n",
    "def train_loop(folds, fold):\n",
    "    \n",
    "    LOGGER.info(f\"========== fold: {fold} training ==========\")\n",
    "\n",
    "    # ====================================================\n",
    "    # loader\n",
    "    # ====================================================\n",
    "    train_folds = folds[folds['fold'] != fold].reset_index(drop=True)\n",
    "    valid_folds = folds[folds['fold'] == fold].reset_index(drop=True)\n",
    "    valid_labels = valid_folds[CFG.target_cols].values\n",
    "    \n",
    "    train_dataset = TrainDataset(CFG, train_folds)\n",
    "    valid_dataset = TrainDataset(CFG, valid_folds)\n",
    "\n",
    "    train_loader = DataLoader(train_dataset,\n",
    "                              batch_size=CFG.batch_size,\n",
    "                              shuffle=True,\n",
    "                              num_workers=CFG.num_workers, pin_memory=True, drop_last=True)\n",
    "    valid_loader = DataLoader(valid_dataset,\n",
    "                              batch_size=CFG.batch_size * 2,\n",
    "                              shuffle=False,\n",
    "                              num_workers=CFG.num_workers, pin_memory=True, drop_last=False)\n",
    "\n",
    "    # ====================================================\n",
    "    # model & optimizer\n",
    "    # ====================================================\n",
    "    model = CustomModel(CFG, config_path=None, pretrained=True)\n",
    "    torch.save(model.config, OUTPUT_DIR+'config.pth')\n",
    "    model.to(device)\n",
    "    \n",
    "    def get_optimizer_params(model, encoder_lr, decoder_lr, weight_decay=0.0):\n",
    "        param_optimizer = list(model.named_parameters())\n",
    "        no_decay = [\"bias\", \"LayerNorm.bias\", \"LayerNorm.weight\"]\n",
    "        optimizer_parameters = [\n",
    "            {'params': [p for n, p in model.model.named_parameters() if not any(nd in n for nd in no_decay)],\n",
    "             'lr': encoder_lr, 'weight_decay': weight_decay},\n",
    "            {'params': [p for n, p in model.model.named_parameters() if any(nd in n for nd in no_decay)],\n",
    "             'lr': encoder_lr, 'weight_decay': 0.0},\n",
    "            {'params': [p for n, p in model.named_parameters() if \"model\" not in n],\n",
    "             'lr': decoder_lr, 'weight_decay': 0.0}\n",
    "        ]\n",
    "        return optimizer_parameters\n",
    "\n",
    "    optimizer_parameters = get_optimizer_params(model,\n",
    "                                                encoder_lr=CFG.encoder_lr, \n",
    "                                                decoder_lr=CFG.decoder_lr,\n",
    "                                                weight_decay=CFG.weight_decay)\n",
    "    optimizer = AdamW(optimizer_parameters, lr=CFG.encoder_lr, eps=CFG.eps, betas=CFG.betas)\n",
    "    \n",
    "    # ====================================================\n",
    "    # scheduler\n",
    "    # ====================================================\n",
    "    def get_scheduler(cfg, optimizer, num_train_steps):\n",
    "        if cfg.scheduler == 'linear':\n",
    "            scheduler = get_linear_schedule_with_warmup(\n",
    "                optimizer, num_warmup_steps=cfg.num_warmup_steps, num_training_steps=num_train_steps\n",
    "            )\n",
    "        elif cfg.scheduler == 'cosine':\n",
    "            scheduler = get_cosine_schedule_with_warmup(\n",
    "                optimizer, num_warmup_steps=cfg.num_warmup_steps, num_training_steps=num_train_steps, num_cycles=cfg.num_cycles\n",
    "            )\n",
    "        return scheduler\n",
    "    \n",
    "    num_train_steps = int(len(train_folds) / CFG.batch_size * CFG.epochs)\n",
    "    scheduler = get_scheduler(CFG, optimizer, num_train_steps)\n",
    "\n",
    "    # ====================================================\n",
    "    # loop\n",
    "    # ====================================================\n",
    "    criterion = nn.SmoothL1Loss(reduction='mean') # RMSELoss(reduction=\"mean\")\n",
    "    \n",
    "    best_score = np.inf\n",
    "\n",
    "    for epoch in range(CFG.epochs):\n",
    "\n",
    "        start_time = time.time()\n",
    "\n",
    "        # train\n",
    "        avg_loss = train_fn(fold, train_loader, model, criterion, optimizer, epoch, scheduler, device)\n",
    "\n",
    "        # eval\n",
    "        avg_val_loss, predictions = valid_fn(valid_loader, model, criterion, device)\n",
    "        \n",
    "        # scoring\n",
    "        score, scores = get_score(valid_labels, predictions)\n",
    "\n",
    "        elapsed = time.time() - start_time\n",
    "\n",
    "        LOGGER.info(f'Epoch {epoch+1} - avg_train_loss: {avg_loss:.4f}  avg_val_loss: {avg_val_loss:.4f}  time: {elapsed:.0f}s')\n",
    "        LOGGER.info(f'Epoch {epoch+1} - Score: {score:.4f}  Scores: {scores}')\n",
    "        if CFG.wandb:\n",
    "            wandb.log({f\"[fold{fold}] epoch\": epoch+1, \n",
    "                       f\"[fold{fold}] avg_train_loss\": avg_loss, \n",
    "                       f\"[fold{fold}] avg_val_loss\": avg_val_loss,\n",
    "                       f\"[fold{fold}] score\": score})\n",
    "        \n",
    "        if best_score > score:\n",
    "            best_score = score\n",
    "            LOGGER.info(f'Epoch {epoch+1} - Save Best Score: {best_score:.4f} Model')\n",
    "            torch.save({'model': model.state_dict(),\n",
    "                        'predictions': predictions},\n",
    "                        OUTPUT_DIR+f\"{CFG.model.replace('/', '-')}_fold{fold}_best.pth\")\n",
    "\n",
    "    predictions = torch.load(OUTPUT_DIR+f\"{CFG.model.replace('/', '-')}_fold{fold}_best.pth\", \n",
    "                             map_location=torch.device('cpu'))['predictions']\n",
    "    valid_folds[[f\"pred_{c}\" for c in CFG.target_cols]] = predictions\n",
    "\n",
    "    torch.cuda.empty_cache()\n",
    "    gc.collect()\n",
    "    \n",
    "    return valid_folds"
   ]
  },
  {
   "cell_type": "code",
   "execution_count": 16,
   "id": "598efd28",
   "metadata": {
    "execution": {
     "iopub.execute_input": "2022-11-19T08:18:20.169295Z",
     "iopub.status.busy": "2022-11-19T08:18:20.169016Z",
     "iopub.status.idle": "2022-11-19T11:38:13.827075Z",
     "shell.execute_reply": "2022-11-19T11:38:13.826239Z"
    },
    "papermill": {
     "duration": 11993.668922,
     "end_time": "2022-11-19T11:38:13.829083",
     "exception": false,
     "start_time": "2022-11-19T08:18:20.160161",
     "status": "completed"
    },
    "tags": []
   },
   "outputs": [
    {
     "name": "stderr",
     "output_type": "stream",
     "text": [
      "========== fold: 0 training ==========\n",
      "DebertaV2Config {\n",
      "  \"_name_or_path\": \"microsoft/deberta-v3-base\",\n",
      "  \"attention_dropout\": 0.0,\n",
      "  \"attention_probs_dropout_prob\": 0.0,\n",
      "  \"hidden_act\": \"gelu\",\n",
      "  \"hidden_dropout\": 0.0,\n",
      "  \"hidden_dropout_prob\": 0.0,\n",
      "  \"hidden_size\": 768,\n",
      "  \"initializer_range\": 0.02,\n",
      "  \"intermediate_size\": 3072,\n",
      "  \"layer_norm_eps\": 1e-07,\n",
      "  \"max_position_embeddings\": 512,\n",
      "  \"max_relative_positions\": -1,\n",
      "  \"model_type\": \"deberta-v2\",\n",
      "  \"norm_rel_ebd\": \"layer_norm\",\n",
      "  \"num_attention_heads\": 12,\n",
      "  \"num_hidden_layers\": 12,\n",
      "  \"output_hidden_states\": true,\n",
      "  \"pad_token_id\": 0,\n",
      "  \"pooler_dropout\": 0,\n",
      "  \"pooler_hidden_act\": \"gelu\",\n",
      "  \"pooler_hidden_size\": 768,\n",
      "  \"pos_att_type\": [\n",
      "    \"p2c\",\n",
      "    \"c2p\"\n",
      "  ],\n",
      "  \"position_biased_input\": false,\n",
      "  \"position_buckets\": 256,\n",
      "  \"relative_attention\": true,\n",
      "  \"share_att_key\": true,\n",
      "  \"transformers_version\": \"4.21.2\",\n",
      "  \"type_vocab_size\": 0,\n",
      "  \"vocab_size\": 128100\n",
      "}\n",
      "\n"
     ]
    },
    {
     "data": {
      "application/vnd.jupyter.widget-view+json": {
       "model_id": "8464f910afc545c1b952d57113a40d70",
       "version_major": 2,
       "version_minor": 0
      },
      "text/plain": [
       "Downloading pytorch_model.bin:   0%|          | 0.00/354M [00:00<?, ?B/s]"
      ]
     },
     "metadata": {},
     "output_type": "display_data"
    },
    {
     "name": "stderr",
     "output_type": "stream",
     "text": [
      "Some weights of the model checkpoint at microsoft/deberta-v3-base were not used when initializing DebertaV2Model: ['lm_predictions.lm_head.dense.bias', 'mask_predictions.LayerNorm.bias', 'mask_predictions.classifier.bias', 'lm_predictions.lm_head.dense.weight', 'lm_predictions.lm_head.bias', 'mask_predictions.classifier.weight', 'mask_predictions.LayerNorm.weight', 'mask_predictions.dense.bias', 'mask_predictions.dense.weight', 'lm_predictions.lm_head.LayerNorm.weight', 'lm_predictions.lm_head.LayerNorm.bias']\n",
      "- This IS expected if you are initializing DebertaV2Model from the checkpoint of a model trained on another task or with another architecture (e.g. initializing a BertForSequenceClassification model from a BertForPreTraining model).\n",
      "- This IS NOT expected if you are initializing DebertaV2Model from the checkpoint of a model that you expect to be exactly identical (initializing a BertForSequenceClassification model from a BertForSequenceClassification model).\n"
     ]
    },
    {
     "name": "stdout",
     "output_type": "stream",
     "text": [
      "Epoch: [1][0/366] Elapsed 0m 2s (remain 16m 31s) Loss: 2.3540(2.3540) Grad: inf  LR: 0.00000200  \n",
      "Epoch: [1][20/366] Elapsed 0m 39s (remain 10m 42s) Loss: 2.4410(2.4707) Grad: 210881.6094  LR: 0.00000200  \n",
      "Epoch: [1][40/366] Elapsed 1m 15s (remain 9m 59s) Loss: 1.6179(2.1935) Grad: 229282.8438  LR: 0.00000200  \n",
      "Epoch: [1][60/366] Elapsed 1m 48s (remain 9m 1s) Loss: 1.0150(1.9030) Grad: 188309.2031  LR: 0.00000199  \n",
      "Epoch: [1][80/366] Elapsed 2m 25s (remain 8m 30s) Loss: 0.8703(1.6714) Grad: 200546.7812  LR: 0.00000198  \n",
      "Epoch: [1][100/366] Elapsed 3m 8s (remain 8m 13s) Loss: 0.4267(1.4869) Grad: 174231.0156  LR: 0.00000198  \n",
      "Epoch: [1][120/366] Elapsed 3m 44s (remain 7m 34s) Loss: 0.1530(1.3111) Grad: 67362.2344  LR: 0.00000197  \n",
      "Epoch: [1][140/366] Elapsed 4m 22s (remain 6m 59s) Loss: 0.2565(1.1587) Grad: 102279.3047  LR: 0.00000195  \n",
      "Epoch: [1][160/366] Elapsed 4m 58s (remain 6m 20s) Loss: 0.1528(1.0373) Grad: 65552.1953  LR: 0.00000194  \n",
      "Epoch: [1][180/366] Elapsed 5m 35s (remain 5m 42s) Loss: 0.1528(0.9434) Grad: 57781.6484  LR: 0.00000193  \n",
      "Epoch: [1][200/366] Elapsed 6m 15s (remain 5m 8s) Loss: 0.1712(0.8674) Grad: 63123.1836  LR: 0.00000191  \n",
      "Epoch: [1][220/366] Elapsed 6m 48s (remain 4m 28s) Loss: 0.1233(0.8024) Grad: 56044.1016  LR: 0.00000189  \n",
      "Epoch: [1][240/366] Elapsed 7m 27s (remain 3m 51s) Loss: 0.1309(0.7486) Grad: 58965.4062  LR: 0.00000187  \n",
      "Epoch: [1][260/366] Elapsed 8m 4s (remain 3m 15s) Loss: 0.0898(0.7021) Grad: 50638.1211  LR: 0.00000185  \n",
      "Epoch: [1][280/366] Elapsed 8m 36s (remain 2m 36s) Loss: 0.1421(0.6611) Grad: 84284.8203  LR: 0.00000182  \n",
      "Epoch: [1][300/366] Elapsed 9m 9s (remain 1m 58s) Loss: 0.1222(0.6255) Grad: 75316.0469  LR: 0.00000180  \n",
      "Epoch: [1][320/366] Elapsed 9m 47s (remain 1m 22s) Loss: 0.1355(0.5952) Grad: 178376.3281  LR: 0.00000177  \n",
      "Epoch: [1][340/366] Elapsed 10m 23s (remain 0m 45s) Loss: 0.0948(0.5672) Grad: 63582.5000  LR: 0.00000174  \n",
      "Epoch: [1][360/366] Elapsed 10m 55s (remain 0m 9s) Loss: 0.1175(0.5423) Grad: 57797.1836  LR: 0.00000172  \n",
      "Epoch: [1][365/366] Elapsed 11m 3s (remain 0m 0s) Loss: 0.1131(0.5365) Grad: 98151.5469  LR: 0.00000171  \n",
      "EVAL: [0/62] Elapsed 0m 1s (remain 1m 20s) Loss: 0.0978(0.0978) \n",
      "EVAL: [20/62] Elapsed 0m 26s (remain 0m 51s) Loss: 0.1044(0.1198) \n",
      "EVAL: [40/62] Elapsed 0m 54s (remain 0m 27s) Loss: 0.1001(0.1184) \n"
     ]
    },
    {
     "name": "stderr",
     "output_type": "stream",
     "text": [
      "Epoch 1 - avg_train_loss: 0.5365  avg_val_loss: 0.1198  time: 741s\n",
      "Epoch 1 - Score: 0.4913  Scores: [0.5160428758391893, 0.46966657211152635, 0.4587258119168911, 0.49497493867963627, 0.5203757940370904, 0.4882185053151892]\n",
      "Epoch 1 - Save Best Score: 0.4913 Model\n"
     ]
    },
    {
     "name": "stdout",
     "output_type": "stream",
     "text": [
      "EVAL: [60/62] Elapsed 1m 16s (remain 0m 1s) Loss: 0.1148(0.1198) \n",
      "EVAL: [61/62] Elapsed 1m 17s (remain 0m 0s) Loss: 0.1151(0.1198) \n",
      "Epoch: [2][0/366] Elapsed 0m 1s (remain 7m 32s) Loss: 0.1088(0.1088) Grad: 198902.9375  LR: 0.00000171  \n",
      "Epoch: [2][20/366] Elapsed 0m 30s (remain 8m 22s) Loss: 0.1534(0.1204) Grad: 318750.6875  LR: 0.00000168  \n",
      "Epoch: [2][40/366] Elapsed 1m 8s (remain 9m 6s) Loss: 0.0959(0.1228) Grad: 185980.3125  LR: 0.00000164  \n",
      "Epoch: [2][60/366] Elapsed 1m 52s (remain 9m 21s) Loss: 0.1138(0.1232) Grad: 96927.2188  LR: 0.00000161  \n",
      "Epoch: [2][80/366] Elapsed 2m 30s (remain 8m 50s) Loss: 0.0768(0.1207) Grad: 126474.0078  LR: 0.00000158  \n",
      "Epoch: [2][100/366] Elapsed 3m 6s (remain 8m 8s) Loss: 0.1856(0.1207) Grad: 468002.4375  LR: 0.00000154  \n",
      "Epoch: [2][120/366] Elapsed 3m 43s (remain 7m 32s) Loss: 0.1178(0.1196) Grad: 148243.8750  LR: 0.00000150  \n",
      "Epoch: [2][140/366] Elapsed 4m 18s (remain 6m 52s) Loss: 0.0836(0.1201) Grad: 61064.2539  LR: 0.00000147  \n",
      "Epoch: [2][160/366] Elapsed 4m 56s (remain 6m 17s) Loss: 0.1119(0.1205) Grad: 141781.8281  LR: 0.00000143  \n",
      "Epoch: [2][180/366] Elapsed 5m 31s (remain 5m 38s) Loss: 0.1508(0.1197) Grad: 185831.9688  LR: 0.00000139  \n",
      "Epoch: [2][200/366] Elapsed 6m 12s (remain 5m 6s) Loss: 0.1109(0.1190) Grad: 90701.7109  LR: 0.00000135  \n",
      "Epoch: [2][220/366] Elapsed 6m 51s (remain 4m 29s) Loss: 0.1046(0.1175) Grad: 182940.5000  LR: 0.00000131  \n",
      "Epoch: [2][240/366] Elapsed 7m 23s (remain 3m 50s) Loss: 0.1355(0.1172) Grad: 242840.8594  LR: 0.00000127  \n",
      "Epoch: [2][260/366] Elapsed 7m 54s (remain 3m 10s) Loss: 0.1466(0.1180) Grad: 119969.1328  LR: 0.00000123  \n",
      "Epoch: [2][280/366] Elapsed 8m 24s (remain 2m 32s) Loss: 0.1378(0.1172) Grad: 155427.5156  LR: 0.00000118  \n",
      "Epoch: [2][300/366] Elapsed 9m 1s (remain 1m 57s) Loss: 0.1055(0.1173) Grad: 112592.0469  LR: 0.00000114  \n",
      "Epoch: [2][320/366] Elapsed 9m 35s (remain 1m 20s) Loss: 0.1916(0.1173) Grad: 350242.5625  LR: 0.00000110  \n",
      "Epoch: [2][340/366] Elapsed 10m 15s (remain 0m 45s) Loss: 0.1787(0.1171) Grad: 336440.5938  LR: 0.00000106  \n",
      "Epoch: [2][360/366] Elapsed 10m 50s (remain 0m 9s) Loss: 0.1430(0.1176) Grad: 142316.7812  LR: 0.00000101  \n",
      "Epoch: [2][365/366] Elapsed 10m 57s (remain 0m 0s) Loss: 0.1811(0.1177) Grad: 123503.4141  LR: 0.00000100  \n",
      "EVAL: [0/62] Elapsed 0m 1s (remain 1m 22s) Loss: 0.0857(0.0857) \n",
      "EVAL: [20/62] Elapsed 0m 25s (remain 0m 50s) Loss: 0.0885(0.1117) \n",
      "EVAL: [40/62] Elapsed 0m 52s (remain 0m 27s) Loss: 0.0885(0.1106) \n"
     ]
    },
    {
     "name": "stderr",
     "output_type": "stream",
     "text": [
      "Epoch 2 - avg_train_loss: 0.1177  avg_val_loss: 0.1127  time: 734s\n",
      "Epoch 2 - Score: 0.4759  Scores: [0.5056748216048906, 0.4601916277589313, 0.4427872553499749, 0.4767721411486046, 0.50502274412977, 0.4651536768938691]\n",
      "Epoch 2 - Save Best Score: 0.4759 Model\n"
     ]
    },
    {
     "name": "stdout",
     "output_type": "stream",
     "text": [
      "EVAL: [60/62] Elapsed 1m 15s (remain 0m 1s) Loss: 0.0987(0.1128) \n",
      "EVAL: [61/62] Elapsed 1m 15s (remain 0m 0s) Loss: 0.0874(0.1127) \n",
      "Epoch: [3][0/366] Elapsed 0m 1s (remain 9m 43s) Loss: 0.1098(0.1098) Grad: 331493.3125  LR: 0.00000100  \n",
      "Epoch: [3][20/366] Elapsed 0m 32s (remain 8m 55s) Loss: 0.0748(0.1061) Grad: 204331.1250  LR: 0.00000096  \n",
      "Epoch: [3][40/366] Elapsed 1m 9s (remain 9m 7s) Loss: 0.0901(0.1119) Grad: 132153.1406  LR: 0.00000091  \n",
      "Epoch: [3][60/366] Elapsed 1m 49s (remain 9m 9s) Loss: 0.0922(0.1091) Grad: 187915.2656  LR: 0.00000087  \n",
      "Epoch: [3][80/366] Elapsed 2m 23s (remain 8m 26s) Loss: 0.1000(0.1081) Grad: 86415.3047  LR: 0.00000083  \n",
      "Epoch: [3][100/366] Elapsed 3m 2s (remain 7m 59s) Loss: 0.0728(0.1093) Grad: 135105.4688  LR: 0.00000079  \n",
      "Epoch: [3][120/366] Elapsed 3m 41s (remain 7m 28s) Loss: 0.1303(0.1102) Grad: 134884.1719  LR: 0.00000075  \n",
      "Epoch: [3][140/366] Elapsed 4m 15s (remain 6m 47s) Loss: 0.0614(0.1105) Grad: 51758.2656  LR: 0.00000070  \n",
      "Epoch: [3][160/366] Elapsed 4m 50s (remain 6m 10s) Loss: 0.1215(0.1107) Grad: 134238.8125  LR: 0.00000066  \n",
      "Epoch: [3][180/366] Elapsed 5m 24s (remain 5m 31s) Loss: 0.1941(0.1111) Grad: 167728.6719  LR: 0.00000062  \n",
      "Epoch: [3][200/366] Elapsed 6m 12s (remain 5m 5s) Loss: 0.1391(0.1114) Grad: 201413.8281  LR: 0.00000058  \n",
      "Epoch: [3][220/366] Elapsed 6m 48s (remain 4m 27s) Loss: 0.1192(0.1110) Grad: 118678.9766  LR: 0.00000055  \n",
      "Epoch: [3][240/366] Elapsed 7m 26s (remain 3m 51s) Loss: 0.1370(0.1104) Grad: 390827.3750  LR: 0.00000051  \n",
      "Epoch: [3][260/366] Elapsed 8m 9s (remain 3m 16s) Loss: 0.1162(0.1112) Grad: 178149.9688  LR: 0.00000047  \n",
      "Epoch: [3][280/366] Elapsed 8m 42s (remain 2m 38s) Loss: 0.0993(0.1108) Grad: 110520.7578  LR: 0.00000044  \n",
      "Epoch: [3][300/366] Elapsed 9m 16s (remain 2m 0s) Loss: 0.0874(0.1111) Grad: 242972.1406  LR: 0.00000040  \n",
      "Epoch: [3][320/366] Elapsed 9m 47s (remain 1m 22s) Loss: 0.1783(0.1120) Grad: 237800.7656  LR: 0.00000037  \n",
      "Epoch: [3][340/366] Elapsed 10m 25s (remain 0m 45s) Loss: 0.1288(0.1125) Grad: 173284.0469  LR: 0.00000033  \n",
      "Epoch: [3][360/366] Elapsed 10m 54s (remain 0m 9s) Loss: 0.0933(0.1124) Grad: 130336.7031  LR: 0.00000030  \n",
      "Epoch: [3][365/366] Elapsed 11m 1s (remain 0m 0s) Loss: 0.1153(0.1125) Grad: 121176.5859  LR: 0.00000030  \n",
      "EVAL: [0/62] Elapsed 0m 1s (remain 1m 13s) Loss: 0.0797(0.0797) \n",
      "EVAL: [20/62] Elapsed 0m 25s (remain 0m 50s) Loss: 0.0889(0.1093) \n",
      "EVAL: [40/62] Elapsed 0m 52s (remain 0m 27s) Loss: 0.0868(0.1084) \n"
     ]
    },
    {
     "name": "stderr",
     "output_type": "stream",
     "text": [
      "Epoch 3 - avg_train_loss: 0.1125  avg_val_loss: 0.1106  time: 738s\n",
      "Epoch 3 - Score: 0.4714  Scores: [0.5062279341030695, 0.45772241198338937, 0.4378294346633954, 0.47306250455097076, 0.49188698795296565, 0.46149583359719365]\n",
      "Epoch 3 - Save Best Score: 0.4714 Model\n"
     ]
    },
    {
     "name": "stdout",
     "output_type": "stream",
     "text": [
      "EVAL: [60/62] Elapsed 1m 15s (remain 0m 1s) Loss: 0.0958(0.1107) \n",
      "EVAL: [61/62] Elapsed 1m 15s (remain 0m 0s) Loss: 0.0845(0.1106) \n",
      "Epoch: [4][0/366] Elapsed 0m 2s (remain 16m 45s) Loss: 0.1482(0.1482) Grad: 856779.4375  LR: 0.00000029  \n",
      "Epoch: [4][20/366] Elapsed 0m 38s (remain 10m 25s) Loss: 0.0657(0.1127) Grad: 178816.0312  LR: 0.00000026  \n",
      "Epoch: [4][40/366] Elapsed 1m 12s (remain 9m 32s) Loss: 0.0907(0.1105) Grad: 216709.1250  LR: 0.00000024  \n",
      "Epoch: [4][60/366] Elapsed 1m 46s (remain 8m 53s) Loss: 0.0873(0.1074) Grad: 134784.1719  LR: 0.00000021  \n",
      "Epoch: [4][80/366] Elapsed 2m 23s (remain 8m 24s) Loss: 0.2067(0.1107) Grad: 126094.7891  LR: 0.00000018  \n",
      "Epoch: [4][100/366] Elapsed 3m 1s (remain 7m 57s) Loss: 0.1613(0.1148) Grad: 118804.3672  LR: 0.00000016  \n",
      "Epoch: [4][120/366] Elapsed 3m 37s (remain 7m 20s) Loss: 0.1332(0.1158) Grad: 175244.7188  LR: 0.00000014  \n",
      "Epoch: [4][140/366] Elapsed 4m 9s (remain 6m 38s) Loss: 0.1253(0.1137) Grad: 109183.4453  LR: 0.00000012  \n",
      "Epoch: [4][160/366] Elapsed 4m 47s (remain 6m 6s) Loss: 0.1069(0.1134) Grad: 279240.6562  LR: 0.00000010  \n",
      "Epoch: [4][180/366] Elapsed 5m 24s (remain 5m 31s) Loss: 0.1075(0.1120) Grad: 87324.9219  LR: 0.00000008  \n",
      "Epoch: [4][200/366] Elapsed 6m 2s (remain 4m 57s) Loss: 0.0916(0.1112) Grad: 184367.4844  LR: 0.00000006  \n",
      "Epoch: [4][220/366] Elapsed 6m 30s (remain 4m 16s) Loss: 0.0511(0.1106) Grad: 87390.8750  LR: 0.00000005  \n",
      "Epoch: [4][240/366] Elapsed 7m 10s (remain 3m 43s) Loss: 0.1402(0.1106) Grad: 138982.7656  LR: 0.00000004  \n",
      "Epoch: [4][260/366] Elapsed 7m 47s (remain 3m 8s) Loss: 0.1423(0.1108) Grad: 355269.1562  LR: 0.00000003  \n",
      "Epoch: [4][280/366] Elapsed 8m 22s (remain 2m 32s) Loss: 0.0665(0.1102) Grad: 109661.4844  LR: 0.00000002  \n",
      "Epoch: [4][300/366] Elapsed 8m 59s (remain 1m 56s) Loss: 0.1502(0.1097) Grad: 382021.3750  LR: 0.00000001  \n",
      "Epoch: [4][320/366] Elapsed 9m 34s (remain 1m 20s) Loss: 0.0885(0.1097) Grad: 127881.7344  LR: 0.00000001  \n",
      "Epoch: [4][340/366] Elapsed 10m 10s (remain 0m 44s) Loss: 0.0959(0.1096) Grad: 237697.2812  LR: 0.00000000  \n",
      "Epoch: [4][360/366] Elapsed 10m 49s (remain 0m 8s) Loss: 0.1348(0.1102) Grad: 84637.9375  LR: 0.00000000  \n",
      "Epoch: [4][365/366] Elapsed 10m 58s (remain 0m 0s) Loss: 0.1074(0.1103) Grad: 95888.1172  LR: 0.00000000  \n",
      "EVAL: [0/62] Elapsed 0m 1s (remain 1m 13s) Loss: 0.0792(0.0792) \n",
      "EVAL: [20/62] Elapsed 0m 25s (remain 0m 49s) Loss: 0.0867(0.1085) \n",
      "EVAL: [40/62] Elapsed 0m 52s (remain 0m 27s) Loss: 0.0876(0.1076) \n"
     ]
    },
    {
     "name": "stderr",
     "output_type": "stream",
     "text": [
      "Epoch 4 - avg_train_loss: 0.1103  avg_val_loss: 0.1100  time: 734s\n",
      "Epoch 4 - Score: 0.4698  Scores: [0.5037966407704993, 0.4566682599455463, 0.4361674326535523, 0.4712786010423545, 0.4923128459439782, 0.4585839033149411]\n",
      "Epoch 4 - Save Best Score: 0.4698 Model\n"
     ]
    },
    {
     "name": "stdout",
     "output_type": "stream",
     "text": [
      "EVAL: [60/62] Elapsed 1m 15s (remain 0m 1s) Loss: 0.0965(0.1100) \n",
      "EVAL: [61/62] Elapsed 1m 15s (remain 0m 0s) Loss: 0.0861(0.1100) \n"
     ]
    },
    {
     "name": "stderr",
     "output_type": "stream",
     "text": [
      "========== fold: 0 result ==========\n",
      "Score: 0.4698  Scores: [0.5037966407704993, 0.4566682599455463, 0.4361674326535523, 0.4712786010423545, 0.4923128459439782, 0.4585839033149411]\n",
      "========== fold: 1 training ==========\n",
      "DebertaV2Config {\n",
      "  \"_name_or_path\": \"microsoft/deberta-v3-base\",\n",
      "  \"attention_dropout\": 0.0,\n",
      "  \"attention_probs_dropout_prob\": 0.0,\n",
      "  \"hidden_act\": \"gelu\",\n",
      "  \"hidden_dropout\": 0.0,\n",
      "  \"hidden_dropout_prob\": 0.0,\n",
      "  \"hidden_size\": 768,\n",
      "  \"initializer_range\": 0.02,\n",
      "  \"intermediate_size\": 3072,\n",
      "  \"layer_norm_eps\": 1e-07,\n",
      "  \"max_position_embeddings\": 512,\n",
      "  \"max_relative_positions\": -1,\n",
      "  \"model_type\": \"deberta-v2\",\n",
      "  \"norm_rel_ebd\": \"layer_norm\",\n",
      "  \"num_attention_heads\": 12,\n",
      "  \"num_hidden_layers\": 12,\n",
      "  \"output_hidden_states\": true,\n",
      "  \"pad_token_id\": 0,\n",
      "  \"pooler_dropout\": 0,\n",
      "  \"pooler_hidden_act\": \"gelu\",\n",
      "  \"pooler_hidden_size\": 768,\n",
      "  \"pos_att_type\": [\n",
      "    \"p2c\",\n",
      "    \"c2p\"\n",
      "  ],\n",
      "  \"position_biased_input\": false,\n",
      "  \"position_buckets\": 256,\n",
      "  \"relative_attention\": true,\n",
      "  \"share_att_key\": true,\n",
      "  \"transformers_version\": \"4.21.2\",\n",
      "  \"type_vocab_size\": 0,\n",
      "  \"vocab_size\": 128100\n",
      "}\n",
      "\n",
      "Some weights of the model checkpoint at microsoft/deberta-v3-base were not used when initializing DebertaV2Model: ['lm_predictions.lm_head.dense.bias', 'mask_predictions.LayerNorm.bias', 'mask_predictions.classifier.bias', 'lm_predictions.lm_head.dense.weight', 'lm_predictions.lm_head.bias', 'mask_predictions.classifier.weight', 'mask_predictions.LayerNorm.weight', 'mask_predictions.dense.bias', 'mask_predictions.dense.weight', 'lm_predictions.lm_head.LayerNorm.weight', 'lm_predictions.lm_head.LayerNorm.bias']\n",
      "- This IS expected if you are initializing DebertaV2Model from the checkpoint of a model trained on another task or with another architecture (e.g. initializing a BertForSequenceClassification model from a BertForPreTraining model).\n",
      "- This IS NOT expected if you are initializing DebertaV2Model from the checkpoint of a model that you expect to be exactly identical (initializing a BertForSequenceClassification model from a BertForSequenceClassification model).\n"
     ]
    },
    {
     "name": "stdout",
     "output_type": "stream",
     "text": [
      "Epoch: [1][0/366] Elapsed 0m 1s (remain 8m 51s) Loss: 2.4673(2.4673) Grad: inf  LR: 0.00000200  \n",
      "Epoch: [1][20/366] Elapsed 0m 40s (remain 11m 7s) Loss: 2.6771(2.4490) Grad: 208033.7656  LR: 0.00000200  \n",
      "Epoch: [1][40/366] Elapsed 1m 19s (remain 10m 28s) Loss: 1.9251(2.2793) Grad: 191333.3438  LR: 0.00000200  \n",
      "Epoch: [1][60/366] Elapsed 1m 58s (remain 9m 54s) Loss: 1.8001(2.1355) Grad: 211684.1250  LR: 0.00000199  \n",
      "Epoch: [1][80/366] Elapsed 2m 37s (remain 9m 15s) Loss: 1.5446(1.9756) Grad: 213223.4844  LR: 0.00000198  \n",
      "Epoch: [1][100/366] Elapsed 3m 17s (remain 8m 37s) Loss: 0.8141(1.7984) Grad: 168313.4062  LR: 0.00000198  \n",
      "Epoch: [1][120/366] Elapsed 3m 52s (remain 7m 51s) Loss: 0.3506(1.5949) Grad: 125938.4297  LR: 0.00000197  \n",
      "Epoch: [1][140/366] Elapsed 4m 27s (remain 7m 6s) Loss: 0.5223(1.4140) Grad: 126056.4766  LR: 0.00000195  \n",
      "Epoch: [1][160/366] Elapsed 5m 2s (remain 6m 25s) Loss: 0.1285(1.2611) Grad: 68568.9297  LR: 0.00000194  \n",
      "Epoch: [1][180/366] Elapsed 5m 35s (remain 5m 43s) Loss: 0.0773(1.1403) Grad: 30064.5488  LR: 0.00000193  \n",
      "Epoch: [1][200/366] Elapsed 6m 8s (remain 5m 2s) Loss: 0.2050(1.0407) Grad: 117984.4688  LR: 0.00000191  \n",
      "Epoch: [1][220/366] Elapsed 6m 42s (remain 4m 23s) Loss: 0.1473(0.9610) Grad: 126619.4062  LR: 0.00000189  \n",
      "Epoch: [1][240/366] Elapsed 7m 19s (remain 3m 47s) Loss: 0.2003(0.8927) Grad: 75312.0312  LR: 0.00000187  \n",
      "Epoch: [1][260/366] Elapsed 7m 56s (remain 3m 11s) Loss: 0.1183(0.8349) Grad: 82612.8438  LR: 0.00000185  \n",
      "Epoch: [1][280/366] Elapsed 8m 30s (remain 2m 34s) Loss: 0.1679(0.7843) Grad: 141096.9844  LR: 0.00000182  \n",
      "Epoch: [1][300/366] Elapsed 9m 6s (remain 1m 57s) Loss: 0.1397(0.7399) Grad: 48547.8828  LR: 0.00000180  \n",
      "Epoch: [1][320/366] Elapsed 9m 40s (remain 1m 21s) Loss: 0.0825(0.7013) Grad: 106276.7969  LR: 0.00000177  \n",
      "Epoch: [1][340/366] Elapsed 10m 17s (remain 0m 45s) Loss: 0.1557(0.6676) Grad: 228696.9531  LR: 0.00000175  \n",
      "Epoch: [1][360/366] Elapsed 10m 50s (remain 0m 9s) Loss: 0.1256(0.6373) Grad: 53483.2109  LR: 0.00000172  \n",
      "Epoch: [1][365/366] Elapsed 10m 56s (remain 0m 0s) Loss: 0.1073(0.6302) Grad: 47091.4258  LR: 0.00000171  \n",
      "EVAL: [0/62] Elapsed 0m 1s (remain 1m 7s) Loss: 0.0870(0.0870) \n",
      "EVAL: [20/62] Elapsed 0m 25s (remain 0m 50s) Loss: 0.1326(0.1260) \n",
      "EVAL: [40/62] Elapsed 0m 49s (remain 0m 25s) Loss: 0.0902(0.1256) \n"
     ]
    },
    {
     "name": "stderr",
     "output_type": "stream",
     "text": [
      "Epoch 1 - avg_train_loss: 0.6302  avg_val_loss: 0.1238  time: 734s\n",
      "Epoch 1 - Score: 0.4998  Scores: [0.5265858560831784, 0.4874423431830648, 0.45957221621549954, 0.4929690178196832, 0.5328610088202572, 0.49942339740200015]\n",
      "Epoch 1 - Save Best Score: 0.4998 Model\n"
     ]
    },
    {
     "name": "stdout",
     "output_type": "stream",
     "text": [
      "EVAL: [60/62] Elapsed 1m 16s (remain 0m 1s) Loss: 0.0998(0.1239) \n",
      "EVAL: [61/62] Elapsed 1m 16s (remain 0m 0s) Loss: 0.0644(0.1238) \n",
      "Epoch: [2][0/366] Elapsed 0m 1s (remain 7m 19s) Loss: 0.1339(0.1339) Grad: 197101.7500  LR: 0.00000171  \n",
      "Epoch: [2][20/366] Elapsed 0m 34s (remain 9m 28s) Loss: 0.0968(0.1148) Grad: 128067.2891  LR: 0.00000168  \n",
      "Epoch: [2][40/366] Elapsed 1m 9s (remain 9m 9s) Loss: 0.0834(0.1161) Grad: 96708.8281  LR: 0.00000164  \n",
      "Epoch: [2][60/366] Elapsed 1m 42s (remain 8m 31s) Loss: 0.1236(0.1177) Grad: 64102.1680  LR: 0.00000161  \n",
      "Epoch: [2][80/366] Elapsed 2m 12s (remain 7m 45s) Loss: 0.1004(0.1168) Grad: 100185.1094  LR: 0.00000158  \n",
      "Epoch: [2][100/366] Elapsed 2m 48s (remain 7m 22s) Loss: 0.1578(0.1170) Grad: 352049.2188  LR: 0.00000154  \n",
      "Epoch: [2][120/366] Elapsed 3m 26s (remain 6m 58s) Loss: 0.0770(0.1163) Grad: 126444.1328  LR: 0.00000150  \n",
      "Epoch: [2][140/366] Elapsed 4m 4s (remain 6m 30s) Loss: 0.1224(0.1169) Grad: 130569.8984  LR: 0.00000147  \n",
      "Epoch: [2][160/366] Elapsed 4m 43s (remain 6m 0s) Loss: 0.0989(0.1176) Grad: 122035.8203  LR: 0.00000143  \n",
      "Epoch: [2][180/366] Elapsed 5m 17s (remain 5m 25s) Loss: 0.1222(0.1171) Grad: 95330.0312  LR: 0.00000139  \n",
      "Epoch: [2][200/366] Elapsed 5m 48s (remain 4m 46s) Loss: 0.0784(0.1164) Grad: 186202.2188  LR: 0.00000135  \n",
      "Epoch: [2][220/366] Elapsed 6m 29s (remain 4m 15s) Loss: 0.0993(0.1153) Grad: 131389.1719  LR: 0.00000131  \n",
      "Epoch: [2][240/366] Elapsed 7m 7s (remain 3m 41s) Loss: 0.0922(0.1151) Grad: 122186.1484  LR: 0.00000127  \n",
      "Epoch: [2][260/366] Elapsed 7m 42s (remain 3m 6s) Loss: 0.1076(0.1146) Grad: 114928.4219  LR: 0.00000123  \n",
      "Epoch: [2][280/366] Elapsed 8m 16s (remain 2m 30s) Loss: 0.1001(0.1143) Grad: 189885.7500  LR: 0.00000118  \n",
      "Epoch: [2][300/366] Elapsed 8m 55s (remain 1m 55s) Loss: 0.1087(0.1140) Grad: 138577.3906  LR: 0.00000114  \n",
      "Epoch: [2][320/366] Elapsed 9m 32s (remain 1m 20s) Loss: 0.1598(0.1136) Grad: 315213.1562  LR: 0.00000110  \n",
      "Epoch: [2][340/366] Elapsed 10m 11s (remain 0m 44s) Loss: 0.1379(0.1142) Grad: 276979.3125  LR: 0.00000106  \n",
      "Epoch: [2][360/366] Elapsed 10m 45s (remain 0m 8s) Loss: 0.0788(0.1144) Grad: 109969.5000  LR: 0.00000101  \n",
      "Epoch: [2][365/366] Elapsed 10m 54s (remain 0m 0s) Loss: 0.1926(0.1145) Grad: 148808.5312  LR: 0.00000100  \n",
      "EVAL: [0/62] Elapsed 0m 1s (remain 1m 8s) Loss: 0.0830(0.0830) \n",
      "EVAL: [20/62] Elapsed 0m 25s (remain 0m 49s) Loss: 0.1238(0.1203) \n",
      "EVAL: [40/62] Elapsed 0m 49s (remain 0m 25s) Loss: 0.0906(0.1185) \n"
     ]
    },
    {
     "name": "stderr",
     "output_type": "stream",
     "text": [
      "Epoch 2 - avg_train_loss: 0.1145  avg_val_loss: 0.1167  time: 731s\n",
      "Epoch 2 - Score: 0.4846  Scores: [0.5158513981520022, 0.4741416650384128, 0.44580504272583854, 0.4746377023174107, 0.5110696988103004, 0.4859629080309698]\n",
      "Epoch 2 - Save Best Score: 0.4846 Model\n"
     ]
    },
    {
     "name": "stdout",
     "output_type": "stream",
     "text": [
      "EVAL: [60/62] Elapsed 1m 16s (remain 0m 1s) Loss: 0.0934(0.1167) \n",
      "EVAL: [61/62] Elapsed 1m 16s (remain 0m 0s) Loss: 0.0553(0.1167) \n",
      "Epoch: [3][0/366] Elapsed 0m 2s (remain 14m 9s) Loss: 0.0992(0.0992) Grad: 651711.5625  LR: 0.00000100  \n",
      "Epoch: [3][20/366] Elapsed 0m 34s (remain 9m 28s) Loss: 0.1328(0.1114) Grad: 165091.8750  LR: 0.00000096  \n",
      "Epoch: [3][40/366] Elapsed 1m 14s (remain 9m 49s) Loss: 0.0624(0.1095) Grad: 153633.2344  LR: 0.00000092  \n",
      "Epoch: [3][60/366] Elapsed 1m 44s (remain 8m 41s) Loss: 0.0994(0.1098) Grad: 93150.4922  LR: 0.00000087  \n",
      "Epoch: [3][80/366] Elapsed 2m 27s (remain 8m 37s) Loss: 0.1345(0.1099) Grad: 233772.5156  LR: 0.00000083  \n",
      "Epoch: [3][100/366] Elapsed 3m 0s (remain 7m 54s) Loss: 0.0867(0.1082) Grad: 76402.5000  LR: 0.00000079  \n",
      "Epoch: [3][120/366] Elapsed 3m 38s (remain 7m 23s) Loss: 0.0841(0.1100) Grad: 105008.1719  LR: 0.00000075  \n",
      "Epoch: [3][140/366] Elapsed 4m 15s (remain 6m 47s) Loss: 0.0820(0.1104) Grad: 184380.7344  LR: 0.00000071  \n",
      "Epoch: [3][160/366] Elapsed 4m 49s (remain 6m 8s) Loss: 0.0858(0.1105) Grad: 89423.7109  LR: 0.00000067  \n",
      "Epoch: [3][180/366] Elapsed 5m 26s (remain 5m 34s) Loss: 0.0848(0.1100) Grad: 70406.4062  LR: 0.00000062  \n",
      "Epoch: [3][200/366] Elapsed 5m 57s (remain 4m 53s) Loss: 0.0864(0.1097) Grad: 338528.1562  LR: 0.00000059  \n",
      "Epoch: [3][220/366] Elapsed 6m 30s (remain 4m 16s) Loss: 0.1018(0.1095) Grad: 138974.1562  LR: 0.00000055  \n",
      "Epoch: [3][240/366] Elapsed 7m 10s (remain 3m 43s) Loss: 0.1119(0.1091) Grad: 251444.4688  LR: 0.00000051  \n",
      "Epoch: [3][260/366] Elapsed 7m 45s (remain 3m 7s) Loss: 0.0570(0.1092) Grad: 112543.3828  LR: 0.00000047  \n",
      "Epoch: [3][280/366] Elapsed 8m 25s (remain 2m 32s) Loss: 0.0722(0.1081) Grad: 106792.3203  LR: 0.00000044  \n",
      "Epoch: [3][300/366] Elapsed 9m 4s (remain 1m 57s) Loss: 0.1072(0.1086) Grad: 72616.5156  LR: 0.00000040  \n",
      "Epoch: [3][320/366] Elapsed 9m 36s (remain 1m 20s) Loss: 0.1332(0.1080) Grad: 127364.4844  LR: 0.00000037  \n",
      "Epoch: [3][340/366] Elapsed 10m 12s (remain 0m 44s) Loss: 0.1010(0.1088) Grad: 125357.3516  LR: 0.00000034  \n",
      "Epoch: [3][360/366] Elapsed 10m 45s (remain 0m 8s) Loss: 0.1289(0.1095) Grad: 138010.6094  LR: 0.00000030  \n",
      "Epoch: [3][365/366] Elapsed 10m 56s (remain 0m 0s) Loss: 0.1110(0.1097) Grad: 113124.9062  LR: 0.00000030  \n",
      "EVAL: [0/62] Elapsed 0m 1s (remain 1m 16s) Loss: 0.0824(0.0824) \n",
      "EVAL: [20/62] Elapsed 0m 25s (remain 0m 49s) Loss: 0.1204(0.1179) \n",
      "EVAL: [40/62] Elapsed 0m 49s (remain 0m 25s) Loss: 0.0935(0.1167) \n"
     ]
    },
    {
     "name": "stderr",
     "output_type": "stream",
     "text": [
      "Epoch 3 - avg_train_loss: 0.1097  avg_val_loss: 0.1153  time: 733s\n",
      "Epoch 3 - Score: 0.4815  Scores: [0.513352403875166, 0.4693122269251891, 0.44472581829722413, 0.4731792991433848, 0.5074360794667362, 0.4809848674555522]\n",
      "Epoch 3 - Save Best Score: 0.4815 Model\n"
     ]
    },
    {
     "name": "stdout",
     "output_type": "stream",
     "text": [
      "EVAL: [60/62] Elapsed 1m 16s (remain 0m 1s) Loss: 0.0923(0.1154) \n",
      "EVAL: [61/62] Elapsed 1m 16s (remain 0m 0s) Loss: 0.0534(0.1153) \n",
      "Epoch: [4][0/366] Elapsed 0m 4s (remain 25m 53s) Loss: 0.1028(0.1028) Grad: 525452.6875  LR: 0.00000029  \n",
      "Epoch: [4][20/366] Elapsed 0m 37s (remain 10m 18s) Loss: 0.1142(0.1059) Grad: 200076.9219  LR: 0.00000027  \n",
      "Epoch: [4][40/366] Elapsed 1m 12s (remain 9m 32s) Loss: 0.1329(0.1146) Grad: 196481.3125  LR: 0.00000024  \n",
      "Epoch: [4][60/366] Elapsed 1m 45s (remain 8m 49s) Loss: 0.1163(0.1118) Grad: 156775.0312  LR: 0.00000021  \n",
      "Epoch: [4][80/366] Elapsed 2m 17s (remain 8m 2s) Loss: 0.0938(0.1111) Grad: 203756.0469  LR: 0.00000018  \n",
      "Epoch: [4][100/366] Elapsed 2m 49s (remain 7m 25s) Loss: 0.0798(0.1088) Grad: 136908.8594  LR: 0.00000016  \n",
      "Epoch: [4][120/366] Elapsed 3m 22s (remain 6m 49s) Loss: 0.1604(0.1101) Grad: 175813.1094  LR: 0.00000014  \n",
      "Epoch: [4][140/366] Elapsed 3m 55s (remain 6m 15s) Loss: 0.0896(0.1086) Grad: 171529.8438  LR: 0.00000012  \n",
      "Epoch: [4][160/366] Elapsed 4m 32s (remain 5m 47s) Loss: 0.1011(0.1089) Grad: 62875.5664  LR: 0.00000010  \n",
      "Epoch: [4][180/366] Elapsed 5m 7s (remain 5m 14s) Loss: 0.1573(0.1082) Grad: 422267.3125  LR: 0.00000008  \n",
      "Epoch: [4][200/366] Elapsed 5m 43s (remain 4m 42s) Loss: 0.0863(0.1086) Grad: 189591.8906  LR: 0.00000006  \n",
      "Epoch: [4][220/366] Elapsed 6m 20s (remain 4m 9s) Loss: 0.1089(0.1079) Grad: 253475.3125  LR: 0.00000005  \n",
      "Epoch: [4][240/366] Elapsed 6m 54s (remain 3m 35s) Loss: 0.0881(0.1079) Grad: 136640.9531  LR: 0.00000004  \n",
      "Epoch: [4][260/366] Elapsed 7m 34s (remain 3m 2s) Loss: 0.0951(0.1079) Grad: 154595.8125  LR: 0.00000003  \n",
      "Epoch: [4][280/366] Elapsed 8m 15s (remain 2m 29s) Loss: 0.1113(0.1082) Grad: 180465.4219  LR: 0.00000002  \n",
      "Epoch: [4][300/366] Elapsed 8m 48s (remain 1m 54s) Loss: 0.1046(0.1087) Grad: 133759.2656  LR: 0.00000001  \n",
      "Epoch: [4][320/366] Elapsed 9m 25s (remain 1m 19s) Loss: 0.1105(0.1079) Grad: 141905.4688  LR: 0.00000001  \n",
      "Epoch: [4][340/366] Elapsed 10m 6s (remain 0m 44s) Loss: 0.0961(0.1080) Grad: 149636.4062  LR: 0.00000000  \n",
      "Epoch: [4][360/366] Elapsed 10m 45s (remain 0m 8s) Loss: 0.0860(0.1075) Grad: 137478.8125  LR: 0.00000000  \n",
      "Epoch: [4][365/366] Elapsed 10m 55s (remain 0m 0s) Loss: 0.0664(0.1075) Grad: 101917.5703  LR: 0.00000000  \n",
      "EVAL: [0/62] Elapsed 0m 1s (remain 1m 3s) Loss: 0.0831(0.0831) \n",
      "EVAL: [20/62] Elapsed 0m 25s (remain 0m 49s) Loss: 0.1216(0.1180) \n",
      "EVAL: [40/62] Elapsed 0m 49s (remain 0m 25s) Loss: 0.0916(0.1159) \n"
     ]
    },
    {
     "name": "stderr",
     "output_type": "stream",
     "text": [
      "Epoch 4 - avg_train_loss: 0.1075  avg_val_loss: 0.1142  time: 732s\n",
      "Epoch 4 - Score: 0.4791  Scores: [0.509075675960559, 0.46743497779847737, 0.44048092785044407, 0.4709832805006723, 0.5062707956671719, 0.4804685675466562]\n",
      "Epoch 4 - Save Best Score: 0.4791 Model\n"
     ]
    },
    {
     "name": "stdout",
     "output_type": "stream",
     "text": [
      "EVAL: [60/62] Elapsed 1m 16s (remain 0m 1s) Loss: 0.0906(0.1142) \n",
      "EVAL: [61/62] Elapsed 1m 16s (remain 0m 0s) Loss: 0.0523(0.1142) \n"
     ]
    },
    {
     "name": "stderr",
     "output_type": "stream",
     "text": [
      "========== fold: 1 result ==========\n",
      "Score: 0.4791  Scores: [0.509075675960559, 0.46743497779847737, 0.44048092785044407, 0.4709832805006723, 0.5062707956671719, 0.4804685675466562]\n",
      "========== fold: 2 training ==========\n",
      "DebertaV2Config {\n",
      "  \"_name_or_path\": \"microsoft/deberta-v3-base\",\n",
      "  \"attention_dropout\": 0.0,\n",
      "  \"attention_probs_dropout_prob\": 0.0,\n",
      "  \"hidden_act\": \"gelu\",\n",
      "  \"hidden_dropout\": 0.0,\n",
      "  \"hidden_dropout_prob\": 0.0,\n",
      "  \"hidden_size\": 768,\n",
      "  \"initializer_range\": 0.02,\n",
      "  \"intermediate_size\": 3072,\n",
      "  \"layer_norm_eps\": 1e-07,\n",
      "  \"max_position_embeddings\": 512,\n",
      "  \"max_relative_positions\": -1,\n",
      "  \"model_type\": \"deberta-v2\",\n",
      "  \"norm_rel_ebd\": \"layer_norm\",\n",
      "  \"num_attention_heads\": 12,\n",
      "  \"num_hidden_layers\": 12,\n",
      "  \"output_hidden_states\": true,\n",
      "  \"pad_token_id\": 0,\n",
      "  \"pooler_dropout\": 0,\n",
      "  \"pooler_hidden_act\": \"gelu\",\n",
      "  \"pooler_hidden_size\": 768,\n",
      "  \"pos_att_type\": [\n",
      "    \"p2c\",\n",
      "    \"c2p\"\n",
      "  ],\n",
      "  \"position_biased_input\": false,\n",
      "  \"position_buckets\": 256,\n",
      "  \"relative_attention\": true,\n",
      "  \"share_att_key\": true,\n",
      "  \"transformers_version\": \"4.21.2\",\n",
      "  \"type_vocab_size\": 0,\n",
      "  \"vocab_size\": 128100\n",
      "}\n",
      "\n",
      "Some weights of the model checkpoint at microsoft/deberta-v3-base were not used when initializing DebertaV2Model: ['lm_predictions.lm_head.dense.bias', 'mask_predictions.LayerNorm.bias', 'mask_predictions.classifier.bias', 'lm_predictions.lm_head.dense.weight', 'lm_predictions.lm_head.bias', 'mask_predictions.classifier.weight', 'mask_predictions.LayerNorm.weight', 'mask_predictions.dense.bias', 'mask_predictions.dense.weight', 'lm_predictions.lm_head.LayerNorm.weight', 'lm_predictions.lm_head.LayerNorm.bias']\n",
      "- This IS expected if you are initializing DebertaV2Model from the checkpoint of a model trained on another task or with another architecture (e.g. initializing a BertForSequenceClassification model from a BertForPreTraining model).\n",
      "- This IS NOT expected if you are initializing DebertaV2Model from the checkpoint of a model that you expect to be exactly identical (initializing a BertForSequenceClassification model from a BertForSequenceClassification model).\n"
     ]
    },
    {
     "name": "stdout",
     "output_type": "stream",
     "text": [
      "Epoch: [1][0/366] Elapsed 0m 1s (remain 9m 29s) Loss: 2.5660(2.5660) Grad: inf  LR: 0.00000200  \n",
      "Epoch: [1][20/366] Elapsed 0m 35s (remain 9m 48s) Loss: 2.1778(2.2565) Grad: 196323.1406  LR: 0.00000200  \n",
      "Epoch: [1][40/366] Elapsed 1m 12s (remain 9m 36s) Loss: 1.7401(2.1855) Grad: 182837.6875  LR: 0.00000200  \n",
      "Epoch: [1][60/366] Elapsed 1m 51s (remain 9m 19s) Loss: 1.9118(2.0467) Grad: 192521.5156  LR: 0.00000199  \n",
      "Epoch: [1][80/366] Elapsed 2m 34s (remain 9m 4s) Loss: 1.6462(1.9530) Grad: 208433.6250  LR: 0.00000198  \n",
      "Epoch: [1][100/366] Elapsed 3m 12s (remain 8m 24s) Loss: 1.1056(1.8317) Grad: 205684.6094  LR: 0.00000198  \n",
      "Epoch: [1][120/366] Elapsed 3m 47s (remain 7m 40s) Loss: 0.9153(1.6922) Grad: 205061.8281  LR: 0.00000197  \n",
      "Epoch: [1][140/366] Elapsed 4m 22s (remain 6m 58s) Loss: 0.3932(1.5368) Grad: 153688.5000  LR: 0.00000195  \n",
      "Epoch: [1][160/366] Elapsed 5m 1s (remain 6m 23s) Loss: 0.3710(1.3836) Grad: 94676.0703  LR: 0.00000194  \n",
      "Epoch: [1][180/366] Elapsed 5m 38s (remain 5m 45s) Loss: 0.1142(1.2517) Grad: 111790.8281  LR: 0.00000193  \n",
      "Epoch: [1][200/366] Elapsed 6m 18s (remain 5m 10s) Loss: 0.1080(1.1432) Grad: 118072.9141  LR: 0.00000191  \n",
      "Epoch: [1][220/366] Elapsed 6m 50s (remain 4m 29s) Loss: 0.1218(1.0544) Grad: 178754.1406  LR: 0.00000189  \n",
      "Epoch: [1][240/366] Elapsed 7m 28s (remain 3m 52s) Loss: 0.0908(0.9782) Grad: 53136.9570  LR: 0.00000187  \n",
      "Epoch: [1][260/366] Elapsed 8m 8s (remain 3m 16s) Loss: 0.1672(0.9134) Grad: 164241.5312  LR: 0.00000185  \n",
      "Epoch: [1][280/366] Elapsed 8m 46s (remain 2m 39s) Loss: 0.0929(0.8584) Grad: 51977.6523  LR: 0.00000182  \n",
      "Epoch: [1][300/366] Elapsed 9m 23s (remain 2m 1s) Loss: 0.0960(0.8108) Grad: 83012.4453  LR: 0.00000180  \n",
      "Epoch: [1][320/366] Elapsed 10m 1s (remain 1m 24s) Loss: 0.1228(0.7685) Grad: 150739.3594  LR: 0.00000177  \n",
      "Epoch: [1][340/366] Elapsed 10m 34s (remain 0m 46s) Loss: 0.0890(0.7318) Grad: 103960.2031  LR: 0.00000174  \n",
      "Epoch: [1][360/366] Elapsed 11m 13s (remain 0m 9s) Loss: 0.1084(0.6992) Grad: 78050.5547  LR: 0.00000172  \n",
      "Epoch: [1][365/366] Elapsed 11m 21s (remain 0m 0s) Loss: 0.1372(0.6915) Grad: 208048.4219  LR: 0.00000171  \n",
      "EVAL: [0/62] Elapsed 0m 2s (remain 2m 22s) Loss: 0.1402(0.1402) \n",
      "EVAL: [20/62] Elapsed 0m 25s (remain 0m 49s) Loss: 0.1615(0.1382) \n",
      "EVAL: [40/62] Elapsed 0m 45s (remain 0m 23s) Loss: 0.1319(0.1392) \n",
      "EVAL: [60/62] Elapsed 1m 8s (remain 0m 1s) Loss: 0.0890(0.1378) \n",
      "EVAL: [61/62] Elapsed 1m 9s (remain 0m 0s) Loss: 0.4030(0.1383) \n"
     ]
    },
    {
     "name": "stderr",
     "output_type": "stream",
     "text": [
      "Epoch 1 - avg_train_loss: 0.6915  avg_val_loss: 0.1383  time: 751s\n",
      "Epoch 1 - Score: 0.5296  Scores: [0.5713208209726497, 0.5127378685112699, 0.467572509374277, 0.5331909092089339, 0.5519218433973553, 0.540828179739606]\n",
      "Epoch 1 - Save Best Score: 0.5296 Model\n"
     ]
    },
    {
     "name": "stdout",
     "output_type": "stream",
     "text": [
      "Epoch: [2][0/366] Elapsed 0m 2s (remain 12m 29s) Loss: 0.1058(0.1058) Grad: 684573.0625  LR: 0.00000171  \n",
      "Epoch: [2][20/366] Elapsed 0m 34s (remain 9m 28s) Loss: 0.1255(0.1320) Grad: 309545.9375  LR: 0.00000168  \n",
      "Epoch: [2][40/366] Elapsed 1m 13s (remain 9m 39s) Loss: 0.1695(0.1359) Grad: 118496.6875  LR: 0.00000164  \n",
      "Epoch: [2][60/366] Elapsed 1m 53s (remain 9m 27s) Loss: 0.1204(0.1287) Grad: 378406.7188  LR: 0.00000161  \n",
      "Epoch: [2][80/366] Elapsed 2m 29s (remain 8m 44s) Loss: 0.1120(0.1244) Grad: 184124.4844  LR: 0.00000158  \n",
      "Epoch: [2][100/366] Elapsed 3m 3s (remain 8m 2s) Loss: 0.2067(0.1256) Grad: 548655.2500  LR: 0.00000154  \n",
      "Epoch: [2][120/366] Elapsed 3m 39s (remain 7m 24s) Loss: 0.1247(0.1254) Grad: 293756.3125  LR: 0.00000150  \n",
      "Epoch: [2][140/366] Elapsed 4m 17s (remain 6m 50s) Loss: 0.1269(0.1252) Grad: 138655.0625  LR: 0.00000147  \n",
      "Epoch: [2][160/366] Elapsed 5m 0s (remain 6m 22s) Loss: 0.1048(0.1240) Grad: 134609.3750  LR: 0.00000143  \n",
      "Epoch: [2][180/366] Elapsed 5m 45s (remain 5m 53s) Loss: 0.2144(0.1237) Grad: 175213.3125  LR: 0.00000139  \n",
      "Epoch: [2][200/366] Elapsed 6m 19s (remain 5m 11s) Loss: 0.1755(0.1230) Grad: 246143.8125  LR: 0.00000135  \n",
      "Epoch: [2][220/366] Elapsed 6m 54s (remain 4m 31s) Loss: 0.0931(0.1225) Grad: 237520.4219  LR: 0.00000131  \n",
      "Epoch: [2][240/366] Elapsed 7m 32s (remain 3m 54s) Loss: 0.1032(0.1221) Grad: 143641.7344  LR: 0.00000127  \n",
      "Epoch: [2][260/366] Elapsed 8m 8s (remain 3m 16s) Loss: 0.1341(0.1219) Grad: 264442.0000  LR: 0.00000123  \n",
      "Epoch: [2][280/366] Elapsed 8m 48s (remain 2m 39s) Loss: 0.0900(0.1210) Grad: 278838.0625  LR: 0.00000118  \n",
      "Epoch: [2][300/366] Elapsed 9m 23s (remain 2m 1s) Loss: 0.1027(0.1201) Grad: 101017.6172  LR: 0.00000114  \n",
      "Epoch: [2][320/366] Elapsed 9m 57s (remain 1m 23s) Loss: 0.1088(0.1200) Grad: 178502.6406  LR: 0.00000110  \n",
      "Epoch: [2][340/366] Elapsed 10m 39s (remain 0m 46s) Loss: 0.0970(0.1198) Grad: 197562.3125  LR: 0.00000106  \n",
      "Epoch: [2][360/366] Elapsed 11m 16s (remain 0m 9s) Loss: 0.1187(0.1204) Grad: 160148.7500  LR: 0.00000101  \n",
      "Epoch: [2][365/366] Elapsed 11m 27s (remain 0m 0s) Loss: 0.0929(0.1202) Grad: 220564.6562  LR: 0.00000100  \n",
      "EVAL: [0/62] Elapsed 0m 2s (remain 2m 31s) Loss: 0.1322(0.1322) \n",
      "EVAL: [20/62] Elapsed 0m 24s (remain 0m 48s) Loss: 0.1186(0.1214) \n",
      "EVAL: [40/62] Elapsed 0m 45s (remain 0m 23s) Loss: 0.1084(0.1213) \n",
      "EVAL: [60/62] Elapsed 1m 8s (remain 0m 1s) Loss: 0.0786(0.1205) \n",
      "EVAL: [61/62] Elapsed 1m 8s (remain 0m 0s) Loss: 0.2876(0.1209) \n"
     ]
    },
    {
     "name": "stderr",
     "output_type": "stream",
     "text": [
      "Epoch 2 - avg_train_loss: 0.1202  avg_val_loss: 0.1209  time: 756s\n",
      "Epoch 2 - Score: 0.4936  Scores: [0.5199350303025345, 0.4837847346004962, 0.4465011457885917, 0.49659039126924687, 0.524593779529064, 0.4903858096552251]\n",
      "Epoch 2 - Save Best Score: 0.4936 Model\n"
     ]
    },
    {
     "name": "stdout",
     "output_type": "stream",
     "text": [
      "Epoch: [3][0/366] Elapsed 0m 2s (remain 12m 24s) Loss: 0.0893(0.0893) Grad: 382834.0938  LR: 0.00000100  \n",
      "Epoch: [3][20/366] Elapsed 0m 43s (remain 11m 50s) Loss: 0.1545(0.1093) Grad: 528947.8125  LR: 0.00000096  \n",
      "Epoch: [3][40/366] Elapsed 1m 17s (remain 10m 13s) Loss: 0.1251(0.1104) Grad: 171613.0312  LR: 0.00000091  \n",
      "Epoch: [3][60/366] Elapsed 1m 51s (remain 9m 15s) Loss: 0.1147(0.1100) Grad: 448756.3750  LR: 0.00000087  \n",
      "Epoch: [3][80/366] Elapsed 2m 24s (remain 8m 26s) Loss: 0.1108(0.1107) Grad: 102004.3047  LR: 0.00000083  \n",
      "Epoch: [3][100/366] Elapsed 3m 6s (remain 8m 8s) Loss: 0.1452(0.1100) Grad: 191752.0781  LR: 0.00000079  \n",
      "Epoch: [3][120/366] Elapsed 3m 42s (remain 7m 31s) Loss: 0.0477(0.1105) Grad: 54551.8945  LR: 0.00000075  \n",
      "Epoch: [3][140/366] Elapsed 4m 21s (remain 6m 58s) Loss: 0.0767(0.1106) Grad: 143876.7344  LR: 0.00000070  \n",
      "Epoch: [3][160/366] Elapsed 4m 55s (remain 6m 16s) Loss: 0.0902(0.1104) Grad: 131174.5000  LR: 0.00000066  \n",
      "Epoch: [3][180/366] Elapsed 5m 39s (remain 5m 47s) Loss: 0.1177(0.1105) Grad: 237252.7031  LR: 0.00000062  \n",
      "Epoch: [3][200/366] Elapsed 6m 13s (remain 5m 6s) Loss: 0.1176(0.1122) Grad: 104416.1172  LR: 0.00000058  \n",
      "Epoch: [3][220/366] Elapsed 6m 48s (remain 4m 27s) Loss: 0.1017(0.1124) Grad: 126078.2969  LR: 0.00000055  \n",
      "Epoch: [3][240/366] Elapsed 7m 27s (remain 3m 51s) Loss: 0.1078(0.1131) Grad: 124540.4609  LR: 0.00000051  \n",
      "Epoch: [3][260/366] Elapsed 8m 6s (remain 3m 15s) Loss: 0.1050(0.1133) Grad: 109149.7422  LR: 0.00000047  \n",
      "Epoch: [3][280/366] Elapsed 8m 42s (remain 2m 37s) Loss: 0.1233(0.1127) Grad: 143240.6875  LR: 0.00000044  \n",
      "Epoch: [3][300/366] Elapsed 9m 17s (remain 2m 0s) Loss: 0.0937(0.1131) Grad: 416531.4688  LR: 0.00000040  \n",
      "Epoch: [3][320/366] Elapsed 9m 59s (remain 1m 24s) Loss: 0.0884(0.1137) Grad: 172515.0625  LR: 0.00000037  \n",
      "Epoch: [3][340/366] Elapsed 10m 37s (remain 0m 46s) Loss: 0.0984(0.1143) Grad: 138709.6719  LR: 0.00000033  \n",
      "Epoch: [3][360/366] Elapsed 11m 17s (remain 0m 9s) Loss: 0.1077(0.1142) Grad: 176627.3438  LR: 0.00000030  \n",
      "Epoch: [3][365/366] Elapsed 11m 27s (remain 0m 0s) Loss: 0.1402(0.1142) Grad: 351828.6562  LR: 0.00000030  \n",
      "EVAL: [0/62] Elapsed 0m 2s (remain 2m 16s) Loss: 0.1330(0.1330) \n",
      "EVAL: [20/62] Elapsed 0m 24s (remain 0m 47s) Loss: 0.1039(0.1173) \n",
      "EVAL: [40/62] Elapsed 0m 45s (remain 0m 23s) Loss: 0.1015(0.1174) \n",
      "EVAL: [60/62] Elapsed 1m 7s (remain 0m 1s) Loss: 0.0794(0.1169) \n",
      "EVAL: [61/62] Elapsed 1m 7s (remain 0m 0s) Loss: 0.2327(0.1172) \n"
     ]
    },
    {
     "name": "stderr",
     "output_type": "stream",
     "text": [
      "Epoch 3 - avg_train_loss: 0.1142  avg_val_loss: 0.1172  time: 756s\n",
      "Epoch 3 - Score: 0.4855  Scores: [0.519652281630926, 0.4701794792918083, 0.4399527089679855, 0.4830146320753997, 0.5118062722709903, 0.4882286255579081]\n",
      "Epoch 3 - Save Best Score: 0.4855 Model\n"
     ]
    },
    {
     "name": "stdout",
     "output_type": "stream",
     "text": [
      "Epoch: [4][0/366] Elapsed 0m 2s (remain 12m 36s) Loss: 0.1582(0.1582) Grad: 774954.0625  LR: 0.00000029  \n",
      "Epoch: [4][20/366] Elapsed 0m 38s (remain 10m 28s) Loss: 0.1107(0.1154) Grad: 122579.5625  LR: 0.00000026  \n",
      "Epoch: [4][40/366] Elapsed 1m 13s (remain 9m 42s) Loss: 0.0832(0.1143) Grad: 143149.1719  LR: 0.00000024  \n",
      "Epoch: [4][60/366] Elapsed 1m 49s (remain 9m 9s) Loss: 0.0954(0.1167) Grad: 102103.2109  LR: 0.00000021  \n",
      "Epoch: [4][80/366] Elapsed 2m 36s (remain 9m 9s) Loss: 0.1133(0.1150) Grad: 137881.7656  LR: 0.00000018  \n",
      "Epoch: [4][100/366] Elapsed 3m 9s (remain 8m 17s) Loss: 0.0843(0.1135) Grad: 233286.3281  LR: 0.00000016  \n",
      "Epoch: [4][120/366] Elapsed 3m 45s (remain 7m 36s) Loss: 0.1385(0.1130) Grad: 289323.1875  LR: 0.00000014  \n",
      "Epoch: [4][140/366] Elapsed 4m 22s (remain 6m 58s) Loss: 0.0976(0.1132) Grad: 115167.3672  LR: 0.00000012  \n",
      "Epoch: [4][160/366] Elapsed 4m 56s (remain 6m 17s) Loss: 0.1297(0.1129) Grad: 184870.0781  LR: 0.00000010  \n",
      "Epoch: [4][180/366] Elapsed 5m 34s (remain 5m 42s) Loss: 0.0863(0.1125) Grad: 186771.5781  LR: 0.00000008  \n",
      "Epoch: [4][200/366] Elapsed 6m 9s (remain 5m 3s) Loss: 0.1254(0.1124) Grad: 416913.1250  LR: 0.00000006  \n",
      "Epoch: [4][220/366] Elapsed 6m 45s (remain 4m 26s) Loss: 0.1229(0.1129) Grad: 196702.5312  LR: 0.00000005  \n",
      "Epoch: [4][240/366] Elapsed 7m 21s (remain 3m 49s) Loss: 0.1086(0.1124) Grad: 120813.4297  LR: 0.00000004  \n",
      "Epoch: [4][260/366] Elapsed 7m 58s (remain 3m 12s) Loss: 0.0943(0.1124) Grad: 109796.8359  LR: 0.00000003  \n",
      "Epoch: [4][280/366] Elapsed 8m 39s (remain 2m 37s) Loss: 0.1317(0.1133) Grad: 133222.8906  LR: 0.00000002  \n",
      "Epoch: [4][300/366] Elapsed 9m 19s (remain 2m 0s) Loss: 0.1433(0.1130) Grad: 290067.2188  LR: 0.00000001  \n",
      "Epoch: [4][320/366] Elapsed 9m 57s (remain 1m 23s) Loss: 0.0822(0.1123) Grad: 176197.9531  LR: 0.00000001  \n",
      "Epoch: [4][340/366] Elapsed 10m 35s (remain 0m 46s) Loss: 0.1041(0.1118) Grad: 387649.2500  LR: 0.00000000  \n",
      "Epoch: [4][360/366] Elapsed 11m 18s (remain 0m 9s) Loss: 0.1017(0.1112) Grad: 153616.1562  LR: 0.00000000  \n",
      "Epoch: [4][365/366] Elapsed 11m 25s (remain 0m 0s) Loss: 0.1973(0.1113) Grad: 170012.5625  LR: 0.00000000  \n",
      "EVAL: [0/62] Elapsed 0m 2s (remain 2m 16s) Loss: 0.1332(0.1332) \n",
      "EVAL: [20/62] Elapsed 0m 24s (remain 0m 47s) Loss: 0.1005(0.1163) \n",
      "EVAL: [40/62] Elapsed 0m 45s (remain 0m 23s) Loss: 0.0975(0.1166) \n",
      "EVAL: [60/62] Elapsed 1m 7s (remain 0m 1s) Loss: 0.0812(0.1160) \n",
      "EVAL: [61/62] Elapsed 1m 8s (remain 0m 0s) Loss: 0.2183(0.1162) \n"
     ]
    },
    {
     "name": "stderr",
     "output_type": "stream",
     "text": [
      "Epoch 4 - avg_train_loss: 0.1113  avg_val_loss: 0.1162  time: 753s\n",
      "Epoch 4 - Score: 0.4836  Scores: [0.5110269002762201, 0.469430231168048, 0.4406354461229707, 0.4829816173985039, 0.5106105954863105, 0.4871739566450226]\n",
      "Epoch 4 - Save Best Score: 0.4836 Model\n",
      "========== fold: 2 result ==========\n",
      "Score: 0.4836  Scores: [0.5110269002762201, 0.469430231168048, 0.4406354461229707, 0.4829816173985039, 0.5106105954863105, 0.4871739566450226]\n",
      "========== fold: 3 training ==========\n",
      "DebertaV2Config {\n",
      "  \"_name_or_path\": \"microsoft/deberta-v3-base\",\n",
      "  \"attention_dropout\": 0.0,\n",
      "  \"attention_probs_dropout_prob\": 0.0,\n",
      "  \"hidden_act\": \"gelu\",\n",
      "  \"hidden_dropout\": 0.0,\n",
      "  \"hidden_dropout_prob\": 0.0,\n",
      "  \"hidden_size\": 768,\n",
      "  \"initializer_range\": 0.02,\n",
      "  \"intermediate_size\": 3072,\n",
      "  \"layer_norm_eps\": 1e-07,\n",
      "  \"max_position_embeddings\": 512,\n",
      "  \"max_relative_positions\": -1,\n",
      "  \"model_type\": \"deberta-v2\",\n",
      "  \"norm_rel_ebd\": \"layer_norm\",\n",
      "  \"num_attention_heads\": 12,\n",
      "  \"num_hidden_layers\": 12,\n",
      "  \"output_hidden_states\": true,\n",
      "  \"pad_token_id\": 0,\n",
      "  \"pooler_dropout\": 0,\n",
      "  \"pooler_hidden_act\": \"gelu\",\n",
      "  \"pooler_hidden_size\": 768,\n",
      "  \"pos_att_type\": [\n",
      "    \"p2c\",\n",
      "    \"c2p\"\n",
      "  ],\n",
      "  \"position_biased_input\": false,\n",
      "  \"position_buckets\": 256,\n",
      "  \"relative_attention\": true,\n",
      "  \"share_att_key\": true,\n",
      "  \"transformers_version\": \"4.21.2\",\n",
      "  \"type_vocab_size\": 0,\n",
      "  \"vocab_size\": 128100\n",
      "}\n",
      "\n",
      "Some weights of the model checkpoint at microsoft/deberta-v3-base were not used when initializing DebertaV2Model: ['lm_predictions.lm_head.dense.bias', 'mask_predictions.LayerNorm.bias', 'mask_predictions.classifier.bias', 'lm_predictions.lm_head.dense.weight', 'lm_predictions.lm_head.bias', 'mask_predictions.classifier.weight', 'mask_predictions.LayerNorm.weight', 'mask_predictions.dense.bias', 'mask_predictions.dense.weight', 'lm_predictions.lm_head.LayerNorm.weight', 'lm_predictions.lm_head.LayerNorm.bias']\n",
      "- This IS expected if you are initializing DebertaV2Model from the checkpoint of a model trained on another task or with another architecture (e.g. initializing a BertForSequenceClassification model from a BertForPreTraining model).\n",
      "- This IS NOT expected if you are initializing DebertaV2Model from the checkpoint of a model that you expect to be exactly identical (initializing a BertForSequenceClassification model from a BertForSequenceClassification model).\n"
     ]
    },
    {
     "name": "stdout",
     "output_type": "stream",
     "text": [
      "Epoch: [1][0/366] Elapsed 0m 1s (remain 11m 35s) Loss: 2.5190(2.5190) Grad: inf  LR: 0.00000200  \n",
      "Epoch: [1][20/366] Elapsed 0m 32s (remain 8m 57s) Loss: 2.6066(2.4028) Grad: 252014.5156  LR: 0.00000200  \n",
      "Epoch: [1][40/366] Elapsed 1m 7s (remain 8m 56s) Loss: 1.8418(2.1684) Grad: 211705.9375  LR: 0.00000200  \n",
      "Epoch: [1][60/366] Elapsed 1m 40s (remain 8m 23s) Loss: 1.2413(1.9769) Grad: 205490.2031  LR: 0.00000199  \n",
      "Epoch: [1][80/366] Elapsed 2m 23s (remain 8m 23s) Loss: 0.9882(1.7920) Grad: 211641.2812  LR: 0.00000198  \n",
      "Epoch: [1][100/366] Elapsed 3m 2s (remain 7m 59s) Loss: 0.8747(1.6246) Grad: 218529.2344  LR: 0.00000198  \n",
      "Epoch: [1][120/366] Elapsed 3m 41s (remain 7m 29s) Loss: 0.2047(1.4484) Grad: 94276.6562  LR: 0.00000197  \n",
      "Epoch: [1][140/366] Elapsed 4m 22s (remain 6m 58s) Loss: 0.1020(1.2813) Grad: 63383.6641  LR: 0.00000195  \n",
      "Epoch: [1][160/366] Elapsed 5m 5s (remain 6m 28s) Loss: 0.3851(1.1472) Grad: 184920.3750  LR: 0.00000194  \n",
      "Epoch: [1][180/366] Elapsed 5m 40s (remain 5m 48s) Loss: 0.1446(1.0373) Grad: 93970.5078  LR: 0.00000193  \n",
      "Epoch: [1][200/366] Elapsed 6m 15s (remain 5m 8s) Loss: 0.0971(0.9480) Grad: 49994.2461  LR: 0.00000191  \n",
      "Epoch: [1][220/366] Elapsed 6m 48s (remain 4m 28s) Loss: 0.1709(0.8750) Grad: 122391.2891  LR: 0.00000189  \n",
      "Epoch: [1][240/366] Elapsed 7m 28s (remain 3m 52s) Loss: 0.1035(0.8129) Grad: 135195.9844  LR: 0.00000187  \n",
      "Epoch: [1][260/366] Elapsed 8m 5s (remain 3m 15s) Loss: 0.1223(0.7623) Grad: 46489.5586  LR: 0.00000185  \n",
      "Epoch: [1][280/366] Elapsed 8m 43s (remain 2m 38s) Loss: 0.1485(0.7184) Grad: 156943.2812  LR: 0.00000182  \n",
      "Epoch: [1][300/366] Elapsed 9m 22s (remain 2m 1s) Loss: 0.1157(0.6801) Grad: 72452.4062  LR: 0.00000180  \n",
      "Epoch: [1][320/366] Elapsed 10m 0s (remain 1m 24s) Loss: 0.1236(0.6463) Grad: 140184.4219  LR: 0.00000177  \n",
      "Epoch: [1][340/366] Elapsed 10m 37s (remain 0m 46s) Loss: 0.1013(0.6158) Grad: 156532.0938  LR: 0.00000174  \n",
      "Epoch: [1][360/366] Elapsed 11m 14s (remain 0m 9s) Loss: 0.0841(0.5881) Grad: 64451.0898  LR: 0.00000172  \n",
      "Epoch: [1][365/366] Elapsed 11m 23s (remain 0m 0s) Loss: 0.2840(0.5819) Grad: 120577.8828  LR: 0.00000171  \n",
      "EVAL: [0/62] Elapsed 0m 2s (remain 2m 25s) Loss: 0.1334(0.1334) \n",
      "EVAL: [20/62] Elapsed 0m 24s (remain 0m 47s) Loss: 0.1020(0.1196) \n",
      "EVAL: [40/62] Elapsed 0m 47s (remain 0m 24s) Loss: 0.1167(0.1212) \n",
      "EVAL: [60/62] Elapsed 1m 9s (remain 0m 1s) Loss: 0.0944(0.1195) \n",
      "EVAL: [61/62] Elapsed 1m 9s (remain 0m 0s) Loss: 0.0562(0.1194) \n"
     ]
    },
    {
     "name": "stderr",
     "output_type": "stream",
     "text": [
      "Epoch 1 - avg_train_loss: 0.5819  avg_val_loss: 0.1194  time: 753s\n",
      "Epoch 1 - Score: 0.4910  Scores: [0.5191993221997714, 0.47231217360849787, 0.4651598097126536, 0.46782415478315637, 0.5258894283625659, 0.49589749370667024]\n",
      "Epoch 1 - Save Best Score: 0.4910 Model\n"
     ]
    },
    {
     "name": "stdout",
     "output_type": "stream",
     "text": [
      "Epoch: [2][0/366] Elapsed 0m 2s (remain 13m 57s) Loss: 0.2020(0.2020) Grad: 277706.3438  LR: 0.00000171  \n",
      "Epoch: [2][20/366] Elapsed 0m 39s (remain 10m 55s) Loss: 0.0818(0.1236) Grad: 213877.1094  LR: 0.00000168  \n",
      "Epoch: [2][40/366] Elapsed 1m 11s (remain 9m 28s) Loss: 0.1487(0.1214) Grad: 323971.5000  LR: 0.00000164  \n",
      "Epoch: [2][60/366] Elapsed 1m 52s (remain 9m 21s) Loss: 0.1297(0.1207) Grad: 364051.9375  LR: 0.00000161  \n",
      "Epoch: [2][80/366] Elapsed 2m 28s (remain 8m 41s) Loss: 0.2114(0.1187) Grad: 627533.1875  LR: 0.00000158  \n",
      "Epoch: [2][100/366] Elapsed 3m 4s (remain 8m 4s) Loss: 0.1672(0.1171) Grad: 477850.3750  LR: 0.00000154  \n",
      "Epoch: [2][120/366] Elapsed 3m 43s (remain 7m 32s) Loss: 0.1218(0.1181) Grad: 250529.3125  LR: 0.00000150  \n",
      "Epoch: [2][140/366] Elapsed 4m 22s (remain 6m 59s) Loss: 0.1185(0.1184) Grad: 93023.6172  LR: 0.00000147  \n",
      "Epoch: [2][160/366] Elapsed 5m 1s (remain 6m 23s) Loss: 0.1397(0.1181) Grad: 234949.0625  LR: 0.00000143  \n",
      "Epoch: [2][180/366] Elapsed 5m 41s (remain 5m 48s) Loss: 0.1063(0.1173) Grad: 128138.9375  LR: 0.00000139  \n",
      "Epoch: [2][200/366] Elapsed 6m 15s (remain 5m 8s) Loss: 0.1036(0.1171) Grad: 150815.8750  LR: 0.00000135  \n",
      "Epoch: [2][220/366] Elapsed 6m 47s (remain 4m 27s) Loss: 0.0843(0.1169) Grad: 210068.5625  LR: 0.00000131  \n",
      "Epoch: [2][240/366] Elapsed 7m 23s (remain 3m 49s) Loss: 0.0585(0.1167) Grad: 91531.4062  LR: 0.00000127  \n",
      "Epoch: [2][260/366] Elapsed 7m 56s (remain 3m 11s) Loss: 0.1796(0.1164) Grad: 576761.4375  LR: 0.00000123  \n",
      "Epoch: [2][280/366] Elapsed 8m 33s (remain 2m 35s) Loss: 0.0912(0.1176) Grad: 197054.2031  LR: 0.00000118  \n",
      "Epoch: [2][300/366] Elapsed 9m 10s (remain 1m 58s) Loss: 0.0668(0.1172) Grad: 164229.5781  LR: 0.00000114  \n",
      "Epoch: [2][320/366] Elapsed 9m 54s (remain 1m 23s) Loss: 0.1345(0.1171) Grad: 351281.5625  LR: 0.00000110  \n",
      "Epoch: [2][340/366] Elapsed 10m 34s (remain 0m 46s) Loss: 0.0995(0.1173) Grad: 173740.7969  LR: 0.00000106  \n",
      "Epoch: [2][360/366] Elapsed 11m 10s (remain 0m 9s) Loss: 0.1333(0.1169) Grad: 188387.7500  LR: 0.00000101  \n",
      "Epoch: [2][365/366] Elapsed 11m 20s (remain 0m 0s) Loss: 0.1254(0.1167) Grad: 311868.9688  LR: 0.00000100  \n",
      "EVAL: [0/62] Elapsed 0m 2s (remain 2m 12s) Loss: 0.1244(0.1244) \n",
      "EVAL: [20/62] Elapsed 0m 23s (remain 0m 46s) Loss: 0.0896(0.1140) \n",
      "EVAL: [40/62] Elapsed 0m 46s (remain 0m 23s) Loss: 0.1111(0.1159) \n",
      "EVAL: [60/62] Elapsed 1m 9s (remain 0m 1s) Loss: 0.0877(0.1140) \n",
      "EVAL: [61/62] Elapsed 1m 9s (remain 0m 0s) Loss: 0.0490(0.1138) \n"
     ]
    },
    {
     "name": "stderr",
     "output_type": "stream",
     "text": [
      "Epoch 2 - avg_train_loss: 0.1167  avg_val_loss: 0.1138  time: 750s\n",
      "Epoch 2 - Score: 0.4790  Scores: [0.5148316604229566, 0.46851708328246355, 0.443210152580716, 0.46311826062791156, 0.510297934114837, 0.47427082583898833]\n",
      "Epoch 2 - Save Best Score: 0.4790 Model\n"
     ]
    },
    {
     "name": "stdout",
     "output_type": "stream",
     "text": [
      "Epoch: [3][0/366] Elapsed 0m 2s (remain 12m 13s) Loss: 0.1472(0.1472) Grad: 883918.0000  LR: 0.00000100  \n",
      "Epoch: [3][20/366] Elapsed 0m 43s (remain 11m 53s) Loss: 0.0672(0.1170) Grad: 136942.0781  LR: 0.00000096  \n",
      "Epoch: [3][40/366] Elapsed 1m 27s (remain 11m 36s) Loss: 0.0905(0.1117) Grad: 133106.8906  LR: 0.00000091  \n",
      "Epoch: [3][60/366] Elapsed 1m 59s (remain 9m 57s) Loss: 0.1902(0.1158) Grad: 212896.7500  LR: 0.00000087  \n",
      "Epoch: [3][80/366] Elapsed 2m 35s (remain 9m 6s) Loss: 0.1151(0.1165) Grad: 117215.6719  LR: 0.00000083  \n",
      "Epoch: [3][100/366] Elapsed 3m 15s (remain 8m 33s) Loss: 0.1514(0.1147) Grad: 104723.4062  LR: 0.00000079  \n",
      "Epoch: [3][120/366] Elapsed 3m 51s (remain 7m 48s) Loss: 0.0896(0.1117) Grad: 174786.0625  LR: 0.00000075  \n",
      "Epoch: [3][140/366] Elapsed 4m 41s (remain 7m 28s) Loss: 0.0742(0.1108) Grad: 157947.6406  LR: 0.00000070  \n",
      "Epoch: [3][160/366] Elapsed 5m 20s (remain 6m 47s) Loss: 0.1062(0.1114) Grad: 224404.1250  LR: 0.00000066  \n",
      "Epoch: [3][180/366] Elapsed 5m 57s (remain 6m 5s) Loss: 0.0744(0.1117) Grad: 150530.0312  LR: 0.00000062  \n",
      "Epoch: [3][200/366] Elapsed 6m 34s (remain 5m 24s) Loss: 0.1491(0.1125) Grad: 385411.5938  LR: 0.00000058  \n",
      "Epoch: [3][220/366] Elapsed 7m 15s (remain 4m 45s) Loss: 0.1128(0.1126) Grad: 154836.0625  LR: 0.00000055  \n",
      "Epoch: [3][240/366] Elapsed 7m 45s (remain 4m 1s) Loss: 0.1077(0.1118) Grad: 223303.4688  LR: 0.00000051  \n",
      "Epoch: [3][260/366] Elapsed 8m 20s (remain 3m 21s) Loss: 0.0781(0.1120) Grad: 328668.0000  LR: 0.00000047  \n",
      "Epoch: [3][280/366] Elapsed 8m 49s (remain 2m 40s) Loss: 0.0792(0.1119) Grad: 111528.2969  LR: 0.00000044  \n",
      "Epoch: [3][300/366] Elapsed 9m 23s (remain 2m 1s) Loss: 0.0919(0.1131) Grad: 447106.4062  LR: 0.00000040  \n",
      "Epoch: [3][320/366] Elapsed 10m 0s (remain 1m 24s) Loss: 0.2017(0.1126) Grad: 342240.9688  LR: 0.00000037  \n",
      "Epoch: [3][340/366] Elapsed 10m 35s (remain 0m 46s) Loss: 0.1881(0.1125) Grad: 450107.5312  LR: 0.00000033  \n",
      "Epoch: [3][360/366] Elapsed 11m 10s (remain 0m 9s) Loss: 0.1118(0.1125) Grad: 176093.3281  LR: 0.00000030  \n",
      "Epoch: [3][365/366] Elapsed 11m 23s (remain 0m 0s) Loss: 0.0926(0.1126) Grad: 107032.7188  LR: 0.00000030  \n",
      "EVAL: [0/62] Elapsed 0m 2s (remain 2m 12s) Loss: 0.1031(0.1031) \n",
      "EVAL: [20/62] Elapsed 0m 23s (remain 0m 46s) Loss: 0.0950(0.1098) \n",
      "EVAL: [40/62] Elapsed 0m 46s (remain 0m 24s) Loss: 0.1136(0.1134) \n",
      "EVAL: [60/62] Elapsed 1m 9s (remain 0m 1s) Loss: 0.0849(0.1125) \n",
      "EVAL: [61/62] Elapsed 1m 9s (remain 0m 0s) Loss: 0.0646(0.1124) \n"
     ]
    },
    {
     "name": "stderr",
     "output_type": "stream",
     "text": [
      "Epoch 3 - avg_train_loss: 0.1126  avg_val_loss: 0.1124  time: 754s\n",
      "Epoch 3 - Score: 0.4758  Scores: [0.5069939670130691, 0.4639398856544539, 0.4366745940348175, 0.46177905113192413, 0.5108536707038592, 0.4743143260093919]\n",
      "Epoch 3 - Save Best Score: 0.4758 Model\n"
     ]
    },
    {
     "name": "stdout",
     "output_type": "stream",
     "text": [
      "Epoch: [4][0/366] Elapsed 0m 1s (remain 12m 6s) Loss: 0.1029(0.1029) Grad: 488576.8125  LR: 0.00000029  \n",
      "Epoch: [4][20/366] Elapsed 0m 40s (remain 11m 8s) Loss: 0.1870(0.1113) Grad: 178556.9219  LR: 0.00000026  \n",
      "Epoch: [4][40/366] Elapsed 1m 15s (remain 9m 57s) Loss: 0.0545(0.1113) Grad: 70623.3828  LR: 0.00000024  \n",
      "Epoch: [4][60/366] Elapsed 1m 53s (remain 9m 26s) Loss: 0.0932(0.1098) Grad: 127307.6250  LR: 0.00000021  \n",
      "Epoch: [4][80/366] Elapsed 2m 30s (remain 8m 49s) Loss: 0.1188(0.1098) Grad: 119827.0078  LR: 0.00000018  \n",
      "Epoch: [4][100/366] Elapsed 3m 3s (remain 8m 1s) Loss: 0.0966(0.1099) Grad: 265806.1562  LR: 0.00000016  \n",
      "Epoch: [4][120/366] Elapsed 3m 38s (remain 7m 22s) Loss: 0.1138(0.1097) Grad: 252493.2188  LR: 0.00000014  \n",
      "Epoch: [4][140/366] Elapsed 4m 11s (remain 6m 41s) Loss: 0.0900(0.1105) Grad: 161573.8594  LR: 0.00000012  \n",
      "Epoch: [4][160/366] Elapsed 4m 52s (remain 6m 12s) Loss: 0.1866(0.1113) Grad: 270773.1875  LR: 0.00000010  \n",
      "Epoch: [4][180/366] Elapsed 5m 34s (remain 5m 41s) Loss: 0.1263(0.1112) Grad: 263447.5625  LR: 0.00000008  \n",
      "Epoch: [4][200/366] Elapsed 6m 7s (remain 5m 1s) Loss: 0.0588(0.1105) Grad: 112654.2891  LR: 0.00000006  \n",
      "Epoch: [4][220/366] Elapsed 6m 44s (remain 4m 25s) Loss: 0.1100(0.1099) Grad: 149093.7656  LR: 0.00000005  \n",
      "Epoch: [4][240/366] Elapsed 7m 22s (remain 3m 49s) Loss: 0.0983(0.1097) Grad: 254995.0625  LR: 0.00000004  \n",
      "Epoch: [4][260/366] Elapsed 7m 54s (remain 3m 11s) Loss: 0.1027(0.1097) Grad: 165508.2812  LR: 0.00000003  \n",
      "Epoch: [4][280/366] Elapsed 8m 39s (remain 2m 37s) Loss: 0.1409(0.1095) Grad: 375431.6875  LR: 0.00000002  \n",
      "Epoch: [4][300/366] Elapsed 9m 17s (remain 2m 0s) Loss: 0.0761(0.1092) Grad: 104603.8672  LR: 0.00000001  \n",
      "Epoch: [4][320/366] Elapsed 9m 47s (remain 1m 22s) Loss: 0.0983(0.1092) Grad: 210082.3125  LR: 0.00000001  \n",
      "Epoch: [4][340/366] Elapsed 10m 25s (remain 0m 45s) Loss: 0.1154(0.1089) Grad: 107811.6641  LR: 0.00000000  \n",
      "Epoch: [4][360/366] Elapsed 11m 2s (remain 0m 9s) Loss: 0.1256(0.1095) Grad: 232894.9844  LR: 0.00000000  \n",
      "Epoch: [4][365/366] Elapsed 11m 14s (remain 0m 0s) Loss: 0.0993(0.1096) Grad: 129221.2656  LR: 0.00000000  \n",
      "EVAL: [0/62] Elapsed 0m 2s (remain 2m 12s) Loss: 0.1095(0.1095) \n",
      "EVAL: [20/62] Elapsed 0m 23s (remain 0m 46s) Loss: 0.0890(0.1092) \n",
      "EVAL: [40/62] Elapsed 0m 46s (remain 0m 23s) Loss: 0.1099(0.1119) \n",
      "EVAL: [60/62] Elapsed 1m 9s (remain 0m 1s) Loss: 0.0827(0.1104) \n",
      "EVAL: [61/62] Elapsed 1m 9s (remain 0m 0s) Loss: 0.0555(0.1103) \n"
     ]
    },
    {
     "name": "stderr",
     "output_type": "stream",
     "text": [
      "Epoch 4 - avg_train_loss: 0.1096  avg_val_loss: 0.1103  time: 744s\n",
      "Epoch 4 - Score: 0.4713  Scores: [0.5033316747245699, 0.46088991035205407, 0.4346185744772727, 0.4584999701648458, 0.5026815720471564, 0.46754424998073413]\n",
      "Epoch 4 - Save Best Score: 0.4713 Model\n",
      "========== fold: 3 result ==========\n",
      "Score: 0.4713  Scores: [0.5033316747245699, 0.46088991035205407, 0.4346185744772727, 0.4584999701648458, 0.5026815720471564, 0.46754424998073413]\n",
      "========== CV ==========\n",
      "Score: 0.4760  Scores: [0.5068180199938503, 0.4636329339892587, 0.4379829149039594, 0.4710154633066133, 0.5030135779766984, 0.4735711673244099]\n"
     ]
    },
    {
     "data": {
      "text/html": [
       "Waiting for W&B process to finish... <strong style=\"color:green\">(success).</strong>"
      ],
      "text/plain": [
       "<IPython.core.display.HTML object>"
      ]
     },
     "metadata": {},
     "output_type": "display_data"
    },
    {
     "data": {
      "application/vnd.jupyter.widget-view+json": {
       "model_id": "6feedecf8b0548a49b2766abf9eac9db",
       "version_major": 2,
       "version_minor": 0
      },
      "text/plain": [
       "VBox(children=(Label(value='0.000 MB of 0.000 MB uploaded (0.000 MB deduped)\\r'), FloatProgress(value=1.0, max…"
      ]
     },
     "metadata": {},
     "output_type": "display_data"
    },
    {
     "data": {
      "text/html": [
       "<style>\n",
       "    table.wandb td:nth-child(1) { padding: 0 10px; text-align: left ; width: auto;} td:nth-child(2) {text-align: left ; width: 100%}\n",
       "    .wandb-row { display: flex; flex-direction: row; flex-wrap: wrap; justify-content: flex-start; width: 100% }\n",
       "    .wandb-col { display: flex; flex-direction: column; flex-basis: 100%; flex: 1; padding: 10px; }\n",
       "    </style>\n",
       "<div class=\"wandb-row\"><div class=\"wandb-col\"><h3>Run history:</h3><br/><table class=\"wandb\"><tr><td>[fold0] avg_train_loss</td><td>█▁▁▁</td></tr><tr><td>[fold0] avg_val_loss</td><td>█▃▁▁</td></tr><tr><td>[fold0] epoch</td><td>▁▃▆█</td></tr><tr><td>[fold0] loss</td><td>█▅▄▂▁▁▁▁▁▁▁▁▁▁▁▁▁▁▁▁▁▁▁▁▁▁▁▁▁▁▁▁▁▁▁▁▁▁▁▁</td></tr><tr><td>[fold0] lr</td><td>███████▇▇▇▇▇▇▆▆▆▆▅▅▅▄▄▄▄▃▃▃▃▂▂▂▂▂▁▁▁▁▁▁▁</td></tr><tr><td>[fold0] score</td><td>█▃▂▁</td></tr><tr><td>[fold1] avg_train_loss</td><td>█▁▁▁</td></tr><tr><td>[fold1] avg_val_loss</td><td>█▃▂▁</td></tr><tr><td>[fold1] epoch</td><td>▁▃▆█</td></tr><tr><td>[fold1] loss</td><td>█▇▅▂▁▁▁▁▁▁▁▁▁▁▁▁▁▁▁▁▁▁▁▁▁▁▁▁▁▁▁▁▁▁▁▁▁▁▁▁</td></tr><tr><td>[fold1] lr</td><td>███████▇▇▇▇▇▇▆▆▆▆▅▅▅▄▄▄▄▃▃▃▃▂▂▂▂▂▁▁▁▁▁▁▁</td></tr><tr><td>[fold1] score</td><td>█▃▂▁</td></tr><tr><td>[fold2] avg_train_loss</td><td>█▁▁▁</td></tr><tr><td>[fold2] avg_val_loss</td><td>█▂▁▁</td></tr><tr><td>[fold2] epoch</td><td>▁▃▆█</td></tr><tr><td>[fold2] loss</td><td>█▇▅▄▂▁▁▁▁▁▁▁▁▁▁▁▁▁▁▁▁▁▁▁▁▁▁▁▁▁▁▁▁▁▁▁▁▁▁▁</td></tr><tr><td>[fold2] lr</td><td>███████▇▇▇▇▇▇▆▆▆▆▅▅▅▄▄▄▄▃▃▃▃▂▂▂▂▂▁▁▁▁▁▁▁</td></tr><tr><td>[fold2] score</td><td>█▃▁▁</td></tr><tr><td>[fold3] avg_train_loss</td><td>█▁▁▁</td></tr><tr><td>[fold3] avg_val_loss</td><td>█▄▃▁</td></tr><tr><td>[fold3] epoch</td><td>▁▃▆█</td></tr><tr><td>[fold3] loss</td><td>█▅▄▃▁▁▁▁▁▁▁▁▁▁▁▁▁▁▁▁▁▁▁▁▁▁▁▁▁▁▁▁▁▁▁▁▁▁▁▁</td></tr><tr><td>[fold3] lr</td><td>███████▇▇▇▇▇▇▆▆▆▆▅▅▅▄▄▄▄▃▃▃▃▂▂▂▂▂▁▁▁▁▁▁▁</td></tr><tr><td>[fold3] score</td><td>█▄▃▁</td></tr></table><br/></div><div class=\"wandb-col\"><h3>Run summary:</h3><br/><table class=\"wandb\"><tr><td>[fold0] avg_train_loss</td><td>0.11034</td></tr><tr><td>[fold0] avg_val_loss</td><td>0.10995</td></tr><tr><td>[fold0] epoch</td><td>4</td></tr><tr><td>[fold0] loss</td><td>0.10744</td></tr><tr><td>[fold0] lr</td><td>0.0</td></tr><tr><td>[fold0] score</td><td>0.4698</td></tr><tr><td>[fold1] avg_train_loss</td><td>0.10746</td></tr><tr><td>[fold1] avg_val_loss</td><td>0.11419</td></tr><tr><td>[fold1] epoch</td><td>4</td></tr><tr><td>[fold1] loss</td><td>0.0664</td></tr><tr><td>[fold1] lr</td><td>0.0</td></tr><tr><td>[fold1] score</td><td>0.47912</td></tr><tr><td>[fold2] avg_train_loss</td><td>0.11131</td></tr><tr><td>[fold2] avg_val_loss</td><td>0.11623</td></tr><tr><td>[fold2] epoch</td><td>4</td></tr><tr><td>[fold2] loss</td><td>0.19728</td></tr><tr><td>[fold2] lr</td><td>0.0</td></tr><tr><td>[fold2] score</td><td>0.48364</td></tr><tr><td>[fold3] avg_train_loss</td><td>0.1096</td></tr><tr><td>[fold3] avg_val_loss</td><td>0.1103</td></tr><tr><td>[fold3] epoch</td><td>4</td></tr><tr><td>[fold3] loss</td><td>0.09935</td></tr><tr><td>[fold3] lr</td><td>0.0</td></tr><tr><td>[fold3] score</td><td>0.47126</td></tr></table><br/></div></div>"
      ],
      "text/plain": [
       "<IPython.core.display.HTML object>"
      ]
     },
     "metadata": {},
     "output_type": "display_data"
    },
    {
     "data": {
      "text/html": [
       "Synced <strong style=\"color:#cdcd00\">microsoft/deberta-v3-base</strong>: <a href=\"https://wandb.ai/anony-mouse-444869/FB3-Public/runs/2kfcbpi4?apiKey=f166cae253d77c5d2d38bd1131172f8e32c99f8e\" target=\"_blank\">https://wandb.ai/anony-mouse-444869/FB3-Public/runs/2kfcbpi4?apiKey=f166cae253d77c5d2d38bd1131172f8e32c99f8e</a><br/>Synced 6 W&B file(s), 0 media file(s), 0 artifact file(s) and 0 other file(s)"
      ],
      "text/plain": [
       "<IPython.core.display.HTML object>"
      ]
     },
     "metadata": {},
     "output_type": "display_data"
    },
    {
     "data": {
      "text/html": [
       "Find logs at: <code>./wandb/run-20221119_081654-2kfcbpi4/logs</code>"
      ],
      "text/plain": [
       "<IPython.core.display.HTML object>"
      ]
     },
     "metadata": {},
     "output_type": "display_data"
    }
   ],
   "source": [
    "if __name__ == '__main__':\n",
    "    \n",
    "    def get_result(oof_df):\n",
    "        labels = oof_df[CFG.target_cols].values\n",
    "        preds = oof_df[[f\"pred_{c}\" for c in CFG.target_cols]].values\n",
    "        score, scores = get_score(labels, preds)\n",
    "        LOGGER.info(f'Score: {score:<.4f}  Scores: {scores}')\n",
    "    \n",
    "    if CFG.train:\n",
    "        oof_df = pd.DataFrame()\n",
    "        for fold in range(CFG.n_fold):\n",
    "            if fold in CFG.trn_fold:\n",
    "                _oof_df = train_loop(train, fold)\n",
    "                oof_df = pd.concat([oof_df, _oof_df])\n",
    "                LOGGER.info(f\"========== fold: {fold} result ==========\")\n",
    "                get_result(_oof_df)\n",
    "        oof_df = oof_df.reset_index(drop=True)\n",
    "        LOGGER.info(f\"========== CV ==========\")\n",
    "        get_result(oof_df)\n",
    "        oof_df.to_pickle(OUTPUT_DIR+'oof_df.pkl')\n",
    "        \n",
    "    if CFG.wandb:\n",
    "        wandb.finish()"
   ]
  }
 ],
 "metadata": {
  "kernelspec": {
   "display_name": "Python 3",
   "language": "python",
   "name": "python3"
  },
  "language_info": {
   "codemirror_mode": {
    "name": "ipython",
    "version": 3
   },
   "file_extension": ".py",
   "mimetype": "text/x-python",
   "name": "python",
   "nbconvert_exporter": "python",
   "pygments_lexer": "ipython3",
   "version": "3.7.12"
  },
  "papermill": {
   "default_parameters": {},
   "duration": 12093.489628,
   "end_time": "2022-11-19T11:38:16.724441",
   "environment_variables": {},
   "exception": null,
   "input_path": "__notebook__.ipynb",
   "output_path": "__notebook__.ipynb",
   "parameters": {},
   "start_time": "2022-11-19T08:16:43.234813",
   "version": "2.3.4"
  },
  "widgets": {
   "application/vnd.jupyter.widget-state+json": {
    "state": {
     "048750f3cc034720a2275e6725a37740": {
      "model_module": "@jupyter-widgets/controls",
      "model_module_version": "1.5.0",
      "model_name": "HTMLModel",
      "state": {
       "_dom_classes": [],
       "_model_module": "@jupyter-widgets/controls",
       "_model_module_version": "1.5.0",
       "_model_name": "HTMLModel",
       "_view_count": null,
       "_view_module": "@jupyter-widgets/controls",
       "_view_module_version": "1.5.0",
       "_view_name": "HTMLView",
       "description": "",
       "description_tooltip": null,
       "layout": "IPY_MODEL_5eafc5a616c341539a2076e9bf4f3f23",
       "placeholder": "​",
       "style": "IPY_MODEL_f13c85d2ab834350be369962be827417",
       "value": "Downloading config.json: 100%"
      }
     },
     "09bae3a36d2a40baaa5d9e9025da0793": {
      "model_module": "@jupyter-widgets/base",
      "model_module_version": "1.2.0",
      "model_name": "LayoutModel",
      "state": {
       "_model_module": "@jupyter-widgets/base",
       "_model_module_version": "1.2.0",
       "_model_name": "LayoutModel",
       "_view_count": null,
       "_view_module": "@jupyter-widgets/base",
       "_view_module_version": "1.2.0",
       "_view_name": "LayoutView",
       "align_content": null,
       "align_items": null,
       "align_self": null,
       "border": null,
       "bottom": null,
       "display": null,
       "flex": null,
       "flex_flow": null,
       "grid_area": null,
       "grid_auto_columns": null,
       "grid_auto_flow": null,
       "grid_auto_rows": null,
       "grid_column": null,
       "grid_gap": null,
       "grid_row": null,
       "grid_template_areas": null,
       "grid_template_columns": null,
       "grid_template_rows": null,
       "height": null,
       "justify_content": null,
       "justify_items": null,
       "left": null,
       "margin": null,
       "max_height": null,
       "max_width": null,
       "min_height": null,
       "min_width": null,
       "object_fit": null,
       "object_position": null,
       "order": null,
       "overflow": null,
       "overflow_x": null,
       "overflow_y": null,
       "padding": null,
       "right": null,
       "top": null,
       "visibility": null,
       "width": null
      }
     },
     "171a3e30ccca4090b34a2dbc27830ff5": {
      "model_module": "@jupyter-widgets/base",
      "model_module_version": "1.2.0",
      "model_name": "LayoutModel",
      "state": {
       "_model_module": "@jupyter-widgets/base",
       "_model_module_version": "1.2.0",
       "_model_name": "LayoutModel",
       "_view_count": null,
       "_view_module": "@jupyter-widgets/base",
       "_view_module_version": "1.2.0",
       "_view_name": "LayoutView",
       "align_content": null,
       "align_items": null,
       "align_self": null,
       "border": null,
       "bottom": null,
       "display": null,
       "flex": null,
       "flex_flow": null,
       "grid_area": null,
       "grid_auto_columns": null,
       "grid_auto_flow": null,
       "grid_auto_rows": null,
       "grid_column": null,
       "grid_gap": null,
       "grid_row": null,
       "grid_template_areas": null,
       "grid_template_columns": null,
       "grid_template_rows": null,
       "height": null,
       "justify_content": null,
       "justify_items": null,
       "left": null,
       "margin": null,
       "max_height": null,
       "max_width": null,
       "min_height": null,
       "min_width": null,
       "object_fit": null,
       "object_position": null,
       "order": null,
       "overflow": null,
       "overflow_x": null,
       "overflow_y": null,
       "padding": null,
       "right": null,
       "top": null,
       "visibility": null,
       "width": null
      }
     },
     "17dfcf9016754c9aa2f91d1b465c254e": {
      "model_module": "@jupyter-widgets/controls",
      "model_module_version": "1.5.0",
      "model_name": "DescriptionStyleModel",
      "state": {
       "_model_module": "@jupyter-widgets/controls",
       "_model_module_version": "1.5.0",
       "_model_name": "DescriptionStyleModel",
       "_view_count": null,
       "_view_module": "@jupyter-widgets/base",
       "_view_module_version": "1.2.0",
       "_view_name": "StyleView",
       "description_width": ""
      }
     },
     "1ba1bc089fed45df8f48edc9a096341d": {
      "model_module": "@jupyter-widgets/base",
      "model_module_version": "1.2.0",
      "model_name": "LayoutModel",
      "state": {
       "_model_module": "@jupyter-widgets/base",
       "_model_module_version": "1.2.0",
       "_model_name": "LayoutModel",
       "_view_count": null,
       "_view_module": "@jupyter-widgets/base",
       "_view_module_version": "1.2.0",
       "_view_name": "LayoutView",
       "align_content": null,
       "align_items": null,
       "align_self": null,
       "border": null,
       "bottom": null,
       "display": null,
       "flex": null,
       "flex_flow": null,
       "grid_area": null,
       "grid_auto_columns": null,
       "grid_auto_flow": null,
       "grid_auto_rows": null,
       "grid_column": null,
       "grid_gap": null,
       "grid_row": null,
       "grid_template_areas": null,
       "grid_template_columns": null,
       "grid_template_rows": null,
       "height": null,
       "justify_content": null,
       "justify_items": null,
       "left": null,
       "margin": null,
       "max_height": null,
       "max_width": null,
       "min_height": null,
       "min_width": null,
       "object_fit": null,
       "object_position": null,
       "order": null,
       "overflow": null,
       "overflow_x": null,
       "overflow_y": null,
       "padding": null,
       "right": null,
       "top": null,
       "visibility": null,
       "width": null
      }
     },
     "1bad2a84676e47179c029c184a8859ca": {
      "model_module": "@jupyter-widgets/base",
      "model_module_version": "1.2.0",
      "model_name": "LayoutModel",
      "state": {
       "_model_module": "@jupyter-widgets/base",
       "_model_module_version": "1.2.0",
       "_model_name": "LayoutModel",
       "_view_count": null,
       "_view_module": "@jupyter-widgets/base",
       "_view_module_version": "1.2.0",
       "_view_name": "LayoutView",
       "align_content": null,
       "align_items": null,
       "align_self": null,
       "border": null,
       "bottom": null,
       "display": null,
       "flex": null,
       "flex_flow": null,
       "grid_area": null,
       "grid_auto_columns": null,
       "grid_auto_flow": null,
       "grid_auto_rows": null,
       "grid_column": null,
       "grid_gap": null,
       "grid_row": null,
       "grid_template_areas": null,
       "grid_template_columns": null,
       "grid_template_rows": null,
       "height": null,
       "justify_content": null,
       "justify_items": null,
       "left": null,
       "margin": null,
       "max_height": null,
       "max_width": null,
       "min_height": null,
       "min_width": null,
       "object_fit": null,
       "object_position": null,
       "order": null,
       "overflow": null,
       "overflow_x": null,
       "overflow_y": null,
       "padding": null,
       "right": null,
       "top": null,
       "visibility": null,
       "width": null
      }
     },
     "1e4f6e08a47b4519a64431984134d3d1": {
      "model_module": "@jupyter-widgets/controls",
      "model_module_version": "1.5.0",
      "model_name": "DescriptionStyleModel",
      "state": {
       "_model_module": "@jupyter-widgets/controls",
       "_model_module_version": "1.5.0",
       "_model_name": "DescriptionStyleModel",
       "_view_count": null,
       "_view_module": "@jupyter-widgets/base",
       "_view_module_version": "1.2.0",
       "_view_name": "StyleView",
       "description_width": ""
      }
     },
     "1f02d437a3d04fb3adb2942d7cacf9d1": {
      "model_module": "@jupyter-widgets/controls",
      "model_module_version": "1.5.0",
      "model_name": "FloatProgressModel",
      "state": {
       "_dom_classes": [],
       "_model_module": "@jupyter-widgets/controls",
       "_model_module_version": "1.5.0",
       "_model_name": "FloatProgressModel",
       "_view_count": null,
       "_view_module": "@jupyter-widgets/controls",
       "_view_module_version": "1.5.0",
       "_view_name": "ProgressView",
       "bar_style": "success",
       "description": "",
       "description_tooltip": null,
       "layout": "IPY_MODEL_7f94027a870a433a8221c611d1225077",
       "max": 371146213.0,
       "min": 0.0,
       "orientation": "horizontal",
       "style": "IPY_MODEL_c09ca17077f84e4a8e52cad05697cac9",
       "value": 371146213.0
      }
     },
     "1fc0414080974469892619723c8e3f22": {
      "model_module": "@jupyter-widgets/base",
      "model_module_version": "1.2.0",
      "model_name": "LayoutModel",
      "state": {
       "_model_module": "@jupyter-widgets/base",
       "_model_module_version": "1.2.0",
       "_model_name": "LayoutModel",
       "_view_count": null,
       "_view_module": "@jupyter-widgets/base",
       "_view_module_version": "1.2.0",
       "_view_name": "LayoutView",
       "align_content": null,
       "align_items": null,
       "align_self": null,
       "border": null,
       "bottom": null,
       "display": null,
       "flex": null,
       "flex_flow": null,
       "grid_area": null,
       "grid_auto_columns": null,
       "grid_auto_flow": null,
       "grid_auto_rows": null,
       "grid_column": null,
       "grid_gap": null,
       "grid_row": null,
       "grid_template_areas": null,
       "grid_template_columns": null,
       "grid_template_rows": null,
       "height": null,
       "justify_content": null,
       "justify_items": null,
       "left": null,
       "margin": null,
       "max_height": null,
       "max_width": null,
       "min_height": null,
       "min_width": null,
       "object_fit": null,
       "object_position": null,
       "order": null,
       "overflow": null,
       "overflow_x": null,
       "overflow_y": null,
       "padding": null,
       "right": null,
       "top": null,
       "visibility": null,
       "width": null
      }
     },
     "23ef1d44efc3417ebd79f2b9c2084405": {
      "model_module": "@jupyter-widgets/controls",
      "model_module_version": "1.5.0",
      "model_name": "ProgressStyleModel",
      "state": {
       "_model_module": "@jupyter-widgets/controls",
       "_model_module_version": "1.5.0",
       "_model_name": "ProgressStyleModel",
       "_view_count": null,
       "_view_module": "@jupyter-widgets/base",
       "_view_module_version": "1.2.0",
       "_view_name": "StyleView",
       "bar_color": null,
       "description_width": ""
      }
     },
     "257df184e3ed4bc6a8acea089a0ec03c": {
      "model_module": "@jupyter-widgets/controls",
      "model_module_version": "1.5.0",
      "model_name": "ProgressStyleModel",
      "state": {
       "_model_module": "@jupyter-widgets/controls",
       "_model_module_version": "1.5.0",
       "_model_name": "ProgressStyleModel",
       "_view_count": null,
       "_view_module": "@jupyter-widgets/base",
       "_view_module_version": "1.2.0",
       "_view_name": "StyleView",
       "bar_color": null,
       "description_width": ""
      }
     },
     "2730873e5106473583fee5098708b498": {
      "model_module": "@jupyter-widgets/base",
      "model_module_version": "1.2.0",
      "model_name": "LayoutModel",
      "state": {
       "_model_module": "@jupyter-widgets/base",
       "_model_module_version": "1.2.0",
       "_model_name": "LayoutModel",
       "_view_count": null,
       "_view_module": "@jupyter-widgets/base",
       "_view_module_version": "1.2.0",
       "_view_name": "LayoutView",
       "align_content": null,
       "align_items": null,
       "align_self": null,
       "border": null,
       "bottom": null,
       "display": null,
       "flex": null,
       "flex_flow": null,
       "grid_area": null,
       "grid_auto_columns": null,
       "grid_auto_flow": null,
       "grid_auto_rows": null,
       "grid_column": null,
       "grid_gap": null,
       "grid_row": null,
       "grid_template_areas": null,
       "grid_template_columns": null,
       "grid_template_rows": null,
       "height": null,
       "justify_content": null,
       "justify_items": null,
       "left": null,
       "margin": null,
       "max_height": null,
       "max_width": null,
       "min_height": null,
       "min_width": null,
       "object_fit": null,
       "object_position": null,
       "order": null,
       "overflow": null,
       "overflow_x": null,
       "overflow_y": null,
       "padding": null,
       "right": null,
       "top": null,
       "visibility": null,
       "width": null
      }
     },
     "2c78b29cd95946c0bf7b134d345df5d5": {
      "model_module": "@jupyter-widgets/controls",
      "model_module_version": "1.5.0",
      "model_name": "DescriptionStyleModel",
      "state": {
       "_model_module": "@jupyter-widgets/controls",
       "_model_module_version": "1.5.0",
       "_model_name": "DescriptionStyleModel",
       "_view_count": null,
       "_view_module": "@jupyter-widgets/base",
       "_view_module_version": "1.2.0",
       "_view_name": "StyleView",
       "description_width": ""
      }
     },
     "3212069a314646acb759c78b0158ba37": {
      "model_module": "@jupyter-widgets/controls",
      "model_module_version": "1.5.0",
      "model_name": "DescriptionStyleModel",
      "state": {
       "_model_module": "@jupyter-widgets/controls",
       "_model_module_version": "1.5.0",
       "_model_name": "DescriptionStyleModel",
       "_view_count": null,
       "_view_module": "@jupyter-widgets/base",
       "_view_module_version": "1.2.0",
       "_view_name": "StyleView",
       "description_width": ""
      }
     },
     "36973a933f5b47258038cba9e03e4308": {
      "model_module": "@jupyter-widgets/controls",
      "model_module_version": "1.5.0",
      "model_name": "HTMLModel",
      "state": {
       "_dom_classes": [],
       "_model_module": "@jupyter-widgets/controls",
       "_model_module_version": "1.5.0",
       "_model_name": "HTMLModel",
       "_view_count": null,
       "_view_module": "@jupyter-widgets/controls",
       "_view_module_version": "1.5.0",
       "_view_name": "HTMLView",
       "description": "",
       "description_tooltip": null,
       "layout": "IPY_MODEL_1fc0414080974469892619723c8e3f22",
       "placeholder": "​",
       "style": "IPY_MODEL_f56f304fc0ce4721a30f293a350ff6c8",
       "value": "Downloading tokenizer_config.json: 100%"
      }
     },
     "387d82b7a03e4d8facb16aa8221ba669": {
      "model_module": "@jupyter-widgets/base",
      "model_module_version": "1.2.0",
      "model_name": "LayoutModel",
      "state": {
       "_model_module": "@jupyter-widgets/base",
       "_model_module_version": "1.2.0",
       "_model_name": "LayoutModel",
       "_view_count": null,
       "_view_module": "@jupyter-widgets/base",
       "_view_module_version": "1.2.0",
       "_view_name": "LayoutView",
       "align_content": null,
       "align_items": null,
       "align_self": null,
       "border": null,
       "bottom": null,
       "display": null,
       "flex": null,
       "flex_flow": null,
       "grid_area": null,
       "grid_auto_columns": null,
       "grid_auto_flow": null,
       "grid_auto_rows": null,
       "grid_column": null,
       "grid_gap": null,
       "grid_row": null,
       "grid_template_areas": null,
       "grid_template_columns": null,
       "grid_template_rows": null,
       "height": null,
       "justify_content": null,
       "justify_items": null,
       "left": null,
       "margin": null,
       "max_height": null,
       "max_width": null,
       "min_height": null,
       "min_width": null,
       "object_fit": null,
       "object_position": null,
       "order": null,
       "overflow": null,
       "overflow_x": null,
       "overflow_y": null,
       "padding": null,
       "right": null,
       "top": null,
       "visibility": null,
       "width": null
      }
     },
     "3d7f10ddae7747f4ae40d7355cd4cfb0": {
      "model_module": "@jupyter-widgets/base",
      "model_module_version": "1.2.0",
      "model_name": "LayoutModel",
      "state": {
       "_model_module": "@jupyter-widgets/base",
       "_model_module_version": "1.2.0",
       "_model_name": "LayoutModel",
       "_view_count": null,
       "_view_module": "@jupyter-widgets/base",
       "_view_module_version": "1.2.0",
       "_view_name": "LayoutView",
       "align_content": null,
       "align_items": null,
       "align_self": null,
       "border": null,
       "bottom": null,
       "display": null,
       "flex": null,
       "flex_flow": null,
       "grid_area": null,
       "grid_auto_columns": null,
       "grid_auto_flow": null,
       "grid_auto_rows": null,
       "grid_column": null,
       "grid_gap": null,
       "grid_row": null,
       "grid_template_areas": null,
       "grid_template_columns": null,
       "grid_template_rows": null,
       "height": null,
       "justify_content": null,
       "justify_items": null,
       "left": null,
       "margin": null,
       "max_height": null,
       "max_width": null,
       "min_height": null,
       "min_width": null,
       "object_fit": null,
       "object_position": null,
       "order": null,
       "overflow": null,
       "overflow_x": null,
       "overflow_y": null,
       "padding": null,
       "right": null,
       "top": null,
       "visibility": null,
       "width": null
      }
     },
     "40d7beaabeed42aaaca1c55b75481b33": {
      "model_module": "@jupyter-widgets/controls",
      "model_module_version": "1.5.0",
      "model_name": "HBoxModel",
      "state": {
       "_dom_classes": [],
       "_model_module": "@jupyter-widgets/controls",
       "_model_module_version": "1.5.0",
       "_model_name": "HBoxModel",
       "_view_count": null,
       "_view_module": "@jupyter-widgets/controls",
       "_view_module_version": "1.5.0",
       "_view_name": "HBoxView",
       "box_style": "",
       "children": [
        "IPY_MODEL_90aa0d8d3dd147339233cee7e239705e",
        "IPY_MODEL_ff7d14bca2c04347bb853f453a272cdc",
        "IPY_MODEL_5f0d22660d1943fd9cc2bb6b19183ca8"
       ],
       "layout": "IPY_MODEL_8aa993ee8b5d410ab56b9d53be4afa75"
      }
     },
     "41f9f119a49a430f85e6c4c7c3ddbcaa": {
      "model_module": "@jupyter-widgets/base",
      "model_module_version": "1.2.0",
      "model_name": "LayoutModel",
      "state": {
       "_model_module": "@jupyter-widgets/base",
       "_model_module_version": "1.2.0",
       "_model_name": "LayoutModel",
       "_view_count": null,
       "_view_module": "@jupyter-widgets/base",
       "_view_module_version": "1.2.0",
       "_view_name": "LayoutView",
       "align_content": null,
       "align_items": null,
       "align_self": null,
       "border": null,
       "bottom": null,
       "display": null,
       "flex": null,
       "flex_flow": null,
       "grid_area": null,
       "grid_auto_columns": null,
       "grid_auto_flow": null,
       "grid_auto_rows": null,
       "grid_column": null,
       "grid_gap": null,
       "grid_row": null,
       "grid_template_areas": null,
       "grid_template_columns": null,
       "grid_template_rows": null,
       "height": null,
       "justify_content": null,
       "justify_items": null,
       "left": null,
       "margin": null,
       "max_height": null,
       "max_width": null,
       "min_height": null,
       "min_width": null,
       "object_fit": null,
       "object_position": null,
       "order": null,
       "overflow": null,
       "overflow_x": null,
       "overflow_y": null,
       "padding": null,
       "right": null,
       "top": null,
       "visibility": null,
       "width": null
      }
     },
     "42308b3b49a8446cb023be612510f431": {
      "model_module": "@jupyter-widgets/controls",
      "model_module_version": "1.5.0",
      "model_name": "DescriptionStyleModel",
      "state": {
       "_model_module": "@jupyter-widgets/controls",
       "_model_module_version": "1.5.0",
       "_model_name": "DescriptionStyleModel",
       "_view_count": null,
       "_view_module": "@jupyter-widgets/base",
       "_view_module_version": "1.2.0",
       "_view_name": "StyleView",
       "description_width": ""
      }
     },
     "4a9a6f9f26ec488e91d6556e93dc9c83": {
      "model_module": "@jupyter-widgets/base",
      "model_module_version": "1.2.0",
      "model_name": "LayoutModel",
      "state": {
       "_model_module": "@jupyter-widgets/base",
       "_model_module_version": "1.2.0",
       "_model_name": "LayoutModel",
       "_view_count": null,
       "_view_module": "@jupyter-widgets/base",
       "_view_module_version": "1.2.0",
       "_view_name": "LayoutView",
       "align_content": null,
       "align_items": null,
       "align_self": null,
       "border": null,
       "bottom": null,
       "display": null,
       "flex": null,
       "flex_flow": null,
       "grid_area": null,
       "grid_auto_columns": null,
       "grid_auto_flow": null,
       "grid_auto_rows": null,
       "grid_column": null,
       "grid_gap": null,
       "grid_row": null,
       "grid_template_areas": null,
       "grid_template_columns": null,
       "grid_template_rows": null,
       "height": null,
       "justify_content": null,
       "justify_items": null,
       "left": null,
       "margin": null,
       "max_height": null,
       "max_width": null,
       "min_height": null,
       "min_width": null,
       "object_fit": null,
       "object_position": null,
       "order": null,
       "overflow": null,
       "overflow_x": null,
       "overflow_y": null,
       "padding": null,
       "right": null,
       "top": null,
       "visibility": null,
       "width": null
      }
     },
     "55936d9035d745f0b26b40c2ad1cea36": {
      "model_module": "@jupyter-widgets/controls",
      "model_module_version": "1.5.0",
      "model_name": "LabelModel",
      "state": {
       "_dom_classes": [],
       "_model_module": "@jupyter-widgets/controls",
       "_model_module_version": "1.5.0",
       "_model_name": "LabelModel",
       "_view_count": null,
       "_view_module": "@jupyter-widgets/controls",
       "_view_module_version": "1.5.0",
       "_view_name": "LabelView",
       "description": "",
       "description_tooltip": null,
       "layout": "IPY_MODEL_171a3e30ccca4090b34a2dbc27830ff5",
       "placeholder": "​",
       "style": "IPY_MODEL_1e4f6e08a47b4519a64431984134d3d1",
       "value": "0.097 MB of 0.097 MB uploaded (0.000 MB deduped)\r"
      }
     },
     "5eafc5a616c341539a2076e9bf4f3f23": {
      "model_module": "@jupyter-widgets/base",
      "model_module_version": "1.2.0",
      "model_name": "LayoutModel",
      "state": {
       "_model_module": "@jupyter-widgets/base",
       "_model_module_version": "1.2.0",
       "_model_name": "LayoutModel",
       "_view_count": null,
       "_view_module": "@jupyter-widgets/base",
       "_view_module_version": "1.2.0",
       "_view_name": "LayoutView",
       "align_content": null,
       "align_items": null,
       "align_self": null,
       "border": null,
       "bottom": null,
       "display": null,
       "flex": null,
       "flex_flow": null,
       "grid_area": null,
       "grid_auto_columns": null,
       "grid_auto_flow": null,
       "grid_auto_rows": null,
       "grid_column": null,
       "grid_gap": null,
       "grid_row": null,
       "grid_template_areas": null,
       "grid_template_columns": null,
       "grid_template_rows": null,
       "height": null,
       "justify_content": null,
       "justify_items": null,
       "left": null,
       "margin": null,
       "max_height": null,
       "max_width": null,
       "min_height": null,
       "min_width": null,
       "object_fit": null,
       "object_position": null,
       "order": null,
       "overflow": null,
       "overflow_x": null,
       "overflow_y": null,
       "padding": null,
       "right": null,
       "top": null,
       "visibility": null,
       "width": null
      }
     },
     "5ed9957b0ead46109735cf1d85c1c7c7": {
      "model_module": "@jupyter-widgets/controls",
      "model_module_version": "1.5.0",
      "model_name": "HTMLModel",
      "state": {
       "_dom_classes": [],
       "_model_module": "@jupyter-widgets/controls",
       "_model_module_version": "1.5.0",
       "_model_name": "HTMLModel",
       "_view_count": null,
       "_view_module": "@jupyter-widgets/controls",
       "_view_module_version": "1.5.0",
       "_view_name": "HTMLView",
       "description": "",
       "description_tooltip": null,
       "layout": "IPY_MODEL_e65f571d7c014ae2bd8886313cffb5fe",
       "placeholder": "​",
       "style": "IPY_MODEL_d190fe3d25f9497a9d9f0a03e0a9050b",
       "value": " 52.0/52.0 [00:00&lt;00:00, 1.88kB/s]"
      }
     },
     "5f0d22660d1943fd9cc2bb6b19183ca8": {
      "model_module": "@jupyter-widgets/controls",
      "model_module_version": "1.5.0",
      "model_name": "HTMLModel",
      "state": {
       "_dom_classes": [],
       "_model_module": "@jupyter-widgets/controls",
       "_model_module_version": "1.5.0",
       "_model_name": "HTMLModel",
       "_view_count": null,
       "_view_module": "@jupyter-widgets/controls",
       "_view_module_version": "1.5.0",
       "_view_name": "HTMLView",
       "description": "",
       "description_tooltip": null,
       "layout": "IPY_MODEL_2730873e5106473583fee5098708b498",
       "placeholder": "​",
       "style": "IPY_MODEL_3212069a314646acb759c78b0158ba37",
       "value": " 2.35M/2.35M [00:01&lt;00:00, 3.42MB/s]"
      }
     },
     "6067cad8f52d45aeb1a3f2754c684fa0": {
      "model_module": "@jupyter-widgets/controls",
      "model_module_version": "1.5.0",
      "model_name": "HBoxModel",
      "state": {
       "_dom_classes": [],
       "_model_module": "@jupyter-widgets/controls",
       "_model_module_version": "1.5.0",
       "_model_name": "HBoxModel",
       "_view_count": null,
       "_view_module": "@jupyter-widgets/controls",
       "_view_module_version": "1.5.0",
       "_view_name": "HBoxView",
       "box_style": "",
       "children": [
        "IPY_MODEL_a1c31544a4bf4920ab6e6d91a7da58c1",
        "IPY_MODEL_b28884d97c99403eb07349940fed43ea",
        "IPY_MODEL_e785dfcecfac4db6afc0456bcc2b5690"
       ],
       "layout": "IPY_MODEL_e361a5c0d74c49f086e507d239761d22"
      }
     },
     "676eef33ebf74907b809ad91ac286ba5": {
      "model_module": "@jupyter-widgets/controls",
      "model_module_version": "1.5.0",
      "model_name": "HTMLModel",
      "state": {
       "_dom_classes": [],
       "_model_module": "@jupyter-widgets/controls",
       "_model_module_version": "1.5.0",
       "_model_name": "HTMLModel",
       "_view_count": null,
       "_view_module": "@jupyter-widgets/controls",
       "_view_module_version": "1.5.0",
       "_view_name": "HTMLView",
       "description": "",
       "description_tooltip": null,
       "layout": "IPY_MODEL_a301339c41394805aa237d2c71623a78",
       "placeholder": "​",
       "style": "IPY_MODEL_42308b3b49a8446cb023be612510f431",
       "value": " 354M/354M [00:34&lt;00:00, 11.6MB/s]"
      }
     },
     "67cd823eecd741e1a1dc45c53ce866b7": {
      "model_module": "@jupyter-widgets/controls",
      "model_module_version": "1.5.0",
      "model_name": "DescriptionStyleModel",
      "state": {
       "_model_module": "@jupyter-widgets/controls",
       "_model_module_version": "1.5.0",
       "_model_name": "DescriptionStyleModel",
       "_view_count": null,
       "_view_module": "@jupyter-widgets/base",
       "_view_module_version": "1.2.0",
       "_view_name": "StyleView",
       "description_width": ""
      }
     },
     "694d4ca44c1443ccafdc6e7c7b1a0c70": {
      "model_module": "@jupyter-widgets/controls",
      "model_module_version": "1.5.0",
      "model_name": "FloatProgressModel",
      "state": {
       "_dom_classes": [],
       "_model_module": "@jupyter-widgets/controls",
       "_model_module_version": "1.5.0",
       "_model_name": "FloatProgressModel",
       "_view_count": null,
       "_view_module": "@jupyter-widgets/controls",
       "_view_module_version": "1.5.0",
       "_view_name": "ProgressView",
       "bar_style": "",
       "description": "",
       "description_tooltip": null,
       "layout": "IPY_MODEL_4a9a6f9f26ec488e91d6556e93dc9c83",
       "max": 1.0,
       "min": 0.0,
       "orientation": "horizontal",
       "style": "IPY_MODEL_8605be170dd947aaabd6bdc0c7fa3032",
       "value": 1.0
      }
     },
     "6ee1112b8e754c7599c02f9e1148227c": {
      "model_module": "@jupyter-widgets/base",
      "model_module_version": "1.2.0",
      "model_name": "LayoutModel",
      "state": {
       "_model_module": "@jupyter-widgets/base",
       "_model_module_version": "1.2.0",
       "_model_name": "LayoutModel",
       "_view_count": null,
       "_view_module": "@jupyter-widgets/base",
       "_view_module_version": "1.2.0",
       "_view_name": "LayoutView",
       "align_content": null,
       "align_items": null,
       "align_self": null,
       "border": null,
       "bottom": null,
       "display": null,
       "flex": null,
       "flex_flow": null,
       "grid_area": null,
       "grid_auto_columns": null,
       "grid_auto_flow": null,
       "grid_auto_rows": null,
       "grid_column": null,
       "grid_gap": null,
       "grid_row": null,
       "grid_template_areas": null,
       "grid_template_columns": null,
       "grid_template_rows": null,
       "height": null,
       "justify_content": null,
       "justify_items": null,
       "left": null,
       "margin": null,
       "max_height": null,
       "max_width": null,
       "min_height": null,
       "min_width": null,
       "object_fit": null,
       "object_position": null,
       "order": null,
       "overflow": null,
       "overflow_x": null,
       "overflow_y": null,
       "padding": null,
       "right": null,
       "top": null,
       "visibility": null,
       "width": null
      }
     },
     "6feedecf8b0548a49b2766abf9eac9db": {
      "model_module": "@jupyter-widgets/controls",
      "model_module_version": "1.5.0",
      "model_name": "VBoxModel",
      "state": {
       "_dom_classes": [],
       "_model_module": "@jupyter-widgets/controls",
       "_model_module_version": "1.5.0",
       "_model_name": "VBoxModel",
       "_view_count": null,
       "_view_module": "@jupyter-widgets/controls",
       "_view_module_version": "1.5.0",
       "_view_name": "VBoxView",
       "box_style": "",
       "children": [
        "IPY_MODEL_55936d9035d745f0b26b40c2ad1cea36",
        "IPY_MODEL_694d4ca44c1443ccafdc6e7c7b1a0c70"
       ],
       "layout": "IPY_MODEL_41f9f119a49a430f85e6c4c7c3ddbcaa"
      }
     },
     "72d15e89f6d34e59bb041d08453bbb18": {
      "model_module": "@jupyter-widgets/controls",
      "model_module_version": "1.5.0",
      "model_name": "HTMLModel",
      "state": {
       "_dom_classes": [],
       "_model_module": "@jupyter-widgets/controls",
       "_model_module_version": "1.5.0",
       "_model_name": "HTMLModel",
       "_view_count": null,
       "_view_module": "@jupyter-widgets/controls",
       "_view_module_version": "1.5.0",
       "_view_name": "HTMLView",
       "description": "",
       "description_tooltip": null,
       "layout": "IPY_MODEL_387d82b7a03e4d8facb16aa8221ba669",
       "placeholder": "​",
       "style": "IPY_MODEL_67cd823eecd741e1a1dc45c53ce866b7",
       "value": "Downloading pytorch_model.bin: 100%"
      }
     },
     "791ad79fe4e0410f8ecf1b33d777eec4": {
      "model_module": "@jupyter-widgets/base",
      "model_module_version": "1.2.0",
      "model_name": "LayoutModel",
      "state": {
       "_model_module": "@jupyter-widgets/base",
       "_model_module_version": "1.2.0",
       "_model_name": "LayoutModel",
       "_view_count": null,
       "_view_module": "@jupyter-widgets/base",
       "_view_module_version": "1.2.0",
       "_view_name": "LayoutView",
       "align_content": null,
       "align_items": null,
       "align_self": null,
       "border": null,
       "bottom": null,
       "display": null,
       "flex": null,
       "flex_flow": null,
       "grid_area": null,
       "grid_auto_columns": null,
       "grid_auto_flow": null,
       "grid_auto_rows": null,
       "grid_column": null,
       "grid_gap": null,
       "grid_row": null,
       "grid_template_areas": null,
       "grid_template_columns": null,
       "grid_template_rows": null,
       "height": null,
       "justify_content": null,
       "justify_items": null,
       "left": null,
       "margin": null,
       "max_height": null,
       "max_width": null,
       "min_height": null,
       "min_width": null,
       "object_fit": null,
       "object_position": null,
       "order": null,
       "overflow": null,
       "overflow_x": null,
       "overflow_y": null,
       "padding": null,
       "right": null,
       "top": null,
       "visibility": null,
       "width": null
      }
     },
     "7f94027a870a433a8221c611d1225077": {
      "model_module": "@jupyter-widgets/base",
      "model_module_version": "1.2.0",
      "model_name": "LayoutModel",
      "state": {
       "_model_module": "@jupyter-widgets/base",
       "_model_module_version": "1.2.0",
       "_model_name": "LayoutModel",
       "_view_count": null,
       "_view_module": "@jupyter-widgets/base",
       "_view_module_version": "1.2.0",
       "_view_name": "LayoutView",
       "align_content": null,
       "align_items": null,
       "align_self": null,
       "border": null,
       "bottom": null,
       "display": null,
       "flex": null,
       "flex_flow": null,
       "grid_area": null,
       "grid_auto_columns": null,
       "grid_auto_flow": null,
       "grid_auto_rows": null,
       "grid_column": null,
       "grid_gap": null,
       "grid_row": null,
       "grid_template_areas": null,
       "grid_template_columns": null,
       "grid_template_rows": null,
       "height": null,
       "justify_content": null,
       "justify_items": null,
       "left": null,
       "margin": null,
       "max_height": null,
       "max_width": null,
       "min_height": null,
       "min_width": null,
       "object_fit": null,
       "object_position": null,
       "order": null,
       "overflow": null,
       "overflow_x": null,
       "overflow_y": null,
       "padding": null,
       "right": null,
       "top": null,
       "visibility": null,
       "width": null
      }
     },
     "8464f910afc545c1b952d57113a40d70": {
      "model_module": "@jupyter-widgets/controls",
      "model_module_version": "1.5.0",
      "model_name": "HBoxModel",
      "state": {
       "_dom_classes": [],
       "_model_module": "@jupyter-widgets/controls",
       "_model_module_version": "1.5.0",
       "_model_name": "HBoxModel",
       "_view_count": null,
       "_view_module": "@jupyter-widgets/controls",
       "_view_module_version": "1.5.0",
       "_view_name": "HBoxView",
       "box_style": "",
       "children": [
        "IPY_MODEL_72d15e89f6d34e59bb041d08453bbb18",
        "IPY_MODEL_1f02d437a3d04fb3adb2942d7cacf9d1",
        "IPY_MODEL_676eef33ebf74907b809ad91ac286ba5"
       ],
       "layout": "IPY_MODEL_1bad2a84676e47179c029c184a8859ca"
      }
     },
     "8605be170dd947aaabd6bdc0c7fa3032": {
      "model_module": "@jupyter-widgets/controls",
      "model_module_version": "1.5.0",
      "model_name": "ProgressStyleModel",
      "state": {
       "_model_module": "@jupyter-widgets/controls",
       "_model_module_version": "1.5.0",
       "_model_name": "ProgressStyleModel",
       "_view_count": null,
       "_view_module": "@jupyter-widgets/base",
       "_view_module_version": "1.2.0",
       "_view_name": "StyleView",
       "bar_color": null,
       "description_width": ""
      }
     },
     "883dbbd4de91499fb20eb82b1f63eed9": {
      "model_module": "@jupyter-widgets/controls",
      "model_module_version": "1.5.0",
      "model_name": "FloatProgressModel",
      "state": {
       "_dom_classes": [],
       "_model_module": "@jupyter-widgets/controls",
       "_model_module_version": "1.5.0",
       "_model_name": "FloatProgressModel",
       "_view_count": null,
       "_view_module": "@jupyter-widgets/controls",
       "_view_module_version": "1.5.0",
       "_view_name": "ProgressView",
       "bar_style": "success",
       "description": "",
       "description_tooltip": null,
       "layout": "IPY_MODEL_3d7f10ddae7747f4ae40d7355cd4cfb0",
       "max": 579.0,
       "min": 0.0,
       "orientation": "horizontal",
       "style": "IPY_MODEL_257df184e3ed4bc6a8acea089a0ec03c",
       "value": 579.0
      }
     },
     "8aa993ee8b5d410ab56b9d53be4afa75": {
      "model_module": "@jupyter-widgets/base",
      "model_module_version": "1.2.0",
      "model_name": "LayoutModel",
      "state": {
       "_model_module": "@jupyter-widgets/base",
       "_model_module_version": "1.2.0",
       "_model_name": "LayoutModel",
       "_view_count": null,
       "_view_module": "@jupyter-widgets/base",
       "_view_module_version": "1.2.0",
       "_view_name": "LayoutView",
       "align_content": null,
       "align_items": null,
       "align_self": null,
       "border": null,
       "bottom": null,
       "display": null,
       "flex": null,
       "flex_flow": null,
       "grid_area": null,
       "grid_auto_columns": null,
       "grid_auto_flow": null,
       "grid_auto_rows": null,
       "grid_column": null,
       "grid_gap": null,
       "grid_row": null,
       "grid_template_areas": null,
       "grid_template_columns": null,
       "grid_template_rows": null,
       "height": null,
       "justify_content": null,
       "justify_items": null,
       "left": null,
       "margin": null,
       "max_height": null,
       "max_width": null,
       "min_height": null,
       "min_width": null,
       "object_fit": null,
       "object_position": null,
       "order": null,
       "overflow": null,
       "overflow_x": null,
       "overflow_y": null,
       "padding": null,
       "right": null,
       "top": null,
       "visibility": null,
       "width": null
      }
     },
     "8fc1014d0d4e44c2b8d49a568145b80c": {
      "model_module": "@jupyter-widgets/base",
      "model_module_version": "1.2.0",
      "model_name": "LayoutModel",
      "state": {
       "_model_module": "@jupyter-widgets/base",
       "_model_module_version": "1.2.0",
       "_model_name": "LayoutModel",
       "_view_count": null,
       "_view_module": "@jupyter-widgets/base",
       "_view_module_version": "1.2.0",
       "_view_name": "LayoutView",
       "align_content": null,
       "align_items": null,
       "align_self": null,
       "border": null,
       "bottom": null,
       "display": null,
       "flex": null,
       "flex_flow": null,
       "grid_area": null,
       "grid_auto_columns": null,
       "grid_auto_flow": null,
       "grid_auto_rows": null,
       "grid_column": null,
       "grid_gap": null,
       "grid_row": null,
       "grid_template_areas": null,
       "grid_template_columns": null,
       "grid_template_rows": null,
       "height": null,
       "justify_content": null,
       "justify_items": null,
       "left": null,
       "margin": null,
       "max_height": null,
       "max_width": null,
       "min_height": null,
       "min_width": null,
       "object_fit": null,
       "object_position": null,
       "order": null,
       "overflow": null,
       "overflow_x": null,
       "overflow_y": null,
       "padding": null,
       "right": null,
       "top": null,
       "visibility": null,
       "width": null
      }
     },
     "90aa0d8d3dd147339233cee7e239705e": {
      "model_module": "@jupyter-widgets/controls",
      "model_module_version": "1.5.0",
      "model_name": "HTMLModel",
      "state": {
       "_dom_classes": [],
       "_model_module": "@jupyter-widgets/controls",
       "_model_module_version": "1.5.0",
       "_model_name": "HTMLModel",
       "_view_count": null,
       "_view_module": "@jupyter-widgets/controls",
       "_view_module_version": "1.5.0",
       "_view_name": "HTMLView",
       "description": "",
       "description_tooltip": null,
       "layout": "IPY_MODEL_90f44d0b157346748a32f073631f2d96",
       "placeholder": "​",
       "style": "IPY_MODEL_93bd33f2243541be818992f7f1245ab7",
       "value": "Downloading spm.model: 100%"
      }
     },
     "90f44d0b157346748a32f073631f2d96": {
      "model_module": "@jupyter-widgets/base",
      "model_module_version": "1.2.0",
      "model_name": "LayoutModel",
      "state": {
       "_model_module": "@jupyter-widgets/base",
       "_model_module_version": "1.2.0",
       "_model_name": "LayoutModel",
       "_view_count": null,
       "_view_module": "@jupyter-widgets/base",
       "_view_module_version": "1.2.0",
       "_view_name": "LayoutView",
       "align_content": null,
       "align_items": null,
       "align_self": null,
       "border": null,
       "bottom": null,
       "display": null,
       "flex": null,
       "flex_flow": null,
       "grid_area": null,
       "grid_auto_columns": null,
       "grid_auto_flow": null,
       "grid_auto_rows": null,
       "grid_column": null,
       "grid_gap": null,
       "grid_row": null,
       "grid_template_areas": null,
       "grid_template_columns": null,
       "grid_template_rows": null,
       "height": null,
       "justify_content": null,
       "justify_items": null,
       "left": null,
       "margin": null,
       "max_height": null,
       "max_width": null,
       "min_height": null,
       "min_width": null,
       "object_fit": null,
       "object_position": null,
       "order": null,
       "overflow": null,
       "overflow_x": null,
       "overflow_y": null,
       "padding": null,
       "right": null,
       "top": null,
       "visibility": null,
       "width": null
      }
     },
     "93bd33f2243541be818992f7f1245ab7": {
      "model_module": "@jupyter-widgets/controls",
      "model_module_version": "1.5.0",
      "model_name": "DescriptionStyleModel",
      "state": {
       "_model_module": "@jupyter-widgets/controls",
       "_model_module_version": "1.5.0",
       "_model_name": "DescriptionStyleModel",
       "_view_count": null,
       "_view_module": "@jupyter-widgets/base",
       "_view_module_version": "1.2.0",
       "_view_name": "StyleView",
       "description_width": ""
      }
     },
     "995093f75691482aa8b88241aff25411": {
      "model_module": "@jupyter-widgets/controls",
      "model_module_version": "1.5.0",
      "model_name": "HTMLModel",
      "state": {
       "_dom_classes": [],
       "_model_module": "@jupyter-widgets/controls",
       "_model_module_version": "1.5.0",
       "_model_name": "HTMLModel",
       "_view_count": null,
       "_view_module": "@jupyter-widgets/controls",
       "_view_module_version": "1.5.0",
       "_view_name": "HTMLView",
       "description": "",
       "description_tooltip": null,
       "layout": "IPY_MODEL_bfc0734e5e824318bc7d20a28edd34ae",
       "placeholder": "​",
       "style": "IPY_MODEL_f3836336b43a4078ab1fcaa21c245720",
       "value": " 579/579 [00:00&lt;00:00, 19.0kB/s]"
      }
     },
     "a1c31544a4bf4920ab6e6d91a7da58c1": {
      "model_module": "@jupyter-widgets/controls",
      "model_module_version": "1.5.0",
      "model_name": "HTMLModel",
      "state": {
       "_dom_classes": [],
       "_model_module": "@jupyter-widgets/controls",
       "_model_module_version": "1.5.0",
       "_model_name": "HTMLModel",
       "_view_count": null,
       "_view_module": "@jupyter-widgets/controls",
       "_view_module_version": "1.5.0",
       "_view_name": "HTMLView",
       "description": "",
       "description_tooltip": null,
       "layout": "IPY_MODEL_1ba1bc089fed45df8f48edc9a096341d",
       "placeholder": "​",
       "style": "IPY_MODEL_2c78b29cd95946c0bf7b134d345df5d5",
       "value": "100%"
      }
     },
     "a301339c41394805aa237d2c71623a78": {
      "model_module": "@jupyter-widgets/base",
      "model_module_version": "1.2.0",
      "model_name": "LayoutModel",
      "state": {
       "_model_module": "@jupyter-widgets/base",
       "_model_module_version": "1.2.0",
       "_model_name": "LayoutModel",
       "_view_count": null,
       "_view_module": "@jupyter-widgets/base",
       "_view_module_version": "1.2.0",
       "_view_name": "LayoutView",
       "align_content": null,
       "align_items": null,
       "align_self": null,
       "border": null,
       "bottom": null,
       "display": null,
       "flex": null,
       "flex_flow": null,
       "grid_area": null,
       "grid_auto_columns": null,
       "grid_auto_flow": null,
       "grid_auto_rows": null,
       "grid_column": null,
       "grid_gap": null,
       "grid_row": null,
       "grid_template_areas": null,
       "grid_template_columns": null,
       "grid_template_rows": null,
       "height": null,
       "justify_content": null,
       "justify_items": null,
       "left": null,
       "margin": null,
       "max_height": null,
       "max_width": null,
       "min_height": null,
       "min_width": null,
       "object_fit": null,
       "object_position": null,
       "order": null,
       "overflow": null,
       "overflow_x": null,
       "overflow_y": null,
       "padding": null,
       "right": null,
       "top": null,
       "visibility": null,
       "width": null
      }
     },
     "b28884d97c99403eb07349940fed43ea": {
      "model_module": "@jupyter-widgets/controls",
      "model_module_version": "1.5.0",
      "model_name": "FloatProgressModel",
      "state": {
       "_dom_classes": [],
       "_model_module": "@jupyter-widgets/controls",
       "_model_module_version": "1.5.0",
       "_model_name": "FloatProgressModel",
       "_view_count": null,
       "_view_module": "@jupyter-widgets/controls",
       "_view_module_version": "1.5.0",
       "_view_name": "ProgressView",
       "bar_style": "success",
       "description": "",
       "description_tooltip": null,
       "layout": "IPY_MODEL_8fc1014d0d4e44c2b8d49a568145b80c",
       "max": 3911.0,
       "min": 0.0,
       "orientation": "horizontal",
       "style": "IPY_MODEL_23ef1d44efc3417ebd79f2b9c2084405",
       "value": 3911.0
      }
     },
     "b4f3a1d4c30948fabd998e2f90c8e032": {
      "model_module": "@jupyter-widgets/base",
      "model_module_version": "1.2.0",
      "model_name": "LayoutModel",
      "state": {
       "_model_module": "@jupyter-widgets/base",
       "_model_module_version": "1.2.0",
       "_model_name": "LayoutModel",
       "_view_count": null,
       "_view_module": "@jupyter-widgets/base",
       "_view_module_version": "1.2.0",
       "_view_name": "LayoutView",
       "align_content": null,
       "align_items": null,
       "align_self": null,
       "border": null,
       "bottom": null,
       "display": null,
       "flex": null,
       "flex_flow": null,
       "grid_area": null,
       "grid_auto_columns": null,
       "grid_auto_flow": null,
       "grid_auto_rows": null,
       "grid_column": null,
       "grid_gap": null,
       "grid_row": null,
       "grid_template_areas": null,
       "grid_template_columns": null,
       "grid_template_rows": null,
       "height": null,
       "justify_content": null,
       "justify_items": null,
       "left": null,
       "margin": null,
       "max_height": null,
       "max_width": null,
       "min_height": null,
       "min_width": null,
       "object_fit": null,
       "object_position": null,
       "order": null,
       "overflow": null,
       "overflow_x": null,
       "overflow_y": null,
       "padding": null,
       "right": null,
       "top": null,
       "visibility": null,
       "width": null
      }
     },
     "b67dacb8f51d443f8bcd9fb5a0d40f66": {
      "model_module": "@jupyter-widgets/controls",
      "model_module_version": "1.5.0",
      "model_name": "HBoxModel",
      "state": {
       "_dom_classes": [],
       "_model_module": "@jupyter-widgets/controls",
       "_model_module_version": "1.5.0",
       "_model_name": "HBoxModel",
       "_view_count": null,
       "_view_module": "@jupyter-widgets/controls",
       "_view_module_version": "1.5.0",
       "_view_name": "HBoxView",
       "box_style": "",
       "children": [
        "IPY_MODEL_048750f3cc034720a2275e6725a37740",
        "IPY_MODEL_883dbbd4de91499fb20eb82b1f63eed9",
        "IPY_MODEL_995093f75691482aa8b88241aff25411"
       ],
       "layout": "IPY_MODEL_b4f3a1d4c30948fabd998e2f90c8e032"
      }
     },
     "bfc0734e5e824318bc7d20a28edd34ae": {
      "model_module": "@jupyter-widgets/base",
      "model_module_version": "1.2.0",
      "model_name": "LayoutModel",
      "state": {
       "_model_module": "@jupyter-widgets/base",
       "_model_module_version": "1.2.0",
       "_model_name": "LayoutModel",
       "_view_count": null,
       "_view_module": "@jupyter-widgets/base",
       "_view_module_version": "1.2.0",
       "_view_name": "LayoutView",
       "align_content": null,
       "align_items": null,
       "align_self": null,
       "border": null,
       "bottom": null,
       "display": null,
       "flex": null,
       "flex_flow": null,
       "grid_area": null,
       "grid_auto_columns": null,
       "grid_auto_flow": null,
       "grid_auto_rows": null,
       "grid_column": null,
       "grid_gap": null,
       "grid_row": null,
       "grid_template_areas": null,
       "grid_template_columns": null,
       "grid_template_rows": null,
       "height": null,
       "justify_content": null,
       "justify_items": null,
       "left": null,
       "margin": null,
       "max_height": null,
       "max_width": null,
       "min_height": null,
       "min_width": null,
       "object_fit": null,
       "object_position": null,
       "order": null,
       "overflow": null,
       "overflow_x": null,
       "overflow_y": null,
       "padding": null,
       "right": null,
       "top": null,
       "visibility": null,
       "width": null
      }
     },
     "c09ca17077f84e4a8e52cad05697cac9": {
      "model_module": "@jupyter-widgets/controls",
      "model_module_version": "1.5.0",
      "model_name": "ProgressStyleModel",
      "state": {
       "_model_module": "@jupyter-widgets/controls",
       "_model_module_version": "1.5.0",
       "_model_name": "ProgressStyleModel",
       "_view_count": null,
       "_view_module": "@jupyter-widgets/base",
       "_view_module_version": "1.2.0",
       "_view_name": "StyleView",
       "bar_color": null,
       "description_width": ""
      }
     },
     "c3c507c487aa425798b7898f98d4b5b2": {
      "model_module": "@jupyter-widgets/controls",
      "model_module_version": "1.5.0",
      "model_name": "ProgressStyleModel",
      "state": {
       "_model_module": "@jupyter-widgets/controls",
       "_model_module_version": "1.5.0",
       "_model_name": "ProgressStyleModel",
       "_view_count": null,
       "_view_module": "@jupyter-widgets/base",
       "_view_module_version": "1.2.0",
       "_view_name": "StyleView",
       "bar_color": null,
       "description_width": ""
      }
     },
     "c8e1c6f2efac444588f1afb9209f40a6": {
      "model_module": "@jupyter-widgets/controls",
      "model_module_version": "1.5.0",
      "model_name": "FloatProgressModel",
      "state": {
       "_dom_classes": [],
       "_model_module": "@jupyter-widgets/controls",
       "_model_module_version": "1.5.0",
       "_model_name": "FloatProgressModel",
       "_view_count": null,
       "_view_module": "@jupyter-widgets/controls",
       "_view_module_version": "1.5.0",
       "_view_name": "ProgressView",
       "bar_style": "success",
       "description": "",
       "description_tooltip": null,
       "layout": "IPY_MODEL_da32f7282c634cc8aad35a1740ffdc62",
       "max": 52.0,
       "min": 0.0,
       "orientation": "horizontal",
       "style": "IPY_MODEL_e05f9fb1852d451ea13a9272997810a9",
       "value": 52.0
      }
     },
     "d190fe3d25f9497a9d9f0a03e0a9050b": {
      "model_module": "@jupyter-widgets/controls",
      "model_module_version": "1.5.0",
      "model_name": "DescriptionStyleModel",
      "state": {
       "_model_module": "@jupyter-widgets/controls",
       "_model_module_version": "1.5.0",
       "_model_name": "DescriptionStyleModel",
       "_view_count": null,
       "_view_module": "@jupyter-widgets/base",
       "_view_module_version": "1.2.0",
       "_view_name": "StyleView",
       "description_width": ""
      }
     },
     "da32f7282c634cc8aad35a1740ffdc62": {
      "model_module": "@jupyter-widgets/base",
      "model_module_version": "1.2.0",
      "model_name": "LayoutModel",
      "state": {
       "_model_module": "@jupyter-widgets/base",
       "_model_module_version": "1.2.0",
       "_model_name": "LayoutModel",
       "_view_count": null,
       "_view_module": "@jupyter-widgets/base",
       "_view_module_version": "1.2.0",
       "_view_name": "LayoutView",
       "align_content": null,
       "align_items": null,
       "align_self": null,
       "border": null,
       "bottom": null,
       "display": null,
       "flex": null,
       "flex_flow": null,
       "grid_area": null,
       "grid_auto_columns": null,
       "grid_auto_flow": null,
       "grid_auto_rows": null,
       "grid_column": null,
       "grid_gap": null,
       "grid_row": null,
       "grid_template_areas": null,
       "grid_template_columns": null,
       "grid_template_rows": null,
       "height": null,
       "justify_content": null,
       "justify_items": null,
       "left": null,
       "margin": null,
       "max_height": null,
       "max_width": null,
       "min_height": null,
       "min_width": null,
       "object_fit": null,
       "object_position": null,
       "order": null,
       "overflow": null,
       "overflow_x": null,
       "overflow_y": null,
       "padding": null,
       "right": null,
       "top": null,
       "visibility": null,
       "width": null
      }
     },
     "e05f9fb1852d451ea13a9272997810a9": {
      "model_module": "@jupyter-widgets/controls",
      "model_module_version": "1.5.0",
      "model_name": "ProgressStyleModel",
      "state": {
       "_model_module": "@jupyter-widgets/controls",
       "_model_module_version": "1.5.0",
       "_model_name": "ProgressStyleModel",
       "_view_count": null,
       "_view_module": "@jupyter-widgets/base",
       "_view_module_version": "1.2.0",
       "_view_name": "StyleView",
       "bar_color": null,
       "description_width": ""
      }
     },
     "e361a5c0d74c49f086e507d239761d22": {
      "model_module": "@jupyter-widgets/base",
      "model_module_version": "1.2.0",
      "model_name": "LayoutModel",
      "state": {
       "_model_module": "@jupyter-widgets/base",
       "_model_module_version": "1.2.0",
       "_model_name": "LayoutModel",
       "_view_count": null,
       "_view_module": "@jupyter-widgets/base",
       "_view_module_version": "1.2.0",
       "_view_name": "LayoutView",
       "align_content": null,
       "align_items": null,
       "align_self": null,
       "border": null,
       "bottom": null,
       "display": null,
       "flex": null,
       "flex_flow": null,
       "grid_area": null,
       "grid_auto_columns": null,
       "grid_auto_flow": null,
       "grid_auto_rows": null,
       "grid_column": null,
       "grid_gap": null,
       "grid_row": null,
       "grid_template_areas": null,
       "grid_template_columns": null,
       "grid_template_rows": null,
       "height": null,
       "justify_content": null,
       "justify_items": null,
       "left": null,
       "margin": null,
       "max_height": null,
       "max_width": null,
       "min_height": null,
       "min_width": null,
       "object_fit": null,
       "object_position": null,
       "order": null,
       "overflow": null,
       "overflow_x": null,
       "overflow_y": null,
       "padding": null,
       "right": null,
       "top": null,
       "visibility": null,
       "width": null
      }
     },
     "e65f571d7c014ae2bd8886313cffb5fe": {
      "model_module": "@jupyter-widgets/base",
      "model_module_version": "1.2.0",
      "model_name": "LayoutModel",
      "state": {
       "_model_module": "@jupyter-widgets/base",
       "_model_module_version": "1.2.0",
       "_model_name": "LayoutModel",
       "_view_count": null,
       "_view_module": "@jupyter-widgets/base",
       "_view_module_version": "1.2.0",
       "_view_name": "LayoutView",
       "align_content": null,
       "align_items": null,
       "align_self": null,
       "border": null,
       "bottom": null,
       "display": null,
       "flex": null,
       "flex_flow": null,
       "grid_area": null,
       "grid_auto_columns": null,
       "grid_auto_flow": null,
       "grid_auto_rows": null,
       "grid_column": null,
       "grid_gap": null,
       "grid_row": null,
       "grid_template_areas": null,
       "grid_template_columns": null,
       "grid_template_rows": null,
       "height": null,
       "justify_content": null,
       "justify_items": null,
       "left": null,
       "margin": null,
       "max_height": null,
       "max_width": null,
       "min_height": null,
       "min_width": null,
       "object_fit": null,
       "object_position": null,
       "order": null,
       "overflow": null,
       "overflow_x": null,
       "overflow_y": null,
       "padding": null,
       "right": null,
       "top": null,
       "visibility": null,
       "width": null
      }
     },
     "e785dfcecfac4db6afc0456bcc2b5690": {
      "model_module": "@jupyter-widgets/controls",
      "model_module_version": "1.5.0",
      "model_name": "HTMLModel",
      "state": {
       "_dom_classes": [],
       "_model_module": "@jupyter-widgets/controls",
       "_model_module_version": "1.5.0",
       "_model_name": "HTMLModel",
       "_view_count": null,
       "_view_module": "@jupyter-widgets/controls",
       "_view_module_version": "1.5.0",
       "_view_name": "HTMLView",
       "description": "",
       "description_tooltip": null,
       "layout": "IPY_MODEL_09bae3a36d2a40baaa5d9e9025da0793",
       "placeholder": "​",
       "style": "IPY_MODEL_17dfcf9016754c9aa2f91d1b465c254e",
       "value": " 3911/3911 [00:05&lt;00:00, 729.47it/s]"
      }
     },
     "ef8992439c854685a70d4cd533f58208": {
      "model_module": "@jupyter-widgets/controls",
      "model_module_version": "1.5.0",
      "model_name": "HBoxModel",
      "state": {
       "_dom_classes": [],
       "_model_module": "@jupyter-widgets/controls",
       "_model_module_version": "1.5.0",
       "_model_name": "HBoxModel",
       "_view_count": null,
       "_view_module": "@jupyter-widgets/controls",
       "_view_module_version": "1.5.0",
       "_view_name": "HBoxView",
       "box_style": "",
       "children": [
        "IPY_MODEL_36973a933f5b47258038cba9e03e4308",
        "IPY_MODEL_c8e1c6f2efac444588f1afb9209f40a6",
        "IPY_MODEL_5ed9957b0ead46109735cf1d85c1c7c7"
       ],
       "layout": "IPY_MODEL_791ad79fe4e0410f8ecf1b33d777eec4"
      }
     },
     "f13c85d2ab834350be369962be827417": {
      "model_module": "@jupyter-widgets/controls",
      "model_module_version": "1.5.0",
      "model_name": "DescriptionStyleModel",
      "state": {
       "_model_module": "@jupyter-widgets/controls",
       "_model_module_version": "1.5.0",
       "_model_name": "DescriptionStyleModel",
       "_view_count": null,
       "_view_module": "@jupyter-widgets/base",
       "_view_module_version": "1.2.0",
       "_view_name": "StyleView",
       "description_width": ""
      }
     },
     "f3836336b43a4078ab1fcaa21c245720": {
      "model_module": "@jupyter-widgets/controls",
      "model_module_version": "1.5.0",
      "model_name": "DescriptionStyleModel",
      "state": {
       "_model_module": "@jupyter-widgets/controls",
       "_model_module_version": "1.5.0",
       "_model_name": "DescriptionStyleModel",
       "_view_count": null,
       "_view_module": "@jupyter-widgets/base",
       "_view_module_version": "1.2.0",
       "_view_name": "StyleView",
       "description_width": ""
      }
     },
     "f56f304fc0ce4721a30f293a350ff6c8": {
      "model_module": "@jupyter-widgets/controls",
      "model_module_version": "1.5.0",
      "model_name": "DescriptionStyleModel",
      "state": {
       "_model_module": "@jupyter-widgets/controls",
       "_model_module_version": "1.5.0",
       "_model_name": "DescriptionStyleModel",
       "_view_count": null,
       "_view_module": "@jupyter-widgets/base",
       "_view_module_version": "1.2.0",
       "_view_name": "StyleView",
       "description_width": ""
      }
     },
     "ff7d14bca2c04347bb853f453a272cdc": {
      "model_module": "@jupyter-widgets/controls",
      "model_module_version": "1.5.0",
      "model_name": "FloatProgressModel",
      "state": {
       "_dom_classes": [],
       "_model_module": "@jupyter-widgets/controls",
       "_model_module_version": "1.5.0",
       "_model_name": "FloatProgressModel",
       "_view_count": null,
       "_view_module": "@jupyter-widgets/controls",
       "_view_module_version": "1.5.0",
       "_view_name": "ProgressView",
       "bar_style": "success",
       "description": "",
       "description_tooltip": null,
       "layout": "IPY_MODEL_6ee1112b8e754c7599c02f9e1148227c",
       "max": 2464616.0,
       "min": 0.0,
       "orientation": "horizontal",
       "style": "IPY_MODEL_c3c507c487aa425798b7898f98d4b5b2",
       "value": 2464616.0
      }
     }
    },
    "version_major": 2,
    "version_minor": 0
   }
  }
 },
 "nbformat": 4,
 "nbformat_minor": 5
}
