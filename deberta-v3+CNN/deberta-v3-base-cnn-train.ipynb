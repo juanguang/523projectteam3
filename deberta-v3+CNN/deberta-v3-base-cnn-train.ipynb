{
 "cells": [
  {
   "cell_type": "markdown",
   "id": "d7d225ad",
   "metadata": {
    "papermill": {
     "duration": 0.007084,
     "end_time": "2022-11-20T07:47:03.309748",
     "exception": false,
     "start_time": "2022-11-20T07:47:03.302664",
     "status": "completed"
    },
    "tags": []
   },
   "source": [
    "# About this notebook\n",
    "- Deberta-v3-base starter code\n",
    "- pip wheels is [here](https://www.kaggle.com/code/yasufuminakama/fb3-pip-wheels)\n",
    "- Inference notebook is [here](https://www.kaggle.com/yasufuminakama/fb3-deberta-v3-base-baseline-inference)\n",
    "\n",
    "If this notebook is helpful, feel free to upvote :)"
   ]
  },
  {
   "cell_type": "markdown",
   "id": "f8659fb1",
   "metadata": {
    "papermill": {
     "duration": 0.005954,
     "end_time": "2022-11-20T07:47:03.321728",
     "exception": false,
     "start_time": "2022-11-20T07:47:03.315774",
     "status": "completed"
    },
    "tags": []
   },
   "source": [
    "# Directory settings"
   ]
  },
  {
   "cell_type": "code",
   "execution_count": 1,
   "id": "5c35591c",
   "metadata": {
    "execution": {
     "iopub.execute_input": "2022-11-20T07:47:03.338442Z",
     "iopub.status.busy": "2022-11-20T07:47:03.337578Z",
     "iopub.status.idle": "2022-11-20T07:47:03.349264Z",
     "shell.execute_reply": "2022-11-20T07:47:03.348397Z"
    },
    "papermill": {
     "duration": 0.021298,
     "end_time": "2022-11-20T07:47:03.351297",
     "exception": false,
     "start_time": "2022-11-20T07:47:03.329999",
     "status": "completed"
    },
    "tags": []
   },
   "outputs": [],
   "source": [
    "# ====================================================\n",
    "# Directory settings\n",
    "# ====================================================\n",
    "import os\n",
    "\n",
    "OUTPUT_DIR = './'\n",
    "if not os.path.exists(OUTPUT_DIR):\n",
    "    os.makedirs(OUTPUT_DIR)"
   ]
  },
  {
   "cell_type": "markdown",
   "id": "34b4a19e",
   "metadata": {
    "papermill": {
     "duration": 0.005754,
     "end_time": "2022-11-20T07:47:03.362891",
     "exception": false,
     "start_time": "2022-11-20T07:47:03.357137",
     "status": "completed"
    },
    "tags": []
   },
   "source": [
    "# CFG"
   ]
  },
  {
   "cell_type": "code",
   "execution_count": 2,
   "id": "c94a1564",
   "metadata": {
    "execution": {
     "iopub.execute_input": "2022-11-20T07:47:03.377376Z",
     "iopub.status.busy": "2022-11-20T07:47:03.376259Z",
     "iopub.status.idle": "2022-11-20T07:47:03.384933Z",
     "shell.execute_reply": "2022-11-20T07:47:03.383807Z"
    },
    "papermill": {
     "duration": 0.018153,
     "end_time": "2022-11-20T07:47:03.387531",
     "exception": false,
     "start_time": "2022-11-20T07:47:03.369378",
     "status": "completed"
    },
    "tags": []
   },
   "outputs": [],
   "source": [
    "# ====================================================\n",
    "# CFG\n",
    "# ====================================================\n",
    "class CFG:\n",
    "    wandb=True\n",
    "    competition='FB3'\n",
    "    _wandb_kernel='nakama'\n",
    "    debug=False\n",
    "    apex=True\n",
    "    print_freq=20\n",
    "    num_workers=4\n",
    "    model=\"microsoft/deberta-v3-base\"\n",
    "    gradient_checkpointing=True\n",
    "    scheduler='cosine' # ['linear', 'cosine']\n",
    "    batch_scheduler=True\n",
    "    num_cycles=0.5\n",
    "    num_warmup_steps=0\n",
    "    epochs=4\n",
    "    encoder_lr=2e-5\n",
    "    decoder_lr=2e-5\n",
    "    min_lr=1e-6\n",
    "    eps=1e-6\n",
    "    betas=(0.9, 0.999)\n",
    "    batch_size=8\n",
    "    max_len=512\n",
    "    weight_decay=0.01\n",
    "    gradient_accumulation_steps=1\n",
    "    max_grad_norm=1000\n",
    "    target_cols=['cohesion', 'syntax', 'vocabulary', 'phraseology', 'grammar', 'conventions']\n",
    "    seed=42\n",
    "    n_fold=4\n",
    "    trn_fold=[0, 1, 2, 3]\n",
    "    train=True\n",
    "    \n",
    "if CFG.debug:\n",
    "    CFG.epochs = 2\n",
    "    CFG.trn_fold = [0]"
   ]
  },
  {
   "cell_type": "code",
   "execution_count": 3,
   "id": "ec6005d2",
   "metadata": {
    "execution": {
     "iopub.execute_input": "2022-11-20T07:47:03.400811Z",
     "iopub.status.busy": "2022-11-20T07:47:03.399981Z",
     "iopub.status.idle": "2022-11-20T07:47:12.713277Z",
     "shell.execute_reply": "2022-11-20T07:47:12.708238Z"
    },
    "papermill": {
     "duration": 9.322798,
     "end_time": "2022-11-20T07:47:12.716165",
     "exception": false,
     "start_time": "2022-11-20T07:47:03.393367",
     "status": "completed"
    },
    "tags": []
   },
   "outputs": [
    {
     "name": "stdout",
     "output_type": "stream",
     "text": [
      "If you want to use your W&B account, go to Add-ons -> Secrets and provide your W&B access token. Use the Label name as wandb_api. \n",
      "Get your W&B access token from here: https://wandb.ai/authorize\n"
     ]
    },
    {
     "name": "stderr",
     "output_type": "stream",
     "text": [
      "\u001b[34m\u001b[1mwandb\u001b[0m: Appending key for api.wandb.ai to your netrc file: /root/.netrc\n"
     ]
    },
    {
     "data": {
      "text/html": [
       "wandb version 0.13.5 is available!  To upgrade, please run:\n",
       " $ pip install wandb --upgrade"
      ],
      "text/plain": [
       "<IPython.core.display.HTML object>"
      ]
     },
     "metadata": {},
     "output_type": "display_data"
    },
    {
     "data": {
      "text/html": [
       "Tracking run with wandb version 0.12.21"
      ],
      "text/plain": [
       "<IPython.core.display.HTML object>"
      ]
     },
     "metadata": {},
     "output_type": "display_data"
    },
    {
     "data": {
      "text/html": [
       "Run data is saved locally in <code>/kaggle/working/wandb/run-20221120_074705-20exmq0y</code>"
      ],
      "text/plain": [
       "<IPython.core.display.HTML object>"
      ]
     },
     "metadata": {},
     "output_type": "display_data"
    },
    {
     "data": {
      "text/html": [
       "Syncing run <strong><a href=\"https://wandb.ai/anony-mouse-445359/FB3-Public/runs/20exmq0y?apiKey=6b15f3993a010d3995ea45d725be1f9a27b6948c\" target=\"_blank\">microsoft/deberta-v3-base</a></strong> to <a href=\"https://wandb.ai/anony-mouse-445359/FB3-Public?apiKey=6b15f3993a010d3995ea45d725be1f9a27b6948c\" target=\"_blank\">Weights & Biases</a> (<a href=\"https://wandb.me/run\" target=\"_blank\">docs</a>)<br/>"
      ],
      "text/plain": [
       "<IPython.core.display.HTML object>"
      ]
     },
     "metadata": {},
     "output_type": "display_data"
    }
   ],
   "source": [
    "# ====================================================\n",
    "# wandb\n",
    "# ====================================================\n",
    "if CFG.wandb:\n",
    "    \n",
    "    import wandb\n",
    "\n",
    "    try:\n",
    "        from kaggle_secrets import UserSecretsClient\n",
    "        user_secrets = UserSecretsClient()\n",
    "        secret_value_0 = user_secrets.get_secret(\"wandb_api\")\n",
    "        wandb.login(key=secret_value_0)\n",
    "        anony = None\n",
    "    except:\n",
    "        anony = \"must\"\n",
    "        print('If you want to use your W&B account, go to Add-ons -> Secrets and provide your W&B access token. Use the Label name as wandb_api. \\nGet your W&B access token from here: https://wandb.ai/authorize')\n",
    "\n",
    "\n",
    "    def class2dict(f):\n",
    "        return dict((name, getattr(f, name)) for name in dir(f) if not name.startswith('__'))\n",
    "\n",
    "    run = wandb.init(project='FB3-Public', \n",
    "                     name=CFG.model,\n",
    "                     config=class2dict(CFG),\n",
    "                     group=CFG.model,\n",
    "                     job_type=\"train\",\n",
    "                     anonymous=anony)"
   ]
  },
  {
   "cell_type": "markdown",
   "id": "be69bf0c",
   "metadata": {
    "papermill": {
     "duration": 0.010595,
     "end_time": "2022-11-20T07:47:12.748970",
     "exception": false,
     "start_time": "2022-11-20T07:47:12.738375",
     "status": "completed"
    },
    "tags": []
   },
   "source": [
    "# Library"
   ]
  },
  {
   "cell_type": "code",
   "execution_count": 4,
   "id": "7507b9e9",
   "metadata": {
    "execution": {
     "iopub.execute_input": "2022-11-20T07:47:12.772064Z",
     "iopub.status.busy": "2022-11-20T07:47:12.771699Z",
     "iopub.status.idle": "2022-11-20T07:48:11.957912Z",
     "shell.execute_reply": "2022-11-20T07:48:11.956656Z"
    },
    "papermill": {
     "duration": 59.201047,
     "end_time": "2022-11-20T07:48:11.960736",
     "exception": false,
     "start_time": "2022-11-20T07:47:12.759689",
     "status": "completed"
    },
    "tags": []
   },
   "outputs": [
    {
     "name": "stdout",
     "output_type": "stream",
     "text": [
      "Collecting iterative-stratification==0.1.7\n",
      "  Downloading iterative_stratification-0.1.7-py3-none-any.whl (8.5 kB)\n",
      "Requirement already satisfied: scipy in /opt/conda/lib/python3.7/site-packages (from iterative-stratification==0.1.7) (1.7.3)\n",
      "Requirement already satisfied: numpy in /opt/conda/lib/python3.7/site-packages (from iterative-stratification==0.1.7) (1.21.6)\n",
      "Requirement already satisfied: scikit-learn in /opt/conda/lib/python3.7/site-packages (from iterative-stratification==0.1.7) (1.0.2)\n",
      "Requirement already satisfied: threadpoolctl>=2.0.0 in /opt/conda/lib/python3.7/site-packages (from scikit-learn->iterative-stratification==0.1.7) (3.1.0)\n",
      "Requirement already satisfied: joblib>=0.11 in /opt/conda/lib/python3.7/site-packages (from scikit-learn->iterative-stratification==0.1.7) (1.0.1)\n",
      "Installing collected packages: iterative-stratification\n",
      "Successfully installed iterative-stratification-0.1.7\n"
     ]
    },
    {
     "name": "stderr",
     "output_type": "stream",
     "text": [
      "WARNING: Running pip as the 'root' user can result in broken permissions and conflicting behaviour with the system package manager. It is recommended to use a virtual environment instead: https://pip.pypa.io/warnings/venv\n"
     ]
    },
    {
     "name": "stdout",
     "output_type": "stream",
     "text": [
      "Found existing installation: transformers 4.20.1\n",
      "Uninstalling transformers-4.20.1:\n",
      "  Successfully uninstalled transformers-4.20.1\n"
     ]
    },
    {
     "name": "stderr",
     "output_type": "stream",
     "text": [
      "WARNING: Running pip as the 'root' user can result in broken permissions and conflicting behaviour with the system package manager. It is recommended to use a virtual environment instead: https://pip.pypa.io/warnings/venv\n"
     ]
    },
    {
     "name": "stdout",
     "output_type": "stream",
     "text": [
      "Found existing installation: tokenizers 0.12.1\n",
      "Uninstalling tokenizers-0.12.1:\n",
      "  Successfully uninstalled tokenizers-0.12.1\n"
     ]
    },
    {
     "name": "stderr",
     "output_type": "stream",
     "text": [
      "WARNING: Running pip as the 'root' user can result in broken permissions and conflicting behaviour with the system package manager. It is recommended to use a virtual environment instead: https://pip.pypa.io/warnings/venv\n"
     ]
    },
    {
     "name": "stdout",
     "output_type": "stream",
     "text": [
      "Looking in links: ../input/fb3-pip-wheels\n",
      "Processing /kaggle/input/fb3-pip-wheels/transformers-4.21.2-py3-none-any.whl\n",
      "Requirement already satisfied: numpy>=1.17 in /opt/conda/lib/python3.7/site-packages (from transformers) (1.21.6)\n",
      "Requirement already satisfied: huggingface-hub<1.0,>=0.1.0 in /opt/conda/lib/python3.7/site-packages (from transformers) (0.8.1)\n",
      "Requirement already satisfied: regex!=2019.12.17 in /opt/conda/lib/python3.7/site-packages (from transformers) (2021.11.10)\n",
      "Requirement already satisfied: packaging>=20.0 in /opt/conda/lib/python3.7/site-packages (from transformers) (21.3)\n",
      "Requirement already satisfied: importlib-metadata in /opt/conda/lib/python3.7/site-packages (from transformers) (4.12.0)\n",
      "Requirement already satisfied: requests in /opt/conda/lib/python3.7/site-packages (from transformers) (2.28.1)\n",
      "Requirement already satisfied: pyyaml>=5.1 in /opt/conda/lib/python3.7/site-packages (from transformers) (6.0)\n",
      "Requirement already satisfied: filelock in /opt/conda/lib/python3.7/site-packages (from transformers) (3.7.1)\n",
      "Requirement already satisfied: tqdm>=4.27 in /opt/conda/lib/python3.7/site-packages (from transformers) (4.64.0)\n",
      "Processing /kaggle/input/fb3-pip-wheels/tokenizers-0.12.1-cp37-cp37m-manylinux_2_12_x86_64.manylinux2010_x86_64.whl\n",
      "Requirement already satisfied: typing-extensions>=3.7.4.3 in /opt/conda/lib/python3.7/site-packages (from huggingface-hub<1.0,>=0.1.0->transformers) (4.3.0)\n",
      "Requirement already satisfied: pyparsing!=3.0.5,>=2.0.2 in /opt/conda/lib/python3.7/site-packages (from packaging>=20.0->transformers) (3.0.9)\n",
      "Requirement already satisfied: zipp>=0.5 in /opt/conda/lib/python3.7/site-packages (from importlib-metadata->transformers) (3.8.0)\n",
      "Requirement already satisfied: urllib3<1.27,>=1.21.1 in /opt/conda/lib/python3.7/site-packages (from requests->transformers) (1.26.12)\n",
      "Requirement already satisfied: charset-normalizer<3,>=2 in /opt/conda/lib/python3.7/site-packages (from requests->transformers) (2.1.0)\n",
      "Requirement already satisfied: certifi>=2017.4.17 in /opt/conda/lib/python3.7/site-packages (from requests->transformers) (2022.6.15)\n",
      "Requirement already satisfied: idna<4,>=2.5 in /opt/conda/lib/python3.7/site-packages (from requests->transformers) (3.3)\n",
      "Installing collected packages: tokenizers, transformers\n"
     ]
    },
    {
     "name": "stderr",
     "output_type": "stream",
     "text": [
      "ERROR: pip's dependency resolver does not currently take into account all the packages that are installed. This behaviour is the source of the following dependency conflicts.\n",
      "allennlp 2.10.0 requires protobuf==3.20.0, but you have protobuf 3.19.4 which is incompatible.\n",
      "allennlp 2.10.0 requires transformers<4.21,>=4.1, but you have transformers 4.21.2 which is incompatible.\n",
      "WARNING: Running pip as the 'root' user can result in broken permissions and conflicting behaviour with the system package manager. It is recommended to use a virtual environment instead: https://pip.pypa.io/warnings/venv\n"
     ]
    },
    {
     "name": "stdout",
     "output_type": "stream",
     "text": [
      "Successfully installed tokenizers-0.12.1 transformers-4.21.2\n",
      "Looking in links: ../input/fb3-pip-wheels\n",
      "Requirement already satisfied: tokenizers in /opt/conda/lib/python3.7/site-packages (0.12.1)\n"
     ]
    },
    {
     "name": "stderr",
     "output_type": "stream",
     "text": [
      "WARNING: Running pip as the 'root' user can result in broken permissions and conflicting behaviour with the system package manager. It is recommended to use a virtual environment instead: https://pip.pypa.io/warnings/venv\n"
     ]
    },
    {
     "name": "stdout",
     "output_type": "stream",
     "text": [
      "tokenizers.__version__: 0.12.1\n",
      "transformers.__version__: 4.21.2\n",
      "env: TOKENIZERS_PARALLELISM=true\n"
     ]
    }
   ],
   "source": [
    "# ====================================================\n",
    "# Library\n",
    "# ====================================================\n",
    "import os\n",
    "import gc\n",
    "import re\n",
    "import ast\n",
    "import sys\n",
    "import copy\n",
    "import json\n",
    "import time\n",
    "import math\n",
    "import string\n",
    "import pickle\n",
    "import random\n",
    "import joblib\n",
    "import itertools\n",
    "import warnings\n",
    "warnings.filterwarnings(\"ignore\")\n",
    "\n",
    "import scipy as sp\n",
    "import numpy as np\n",
    "import pandas as pd\n",
    "pd.set_option('display.max_rows', 500)\n",
    "pd.set_option('display.max_columns', 500)\n",
    "pd.set_option('display.width', 1000)\n",
    "from tqdm.auto import tqdm\n",
    "from sklearn.metrics import mean_squared_error\n",
    "from sklearn.model_selection import StratifiedKFold, GroupKFold, KFold\n",
    "\n",
    "os.system('pip install iterative-stratification==0.1.7')\n",
    "from iterstrat.ml_stratifiers import MultilabelStratifiedKFold\n",
    "\n",
    "import torch\n",
    "import torch.nn as nn\n",
    "from torch.nn import Parameter\n",
    "import torch.nn.functional as F\n",
    "from torch.optim import Adam, SGD, AdamW\n",
    "from torch.utils.data import DataLoader, Dataset\n",
    "\n",
    "os.system('pip uninstall -y transformers')\n",
    "os.system('pip uninstall -y tokenizers')\n",
    "os.system('python -m pip install --no-index --find-links=../input/fb3-pip-wheels transformers')\n",
    "os.system('python -m pip install --no-index --find-links=../input/fb3-pip-wheels tokenizers')\n",
    "import tokenizers\n",
    "import transformers\n",
    "print(f\"tokenizers.__version__: {tokenizers.__version__}\")\n",
    "print(f\"transformers.__version__: {transformers.__version__}\")\n",
    "from transformers import AutoTokenizer, AutoModel, AutoConfig\n",
    "from transformers import get_linear_schedule_with_warmup, get_cosine_schedule_with_warmup\n",
    "%env TOKENIZERS_PARALLELISM=true\n",
    "\n",
    "device = torch.device('cuda' if torch.cuda.is_available() else 'cpu')"
   ]
  },
  {
   "cell_type": "markdown",
   "id": "b037c6c0",
   "metadata": {
    "papermill": {
     "duration": 0.008173,
     "end_time": "2022-11-20T07:48:11.977143",
     "exception": false,
     "start_time": "2022-11-20T07:48:11.968970",
     "status": "completed"
    },
    "tags": []
   },
   "source": [
    "# Utils"
   ]
  },
  {
   "cell_type": "code",
   "execution_count": 5,
   "id": "3b15f1b7",
   "metadata": {
    "execution": {
     "iopub.execute_input": "2022-11-20T07:48:11.993929Z",
     "iopub.status.busy": "2022-11-20T07:48:11.992915Z",
     "iopub.status.idle": "2022-11-20T07:48:12.006922Z",
     "shell.execute_reply": "2022-11-20T07:48:12.006076Z"
    },
    "papermill": {
     "duration": 0.024528,
     "end_time": "2022-11-20T07:48:12.009037",
     "exception": false,
     "start_time": "2022-11-20T07:48:11.984509",
     "status": "completed"
    },
    "tags": []
   },
   "outputs": [],
   "source": [
    "# ====================================================\n",
    "# Utils\n",
    "# ====================================================\n",
    "def MCRMSE(y_trues, y_preds):\n",
    "    scores = []\n",
    "    idxes = y_trues.shape[1]\n",
    "    for i in range(idxes):\n",
    "        y_true = y_trues[:,i]\n",
    "        y_pred = y_preds[:,i]\n",
    "        score = mean_squared_error(y_true, y_pred, squared=False) # RMSE\n",
    "        scores.append(score)\n",
    "    mcrmse_score = np.mean(scores)\n",
    "    return mcrmse_score, scores\n",
    "\n",
    "\n",
    "def get_score(y_trues, y_preds):\n",
    "    mcrmse_score, scores = MCRMSE(y_trues, y_preds)\n",
    "    return mcrmse_score, scores\n",
    "\n",
    "\n",
    "def get_logger(filename=OUTPUT_DIR+'train'):\n",
    "    from logging import getLogger, INFO, StreamHandler, FileHandler, Formatter\n",
    "    logger = getLogger(__name__)\n",
    "    logger.setLevel(INFO)\n",
    "    handler1 = StreamHandler()\n",
    "    handler1.setFormatter(Formatter(\"%(message)s\"))\n",
    "    handler2 = FileHandler(filename=f\"{filename}.log\")\n",
    "    handler2.setFormatter(Formatter(\"%(message)s\"))\n",
    "    logger.addHandler(handler1)\n",
    "    logger.addHandler(handler2)\n",
    "    return logger\n",
    "\n",
    "LOGGER = get_logger()\n",
    "\n",
    "\n",
    "def seed_everything(seed=42):\n",
    "    random.seed(seed)\n",
    "    os.environ['PYTHONHASHSEED'] = str(seed)\n",
    "    np.random.seed(seed)\n",
    "    torch.manual_seed(seed)\n",
    "    torch.cuda.manual_seed(seed)\n",
    "    torch.backends.cudnn.deterministic = True\n",
    "    \n",
    "seed_everything(seed=42)"
   ]
  },
  {
   "cell_type": "markdown",
   "id": "2e65e425",
   "metadata": {
    "papermill": {
     "duration": 0.007195,
     "end_time": "2022-11-20T07:48:12.023639",
     "exception": false,
     "start_time": "2022-11-20T07:48:12.016444",
     "status": "completed"
    },
    "tags": []
   },
   "source": [
    "# Data Loading"
   ]
  },
  {
   "cell_type": "code",
   "execution_count": 6,
   "id": "1caf43ac",
   "metadata": {
    "execution": {
     "iopub.execute_input": "2022-11-20T07:48:12.039321Z",
     "iopub.status.busy": "2022-11-20T07:48:12.039065Z",
     "iopub.status.idle": "2022-11-20T07:48:12.294065Z",
     "shell.execute_reply": "2022-11-20T07:48:12.292758Z"
    },
    "papermill": {
     "duration": 0.265685,
     "end_time": "2022-11-20T07:48:12.296499",
     "exception": false,
     "start_time": "2022-11-20T07:48:12.030814",
     "status": "completed"
    },
    "tags": []
   },
   "outputs": [
    {
     "name": "stdout",
     "output_type": "stream",
     "text": [
      "train.shape: (3911, 8)\n"
     ]
    },
    {
     "data": {
      "text/html": [
       "<div>\n",
       "<style scoped>\n",
       "    .dataframe tbody tr th:only-of-type {\n",
       "        vertical-align: middle;\n",
       "    }\n",
       "\n",
       "    .dataframe tbody tr th {\n",
       "        vertical-align: top;\n",
       "    }\n",
       "\n",
       "    .dataframe thead th {\n",
       "        text-align: right;\n",
       "    }\n",
       "</style>\n",
       "<table border=\"1\" class=\"dataframe\">\n",
       "  <thead>\n",
       "    <tr style=\"text-align: right;\">\n",
       "      <th></th>\n",
       "      <th>text_id</th>\n",
       "      <th>full_text</th>\n",
       "      <th>cohesion</th>\n",
       "      <th>syntax</th>\n",
       "      <th>vocabulary</th>\n",
       "      <th>phraseology</th>\n",
       "      <th>grammar</th>\n",
       "      <th>conventions</th>\n",
       "    </tr>\n",
       "  </thead>\n",
       "  <tbody>\n",
       "    <tr>\n",
       "      <th>0</th>\n",
       "      <td>0016926B079C</td>\n",
       "      <td>I think that students would benefit from learn...</td>\n",
       "      <td>3.5</td>\n",
       "      <td>3.5</td>\n",
       "      <td>3.0</td>\n",
       "      <td>3.0</td>\n",
       "      <td>4.0</td>\n",
       "      <td>3.0</td>\n",
       "    </tr>\n",
       "    <tr>\n",
       "      <th>1</th>\n",
       "      <td>0022683E9EA5</td>\n",
       "      <td>When a problem is a change you have to let it ...</td>\n",
       "      <td>2.5</td>\n",
       "      <td>2.5</td>\n",
       "      <td>3.0</td>\n",
       "      <td>2.0</td>\n",
       "      <td>2.0</td>\n",
       "      <td>2.5</td>\n",
       "    </tr>\n",
       "    <tr>\n",
       "      <th>2</th>\n",
       "      <td>00299B378633</td>\n",
       "      <td>Dear, Principal\\n\\nIf u change the school poli...</td>\n",
       "      <td>3.0</td>\n",
       "      <td>3.5</td>\n",
       "      <td>3.0</td>\n",
       "      <td>3.0</td>\n",
       "      <td>3.0</td>\n",
       "      <td>2.5</td>\n",
       "    </tr>\n",
       "    <tr>\n",
       "      <th>3</th>\n",
       "      <td>003885A45F42</td>\n",
       "      <td>The best time in life is when you become yours...</td>\n",
       "      <td>4.5</td>\n",
       "      <td>4.5</td>\n",
       "      <td>4.5</td>\n",
       "      <td>4.5</td>\n",
       "      <td>4.0</td>\n",
       "      <td>5.0</td>\n",
       "    </tr>\n",
       "    <tr>\n",
       "      <th>4</th>\n",
       "      <td>0049B1DF5CCC</td>\n",
       "      <td>Small act of kindness can impact in other peop...</td>\n",
       "      <td>2.5</td>\n",
       "      <td>3.0</td>\n",
       "      <td>3.0</td>\n",
       "      <td>3.0</td>\n",
       "      <td>2.5</td>\n",
       "      <td>2.5</td>\n",
       "    </tr>\n",
       "  </tbody>\n",
       "</table>\n",
       "</div>"
      ],
      "text/plain": [
       "        text_id                                          full_text  cohesion  syntax  vocabulary  phraseology  grammar  conventions\n",
       "0  0016926B079C  I think that students would benefit from learn...       3.5     3.5         3.0          3.0      4.0          3.0\n",
       "1  0022683E9EA5  When a problem is a change you have to let it ...       2.5     2.5         3.0          2.0      2.0          2.5\n",
       "2  00299B378633  Dear, Principal\\n\\nIf u change the school poli...       3.0     3.5         3.0          3.0      3.0          2.5\n",
       "3  003885A45F42  The best time in life is when you become yours...       4.5     4.5         4.5          4.5      4.0          5.0\n",
       "4  0049B1DF5CCC  Small act of kindness can impact in other peop...       2.5     3.0         3.0          3.0      2.5          2.5"
      ]
     },
     "metadata": {},
     "output_type": "display_data"
    },
    {
     "name": "stdout",
     "output_type": "stream",
     "text": [
      "test.shape: (3, 2)\n"
     ]
    },
    {
     "data": {
      "text/html": [
       "<div>\n",
       "<style scoped>\n",
       "    .dataframe tbody tr th:only-of-type {\n",
       "        vertical-align: middle;\n",
       "    }\n",
       "\n",
       "    .dataframe tbody tr th {\n",
       "        vertical-align: top;\n",
       "    }\n",
       "\n",
       "    .dataframe thead th {\n",
       "        text-align: right;\n",
       "    }\n",
       "</style>\n",
       "<table border=\"1\" class=\"dataframe\">\n",
       "  <thead>\n",
       "    <tr style=\"text-align: right;\">\n",
       "      <th></th>\n",
       "      <th>text_id</th>\n",
       "      <th>full_text</th>\n",
       "    </tr>\n",
       "  </thead>\n",
       "  <tbody>\n",
       "    <tr>\n",
       "      <th>0</th>\n",
       "      <td>0000C359D63E</td>\n",
       "      <td>when a person has no experience on a job their...</td>\n",
       "    </tr>\n",
       "    <tr>\n",
       "      <th>1</th>\n",
       "      <td>000BAD50D026</td>\n",
       "      <td>Do you think students would benefit from being...</td>\n",
       "    </tr>\n",
       "    <tr>\n",
       "      <th>2</th>\n",
       "      <td>00367BB2546B</td>\n",
       "      <td>Thomas Jefferson once states that \"it is wonde...</td>\n",
       "    </tr>\n",
       "  </tbody>\n",
       "</table>\n",
       "</div>"
      ],
      "text/plain": [
       "        text_id                                          full_text\n",
       "0  0000C359D63E  when a person has no experience on a job their...\n",
       "1  000BAD50D026  Do you think students would benefit from being...\n",
       "2  00367BB2546B  Thomas Jefferson once states that \"it is wonde..."
      ]
     },
     "metadata": {},
     "output_type": "display_data"
    },
    {
     "name": "stdout",
     "output_type": "stream",
     "text": [
      "submission.shape: (3, 7)\n"
     ]
    },
    {
     "data": {
      "text/html": [
       "<div>\n",
       "<style scoped>\n",
       "    .dataframe tbody tr th:only-of-type {\n",
       "        vertical-align: middle;\n",
       "    }\n",
       "\n",
       "    .dataframe tbody tr th {\n",
       "        vertical-align: top;\n",
       "    }\n",
       "\n",
       "    .dataframe thead th {\n",
       "        text-align: right;\n",
       "    }\n",
       "</style>\n",
       "<table border=\"1\" class=\"dataframe\">\n",
       "  <thead>\n",
       "    <tr style=\"text-align: right;\">\n",
       "      <th></th>\n",
       "      <th>text_id</th>\n",
       "      <th>cohesion</th>\n",
       "      <th>syntax</th>\n",
       "      <th>vocabulary</th>\n",
       "      <th>phraseology</th>\n",
       "      <th>grammar</th>\n",
       "      <th>conventions</th>\n",
       "    </tr>\n",
       "  </thead>\n",
       "  <tbody>\n",
       "    <tr>\n",
       "      <th>0</th>\n",
       "      <td>0000C359D63E</td>\n",
       "      <td>3.0</td>\n",
       "      <td>3.0</td>\n",
       "      <td>3.0</td>\n",
       "      <td>3.0</td>\n",
       "      <td>3.0</td>\n",
       "      <td>3.0</td>\n",
       "    </tr>\n",
       "    <tr>\n",
       "      <th>1</th>\n",
       "      <td>000BAD50D026</td>\n",
       "      <td>3.0</td>\n",
       "      <td>3.0</td>\n",
       "      <td>3.0</td>\n",
       "      <td>3.0</td>\n",
       "      <td>3.0</td>\n",
       "      <td>3.0</td>\n",
       "    </tr>\n",
       "    <tr>\n",
       "      <th>2</th>\n",
       "      <td>00367BB2546B</td>\n",
       "      <td>3.0</td>\n",
       "      <td>3.0</td>\n",
       "      <td>3.0</td>\n",
       "      <td>3.0</td>\n",
       "      <td>3.0</td>\n",
       "      <td>3.0</td>\n",
       "    </tr>\n",
       "  </tbody>\n",
       "</table>\n",
       "</div>"
      ],
      "text/plain": [
       "        text_id  cohesion  syntax  vocabulary  phraseology  grammar  conventions\n",
       "0  0000C359D63E       3.0     3.0         3.0          3.0      3.0          3.0\n",
       "1  000BAD50D026       3.0     3.0         3.0          3.0      3.0          3.0\n",
       "2  00367BB2546B       3.0     3.0         3.0          3.0      3.0          3.0"
      ]
     },
     "metadata": {},
     "output_type": "display_data"
    }
   ],
   "source": [
    "# ====================================================\n",
    "# Data Loading\n",
    "# ====================================================\n",
    "train = pd.read_csv('../input/feedback-prize-english-language-learning/train.csv')\n",
    "test = pd.read_csv('../input/feedback-prize-english-language-learning/test.csv')\n",
    "submission = pd.read_csv('../input/feedback-prize-english-language-learning/sample_submission.csv')\n",
    "\n",
    "print(f\"train.shape: {train.shape}\")\n",
    "display(train.head())\n",
    "print(f\"test.shape: {test.shape}\")\n",
    "display(test.head())\n",
    "print(f\"submission.shape: {submission.shape}\")\n",
    "display(submission.head())"
   ]
  },
  {
   "cell_type": "markdown",
   "id": "65ef5ce8",
   "metadata": {
    "papermill": {
     "duration": 0.00777,
     "end_time": "2022-11-20T07:48:12.312901",
     "exception": false,
     "start_time": "2022-11-20T07:48:12.305131",
     "status": "completed"
    },
    "tags": []
   },
   "source": [
    "# CV split"
   ]
  },
  {
   "cell_type": "code",
   "execution_count": 7,
   "id": "451f20d3",
   "metadata": {
    "execution": {
     "iopub.execute_input": "2022-11-20T07:48:12.337742Z",
     "iopub.status.busy": "2022-11-20T07:48:12.337376Z",
     "iopub.status.idle": "2022-11-20T07:48:12.507741Z",
     "shell.execute_reply": "2022-11-20T07:48:12.506715Z"
    },
    "papermill": {
     "duration": 0.189304,
     "end_time": "2022-11-20T07:48:12.510334",
     "exception": false,
     "start_time": "2022-11-20T07:48:12.321030",
     "status": "completed"
    },
    "tags": []
   },
   "outputs": [
    {
     "data": {
      "text/plain": [
       "fold\n",
       "0    978\n",
       "1    977\n",
       "2    978\n",
       "3    978\n",
       "dtype: int64"
      ]
     },
     "metadata": {},
     "output_type": "display_data"
    }
   ],
   "source": [
    "# ====================================================\n",
    "# CV split\n",
    "# ====================================================\n",
    "Fold = MultilabelStratifiedKFold(n_splits=CFG.n_fold, shuffle=True, random_state=CFG.seed)\n",
    "for n, (train_index, val_index) in enumerate(Fold.split(train, train[CFG.target_cols])):\n",
    "    train.loc[val_index, 'fold'] = int(n)\n",
    "train['fold'] = train['fold'].astype(int)\n",
    "display(train.groupby('fold').size())"
   ]
  },
  {
   "cell_type": "code",
   "execution_count": 8,
   "id": "713fc899",
   "metadata": {
    "execution": {
     "iopub.execute_input": "2022-11-20T07:48:12.530750Z",
     "iopub.status.busy": "2022-11-20T07:48:12.530445Z",
     "iopub.status.idle": "2022-11-20T07:48:12.536710Z",
     "shell.execute_reply": "2022-11-20T07:48:12.535653Z"
    },
    "papermill": {
     "duration": 0.018936,
     "end_time": "2022-11-20T07:48:12.539068",
     "exception": false,
     "start_time": "2022-11-20T07:48:12.520132",
     "status": "completed"
    },
    "tags": []
   },
   "outputs": [],
   "source": [
    "if CFG.debug:\n",
    "    display(train.groupby('fold').size())\n",
    "    train = train.sample(n=1000, random_state=0).reset_index(drop=True)\n",
    "    display(train.groupby('fold').size())"
   ]
  },
  {
   "cell_type": "markdown",
   "id": "f93d9adc",
   "metadata": {
    "papermill": {
     "duration": 0.008643,
     "end_time": "2022-11-20T07:48:12.556001",
     "exception": false,
     "start_time": "2022-11-20T07:48:12.547358",
     "status": "completed"
    },
    "tags": []
   },
   "source": [
    "# tokenizer"
   ]
  },
  {
   "cell_type": "code",
   "execution_count": 9,
   "id": "344495b5",
   "metadata": {
    "execution": {
     "iopub.execute_input": "2022-11-20T07:48:12.573409Z",
     "iopub.status.busy": "2022-11-20T07:48:12.573100Z",
     "iopub.status.idle": "2022-11-20T07:48:19.239382Z",
     "shell.execute_reply": "2022-11-20T07:48:19.238190Z"
    },
    "papermill": {
     "duration": 6.677884,
     "end_time": "2022-11-20T07:48:19.242032",
     "exception": false,
     "start_time": "2022-11-20T07:48:12.564148",
     "status": "completed"
    },
    "tags": []
   },
   "outputs": [
    {
     "data": {
      "application/vnd.jupyter.widget-view+json": {
       "model_id": "aca19246e93544aa83ca6f8f61aca19f",
       "version_major": 2,
       "version_minor": 0
      },
      "text/plain": [
       "Downloading tokenizer_config.json:   0%|          | 0.00/52.0 [00:00<?, ?B/s]"
      ]
     },
     "metadata": {},
     "output_type": "display_data"
    },
    {
     "data": {
      "application/vnd.jupyter.widget-view+json": {
       "model_id": "6a1eeed08f48485681313b3cdfd76759",
       "version_major": 2,
       "version_minor": 0
      },
      "text/plain": [
       "Downloading config.json:   0%|          | 0.00/579 [00:00<?, ?B/s]"
      ]
     },
     "metadata": {},
     "output_type": "display_data"
    },
    {
     "data": {
      "application/vnd.jupyter.widget-view+json": {
       "model_id": "d9b6e662847f4beda110dee75d750361",
       "version_major": 2,
       "version_minor": 0
      },
      "text/plain": [
       "Downloading spm.model:   0%|          | 0.00/2.35M [00:00<?, ?B/s]"
      ]
     },
     "metadata": {},
     "output_type": "display_data"
    },
    {
     "name": "stderr",
     "output_type": "stream",
     "text": [
      "Special tokens have been added in the vocabulary, make sure the associated word embeddings are fine-tuned or trained.\n",
      "Special tokens have been added in the vocabulary, make sure the associated word embeddings are fine-tuned or trained.\n"
     ]
    }
   ],
   "source": [
    "# ====================================================\n",
    "# tokenizer\n",
    "# ====================================================\n",
    "tokenizer = AutoTokenizer.from_pretrained(CFG.model)\n",
    "tokenizer.save_pretrained(OUTPUT_DIR+'tokenizer/')\n",
    "CFG.tokenizer = tokenizer"
   ]
  },
  {
   "cell_type": "markdown",
   "id": "c49434c2",
   "metadata": {
    "papermill": {
     "duration": 0.008496,
     "end_time": "2022-11-20T07:48:19.259676",
     "exception": false,
     "start_time": "2022-11-20T07:48:19.251180",
     "status": "completed"
    },
    "tags": []
   },
   "source": [
    "# Dataset"
   ]
  },
  {
   "cell_type": "code",
   "execution_count": 10,
   "id": "f27901a3",
   "metadata": {
    "execution": {
     "iopub.execute_input": "2022-11-20T07:48:19.277978Z",
     "iopub.status.busy": "2022-11-20T07:48:19.277637Z",
     "iopub.status.idle": "2022-11-20T07:48:25.306492Z",
     "shell.execute_reply": "2022-11-20T07:48:25.305564Z"
    },
    "papermill": {
     "duration": 6.041029,
     "end_time": "2022-11-20T07:48:25.308954",
     "exception": false,
     "start_time": "2022-11-20T07:48:19.267925",
     "status": "completed"
    },
    "tags": []
   },
   "outputs": [
    {
     "data": {
      "application/vnd.jupyter.widget-view+json": {
       "model_id": "5f6002c927bd4136bbcb15ccdb474b62",
       "version_major": 2,
       "version_minor": 0
      },
      "text/plain": [
       "  0%|          | 0/3911 [00:00<?, ?it/s]"
      ]
     },
     "metadata": {},
     "output_type": "display_data"
    },
    {
     "name": "stderr",
     "output_type": "stream",
     "text": [
      "max_len: 1429\n"
     ]
    }
   ],
   "source": [
    "# ====================================================\n",
    "# Define max_len\n",
    "# ====================================================\n",
    "lengths = []\n",
    "tk0 = tqdm(train['full_text'].fillna(\"\").values, total=len(train))\n",
    "for text in tk0:\n",
    "    length = len(tokenizer(text, add_special_tokens=False)['input_ids'])\n",
    "    lengths.append(length)\n",
    "CFG.max_len = max(lengths) + 3 # cls & sep & sep\n",
    "LOGGER.info(f\"max_len: {CFG.max_len}\")"
   ]
  },
  {
   "cell_type": "code",
   "execution_count": 11,
   "id": "01ad1d48",
   "metadata": {
    "execution": {
     "iopub.execute_input": "2022-11-20T07:48:25.329415Z",
     "iopub.status.busy": "2022-11-20T07:48:25.327751Z",
     "iopub.status.idle": "2022-11-20T07:48:25.338198Z",
     "shell.execute_reply": "2022-11-20T07:48:25.337599Z"
    },
    "papermill": {
     "duration": 0.022182,
     "end_time": "2022-11-20T07:48:25.340208",
     "exception": false,
     "start_time": "2022-11-20T07:48:25.318026",
     "status": "completed"
    },
    "tags": []
   },
   "outputs": [],
   "source": [
    "# ====================================================\n",
    "# Dataset\n",
    "# ====================================================\n",
    "def prepare_input(cfg, text):\n",
    "    inputs = cfg.tokenizer.encode_plus(\n",
    "        text, \n",
    "        return_tensors=None, \n",
    "        add_special_tokens=True, \n",
    "        max_length=CFG.max_len,\n",
    "        pad_to_max_length=True,\n",
    "        truncation=True\n",
    "    )\n",
    "    for k, v in inputs.items():\n",
    "        inputs[k] = torch.tensor(v, dtype=torch.long)\n",
    "    return inputs\n",
    "\n",
    "\n",
    "class TrainDataset(Dataset):\n",
    "    def __init__(self, cfg, df):\n",
    "        self.cfg = cfg\n",
    "        self.texts = df['full_text'].values\n",
    "        self.labels = df[cfg.target_cols].values\n",
    "\n",
    "    def __len__(self):\n",
    "        return len(self.texts)\n",
    "\n",
    "    def __getitem__(self, item):\n",
    "        inputs = prepare_input(self.cfg, self.texts[item])\n",
    "        label = torch.tensor(self.labels[item], dtype=torch.float)\n",
    "        return inputs, label\n",
    "    \n",
    "\n",
    "def collate(inputs):\n",
    "    mask_len = int(inputs[\"attention_mask\"].sum(axis=1).max())\n",
    "    for k, v in inputs.items():\n",
    "        inputs[k] = inputs[k][:,:mask_len]\n",
    "    return inputs"
   ]
  },
  {
   "cell_type": "markdown",
   "id": "0bdedabb",
   "metadata": {
    "papermill": {
     "duration": 0.008775,
     "end_time": "2022-11-20T07:48:25.357307",
     "exception": false,
     "start_time": "2022-11-20T07:48:25.348532",
     "status": "completed"
    },
    "tags": []
   },
   "source": [
    "# Model"
   ]
  },
  {
   "cell_type": "code",
   "execution_count": 12,
   "id": "45dd6a1f",
   "metadata": {
    "execution": {
     "iopub.execute_input": "2022-11-20T07:48:25.383294Z",
     "iopub.status.busy": "2022-11-20T07:48:25.383031Z",
     "iopub.status.idle": "2022-11-20T07:48:25.400626Z",
     "shell.execute_reply": "2022-11-20T07:48:25.399671Z"
    },
    "papermill": {
     "duration": 0.034886,
     "end_time": "2022-11-20T07:48:25.403509",
     "exception": false,
     "start_time": "2022-11-20T07:48:25.368623",
     "status": "completed"
    },
    "tags": []
   },
   "outputs": [],
   "source": [
    "# ====================================================\n",
    "# Model\n",
    "# ====================================================\n",
    "class MeanPooling(nn.Module):\n",
    "    def __init__(self):\n",
    "        super(MeanPooling, self).__init__()\n",
    "        \n",
    "    def forward(self, last_hidden_state, attention_mask):\n",
    "        input_mask_expanded = attention_mask.unsqueeze(-1).expand(last_hidden_state.size()).float()\n",
    "        sum_embeddings = torch.sum(last_hidden_state * input_mask_expanded, 1)\n",
    "        sum_mask = input_mask_expanded.sum(1)\n",
    "        sum_mask = torch.clamp(sum_mask, min=1e-9)\n",
    "        mean_embeddings = sum_embeddings / sum_mask\n",
    "        return mean_embeddings\n",
    "    \n",
    "\n",
    "class CustomModel(nn.Module):\n",
    "    def __init__(self, cfg, config_path=None, pretrained=False):\n",
    "        super().__init__()\n",
    "        self.cfg = cfg\n",
    "        if config_path is None:\n",
    "            self.config = AutoConfig.from_pretrained(cfg.model, output_hidden_states=True)\n",
    "            self.config.hidden_dropout = 0.\n",
    "            self.config.hidden_dropout_prob = 0.\n",
    "            self.config.attention_dropout = 0.\n",
    "            self.config.attention_probs_dropout_prob = 0.\n",
    "            LOGGER.info(self.config)\n",
    "        else:\n",
    "            self.config = torch.load(config_path)\n",
    "        if pretrained:\n",
    "            self.model = AutoModel.from_pretrained(cfg.model, config=self.config)\n",
    "        else:\n",
    "            self.model = AutoModel(self.config)\n",
    "        if self.cfg.gradient_checkpointing:\n",
    "            self.model.gradient_checkpointing_enable()\n",
    "        self.pool = MeanPooling()\n",
    "        self.cnn = nn.Conv1d(self.config.hidden_size, 64, kernel_size=7, padding=\"same\")\n",
    "        self.fc = nn.Linear(64, 6)\n",
    "        self._init_weights(self.fc)\n",
    "        \n",
    "    def _init_weights(self, module):\n",
    "        if isinstance(module, nn.Linear):\n",
    "            module.weight.data.normal_(mean=0.0, std=self.config.initializer_range)\n",
    "            if module.bias is not None:\n",
    "                module.bias.data.zero_()\n",
    "        elif isinstance(module, nn.Embedding):\n",
    "            module.weight.data.normal_(mean=0.0, std=self.config.initializer_range)\n",
    "            if module.padding_idx is not None:\n",
    "                module.weight.data[module.padding_idx].zero_()\n",
    "        elif isinstance(module, nn.LayerNorm):\n",
    "            module.bias.data.zero_()\n",
    "            module.weight.data.fill_(1.0)\n",
    "        \n",
    "    def feature(self, inputs):\n",
    "        outputs = self.model(**inputs)\n",
    "        last_hidden_states = outputs[0]\n",
    "        feature = self.pool(last_hidden_states, inputs['attention_mask'])\n",
    "        return feature\n",
    "\n",
    "    def forward(self, inputs):\n",
    "        feature = self.feature(inputs)\n",
    "        feature = feature.permute(1,0)\n",
    "#         print('before cnn', feature.shape)\n",
    "        output = self.cnn(feature)\n",
    "#         print('after cnn', output.shape)\n",
    "        output = output.permute(1,0)\n",
    "    \n",
    "        output = self.fc(output)\n",
    "#         output = self.fc(feature)\n",
    "        return output"
   ]
  },
  {
   "cell_type": "markdown",
   "id": "baa559bc",
   "metadata": {
    "papermill": {
     "duration": 0.008508,
     "end_time": "2022-11-20T07:48:25.421835",
     "exception": false,
     "start_time": "2022-11-20T07:48:25.413327",
     "status": "completed"
    },
    "tags": []
   },
   "source": [
    "# Loss"
   ]
  },
  {
   "cell_type": "code",
   "execution_count": 13,
   "id": "4ff7ecae",
   "metadata": {
    "execution": {
     "iopub.execute_input": "2022-11-20T07:48:25.440492Z",
     "iopub.status.busy": "2022-11-20T07:48:25.440229Z",
     "iopub.status.idle": "2022-11-20T07:48:25.449063Z",
     "shell.execute_reply": "2022-11-20T07:48:25.448056Z"
    },
    "papermill": {
     "duration": 0.02158,
     "end_time": "2022-11-20T07:48:25.452090",
     "exception": false,
     "start_time": "2022-11-20T07:48:25.430510",
     "status": "completed"
    },
    "tags": []
   },
   "outputs": [],
   "source": [
    "# ====================================================\n",
    "# Loss\n",
    "# ====================================================\n",
    "class RMSELoss(nn.Module):\n",
    "    def __init__(self, reduction='mean', eps=1e-9):\n",
    "        super().__init__()\n",
    "        self.mse = nn.MSELoss(reduction='none')\n",
    "        self.reduction = reduction\n",
    "        self.eps = eps\n",
    "\n",
    "    def forward(self, y_pred, y_true):\n",
    "        loss = torch.sqrt(self.mse(y_pred, y_true) + self.eps)\n",
    "        if self.reduction == 'none':\n",
    "            loss = loss\n",
    "        elif self.reduction == 'sum':\n",
    "            loss = loss.sum()\n",
    "        elif self.reduction == 'mean':\n",
    "            loss = loss.mean()\n",
    "        return loss"
   ]
  },
  {
   "cell_type": "markdown",
   "id": "1bb34c48",
   "metadata": {
    "papermill": {
     "duration": 0.008453,
     "end_time": "2022-11-20T07:48:25.470378",
     "exception": false,
     "start_time": "2022-11-20T07:48:25.461925",
     "status": "completed"
    },
    "tags": []
   },
   "source": [
    "# Helpler functions"
   ]
  },
  {
   "cell_type": "code",
   "execution_count": 14,
   "id": "515d5e5b",
   "metadata": {
    "execution": {
     "iopub.execute_input": "2022-11-20T07:48:25.488966Z",
     "iopub.status.busy": "2022-11-20T07:48:25.488661Z",
     "iopub.status.idle": "2022-11-20T07:48:25.509422Z",
     "shell.execute_reply": "2022-11-20T07:48:25.508298Z"
    },
    "papermill": {
     "duration": 0.033371,
     "end_time": "2022-11-20T07:48:25.512226",
     "exception": false,
     "start_time": "2022-11-20T07:48:25.478855",
     "status": "completed"
    },
    "tags": []
   },
   "outputs": [],
   "source": [
    "# ====================================================\n",
    "# helper funcs\n",
    "# ====================================================\n",
    "class AverageMeter(object):\n",
    "    \"\"\"Computes and stores the average and current value\"\"\"\n",
    "    def __init__(self):\n",
    "        self.reset()\n",
    "\n",
    "    def reset(self):\n",
    "        self.val = 0\n",
    "        self.avg = 0\n",
    "        self.sum = 0\n",
    "        self.count = 0\n",
    "\n",
    "    def update(self, val, n=1):\n",
    "        self.val = val\n",
    "        self.sum += val * n\n",
    "        self.count += n\n",
    "        self.avg = self.sum / self.count\n",
    "\n",
    "\n",
    "def asMinutes(s):\n",
    "    m = math.floor(s / 60)\n",
    "    s -= m * 60\n",
    "    return '%dm %ds' % (m, s)\n",
    "\n",
    "\n",
    "def timeSince(since, percent):\n",
    "    now = time.time()\n",
    "    s = now - since\n",
    "    es = s / (percent)\n",
    "    rs = es - s\n",
    "    return '%s (remain %s)' % (asMinutes(s), asMinutes(rs))\n",
    "\n",
    "\n",
    "def train_fn(fold, train_loader, model, criterion, optimizer, epoch, scheduler, device):\n",
    "    model.train()\n",
    "    scaler = torch.cuda.amp.GradScaler(enabled=CFG.apex)\n",
    "    losses = AverageMeter()\n",
    "    start = end = time.time()\n",
    "    global_step = 0\n",
    "    for step, (inputs, labels) in enumerate(train_loader):\n",
    "        inputs = collate(inputs)\n",
    "        for k, v in inputs.items():\n",
    "            inputs[k] = v.to(device)\n",
    "        labels = labels.to(device)\n",
    "        batch_size = labels.size(0)\n",
    "        with torch.cuda.amp.autocast(enabled=CFG.apex):\n",
    "            y_preds = model(inputs)\n",
    "            loss = criterion(y_preds, labels)\n",
    "        if CFG.gradient_accumulation_steps > 1:\n",
    "            loss = loss / CFG.gradient_accumulation_steps\n",
    "        losses.update(loss.item(), batch_size)\n",
    "        scaler.scale(loss).backward()\n",
    "        grad_norm = torch.nn.utils.clip_grad_norm_(model.parameters(), CFG.max_grad_norm)\n",
    "        if (step + 1) % CFG.gradient_accumulation_steps == 0:\n",
    "            scaler.step(optimizer)\n",
    "            scaler.update()\n",
    "            optimizer.zero_grad()\n",
    "            global_step += 1\n",
    "            if CFG.batch_scheduler:\n",
    "                scheduler.step()\n",
    "        end = time.time()\n",
    "        if step % CFG.print_freq == 0 or step == (len(train_loader)-1):\n",
    "            print('Epoch: [{0}][{1}/{2}] '\n",
    "                  'Elapsed {remain:s} '\n",
    "                  'Loss: {loss.val:.4f}({loss.avg:.4f}) '\n",
    "                  'Grad: {grad_norm:.4f}  '\n",
    "                  'LR: {lr:.8f}  '\n",
    "                  .format(epoch+1, step, len(train_loader), \n",
    "                          remain=timeSince(start, float(step+1)/len(train_loader)),\n",
    "                          loss=losses,\n",
    "                          grad_norm=grad_norm,\n",
    "                          lr=scheduler.get_lr()[0]))\n",
    "        if CFG.wandb:\n",
    "            wandb.log({f\"[fold{fold}] loss\": losses.val,\n",
    "                       f\"[fold{fold}] lr\": scheduler.get_lr()[0]})\n",
    "    return losses.avg\n",
    "\n",
    "\n",
    "def valid_fn(valid_loader, model, criterion, device):\n",
    "    losses = AverageMeter()\n",
    "    model.eval()\n",
    "    preds = []\n",
    "    start = end = time.time()\n",
    "    for step, (inputs, labels) in enumerate(valid_loader):\n",
    "        inputs = collate(inputs)\n",
    "        for k, v in inputs.items():\n",
    "            inputs[k] = v.to(device)\n",
    "        labels = labels.to(device)\n",
    "        batch_size = labels.size(0)\n",
    "        with torch.no_grad():\n",
    "            y_preds = model(inputs)\n",
    "            loss = criterion(y_preds, labels)\n",
    "        if CFG.gradient_accumulation_steps > 1:\n",
    "            loss = loss / CFG.gradient_accumulation_steps\n",
    "        losses.update(loss.item(), batch_size)\n",
    "        preds.append(y_preds.to('cpu').numpy())\n",
    "        end = time.time()\n",
    "        if step % CFG.print_freq == 0 or step == (len(valid_loader)-1):\n",
    "            print('EVAL: [{0}/{1}] '\n",
    "                  'Elapsed {remain:s} '\n",
    "                  'Loss: {loss.val:.4f}({loss.avg:.4f}) '\n",
    "                  .format(step, len(valid_loader),\n",
    "                          loss=losses,\n",
    "                          remain=timeSince(start, float(step+1)/len(valid_loader))))\n",
    "    predictions = np.concatenate(preds)\n",
    "    return losses.avg, predictions"
   ]
  },
  {
   "cell_type": "markdown",
   "id": "9f4f3175",
   "metadata": {
    "papermill": {
     "duration": 0.008691,
     "end_time": "2022-11-20T07:48:25.532162",
     "exception": false,
     "start_time": "2022-11-20T07:48:25.523471",
     "status": "completed"
    },
    "tags": []
   },
   "source": [
    "# train loop"
   ]
  },
  {
   "cell_type": "code",
   "execution_count": 15,
   "id": "0378fcd6",
   "metadata": {
    "execution": {
     "iopub.execute_input": "2022-11-20T07:48:25.551014Z",
     "iopub.status.busy": "2022-11-20T07:48:25.550745Z",
     "iopub.status.idle": "2022-11-20T07:48:25.571883Z",
     "shell.execute_reply": "2022-11-20T07:48:25.570892Z"
    },
    "papermill": {
     "duration": 0.034943,
     "end_time": "2022-11-20T07:48:25.575980",
     "exception": false,
     "start_time": "2022-11-20T07:48:25.541037",
     "status": "completed"
    },
    "tags": []
   },
   "outputs": [],
   "source": [
    "# ====================================================\n",
    "# train loop\n",
    "# ====================================================\n",
    "def train_loop(folds, fold):\n",
    "    \n",
    "    LOGGER.info(f\"========== fold: {fold} training ==========\")\n",
    "\n",
    "    # ====================================================\n",
    "    # loader\n",
    "    # ====================================================\n",
    "    train_folds = folds[folds['fold'] != fold].reset_index(drop=True)\n",
    "    valid_folds = folds[folds['fold'] == fold].reset_index(drop=True)\n",
    "    valid_labels = valid_folds[CFG.target_cols].values\n",
    "    \n",
    "    train_dataset = TrainDataset(CFG, train_folds)\n",
    "    valid_dataset = TrainDataset(CFG, valid_folds)\n",
    "\n",
    "    train_loader = DataLoader(train_dataset,\n",
    "                              batch_size=CFG.batch_size,\n",
    "                              shuffle=True,\n",
    "                              num_workers=CFG.num_workers, pin_memory=True, drop_last=True)\n",
    "    valid_loader = DataLoader(valid_dataset,\n",
    "                              batch_size=CFG.batch_size,\n",
    "                              shuffle=False,\n",
    "                              num_workers=CFG.num_workers, pin_memory=True, drop_last=False)\n",
    "\n",
    "    # ====================================================\n",
    "    # model & optimizer\n",
    "    # ====================================================\n",
    "    model = CustomModel(CFG, config_path=None, pretrained=True)\n",
    "    torch.save(model.config, OUTPUT_DIR+'config.pth')\n",
    "    model.to(device)\n",
    "    \n",
    "    def get_optimizer_params(model, encoder_lr, decoder_lr, weight_decay=0.0):\n",
    "        param_optimizer = list(model.named_parameters())\n",
    "        no_decay = [\"bias\", \"LayerNorm.bias\", \"LayerNorm.weight\"]\n",
    "        optimizer_parameters = [\n",
    "            {'params': [p for n, p in model.model.named_parameters() if not any(nd in n for nd in no_decay)],\n",
    "             'lr': encoder_lr, 'weight_decay': weight_decay},\n",
    "            {'params': [p for n, p in model.model.named_parameters() if any(nd in n for nd in no_decay)],\n",
    "             'lr': encoder_lr, 'weight_decay': 0.0},\n",
    "            {'params': [p for n, p in model.named_parameters() if \"model\" not in n],\n",
    "             'lr': decoder_lr, 'weight_decay': 0.0}\n",
    "        ]\n",
    "        return optimizer_parameters\n",
    "\n",
    "    optimizer_parameters = get_optimizer_params(model,\n",
    "                                                encoder_lr=CFG.encoder_lr, \n",
    "                                                decoder_lr=CFG.decoder_lr,\n",
    "                                                weight_decay=CFG.weight_decay)\n",
    "    optimizer = AdamW(optimizer_parameters, lr=CFG.encoder_lr, eps=CFG.eps, betas=CFG.betas)\n",
    "    \n",
    "    # ====================================================\n",
    "    # scheduler\n",
    "    # ====================================================\n",
    "    def get_scheduler(cfg, optimizer, num_train_steps):\n",
    "        if cfg.scheduler == 'linear':\n",
    "            scheduler = get_linear_schedule_with_warmup(\n",
    "                optimizer, num_warmup_steps=cfg.num_warmup_steps, num_training_steps=num_train_steps\n",
    "            )\n",
    "        elif cfg.scheduler == 'cosine':\n",
    "            scheduler = get_cosine_schedule_with_warmup(\n",
    "                optimizer, num_warmup_steps=cfg.num_warmup_steps, num_training_steps=num_train_steps, num_cycles=cfg.num_cycles\n",
    "            )\n",
    "        return scheduler\n",
    "    \n",
    "    num_train_steps = int(len(train_folds) / CFG.batch_size * CFG.epochs)\n",
    "    scheduler = get_scheduler(CFG, optimizer, num_train_steps)\n",
    "\n",
    "    # ====================================================\n",
    "    # loop\n",
    "    # ====================================================\n",
    "    criterion = nn.SmoothL1Loss(reduction='mean') # RMSELoss(reduction=\"mean\")\n",
    "    \n",
    "    best_score = np.inf\n",
    "\n",
    "    for epoch in range(CFG.epochs):\n",
    "\n",
    "        start_time = time.time()\n",
    "\n",
    "        # train\n",
    "        avg_loss = train_fn(fold, train_loader, model, criterion, optimizer, epoch, scheduler, device)\n",
    "\n",
    "        # eval\n",
    "        avg_val_loss, predictions = valid_fn(valid_loader, model, criterion, device)\n",
    "        \n",
    "        # scoring\n",
    "        score, scores = get_score(valid_labels, predictions)\n",
    "\n",
    "        elapsed = time.time() - start_time\n",
    "\n",
    "        LOGGER.info(f'Epoch {epoch+1} - avg_train_loss: {avg_loss:.4f}  avg_val_loss: {avg_val_loss:.4f}  time: {elapsed:.0f}s')\n",
    "        LOGGER.info(f'Epoch {epoch+1} - Score: {score:.4f}  Scores: {scores}')\n",
    "        if CFG.wandb:\n",
    "            wandb.log({f\"[fold{fold}] epoch\": epoch+1, \n",
    "                       f\"[fold{fold}] avg_train_loss\": avg_loss, \n",
    "                       f\"[fold{fold}] avg_val_loss\": avg_val_loss,\n",
    "                       f\"[fold{fold}] score\": score})\n",
    "        \n",
    "        if best_score > score:\n",
    "            best_score = score\n",
    "            LOGGER.info(f'Epoch {epoch+1} - Save Best Score: {best_score:.4f} Model')\n",
    "            torch.save({'model': model.state_dict(),\n",
    "                        'predictions': predictions},\n",
    "                        OUTPUT_DIR+f\"{CFG.model.replace('/', '-')}_fold{fold}_best.pth\")\n",
    "\n",
    "    predictions = torch.load(OUTPUT_DIR+f\"{CFG.model.replace('/', '-')}_fold{fold}_best.pth\", \n",
    "                             map_location=torch.device('cpu'))['predictions']\n",
    "    valid_folds[[f\"pred_{c}\" for c in CFG.target_cols]] = predictions\n",
    "\n",
    "    torch.cuda.empty_cache()\n",
    "    gc.collect()\n",
    "    \n",
    "    return valid_folds"
   ]
  },
  {
   "cell_type": "code",
   "execution_count": 16,
   "id": "86b60b7d",
   "metadata": {
    "execution": {
     "iopub.execute_input": "2022-11-20T07:48:25.596442Z",
     "iopub.status.busy": "2022-11-20T07:48:25.596171Z",
     "iopub.status.idle": "2022-11-20T11:04:34.968439Z",
     "shell.execute_reply": "2022-11-20T11:04:34.967494Z"
    },
    "papermill": {
     "duration": 11769.38404,
     "end_time": "2022-11-20T11:04:34.970719",
     "exception": false,
     "start_time": "2022-11-20T07:48:25.586679",
     "status": "completed"
    },
    "tags": []
   },
   "outputs": [
    {
     "name": "stderr",
     "output_type": "stream",
     "text": [
      "========== fold: 0 training ==========\n",
      "DebertaV2Config {\n",
      "  \"_name_or_path\": \"microsoft/deberta-v3-base\",\n",
      "  \"attention_dropout\": 0.0,\n",
      "  \"attention_probs_dropout_prob\": 0.0,\n",
      "  \"hidden_act\": \"gelu\",\n",
      "  \"hidden_dropout\": 0.0,\n",
      "  \"hidden_dropout_prob\": 0.0,\n",
      "  \"hidden_size\": 768,\n",
      "  \"initializer_range\": 0.02,\n",
      "  \"intermediate_size\": 3072,\n",
      "  \"layer_norm_eps\": 1e-07,\n",
      "  \"max_position_embeddings\": 512,\n",
      "  \"max_relative_positions\": -1,\n",
      "  \"model_type\": \"deberta-v2\",\n",
      "  \"norm_rel_ebd\": \"layer_norm\",\n",
      "  \"num_attention_heads\": 12,\n",
      "  \"num_hidden_layers\": 12,\n",
      "  \"output_hidden_states\": true,\n",
      "  \"pad_token_id\": 0,\n",
      "  \"pooler_dropout\": 0,\n",
      "  \"pooler_hidden_act\": \"gelu\",\n",
      "  \"pooler_hidden_size\": 768,\n",
      "  \"pos_att_type\": [\n",
      "    \"p2c\",\n",
      "    \"c2p\"\n",
      "  ],\n",
      "  \"position_biased_input\": false,\n",
      "  \"position_buckets\": 256,\n",
      "  \"relative_attention\": true,\n",
      "  \"share_att_key\": true,\n",
      "  \"transformers_version\": \"4.21.2\",\n",
      "  \"type_vocab_size\": 0,\n",
      "  \"vocab_size\": 128100\n",
      "}\n",
      "\n"
     ]
    },
    {
     "data": {
      "application/vnd.jupyter.widget-view+json": {
       "model_id": "2ac544d2be004ba899ef370348269c62",
       "version_major": 2,
       "version_minor": 0
      },
      "text/plain": [
       "Downloading pytorch_model.bin:   0%|          | 0.00/354M [00:00<?, ?B/s]"
      ]
     },
     "metadata": {},
     "output_type": "display_data"
    },
    {
     "name": "stderr",
     "output_type": "stream",
     "text": [
      "Some weights of the model checkpoint at microsoft/deberta-v3-base were not used when initializing DebertaV2Model: ['mask_predictions.dense.bias', 'lm_predictions.lm_head.dense.bias', 'mask_predictions.dense.weight', 'lm_predictions.lm_head.LayerNorm.weight', 'lm_predictions.lm_head.dense.weight', 'mask_predictions.LayerNorm.weight', 'mask_predictions.classifier.weight', 'lm_predictions.lm_head.bias', 'mask_predictions.LayerNorm.bias', 'mask_predictions.classifier.bias', 'lm_predictions.lm_head.LayerNorm.bias']\n",
      "- This IS expected if you are initializing DebertaV2Model from the checkpoint of a model trained on another task or with another architecture (e.g. initializing a BertForSequenceClassification model from a BertForPreTraining model).\n",
      "- This IS NOT expected if you are initializing DebertaV2Model from the checkpoint of a model that you expect to be exactly identical (initializing a BertForSequenceClassification model from a BertForSequenceClassification model).\n"
     ]
    },
    {
     "name": "stdout",
     "output_type": "stream",
     "text": [
      "Epoch: [1][0/366] Elapsed 0m 8s (remain 49m 58s) Loss: 2.8331(2.8331) Grad: 295258.4375  LR: 0.00002000  \n",
      "Epoch: [1][20/366] Elapsed 0m 43s (remain 11m 58s) Loss: 1.6638(2.2548) Grad: 392013.1250  LR: 0.00001999  \n",
      "Epoch: [1][40/366] Elapsed 1m 15s (remain 9m 59s) Loss: 1.1178(1.9569) Grad: 574343.6250  LR: 0.00001996  \n",
      "Epoch: [1][60/366] Elapsed 1m 53s (remain 9m 27s) Loss: 0.7402(1.6425) Grad: 584909.1250  LR: 0.00001991  \n",
      "Epoch: [1][80/366] Elapsed 2m 30s (remain 8m 47s) Loss: 0.4197(1.3723) Grad: 170852.9531  LR: 0.00001985  \n",
      "Epoch: [1][100/366] Elapsed 3m 2s (remain 7m 58s) Loss: 0.2420(1.1710) Grad: 131837.4531  LR: 0.00001977  \n",
      "Epoch: [1][120/366] Elapsed 3m 39s (remain 7m 25s) Loss: 0.4950(1.0368) Grad: 138866.8438  LR: 0.00001967  \n",
      "Epoch: [1][140/366] Elapsed 4m 13s (remain 6m 45s) Loss: 0.4149(0.9421) Grad: 286474.2812  LR: 0.00001955  \n",
      "Epoch: [1][160/366] Elapsed 4m 47s (remain 6m 6s) Loss: 0.3203(0.8619) Grad: 90793.2109  LR: 0.00001941  \n",
      "Epoch: [1][180/366] Elapsed 5m 19s (remain 5m 26s) Loss: 0.2722(0.8007) Grad: 150115.6094  LR: 0.00001926  \n",
      "Epoch: [1][200/366] Elapsed 5m 59s (remain 4m 55s) Loss: 0.3415(0.7533) Grad: 79616.6562  LR: 0.00001909  \n",
      "Epoch: [1][220/366] Elapsed 6m 33s (remain 4m 18s) Loss: 0.2877(0.7125) Grad: 220634.4688  LR: 0.00001890  \n",
      "Epoch: [1][240/366] Elapsed 7m 10s (remain 3m 43s) Loss: 0.3058(0.6770) Grad: 100150.5859  LR: 0.00001870  \n",
      "Epoch: [1][260/366] Elapsed 7m 50s (remain 3m 9s) Loss: 0.1608(0.6433) Grad: 114495.9219  LR: 0.00001848  \n",
      "Epoch: [1][280/366] Elapsed 8m 30s (remain 2m 34s) Loss: 0.3450(0.6175) Grad: 148747.3125  LR: 0.00001824  \n",
      "Epoch: [1][300/366] Elapsed 9m 7s (remain 1m 58s) Loss: 0.3042(0.5928) Grad: 118228.5391  LR: 0.00001799  \n",
      "Epoch: [1][320/366] Elapsed 9m 45s (remain 1m 22s) Loss: 0.1975(0.5689) Grad: 93588.7656  LR: 0.00001773  \n",
      "Epoch: [1][340/366] Elapsed 10m 18s (remain 0m 45s) Loss: 0.2145(0.5474) Grad: 160894.3281  LR: 0.00001745  \n",
      "Epoch: [1][360/366] Elapsed 10m 55s (remain 0m 9s) Loss: 0.1595(0.5280) Grad: 158103.9531  LR: 0.00001715  \n",
      "Epoch: [1][365/366] Elapsed 11m 4s (remain 0m 0s) Loss: 0.1654(0.5240) Grad: 118339.5859  LR: 0.00001708  \n",
      "EVAL: [0/123] Elapsed 0m 0s (remain 1m 21s) Loss: 0.1952(0.1952) \n",
      "EVAL: [20/123] Elapsed 0m 11s (remain 0m 56s) Loss: 0.1044(0.1991) \n",
      "EVAL: [40/123] Elapsed 0m 22s (remain 0m 44s) Loss: 0.1204(0.2063) \n",
      "EVAL: [60/123] Elapsed 0m 33s (remain 0m 34s) Loss: 0.2314(0.2040) \n",
      "EVAL: [80/123] Elapsed 0m 45s (remain 0m 23s) Loss: 0.0971(0.2015) \n",
      "EVAL: [100/123] Elapsed 0m 55s (remain 0m 12s) Loss: 0.1915(0.2004) \n",
      "EVAL: [120/123] Elapsed 1m 5s (remain 0m 1s) Loss: 0.2247(0.2014) \n"
     ]
    },
    {
     "name": "stderr",
     "output_type": "stream",
     "text": [
      "Epoch 1 - avg_train_loss: 0.5240  avg_val_loss: 0.2018  time: 731s\n",
      "Epoch 1 - Score: 0.6485  Scores: [0.6634141978320135, 0.6068861395251222, 0.5977523440296623, 0.6790756035332187, 0.6469099000079942, 0.6972609468458122]\n",
      "Epoch 1 - Save Best Score: 0.6485 Model\n"
     ]
    },
    {
     "name": "stdout",
     "output_type": "stream",
     "text": [
      "EVAL: [122/123] Elapsed 1m 6s (remain 0m 0s) Loss: 0.3078(0.2018) \n",
      "Epoch: [2][0/366] Elapsed 0m 2s (remain 14m 28s) Loss: 0.1055(0.1055) Grad: 216209.9375  LR: 0.00001706  \n",
      "Epoch: [2][20/366] Elapsed 0m 40s (remain 11m 10s) Loss: 0.2243(0.2139) Grad: 141851.0469  LR: 0.00001675  \n",
      "Epoch: [2][40/366] Elapsed 1m 18s (remain 10m 19s) Loss: 0.1497(0.2104) Grad: 153608.4531  LR: 0.00001643  \n",
      "Epoch: [2][60/366] Elapsed 1m 51s (remain 9m 19s) Loss: 0.2271(0.2080) Grad: 405123.8750  LR: 0.00001610  \n",
      "Epoch: [2][80/366] Elapsed 2m 28s (remain 8m 44s) Loss: 0.1316(0.2085) Grad: 239884.7344  LR: 0.00001575  \n",
      "Epoch: [2][100/366] Elapsed 3m 2s (remain 7m 58s) Loss: 0.2269(0.2057) Grad: 284901.9062  LR: 0.00001540  \n",
      "Epoch: [2][120/366] Elapsed 3m 40s (remain 7m 25s) Loss: 0.1836(0.2023) Grad: 285590.8125  LR: 0.00001503  \n",
      "Epoch: [2][140/366] Elapsed 4m 17s (remain 6m 50s) Loss: 0.1388(0.1974) Grad: 165531.6406  LR: 0.00001466  \n",
      "Epoch: [2][160/366] Elapsed 4m 53s (remain 6m 14s) Loss: 0.3564(0.1948) Grad: 553870.8750  LR: 0.00001427  \n",
      "Epoch: [2][180/366] Elapsed 5m 30s (remain 5m 37s) Loss: 0.1811(0.1924) Grad: 189082.1875  LR: 0.00001388  \n",
      "Epoch: [2][200/366] Elapsed 6m 6s (remain 5m 0s) Loss: 0.1403(0.1911) Grad: 256011.3438  LR: 0.00001348  \n",
      "Epoch: [2][220/366] Elapsed 6m 41s (remain 4m 23s) Loss: 0.2259(0.1887) Grad: 169869.7500  LR: 0.00001308  \n",
      "Epoch: [2][240/366] Elapsed 7m 11s (remain 3m 43s) Loss: 0.1517(0.1864) Grad: 333157.2812  LR: 0.00001267  \n",
      "Epoch: [2][260/366] Elapsed 7m 45s (remain 3m 7s) Loss: 0.1813(0.1854) Grad: 166496.2188  LR: 0.00001225  \n",
      "Epoch: [2][280/366] Elapsed 8m 23s (remain 2m 32s) Loss: 0.1274(0.1848) Grad: 139111.0938  LR: 0.00001183  \n",
      "Epoch: [2][300/366] Elapsed 9m 3s (remain 1m 57s) Loss: 0.1152(0.1823) Grad: 323261.3750  LR: 0.00001141  \n",
      "Epoch: [2][320/366] Elapsed 9m 43s (remain 1m 21s) Loss: 0.0969(0.1805) Grad: 167375.9375  LR: 0.00001098  \n",
      "Epoch: [2][340/366] Elapsed 10m 13s (remain 0m 45s) Loss: 0.1603(0.1785) Grad: 128089.3516  LR: 0.00001056  \n",
      "Epoch: [2][360/366] Elapsed 10m 50s (remain 0m 9s) Loss: 0.1092(0.1763) Grad: 187563.4375  LR: 0.00001013  \n",
      "Epoch: [2][365/366] Elapsed 10m 57s (remain 0m 0s) Loss: 0.1860(0.1762) Grad: 282063.4062  LR: 0.00001002  \n",
      "EVAL: [0/123] Elapsed 0m 0s (remain 1m 39s) Loss: 0.1293(0.1293) \n",
      "EVAL: [20/123] Elapsed 0m 11s (remain 0m 56s) Loss: 0.1127(0.1439) \n",
      "EVAL: [40/123] Elapsed 0m 22s (remain 0m 45s) Loss: 0.1019(0.1528) \n",
      "EVAL: [60/123] Elapsed 0m 33s (remain 0m 34s) Loss: 0.1889(0.1510) \n",
      "EVAL: [80/123] Elapsed 0m 45s (remain 0m 23s) Loss: 0.0696(0.1523) \n",
      "EVAL: [100/123] Elapsed 0m 55s (remain 0m 12s) Loss: 0.1404(0.1511) \n",
      "EVAL: [120/123] Elapsed 1m 5s (remain 0m 1s) Loss: 0.1455(0.1515) \n"
     ]
    },
    {
     "name": "stderr",
     "output_type": "stream",
     "text": [
      "Epoch 2 - avg_train_loss: 0.1762  avg_val_loss: 0.1515  time: 724s\n",
      "Epoch 2 - Score: 0.5557  Scores: [0.5816621531551605, 0.5182712510976427, 0.4923561220617893, 0.5865634907533263, 0.5609058084185333, 0.5946829384958274]\n",
      "Epoch 2 - Save Best Score: 0.5557 Model\n"
     ]
    },
    {
     "name": "stdout",
     "output_type": "stream",
     "text": [
      "EVAL: [122/123] Elapsed 1m 6s (remain 0m 0s) Loss: 0.1414(0.1515) \n",
      "Epoch: [3][0/366] Elapsed 0m 1s (remain 10m 41s) Loss: 0.1528(0.1528) Grad: 116714.6719  LR: 0.00001000  \n",
      "Epoch: [3][20/366] Elapsed 0m 35s (remain 9m 41s) Loss: 0.1869(0.1486) Grad: 216222.0312  LR: 0.00000957  \n",
      "Epoch: [3][40/366] Elapsed 1m 9s (remain 9m 12s) Loss: 0.2346(0.1477) Grad: 215093.9219  LR: 0.00000914  \n",
      "Epoch: [3][60/366] Elapsed 1m 49s (remain 9m 8s) Loss: 0.2036(0.1465) Grad: 276764.1250  LR: 0.00000872  \n",
      "Epoch: [3][80/366] Elapsed 2m 29s (remain 8m 47s) Loss: 0.1164(0.1478) Grad: 190996.0625  LR: 0.00000829  \n",
      "Epoch: [3][100/366] Elapsed 3m 2s (remain 7m 59s) Loss: 0.1365(0.1497) Grad: 167068.5156  LR: 0.00000787  \n",
      "Epoch: [3][120/366] Elapsed 3m 38s (remain 7m 22s) Loss: 0.1071(0.1480) Grad: 149812.5156  LR: 0.00000746  \n",
      "Epoch: [3][140/366] Elapsed 4m 17s (remain 6m 50s) Loss: 0.1311(0.1459) Grad: 161745.1875  LR: 0.00000704  \n",
      "Epoch: [3][160/366] Elapsed 4m 55s (remain 6m 15s) Loss: 0.1702(0.1464) Grad: 347160.5938  LR: 0.00000664  \n",
      "Epoch: [3][180/366] Elapsed 5m 33s (remain 5m 40s) Loss: 0.1245(0.1449) Grad: 231175.5469  LR: 0.00000624  \n",
      "Epoch: [3][200/366] Elapsed 6m 11s (remain 5m 4s) Loss: 0.1703(0.1458) Grad: 142801.7031  LR: 0.00000584  \n",
      "Epoch: [3][220/366] Elapsed 6m 49s (remain 4m 28s) Loss: 0.0970(0.1452) Grad: 215960.1406  LR: 0.00000546  \n",
      "Epoch: [3][240/366] Elapsed 7m 25s (remain 3m 51s) Loss: 0.1341(0.1453) Grad: 179374.6094  LR: 0.00000508  \n",
      "Epoch: [3][260/366] Elapsed 8m 3s (remain 3m 14s) Loss: 0.1778(0.1443) Grad: 349280.2500  LR: 0.00000471  \n",
      "Epoch: [3][280/366] Elapsed 8m 34s (remain 2m 35s) Loss: 0.1460(0.1450) Grad: 189422.6562  LR: 0.00000435  \n",
      "Epoch: [3][300/366] Elapsed 9m 5s (remain 1m 57s) Loss: 0.1346(0.1457) Grad: 176502.6094  LR: 0.00000400  \n",
      "Epoch: [3][320/366] Elapsed 9m 41s (remain 1m 21s) Loss: 0.1085(0.1450) Grad: 253402.9531  LR: 0.00000367  \n",
      "Epoch: [3][340/366] Elapsed 10m 13s (remain 0m 44s) Loss: 0.1417(0.1453) Grad: 146178.9219  LR: 0.00000334  \n",
      "Epoch: [3][360/366] Elapsed 10m 52s (remain 0m 9s) Loss: 0.1783(0.1454) Grad: 160597.5781  LR: 0.00000303  \n",
      "Epoch: [3][365/366] Elapsed 11m 0s (remain 0m 0s) Loss: 0.1461(0.1458) Grad: 232278.6875  LR: 0.00000295  \n",
      "EVAL: [0/123] Elapsed 0m 0s (remain 1m 21s) Loss: 0.0957(0.0957) \n",
      "EVAL: [20/123] Elapsed 0m 11s (remain 0m 55s) Loss: 0.1057(0.1257) \n",
      "EVAL: [40/123] Elapsed 0m 22s (remain 0m 44s) Loss: 0.1046(0.1358) \n",
      "EVAL: [60/123] Elapsed 0m 33s (remain 0m 34s) Loss: 0.1571(0.1340) \n",
      "EVAL: [80/123] Elapsed 0m 45s (remain 0m 23s) Loss: 0.0614(0.1352) \n",
      "EVAL: [100/123] Elapsed 0m 55s (remain 0m 12s) Loss: 0.1359(0.1347) \n",
      "EVAL: [120/123] Elapsed 1m 5s (remain 0m 1s) Loss: 0.1343(0.1355) \n"
     ]
    },
    {
     "name": "stderr",
     "output_type": "stream",
     "text": [
      "Epoch 3 - avg_train_loss: 0.1458  avg_val_loss: 0.1353  time: 727s\n",
      "Epoch 3 - Score: 0.5234  Scores: [0.5506350171095352, 0.4887182088717981, 0.46406338666237823, 0.5455585131816288, 0.534251524362341, 0.5572465055798207]\n",
      "Epoch 3 - Save Best Score: 0.5234 Model\n"
     ]
    },
    {
     "name": "stdout",
     "output_type": "stream",
     "text": [
      "EVAL: [122/123] Elapsed 1m 6s (remain 0m 0s) Loss: 0.1084(0.1353) \n",
      "Epoch: [4][0/366] Elapsed 0m 1s (remain 11m 9s) Loss: 0.1213(0.1213) Grad: 185476.5938  LR: 0.00000294  \n",
      "Epoch: [4][20/366] Elapsed 0m 33s (remain 9m 17s) Loss: 0.1522(0.1330) Grad: 170199.8125  LR: 0.00000264  \n",
      "Epoch: [4][40/366] Elapsed 1m 18s (remain 10m 20s) Loss: 0.0652(0.1302) Grad: 99151.3125  LR: 0.00000236  \n",
      "Epoch: [4][60/366] Elapsed 1m 56s (remain 9m 44s) Loss: 0.1417(0.1275) Grad: 187048.8281  LR: 0.00000209  \n",
      "Epoch: [4][80/366] Elapsed 2m 35s (remain 9m 7s) Loss: 0.1312(0.1338) Grad: 421460.7188  LR: 0.00000183  \n",
      "Epoch: [4][100/366] Elapsed 3m 13s (remain 8m 27s) Loss: 0.1966(0.1346) Grad: 240421.0938  LR: 0.00000159  \n",
      "Epoch: [4][120/366] Elapsed 3m 50s (remain 7m 45s) Loss: 0.1171(0.1335) Grad: 229515.4062  LR: 0.00000137  \n",
      "Epoch: [4][140/366] Elapsed 4m 23s (remain 7m 1s) Loss: 0.1297(0.1330) Grad: 118703.2031  LR: 0.00000116  \n",
      "Epoch: [4][160/366] Elapsed 4m 59s (remain 6m 20s) Loss: 0.1305(0.1325) Grad: 186789.3438  LR: 0.00000097  \n",
      "Epoch: [4][180/366] Elapsed 5m 35s (remain 5m 43s) Loss: 0.1093(0.1318) Grad: 207540.9219  LR: 0.00000079  \n",
      "Epoch: [4][200/366] Elapsed 6m 7s (remain 5m 1s) Loss: 0.1754(0.1319) Grad: 196187.8594  LR: 0.00000063  \n",
      "Epoch: [4][220/366] Elapsed 6m 41s (remain 4m 23s) Loss: 0.2415(0.1325) Grad: 200696.3281  LR: 0.00000049  \n",
      "Epoch: [4][240/366] Elapsed 7m 10s (remain 3m 43s) Loss: 0.1006(0.1321) Grad: 208669.2031  LR: 0.00000037  \n",
      "Epoch: [4][260/366] Elapsed 7m 50s (remain 3m 9s) Loss: 0.1136(0.1320) Grad: 122354.3828  LR: 0.00000026  \n",
      "Epoch: [4][280/366] Elapsed 8m 26s (remain 2m 33s) Loss: 0.1607(0.1322) Grad: 341056.1562  LR: 0.00000017  \n",
      "Epoch: [4][300/366] Elapsed 8m 58s (remain 1m 56s) Loss: 0.2111(0.1335) Grad: 179002.4688  LR: 0.00000010  \n",
      "Epoch: [4][320/366] Elapsed 9m 31s (remain 1m 20s) Loss: 0.1665(0.1331) Grad: 235540.3125  LR: 0.00000005  \n",
      "Epoch: [4][340/366] Elapsed 10m 12s (remain 0m 44s) Loss: 0.0836(0.1335) Grad: 206097.2188  LR: 0.00000002  \n",
      "Epoch: [4][360/366] Elapsed 10m 48s (remain 0m 8s) Loss: 0.1601(0.1340) Grad: 121098.5781  LR: 0.00000000  \n",
      "Epoch: [4][365/366] Elapsed 10m 57s (remain 0m 0s) Loss: 0.1165(0.1340) Grad: 225162.9688  LR: 0.00000000  \n",
      "EVAL: [0/123] Elapsed 0m 0s (remain 1m 20s) Loss: 0.0906(0.0906) \n",
      "EVAL: [20/123] Elapsed 0m 11s (remain 0m 56s) Loss: 0.1043(0.1232) \n",
      "EVAL: [40/123] Elapsed 0m 22s (remain 0m 45s) Loss: 0.1098(0.1349) \n",
      "EVAL: [60/123] Elapsed 0m 33s (remain 0m 34s) Loss: 0.1554(0.1332) \n",
      "EVAL: [80/123] Elapsed 0m 45s (remain 0m 23s) Loss: 0.0576(0.1342) \n",
      "EVAL: [100/123] Elapsed 0m 55s (remain 0m 12s) Loss: 0.1341(0.1341) \n",
      "EVAL: [120/123] Elapsed 1m 5s (remain 0m 1s) Loss: 0.1296(0.1347) \n"
     ]
    },
    {
     "name": "stderr",
     "output_type": "stream",
     "text": [
      "Epoch 4 - avg_train_loss: 0.1340  avg_val_loss: 0.1345  time: 724s\n",
      "Epoch 4 - Score: 0.5219  Scores: [0.551751215134716, 0.4896873455426109, 0.4627711428417883, 0.5422156940879356, 0.5336424312515973, 0.5514387125686696]\n",
      "Epoch 4 - Save Best Score: 0.5219 Model\n"
     ]
    },
    {
     "name": "stdout",
     "output_type": "stream",
     "text": [
      "EVAL: [122/123] Elapsed 1m 6s (remain 0m 0s) Loss: 0.1042(0.1345) \n"
     ]
    },
    {
     "name": "stderr",
     "output_type": "stream",
     "text": [
      "========== fold: 0 result ==========\n",
      "Score: 0.5219  Scores: [0.551751215134716, 0.4896873455426109, 0.4627711428417883, 0.5422156940879356, 0.5336424312515973, 0.5514387125686696]\n",
      "========== fold: 1 training ==========\n",
      "DebertaV2Config {\n",
      "  \"_name_or_path\": \"microsoft/deberta-v3-base\",\n",
      "  \"attention_dropout\": 0.0,\n",
      "  \"attention_probs_dropout_prob\": 0.0,\n",
      "  \"hidden_act\": \"gelu\",\n",
      "  \"hidden_dropout\": 0.0,\n",
      "  \"hidden_dropout_prob\": 0.0,\n",
      "  \"hidden_size\": 768,\n",
      "  \"initializer_range\": 0.02,\n",
      "  \"intermediate_size\": 3072,\n",
      "  \"layer_norm_eps\": 1e-07,\n",
      "  \"max_position_embeddings\": 512,\n",
      "  \"max_relative_positions\": -1,\n",
      "  \"model_type\": \"deberta-v2\",\n",
      "  \"norm_rel_ebd\": \"layer_norm\",\n",
      "  \"num_attention_heads\": 12,\n",
      "  \"num_hidden_layers\": 12,\n",
      "  \"output_hidden_states\": true,\n",
      "  \"pad_token_id\": 0,\n",
      "  \"pooler_dropout\": 0,\n",
      "  \"pooler_hidden_act\": \"gelu\",\n",
      "  \"pooler_hidden_size\": 768,\n",
      "  \"pos_att_type\": [\n",
      "    \"p2c\",\n",
      "    \"c2p\"\n",
      "  ],\n",
      "  \"position_biased_input\": false,\n",
      "  \"position_buckets\": 256,\n",
      "  \"relative_attention\": true,\n",
      "  \"share_att_key\": true,\n",
      "  \"transformers_version\": \"4.21.2\",\n",
      "  \"type_vocab_size\": 0,\n",
      "  \"vocab_size\": 128100\n",
      "}\n",
      "\n",
      "Some weights of the model checkpoint at microsoft/deberta-v3-base were not used when initializing DebertaV2Model: ['mask_predictions.dense.bias', 'lm_predictions.lm_head.dense.bias', 'mask_predictions.dense.weight', 'lm_predictions.lm_head.LayerNorm.weight', 'lm_predictions.lm_head.dense.weight', 'mask_predictions.LayerNorm.weight', 'mask_predictions.classifier.weight', 'lm_predictions.lm_head.bias', 'mask_predictions.LayerNorm.bias', 'mask_predictions.classifier.bias', 'lm_predictions.lm_head.LayerNorm.bias']\n",
      "- This IS expected if you are initializing DebertaV2Model from the checkpoint of a model trained on another task or with another architecture (e.g. initializing a BertForSequenceClassification model from a BertForPreTraining model).\n",
      "- This IS NOT expected if you are initializing DebertaV2Model from the checkpoint of a model that you expect to be exactly identical (initializing a BertForSequenceClassification model from a BertForSequenceClassification model).\n"
     ]
    },
    {
     "name": "stdout",
     "output_type": "stream",
     "text": [
      "Epoch: [1][0/366] Elapsed 0m 1s (remain 9m 6s) Loss: 2.7813(2.7813) Grad: 293892.3438  LR: 0.00002000  \n",
      "Epoch: [1][20/366] Elapsed 0m 31s (remain 8m 36s) Loss: 1.7669(2.3115) Grad: 417089.1250  LR: 0.00001999  \n",
      "Epoch: [1][40/366] Elapsed 1m 4s (remain 8m 29s) Loss: 1.0855(1.9673) Grad: 542323.8750  LR: 0.00001996  \n",
      "Epoch: [1][60/366] Elapsed 1m 42s (remain 8m 30s) Loss: 0.6825(1.6602) Grad: 316787.5625  LR: 0.00001991  \n",
      "Epoch: [1][80/366] Elapsed 2m 19s (remain 8m 9s) Loss: 0.4987(1.3929) Grad: 252071.9688  LR: 0.00001985  \n",
      "Epoch: [1][100/366] Elapsed 2m 51s (remain 7m 29s) Loss: 0.4706(1.1893) Grad: 67700.6797  LR: 0.00001977  \n",
      "Epoch: [1][120/366] Elapsed 3m 28s (remain 7m 1s) Loss: 0.5859(1.0503) Grad: 82268.1484  LR: 0.00001967  \n",
      "Epoch: [1][140/366] Elapsed 4m 5s (remain 6m 31s) Loss: 0.2982(0.9448) Grad: 122742.8438  LR: 0.00001955  \n",
      "Epoch: [1][160/366] Elapsed 4m 39s (remain 5m 55s) Loss: 0.2262(0.8661) Grad: 121475.3906  LR: 0.00001941  \n",
      "Epoch: [1][180/366] Elapsed 5m 12s (remain 5m 19s) Loss: 0.2324(0.8051) Grad: 123874.0078  LR: 0.00001926  \n",
      "Epoch: [1][200/366] Elapsed 5m 47s (remain 4m 45s) Loss: 0.2617(0.7542) Grad: 119509.8438  LR: 0.00001909  \n",
      "Epoch: [1][220/366] Elapsed 6m 24s (remain 4m 12s) Loss: 0.2269(0.7099) Grad: 162319.7969  LR: 0.00001890  \n",
      "Epoch: [1][240/366] Elapsed 7m 7s (remain 3m 41s) Loss: 0.1855(0.6734) Grad: 89539.7969  LR: 0.00001870  \n",
      "Epoch: [1][260/366] Elapsed 7m 43s (remain 3m 6s) Loss: 0.2732(0.6396) Grad: 137212.9219  LR: 0.00001848  \n",
      "Epoch: [1][280/366] Elapsed 8m 24s (remain 2m 32s) Loss: 0.1364(0.6110) Grad: 98304.6016  LR: 0.00001824  \n",
      "Epoch: [1][300/366] Elapsed 9m 3s (remain 1m 57s) Loss: 0.1804(0.5844) Grad: 60938.5117  LR: 0.00001799  \n",
      "Epoch: [1][320/366] Elapsed 9m 35s (remain 1m 20s) Loss: 0.1925(0.5610) Grad: 134429.2812  LR: 0.00001773  \n",
      "Epoch: [1][340/366] Elapsed 10m 12s (remain 0m 44s) Loss: 0.1646(0.5410) Grad: 166341.1406  LR: 0.00001745  \n",
      "Epoch: [1][360/366] Elapsed 10m 46s (remain 0m 8s) Loss: 0.1858(0.5217) Grad: 125295.3672  LR: 0.00001716  \n",
      "Epoch: [1][365/366] Elapsed 10m 56s (remain 0m 0s) Loss: 0.2704(0.5172) Grad: 310182.9062  LR: 0.00001708  \n",
      "EVAL: [0/123] Elapsed 0m 0s (remain 1m 27s) Loss: 0.1935(0.1935) \n",
      "EVAL: [20/123] Elapsed 0m 10s (remain 0m 49s) Loss: 0.1894(0.2173) \n",
      "EVAL: [40/123] Elapsed 0m 20s (remain 0m 41s) Loss: 0.2510(0.2206) \n",
      "EVAL: [60/123] Elapsed 0m 31s (remain 0m 32s) Loss: 0.2210(0.2166) \n",
      "EVAL: [80/123] Elapsed 0m 42s (remain 0m 21s) Loss: 0.1788(0.2114) \n",
      "EVAL: [100/123] Elapsed 0m 53s (remain 0m 11s) Loss: 0.1762(0.2109) \n",
      "EVAL: [120/123] Elapsed 1m 5s (remain 0m 1s) Loss: 0.1736(0.2114) \n"
     ]
    },
    {
     "name": "stderr",
     "output_type": "stream",
     "text": [
      "Epoch 1 - avg_train_loss: 0.5172  avg_val_loss: 0.2123  time: 723s\n",
      "Epoch 1 - Score: 0.6635  Scores: [0.650471587793079, 0.6517138012975425, 0.6476426223639417, 0.6245605601506939, 0.6695395372916095, 0.7369326330532985]\n",
      "Epoch 1 - Save Best Score: 0.6635 Model\n"
     ]
    },
    {
     "name": "stdout",
     "output_type": "stream",
     "text": [
      "EVAL: [122/123] Elapsed 1m 6s (remain 0m 0s) Loss: 1.2412(0.2123) \n",
      "Epoch: [2][0/366] Elapsed 0m 1s (remain 9m 25s) Loss: 0.2143(0.2143) Grad: 231934.8750  LR: 0.00001707  \n",
      "Epoch: [2][20/366] Elapsed 0m 31s (remain 8m 30s) Loss: 0.2621(0.1958) Grad: 229509.4531  LR: 0.00001676  \n",
      "Epoch: [2][40/366] Elapsed 1m 7s (remain 8m 55s) Loss: 0.1423(0.1930) Grad: 153436.0938  LR: 0.00001644  \n",
      "Epoch: [2][60/366] Elapsed 1m 51s (remain 9m 15s) Loss: 0.1627(0.1907) Grad: 198921.4375  LR: 0.00001610  \n",
      "Epoch: [2][80/366] Elapsed 2m 30s (remain 8m 49s) Loss: 0.2139(0.1845) Grad: 163840.3594  LR: 0.00001576  \n",
      "Epoch: [2][100/366] Elapsed 3m 11s (remain 8m 22s) Loss: 0.2019(0.1863) Grad: 162358.0156  LR: 0.00001540  \n",
      "Epoch: [2][120/366] Elapsed 3m 49s (remain 7m 45s) Loss: 0.2801(0.1895) Grad: 567010.6250  LR: 0.00001504  \n",
      "Epoch: [2][140/366] Elapsed 4m 24s (remain 7m 1s) Loss: 0.0832(0.1865) Grad: 192844.0156  LR: 0.00001466  \n",
      "Epoch: [2][160/366] Elapsed 5m 1s (remain 6m 23s) Loss: 0.1392(0.1842) Grad: 324326.9062  LR: 0.00001428  \n",
      "Epoch: [2][180/366] Elapsed 5m 36s (remain 5m 44s) Loss: 0.1301(0.1834) Grad: 238741.4219  LR: 0.00001389  \n",
      "Epoch: [2][200/366] Elapsed 6m 6s (remain 5m 0s) Loss: 0.2126(0.1824) Grad: 154555.1094  LR: 0.00001349  \n",
      "Epoch: [2][220/366] Elapsed 6m 43s (remain 4m 24s) Loss: 0.2486(0.1814) Grad: 283372.2812  LR: 0.00001309  \n",
      "Epoch: [2][240/366] Elapsed 7m 15s (remain 3m 46s) Loss: 0.1709(0.1813) Grad: 273860.6562  LR: 0.00001268  \n",
      "Epoch: [2][260/366] Elapsed 7m 51s (remain 3m 9s) Loss: 0.1235(0.1790) Grad: 213535.5625  LR: 0.00001226  \n",
      "Epoch: [2][280/366] Elapsed 8m 25s (remain 2m 32s) Loss: 0.1805(0.1774) Grad: 226788.7812  LR: 0.00001184  \n",
      "Epoch: [2][300/366] Elapsed 9m 2s (remain 1m 57s) Loss: 0.1669(0.1758) Grad: 258098.8750  LR: 0.00001142  \n",
      "Epoch: [2][320/366] Elapsed 9m 37s (remain 1m 20s) Loss: 0.1120(0.1738) Grad: 246660.0156  LR: 0.00001099  \n",
      "Epoch: [2][340/366] Elapsed 10m 10s (remain 0m 44s) Loss: 0.1778(0.1740) Grad: 389085.5312  LR: 0.00001057  \n",
      "Epoch: [2][360/366] Elapsed 10m 47s (remain 0m 8s) Loss: 0.1396(0.1726) Grad: 210760.5000  LR: 0.00001014  \n",
      "Epoch: [2][365/366] Elapsed 10m 54s (remain 0m 0s) Loss: 0.1207(0.1722) Grad: 255833.0469  LR: 0.00001003  \n",
      "EVAL: [0/123] Elapsed 0m 0s (remain 1m 31s) Loss: 0.1172(0.1172) \n",
      "EVAL: [20/123] Elapsed 0m 10s (remain 0m 50s) Loss: 0.1084(0.1687) \n",
      "EVAL: [40/123] Elapsed 0m 20s (remain 0m 41s) Loss: 0.1905(0.1732) \n",
      "EVAL: [60/123] Elapsed 0m 32s (remain 0m 32s) Loss: 0.1821(0.1686) \n",
      "EVAL: [80/123] Elapsed 0m 42s (remain 0m 21s) Loss: 0.1522(0.1652) \n",
      "EVAL: [100/123] Elapsed 0m 53s (remain 0m 11s) Loss: 0.1447(0.1630) \n",
      "EVAL: [120/123] Elapsed 1m 5s (remain 0m 1s) Loss: 0.1341(0.1629) \n"
     ]
    },
    {
     "name": "stderr",
     "output_type": "stream",
     "text": [
      "Epoch 2 - avg_train_loss: 0.1722  avg_val_loss: 0.1634  time: 721s\n",
      "Epoch 2 - Score: 0.5781  Scores: [0.5818210045414083, 0.5644997220465882, 0.5474846256092751, 0.5386086834591635, 0.5900453985302195, 0.6459309607801645]\n",
      "Epoch 2 - Save Best Score: 0.5781 Model\n"
     ]
    },
    {
     "name": "stdout",
     "output_type": "stream",
     "text": [
      "EVAL: [122/123] Elapsed 1m 6s (remain 0m 0s) Loss: 0.6264(0.1634) \n",
      "Epoch: [3][0/366] Elapsed 0m 2s (remain 13m 37s) Loss: 0.1526(0.1526) Grad: 237764.1875  LR: 0.00001001  \n",
      "Epoch: [3][20/366] Elapsed 0m 42s (remain 11m 33s) Loss: 0.1696(0.1543) Grad: 165371.9219  LR: 0.00000958  \n",
      "Epoch: [3][40/366] Elapsed 1m 18s (remain 10m 21s) Loss: 0.2057(0.1489) Grad: 187766.3438  LR: 0.00000916  \n",
      "Epoch: [3][60/366] Elapsed 1m 55s (remain 9m 38s) Loss: 0.1226(0.1449) Grad: 155944.1250  LR: 0.00000873  \n",
      "Epoch: [3][80/366] Elapsed 2m 27s (remain 8m 38s) Loss: 0.1502(0.1455) Grad: 343523.5000  LR: 0.00000831  \n",
      "Epoch: [3][100/366] Elapsed 3m 4s (remain 8m 3s) Loss: 0.1421(0.1458) Grad: 204137.9531  LR: 0.00000789  \n",
      "Epoch: [3][120/366] Elapsed 3m 36s (remain 7m 18s) Loss: 0.1600(0.1447) Grad: 145713.8906  LR: 0.00000747  \n",
      "Epoch: [3][140/366] Elapsed 4m 11s (remain 6m 41s) Loss: 0.1035(0.1429) Grad: 211828.1719  LR: 0.00000706  \n",
      "Epoch: [3][160/366] Elapsed 4m 47s (remain 6m 6s) Loss: 0.1795(0.1428) Grad: 197185.7969  LR: 0.00000665  \n",
      "Epoch: [3][180/366] Elapsed 5m 22s (remain 5m 29s) Loss: 0.2150(0.1434) Grad: 317055.2500  LR: 0.00000625  \n",
      "Epoch: [3][200/366] Elapsed 5m 58s (remain 4m 54s) Loss: 0.1911(0.1440) Grad: 329349.7812  LR: 0.00000586  \n",
      "Epoch: [3][220/366] Elapsed 6m 43s (remain 4m 24s) Loss: 0.1791(0.1439) Grad: 279170.8750  LR: 0.00000547  \n",
      "Epoch: [3][240/366] Elapsed 7m 14s (remain 3m 45s) Loss: 0.0749(0.1424) Grad: 177401.2031  LR: 0.00000509  \n",
      "Epoch: [3][260/366] Elapsed 7m 51s (remain 3m 9s) Loss: 0.0872(0.1417) Grad: 123791.3984  LR: 0.00000472  \n",
      "Epoch: [3][280/366] Elapsed 8m 34s (remain 2m 35s) Loss: 0.0907(0.1417) Grad: 223528.9844  LR: 0.00000437  \n",
      "Epoch: [3][300/366] Elapsed 9m 7s (remain 1m 58s) Loss: 0.1211(0.1423) Grad: 215480.0781  LR: 0.00000402  \n",
      "Epoch: [3][320/366] Elapsed 9m 42s (remain 1m 21s) Loss: 0.1037(0.1423) Grad: 153763.4531  LR: 0.00000368  \n",
      "Epoch: [3][340/366] Elapsed 10m 14s (remain 0m 45s) Loss: 0.0988(0.1418) Grad: 101201.4375  LR: 0.00000335  \n",
      "Epoch: [3][360/366] Elapsed 10m 48s (remain 0m 8s) Loss: 0.1418(0.1414) Grad: 337570.7188  LR: 0.00000304  \n",
      "Epoch: [3][365/366] Elapsed 10m 58s (remain 0m 0s) Loss: 0.1742(0.1413) Grad: 258871.6719  LR: 0.00000296  \n",
      "EVAL: [0/123] Elapsed 0m 0s (remain 1m 28s) Loss: 0.1014(0.1014) \n",
      "EVAL: [20/123] Elapsed 0m 10s (remain 0m 50s) Loss: 0.0983(0.1501) \n",
      "EVAL: [40/123] Elapsed 0m 20s (remain 0m 41s) Loss: 0.1480(0.1518) \n",
      "EVAL: [60/123] Elapsed 0m 32s (remain 0m 32s) Loss: 0.1527(0.1481) \n",
      "EVAL: [80/123] Elapsed 0m 42s (remain 0m 21s) Loss: 0.1301(0.1463) \n",
      "EVAL: [100/123] Elapsed 0m 53s (remain 0m 11s) Loss: 0.1248(0.1445) \n",
      "EVAL: [120/123] Elapsed 1m 5s (remain 0m 1s) Loss: 0.1124(0.1449) \n"
     ]
    },
    {
     "name": "stderr",
     "output_type": "stream",
     "text": [
      "Epoch 3 - avg_train_loss: 0.1413  avg_val_loss: 0.1453  time: 725s\n",
      "Epoch 3 - Score: 0.5426  Scores: [0.5475938657968408, 0.5298952380022796, 0.5127978992014339, 0.5039159026312185, 0.5561827819028274, 0.605333091610291]\n",
      "Epoch 3 - Save Best Score: 0.5426 Model\n"
     ]
    },
    {
     "name": "stdout",
     "output_type": "stream",
     "text": [
      "EVAL: [122/123] Elapsed 1m 6s (remain 0m 0s) Loss: 0.4716(0.1453) \n",
      "Epoch: [4][0/366] Elapsed 0m 1s (remain 8m 3s) Loss: 0.2029(0.2029) Grad: 488980.6875  LR: 0.00000295  \n",
      "Epoch: [4][20/366] Elapsed 0m 33s (remain 9m 18s) Loss: 0.1332(0.1393) Grad: 194119.1562  LR: 0.00000265  \n",
      "Epoch: [4][40/366] Elapsed 1m 14s (remain 9m 47s) Loss: 0.0977(0.1367) Grad: 156946.7188  LR: 0.00000237  \n",
      "Epoch: [4][60/366] Elapsed 1m 49s (remain 9m 5s) Loss: 0.0726(0.1335) Grad: 137843.6562  LR: 0.00000210  \n",
      "Epoch: [4][80/366] Elapsed 2m 21s (remain 8m 18s) Loss: 0.1519(0.1329) Grad: 209868.6719  LR: 0.00000184  \n",
      "Epoch: [4][100/366] Elapsed 3m 1s (remain 7m 55s) Loss: 0.1171(0.1321) Grad: 281740.0000  LR: 0.00000160  \n",
      "Epoch: [4][120/366] Elapsed 3m 43s (remain 7m 31s) Loss: 0.1846(0.1319) Grad: 228661.5469  LR: 0.00000138  \n",
      "Epoch: [4][140/366] Elapsed 4m 23s (remain 7m 0s) Loss: 0.1784(0.1322) Grad: 162785.5781  LR: 0.00000117  \n",
      "Epoch: [4][160/366] Elapsed 4m 59s (remain 6m 20s) Loss: 0.0961(0.1312) Grad: 222591.0469  LR: 0.00000098  \n",
      "Epoch: [4][180/366] Elapsed 5m 31s (remain 5m 38s) Loss: 0.0914(0.1302) Grad: 203701.7188  LR: 0.00000080  \n",
      "Epoch: [4][200/366] Elapsed 6m 3s (remain 4m 58s) Loss: 0.1040(0.1308) Grad: 154142.2188  LR: 0.00000064  \n",
      "Epoch: [4][220/366] Elapsed 6m 36s (remain 4m 20s) Loss: 0.1426(0.1296) Grad: 349606.2188  LR: 0.00000050  \n",
      "Epoch: [4][240/366] Elapsed 7m 9s (remain 3m 42s) Loss: 0.1305(0.1290) Grad: 196541.6719  LR: 0.00000037  \n",
      "Epoch: [4][260/366] Elapsed 7m 49s (remain 3m 8s) Loss: 0.1466(0.1299) Grad: 150023.0625  LR: 0.00000027  \n",
      "Epoch: [4][280/366] Elapsed 8m 24s (remain 2m 32s) Loss: 0.2607(0.1299) Grad: 259733.8125  LR: 0.00000018  \n",
      "Epoch: [4][300/366] Elapsed 9m 5s (remain 1m 57s) Loss: 0.1304(0.1297) Grad: 236845.0000  LR: 0.00000011  \n",
      "Epoch: [4][320/366] Elapsed 9m 40s (remain 1m 21s) Loss: 0.1072(0.1304) Grad: 168940.2188  LR: 0.00000005  \n",
      "Epoch: [4][340/366] Elapsed 10m 14s (remain 0m 45s) Loss: 0.0804(0.1301) Grad: 159057.0625  LR: 0.00000002  \n",
      "Epoch: [4][360/366] Elapsed 10m 48s (remain 0m 8s) Loss: 0.2349(0.1300) Grad: 213954.5469  LR: 0.00000000  \n",
      "Epoch: [4][365/366] Elapsed 11m 0s (remain 0m 0s) Loss: 0.1324(0.1299) Grad: 312704.2500  LR: 0.00000000  \n",
      "EVAL: [0/123] Elapsed 0m 0s (remain 1m 28s) Loss: 0.1019(0.1019) \n",
      "EVAL: [20/123] Elapsed 0m 10s (remain 0m 49s) Loss: 0.0944(0.1471) \n",
      "EVAL: [40/123] Elapsed 0m 20s (remain 0m 41s) Loss: 0.1447(0.1492) \n",
      "EVAL: [60/123] Elapsed 0m 32s (remain 0m 32s) Loss: 0.1507(0.1456) \n",
      "EVAL: [80/123] Elapsed 0m 42s (remain 0m 21s) Loss: 0.1262(0.1440) \n",
      "EVAL: [100/123] Elapsed 0m 53s (remain 0m 11s) Loss: 0.1170(0.1421) \n",
      "EVAL: [120/123] Elapsed 1m 5s (remain 0m 1s) Loss: 0.1108(0.1428) \n"
     ]
    },
    {
     "name": "stderr",
     "output_type": "stream",
     "text": [
      "Epoch 4 - avg_train_loss: 0.1299  avg_val_loss: 0.1432  time: 727s\n",
      "Epoch 4 - Score: 0.5386  Scores: [0.5467315626002718, 0.524301855527244, 0.5080749437341902, 0.5021669801925688, 0.5520060402683817, 0.5981544715499205]\n",
      "Epoch 4 - Save Best Score: 0.5386 Model\n"
     ]
    },
    {
     "name": "stdout",
     "output_type": "stream",
     "text": [
      "EVAL: [122/123] Elapsed 1m 6s (remain 0m 0s) Loss: 0.4428(0.1432) \n"
     ]
    },
    {
     "name": "stderr",
     "output_type": "stream",
     "text": [
      "========== fold: 1 result ==========\n",
      "Score: 0.5386  Scores: [0.5467315626002718, 0.524301855527244, 0.5080749437341902, 0.5021669801925688, 0.5520060402683817, 0.5981544715499205]\n",
      "========== fold: 2 training ==========\n",
      "DebertaV2Config {\n",
      "  \"_name_or_path\": \"microsoft/deberta-v3-base\",\n",
      "  \"attention_dropout\": 0.0,\n",
      "  \"attention_probs_dropout_prob\": 0.0,\n",
      "  \"hidden_act\": \"gelu\",\n",
      "  \"hidden_dropout\": 0.0,\n",
      "  \"hidden_dropout_prob\": 0.0,\n",
      "  \"hidden_size\": 768,\n",
      "  \"initializer_range\": 0.02,\n",
      "  \"intermediate_size\": 3072,\n",
      "  \"layer_norm_eps\": 1e-07,\n",
      "  \"max_position_embeddings\": 512,\n",
      "  \"max_relative_positions\": -1,\n",
      "  \"model_type\": \"deberta-v2\",\n",
      "  \"norm_rel_ebd\": \"layer_norm\",\n",
      "  \"num_attention_heads\": 12,\n",
      "  \"num_hidden_layers\": 12,\n",
      "  \"output_hidden_states\": true,\n",
      "  \"pad_token_id\": 0,\n",
      "  \"pooler_dropout\": 0,\n",
      "  \"pooler_hidden_act\": \"gelu\",\n",
      "  \"pooler_hidden_size\": 768,\n",
      "  \"pos_att_type\": [\n",
      "    \"p2c\",\n",
      "    \"c2p\"\n",
      "  ],\n",
      "  \"position_biased_input\": false,\n",
      "  \"position_buckets\": 256,\n",
      "  \"relative_attention\": true,\n",
      "  \"share_att_key\": true,\n",
      "  \"transformers_version\": \"4.21.2\",\n",
      "  \"type_vocab_size\": 0,\n",
      "  \"vocab_size\": 128100\n",
      "}\n",
      "\n",
      "Some weights of the model checkpoint at microsoft/deberta-v3-base were not used when initializing DebertaV2Model: ['mask_predictions.dense.bias', 'lm_predictions.lm_head.dense.bias', 'mask_predictions.dense.weight', 'lm_predictions.lm_head.LayerNorm.weight', 'lm_predictions.lm_head.dense.weight', 'mask_predictions.LayerNorm.weight', 'mask_predictions.classifier.weight', 'lm_predictions.lm_head.bias', 'mask_predictions.LayerNorm.bias', 'mask_predictions.classifier.bias', 'lm_predictions.lm_head.LayerNorm.bias']\n",
      "- This IS expected if you are initializing DebertaV2Model from the checkpoint of a model trained on another task or with another architecture (e.g. initializing a BertForSequenceClassification model from a BertForPreTraining model).\n",
      "- This IS NOT expected if you are initializing DebertaV2Model from the checkpoint of a model that you expect to be exactly identical (initializing a BertForSequenceClassification model from a BertForSequenceClassification model).\n"
     ]
    },
    {
     "name": "stdout",
     "output_type": "stream",
     "text": [
      "Epoch: [1][0/366] Elapsed 0m 1s (remain 12m 5s) Loss: 2.6473(2.6473) Grad: 295411.6875  LR: 0.00002000  \n",
      "Epoch: [1][20/366] Elapsed 0m 40s (remain 11m 3s) Loss: 2.0993(2.3250) Grad: 430173.3125  LR: 0.00001999  \n",
      "Epoch: [1][40/366] Elapsed 1m 14s (remain 9m 53s) Loss: 1.5357(2.0030) Grad: 582530.0625  LR: 0.00001996  \n",
      "Epoch: [1][60/366] Elapsed 1m 58s (remain 9m 51s) Loss: 0.6614(1.6787) Grad: 661936.5625  LR: 0.00001991  \n",
      "Epoch: [1][80/366] Elapsed 2m 33s (remain 9m 0s) Loss: 0.1676(1.3893) Grad: 139426.4531  LR: 0.00001985  \n",
      "Epoch: [1][100/366] Elapsed 3m 7s (remain 8m 12s) Loss: 0.3377(1.1894) Grad: 275086.5938  LR: 0.00001977  \n",
      "Epoch: [1][120/366] Elapsed 3m 44s (remain 7m 34s) Loss: 0.3111(1.0473) Grad: 184934.2656  LR: 0.00001967  \n",
      "Epoch: [1][140/366] Elapsed 4m 27s (remain 7m 6s) Loss: 0.1975(0.9466) Grad: 183093.2188  LR: 0.00001955  \n",
      "Epoch: [1][160/366] Elapsed 5m 3s (remain 6m 26s) Loss: 0.3466(0.8683) Grad: 81931.1953  LR: 0.00001941  \n",
      "Epoch: [1][180/366] Elapsed 5m 37s (remain 5m 44s) Loss: 0.3395(0.8058) Grad: 279884.4375  LR: 0.00001926  \n",
      "Epoch: [1][200/366] Elapsed 6m 9s (remain 5m 3s) Loss: 0.3767(0.7541) Grad: 146016.9531  LR: 0.00001909  \n",
      "Epoch: [1][220/366] Elapsed 6m 50s (remain 4m 29s) Loss: 0.3338(0.7129) Grad: 131479.7812  LR: 0.00001890  \n",
      "Epoch: [1][240/366] Elapsed 7m 29s (remain 3m 53s) Loss: 0.2983(0.6738) Grad: 103598.7266  LR: 0.00001870  \n",
      "Epoch: [1][260/366] Elapsed 8m 5s (remain 3m 15s) Loss: 0.2652(0.6400) Grad: 98481.0391  LR: 0.00001848  \n",
      "Epoch: [1][280/366] Elapsed 8m 42s (remain 2m 38s) Loss: 0.1801(0.6105) Grad: 136986.1562  LR: 0.00001824  \n",
      "Epoch: [1][300/366] Elapsed 9m 16s (remain 2m 0s) Loss: 0.2792(0.5838) Grad: 171003.6094  LR: 0.00001799  \n",
      "Epoch: [1][320/366] Elapsed 9m 50s (remain 1m 22s) Loss: 0.2336(0.5608) Grad: 240843.2344  LR: 0.00001773  \n",
      "Epoch: [1][340/366] Elapsed 10m 33s (remain 0m 46s) Loss: 0.1932(0.5414) Grad: 149634.9844  LR: 0.00001745  \n",
      "Epoch: [1][360/366] Elapsed 11m 10s (remain 0m 9s) Loss: 0.2138(0.5228) Grad: 175307.3438  LR: 0.00001715  \n",
      "Epoch: [1][365/366] Elapsed 11m 18s (remain 0m 0s) Loss: 0.1695(0.5182) Grad: 90344.4219  LR: 0.00001708  \n",
      "EVAL: [0/123] Elapsed 0m 0s (remain 1m 26s) Loss: 0.2829(0.2829) \n",
      "EVAL: [20/123] Elapsed 0m 9s (remain 0m 48s) Loss: 0.2281(0.2225) \n",
      "EVAL: [40/123] Elapsed 0m 20s (remain 0m 40s) Loss: 0.2137(0.2148) \n",
      "EVAL: [60/123] Elapsed 0m 30s (remain 0m 30s) Loss: 0.1481(0.2085) \n",
      "EVAL: [80/123] Elapsed 0m 38s (remain 0m 20s) Loss: 0.1320(0.2088) \n",
      "EVAL: [100/123] Elapsed 0m 48s (remain 0m 10s) Loss: 0.1498(0.2107) \n",
      "EVAL: [120/123] Elapsed 0m 58s (remain 0m 0s) Loss: 0.1697(0.2139) \n"
     ]
    },
    {
     "name": "stderr",
     "output_type": "stream",
     "text": [
      "Epoch 1 - avg_train_loss: 0.5182  avg_val_loss: 0.2158  time: 738s\n",
      "Epoch 1 - Score: 0.6718  Scores: [0.6269321434524014, 0.6373143093641328, 0.6888970939305539, 0.720214473430635, 0.7161642567205302, 0.6411607582602631]\n",
      "Epoch 1 - Save Best Score: 0.6718 Model\n"
     ]
    },
    {
     "name": "stdout",
     "output_type": "stream",
     "text": [
      "EVAL: [122/123] Elapsed 0m 58s (remain 0m 0s) Loss: 1.2227(0.2158) \n",
      "Epoch: [2][0/366] Elapsed 0m 1s (remain 9m 27s) Loss: 0.2255(0.2255) Grad: 244160.2188  LR: 0.00001706  \n",
      "Epoch: [2][20/366] Elapsed 0m 42s (remain 11m 43s) Loss: 0.2034(0.1925) Grad: 162824.9062  LR: 0.00001675  \n",
      "Epoch: [2][40/366] Elapsed 1m 24s (remain 11m 11s) Loss: 0.1305(0.2020) Grad: 223104.4688  LR: 0.00001643  \n",
      "Epoch: [2][60/366] Elapsed 1m 59s (remain 9m 58s) Loss: 0.2144(0.1902) Grad: 339222.4375  LR: 0.00001610  \n",
      "Epoch: [2][80/366] Elapsed 2m 40s (remain 9m 23s) Loss: 0.1915(0.1948) Grad: 145577.7344  LR: 0.00001575  \n",
      "Epoch: [2][100/366] Elapsed 3m 20s (remain 8m 45s) Loss: 0.1304(0.1905) Grad: 132779.3438  LR: 0.00001540  \n",
      "Epoch: [2][120/366] Elapsed 3m 59s (remain 8m 4s) Loss: 0.2311(0.1910) Grad: 353331.2812  LR: 0.00001503  \n",
      "Epoch: [2][140/366] Elapsed 4m 33s (remain 7m 16s) Loss: 0.1010(0.1914) Grad: 71693.5859  LR: 0.00001466  \n",
      "Epoch: [2][160/366] Elapsed 5m 10s (remain 6m 35s) Loss: 0.1643(0.1890) Grad: 507344.0312  LR: 0.00001427  \n",
      "Epoch: [2][180/366] Elapsed 5m 50s (remain 5m 58s) Loss: 0.3278(0.1886) Grad: 151133.2969  LR: 0.00001388  \n",
      "Epoch: [2][200/366] Elapsed 6m 28s (remain 5m 19s) Loss: 0.1027(0.1846) Grad: 261258.0625  LR: 0.00001348  \n",
      "Epoch: [2][220/366] Elapsed 7m 7s (remain 4m 40s) Loss: 0.1451(0.1812) Grad: 322541.0000  LR: 0.00001308  \n",
      "Epoch: [2][240/366] Elapsed 7m 41s (remain 3m 59s) Loss: 0.1854(0.1812) Grad: 355541.5938  LR: 0.00001267  \n",
      "Epoch: [2][260/366] Elapsed 8m 11s (remain 3m 17s) Loss: 0.1696(0.1791) Grad: 161337.0469  LR: 0.00001225  \n",
      "Epoch: [2][280/366] Elapsed 8m 48s (remain 2m 39s) Loss: 0.1003(0.1775) Grad: 187040.9375  LR: 0.00001183  \n",
      "Epoch: [2][300/366] Elapsed 9m 22s (remain 2m 1s) Loss: 0.1261(0.1759) Grad: 119130.3281  LR: 0.00001141  \n",
      "Epoch: [2][320/366] Elapsed 9m 58s (remain 1m 23s) Loss: 0.0882(0.1746) Grad: 334437.5625  LR: 0.00001098  \n",
      "Epoch: [2][340/366] Elapsed 10m 42s (remain 0m 47s) Loss: 0.1759(0.1743) Grad: 156710.0781  LR: 0.00001056  \n",
      "Epoch: [2][360/366] Elapsed 11m 14s (remain 0m 9s) Loss: 0.2318(0.1733) Grad: 358295.5938  LR: 0.00001013  \n",
      "Epoch: [2][365/366] Elapsed 11m 21s (remain 0m 0s) Loss: 0.1936(0.1730) Grad: 140124.2500  LR: 0.00001002  \n",
      "EVAL: [0/123] Elapsed 0m 0s (remain 1m 22s) Loss: 0.2206(0.2206) \n",
      "EVAL: [20/123] Elapsed 0m 9s (remain 0m 48s) Loss: 0.1881(0.1692) \n",
      "EVAL: [40/123] Elapsed 0m 20s (remain 0m 40s) Loss: 0.1675(0.1641) \n",
      "EVAL: [60/123] Elapsed 0m 30s (remain 0m 30s) Loss: 0.1205(0.1608) \n",
      "EVAL: [80/123] Elapsed 0m 38s (remain 0m 20s) Loss: 0.1068(0.1612) \n",
      "EVAL: [100/123] Elapsed 0m 48s (remain 0m 10s) Loss: 0.1205(0.1627) \n",
      "EVAL: [120/123] Elapsed 0m 58s (remain 0m 0s) Loss: 0.1761(0.1643) \n"
     ]
    },
    {
     "name": "stderr",
     "output_type": "stream",
     "text": [
      "Epoch 2 - avg_train_loss: 0.1730  avg_val_loss: 0.1651  time: 740s\n",
      "Epoch 2 - Score: 0.5816  Scores: [0.5611645164175145, 0.5344696117303501, 0.5825485343262835, 0.6168260938190481, 0.625111062560873, 0.569401280347924]\n",
      "Epoch 2 - Save Best Score: 0.5816 Model\n"
     ]
    },
    {
     "name": "stdout",
     "output_type": "stream",
     "text": [
      "EVAL: [122/123] Elapsed 0m 58s (remain 0m 0s) Loss: 0.7927(0.1651) \n",
      "Epoch: [3][0/366] Elapsed 0m 1s (remain 11m 29s) Loss: 0.1040(0.1040) Grad: 222935.9688  LR: 0.00001000  \n",
      "Epoch: [3][20/366] Elapsed 0m 36s (remain 10m 4s) Loss: 0.1627(0.1498) Grad: 216807.0938  LR: 0.00000957  \n",
      "Epoch: [3][40/366] Elapsed 1m 14s (remain 9m 52s) Loss: 0.1133(0.1403) Grad: 193335.7344  LR: 0.00000914  \n",
      "Epoch: [3][60/366] Elapsed 1m 54s (remain 9m 33s) Loss: 0.1418(0.1478) Grad: 155293.6406  LR: 0.00000872  \n",
      "Epoch: [3][80/366] Elapsed 2m 31s (remain 8m 52s) Loss: 0.1202(0.1503) Grad: 314168.3125  LR: 0.00000829  \n",
      "Epoch: [3][100/366] Elapsed 3m 9s (remain 8m 18s) Loss: 0.1400(0.1464) Grad: 274988.9062  LR: 0.00000787  \n",
      "Epoch: [3][120/366] Elapsed 3m 52s (remain 7m 50s) Loss: 0.1786(0.1456) Grad: 210980.0781  LR: 0.00000746  \n",
      "Epoch: [3][140/366] Elapsed 4m 31s (remain 7m 12s) Loss: 0.1177(0.1473) Grad: 112475.2188  LR: 0.00000704  \n",
      "Epoch: [3][160/366] Elapsed 5m 10s (remain 6m 35s) Loss: 0.0966(0.1466) Grad: 169882.2344  LR: 0.00000664  \n",
      "Epoch: [3][180/366] Elapsed 5m 49s (remain 5m 57s) Loss: 0.1215(0.1466) Grad: 187911.5469  LR: 0.00000624  \n",
      "Epoch: [3][200/366] Elapsed 6m 25s (remain 5m 16s) Loss: 0.0986(0.1467) Grad: 103623.1562  LR: 0.00000584  \n",
      "Epoch: [3][220/366] Elapsed 7m 3s (remain 4m 37s) Loss: 0.0873(0.1470) Grad: 133974.7500  LR: 0.00000546  \n",
      "Epoch: [3][240/366] Elapsed 7m 42s (remain 3m 59s) Loss: 0.1160(0.1459) Grad: 329856.5312  LR: 0.00000508  \n",
      "Epoch: [3][260/366] Elapsed 8m 17s (remain 3m 20s) Loss: 0.1664(0.1446) Grad: 342245.2188  LR: 0.00000471  \n",
      "Epoch: [3][280/366] Elapsed 8m 56s (remain 2m 42s) Loss: 0.1103(0.1429) Grad: 209977.9531  LR: 0.00000435  \n",
      "Epoch: [3][300/366] Elapsed 9m 28s (remain 2m 2s) Loss: 0.0906(0.1419) Grad: 210811.9062  LR: 0.00000400  \n",
      "Epoch: [3][320/366] Elapsed 10m 3s (remain 1m 24s) Loss: 0.1395(0.1416) Grad: 251485.8906  LR: 0.00000367  \n",
      "Epoch: [3][340/366] Elapsed 10m 37s (remain 0m 46s) Loss: 0.1377(0.1414) Grad: 178517.3750  LR: 0.00000334  \n",
      "Epoch: [3][360/366] Elapsed 11m 14s (remain 0m 9s) Loss: 0.1398(0.1417) Grad: 196536.4219  LR: 0.00000303  \n",
      "Epoch: [3][365/366] Elapsed 11m 24s (remain 0m 0s) Loss: 0.0943(0.1414) Grad: 190939.0156  LR: 0.00000295  \n",
      "EVAL: [0/123] Elapsed 0m 0s (remain 1m 27s) Loss: 0.2030(0.2030) \n",
      "EVAL: [20/123] Elapsed 0m 10s (remain 0m 49s) Loss: 0.1720(0.1501) \n",
      "EVAL: [40/123] Elapsed 0m 20s (remain 0m 41s) Loss: 0.1402(0.1473) \n",
      "EVAL: [60/123] Elapsed 0m 30s (remain 0m 30s) Loss: 0.1105(0.1443) \n",
      "EVAL: [80/123] Elapsed 0m 38s (remain 0m 20s) Loss: 0.0938(0.1445) \n",
      "EVAL: [100/123] Elapsed 0m 49s (remain 0m 10s) Loss: 0.0843(0.1461) \n",
      "EVAL: [120/123] Elapsed 0m 58s (remain 0m 0s) Loss: 0.1504(0.1473) \n"
     ]
    },
    {
     "name": "stderr",
     "output_type": "stream",
     "text": [
      "Epoch 3 - avg_train_loss: 0.1414  avg_val_loss: 0.1478  time: 743s\n",
      "Epoch 3 - Score: 0.5484  Scores: [0.5435515478354775, 0.5075950739957898, 0.5429223625841516, 0.5794942026943783, 0.5799438157653263, 0.5371441480105017]\n",
      "Epoch 3 - Save Best Score: 0.5484 Model\n"
     ]
    },
    {
     "name": "stdout",
     "output_type": "stream",
     "text": [
      "EVAL: [122/123] Elapsed 0m 58s (remain 0m 0s) Loss: 0.5946(0.1478) \n",
      "Epoch: [4][0/366] Elapsed 0m 2s (remain 13m 1s) Loss: 0.1266(0.1266) Grad: 172213.6250  LR: 0.00000294  \n",
      "Epoch: [4][20/366] Elapsed 0m 37s (remain 10m 10s) Loss: 0.1365(0.1387) Grad: 285536.0938  LR: 0.00000264  \n",
      "Epoch: [4][40/366] Elapsed 1m 14s (remain 9m 52s) Loss: 0.0946(0.1324) Grad: 131638.5156  LR: 0.00000236  \n",
      "Epoch: [4][60/366] Elapsed 1m 47s (remain 8m 58s) Loss: 0.0857(0.1300) Grad: 148890.6719  LR: 0.00000209  \n",
      "Epoch: [4][80/366] Elapsed 2m 23s (remain 8m 24s) Loss: 0.1362(0.1325) Grad: 225246.7500  LR: 0.00000183  \n",
      "Epoch: [4][100/366] Elapsed 2m 57s (remain 7m 45s) Loss: 0.3018(0.1360) Grad: 314759.1250  LR: 0.00000159  \n",
      "Epoch: [4][120/366] Elapsed 3m 37s (remain 7m 20s) Loss: 0.1325(0.1366) Grad: 147919.0625  LR: 0.00000137  \n",
      "Epoch: [4][140/366] Elapsed 4m 12s (remain 6m 42s) Loss: 0.1041(0.1363) Grad: 147423.6719  LR: 0.00000116  \n",
      "Epoch: [4][160/366] Elapsed 4m 46s (remain 6m 5s) Loss: 0.1777(0.1370) Grad: 273649.7188  LR: 0.00000097  \n",
      "Epoch: [4][180/366] Elapsed 5m 25s (remain 5m 33s) Loss: 0.1498(0.1350) Grad: 299748.6562  LR: 0.00000079  \n",
      "Epoch: [4][200/366] Elapsed 5m 58s (remain 4m 54s) Loss: 0.1248(0.1343) Grad: 265018.8125  LR: 0.00000063  \n",
      "Epoch: [4][220/366] Elapsed 6m 35s (remain 4m 19s) Loss: 0.1085(0.1332) Grad: 196071.3281  LR: 0.00000049  \n",
      "Epoch: [4][240/366] Elapsed 7m 13s (remain 3m 44s) Loss: 0.0850(0.1336) Grad: 335184.9688  LR: 0.00000037  \n",
      "Epoch: [4][260/366] Elapsed 7m 53s (remain 3m 10s) Loss: 0.1232(0.1331) Grad: 240806.8125  LR: 0.00000026  \n",
      "Epoch: [4][280/366] Elapsed 8m 35s (remain 2m 36s) Loss: 0.1030(0.1337) Grad: 112377.3047  LR: 0.00000017  \n",
      "Epoch: [4][300/366] Elapsed 9m 17s (remain 2m 0s) Loss: 0.0829(0.1332) Grad: 141438.2969  LR: 0.00000010  \n",
      "Epoch: [4][320/366] Elapsed 9m 50s (remain 1m 22s) Loss: 0.1424(0.1329) Grad: 183064.0000  LR: 0.00000005  \n",
      "Epoch: [4][340/366] Elapsed 10m 31s (remain 0m 46s) Loss: 0.1410(0.1321) Grad: 139090.7969  LR: 0.00000002  \n",
      "Epoch: [4][360/366] Elapsed 11m 6s (remain 0m 9s) Loss: 0.1204(0.1327) Grad: 119554.7500  LR: 0.00000000  \n",
      "Epoch: [4][365/366] Elapsed 11m 16s (remain 0m 0s) Loss: 0.1998(0.1325) Grad: 176685.7969  LR: 0.00000000  \n",
      "EVAL: [0/123] Elapsed 0m 0s (remain 1m 27s) Loss: 0.1993(0.1993) \n",
      "EVAL: [20/123] Elapsed 0m 10s (remain 0m 48s) Loss: 0.1603(0.1466) \n",
      "EVAL: [40/123] Elapsed 0m 20s (remain 0m 41s) Loss: 0.1281(0.1434) \n",
      "EVAL: [60/123] Elapsed 0m 30s (remain 0m 30s) Loss: 0.1147(0.1406) \n",
      "EVAL: [80/123] Elapsed 0m 38s (remain 0m 20s) Loss: 0.0932(0.1408) \n",
      "EVAL: [100/123] Elapsed 0m 48s (remain 0m 10s) Loss: 0.0869(0.1421) \n",
      "EVAL: [120/123] Elapsed 0m 58s (remain 0m 0s) Loss: 0.1577(0.1438) \n"
     ]
    },
    {
     "name": "stderr",
     "output_type": "stream",
     "text": [
      "Epoch 4 - avg_train_loss: 0.1325  avg_val_loss: 0.1442  time: 735s\n",
      "Epoch 4 - Score: 0.5412  Scores: [0.5374977040989118, 0.49993130294871385, 0.5335784378344894, 0.5706784033774498, 0.5732060353238262, 0.5321058452573283]\n",
      "Epoch 4 - Save Best Score: 0.5412 Model\n"
     ]
    },
    {
     "name": "stdout",
     "output_type": "stream",
     "text": [
      "EVAL: [122/123] Elapsed 0m 58s (remain 0m 0s) Loss: 0.5476(0.1442) \n"
     ]
    },
    {
     "name": "stderr",
     "output_type": "stream",
     "text": [
      "========== fold: 2 result ==========\n",
      "Score: 0.5412  Scores: [0.5374977040989118, 0.49993130294871385, 0.5335784378344894, 0.5706784033774498, 0.5732060353238262, 0.5321058452573283]\n",
      "========== fold: 3 training ==========\n",
      "DebertaV2Config {\n",
      "  \"_name_or_path\": \"microsoft/deberta-v3-base\",\n",
      "  \"attention_dropout\": 0.0,\n",
      "  \"attention_probs_dropout_prob\": 0.0,\n",
      "  \"hidden_act\": \"gelu\",\n",
      "  \"hidden_dropout\": 0.0,\n",
      "  \"hidden_dropout_prob\": 0.0,\n",
      "  \"hidden_size\": 768,\n",
      "  \"initializer_range\": 0.02,\n",
      "  \"intermediate_size\": 3072,\n",
      "  \"layer_norm_eps\": 1e-07,\n",
      "  \"max_position_embeddings\": 512,\n",
      "  \"max_relative_positions\": -1,\n",
      "  \"model_type\": \"deberta-v2\",\n",
      "  \"norm_rel_ebd\": \"layer_norm\",\n",
      "  \"num_attention_heads\": 12,\n",
      "  \"num_hidden_layers\": 12,\n",
      "  \"output_hidden_states\": true,\n",
      "  \"pad_token_id\": 0,\n",
      "  \"pooler_dropout\": 0,\n",
      "  \"pooler_hidden_act\": \"gelu\",\n",
      "  \"pooler_hidden_size\": 768,\n",
      "  \"pos_att_type\": [\n",
      "    \"p2c\",\n",
      "    \"c2p\"\n",
      "  ],\n",
      "  \"position_biased_input\": false,\n",
      "  \"position_buckets\": 256,\n",
      "  \"relative_attention\": true,\n",
      "  \"share_att_key\": true,\n",
      "  \"transformers_version\": \"4.21.2\",\n",
      "  \"type_vocab_size\": 0,\n",
      "  \"vocab_size\": 128100\n",
      "}\n",
      "\n",
      "Some weights of the model checkpoint at microsoft/deberta-v3-base were not used when initializing DebertaV2Model: ['mask_predictions.dense.bias', 'lm_predictions.lm_head.dense.bias', 'mask_predictions.dense.weight', 'lm_predictions.lm_head.LayerNorm.weight', 'lm_predictions.lm_head.dense.weight', 'mask_predictions.LayerNorm.weight', 'mask_predictions.classifier.weight', 'lm_predictions.lm_head.bias', 'mask_predictions.LayerNorm.bias', 'mask_predictions.classifier.bias', 'lm_predictions.lm_head.LayerNorm.bias']\n",
      "- This IS expected if you are initializing DebertaV2Model from the checkpoint of a model trained on another task or with another architecture (e.g. initializing a BertForSequenceClassification model from a BertForPreTraining model).\n",
      "- This IS NOT expected if you are initializing DebertaV2Model from the checkpoint of a model that you expect to be exactly identical (initializing a BertForSequenceClassification model from a BertForSequenceClassification model).\n"
     ]
    },
    {
     "name": "stdout",
     "output_type": "stream",
     "text": [
      "Epoch: [1][0/366] Elapsed 0m 1s (remain 11m 45s) Loss: 2.5464(2.5464) Grad: 273042.8750  LR: 0.00002000  \n",
      "Epoch: [1][20/366] Elapsed 0m 41s (remain 11m 18s) Loss: 2.2985(2.4536) Grad: 344665.0625  LR: 0.00001999  \n",
      "Epoch: [1][40/366] Elapsed 1m 19s (remain 10m 31s) Loss: 1.6168(2.1682) Grad: 547538.8750  LR: 0.00001996  \n",
      "Epoch: [1][60/366] Elapsed 1m 55s (remain 9m 35s) Loss: 0.8272(1.8528) Grad: 649221.6875  LR: 0.00001991  \n",
      "Epoch: [1][80/366] Elapsed 2m 27s (remain 8m 38s) Loss: 0.6344(1.6157) Grad: 349083.6875  LR: 0.00001985  \n",
      "Epoch: [1][100/366] Elapsed 2m 59s (remain 7m 51s) Loss: 0.3844(1.3884) Grad: 104589.6562  LR: 0.00001977  \n",
      "Epoch: [1][120/366] Elapsed 3m 36s (remain 7m 17s) Loss: 0.1937(1.2150) Grad: 137622.5781  LR: 0.00001967  \n",
      "Epoch: [1][140/366] Elapsed 4m 11s (remain 6m 41s) Loss: 0.3661(1.0938) Grad: 116913.9844  LR: 0.00001955  \n",
      "Epoch: [1][160/366] Elapsed 4m 53s (remain 6m 13s) Loss: 0.3777(0.9984) Grad: 84220.7344  LR: 0.00001941  \n",
      "Epoch: [1][180/366] Elapsed 5m 30s (remain 5m 38s) Loss: 0.3596(0.9238) Grad: 169447.2500  LR: 0.00001926  \n",
      "Epoch: [1][200/366] Elapsed 6m 8s (remain 5m 2s) Loss: 0.1380(0.8555) Grad: 87069.4766  LR: 0.00001909  \n",
      "Epoch: [1][220/366] Elapsed 6m 51s (remain 4m 30s) Loss: 0.3821(0.7999) Grad: 86043.5312  LR: 0.00001890  \n",
      "Epoch: [1][240/366] Elapsed 7m 21s (remain 3m 49s) Loss: 0.4996(0.7569) Grad: 78458.8672  LR: 0.00001870  \n",
      "Epoch: [1][260/366] Elapsed 8m 3s (remain 3m 14s) Loss: 0.2602(0.7208) Grad: 100577.3828  LR: 0.00001848  \n",
      "Epoch: [1][280/366] Elapsed 8m 41s (remain 2m 37s) Loss: 0.1979(0.6861) Grad: 126682.6875  LR: 0.00001824  \n",
      "Epoch: [1][300/366] Elapsed 9m 17s (remain 2m 0s) Loss: 0.1988(0.6557) Grad: 85040.0703  LR: 0.00001799  \n",
      "Epoch: [1][320/366] Elapsed 9m 55s (remain 1m 23s) Loss: 0.1569(0.6290) Grad: 106635.7812  LR: 0.00001773  \n",
      "Epoch: [1][340/366] Elapsed 10m 26s (remain 0m 45s) Loss: 0.1836(0.6051) Grad: 164155.3906  LR: 0.00001745  \n",
      "Epoch: [1][360/366] Elapsed 11m 4s (remain 0m 9s) Loss: 0.3103(0.5827) Grad: 112881.9062  LR: 0.00001715  \n",
      "Epoch: [1][365/366] Elapsed 11m 12s (remain 0m 0s) Loss: 0.2506(0.5776) Grad: 186667.5000  LR: 0.00001708  \n",
      "EVAL: [0/123] Elapsed 0m 0s (remain 1m 46s) Loss: 0.2596(0.2596) \n",
      "EVAL: [20/123] Elapsed 0m 11s (remain 0m 57s) Loss: 0.2518(0.1816) \n",
      "EVAL: [40/123] Elapsed 0m 20s (remain 0m 40s) Loss: 0.1831(0.1906) \n",
      "EVAL: [60/123] Elapsed 0m 31s (remain 0m 31s) Loss: 0.1731(0.1979) \n",
      "EVAL: [80/123] Elapsed 0m 40s (remain 0m 21s) Loss: 0.1065(0.2034) \n",
      "EVAL: [100/123] Elapsed 0m 49s (remain 0m 10s) Loss: 0.1925(0.1987) \n",
      "EVAL: [120/123] Elapsed 0m 59s (remain 0m 0s) Loss: 0.1653(0.1973) \n"
     ]
    },
    {
     "name": "stderr",
     "output_type": "stream",
     "text": [
      "Epoch 1 - avg_train_loss: 0.5776  avg_val_loss: 0.1977  time: 733s\n",
      "Epoch 1 - Score: 0.6408  Scores: [0.6368533287148838, 0.6156490804850961, 0.5704037131411821, 0.6309429818312337, 0.6766750025640361, 0.7141042014393306]\n",
      "Epoch 1 - Save Best Score: 0.6408 Model\n"
     ]
    },
    {
     "name": "stdout",
     "output_type": "stream",
     "text": [
      "EVAL: [122/123] Elapsed 1m 0s (remain 0m 0s) Loss: 0.4352(0.1977) \n",
      "Epoch: [2][0/366] Elapsed 0m 1s (remain 7m 19s) Loss: 0.2183(0.2183) Grad: 389692.3125  LR: 0.00001706  \n",
      "Epoch: [2][20/366] Elapsed 0m 37s (remain 10m 12s) Loss: 0.2075(0.2133) Grad: 154656.6094  LR: 0.00001675  \n",
      "Epoch: [2][40/366] Elapsed 1m 10s (remain 9m 21s) Loss: 0.1236(0.2005) Grad: 236662.0000  LR: 0.00001643  \n",
      "Epoch: [2][60/366] Elapsed 1m 43s (remain 8m 37s) Loss: 0.1808(0.2069) Grad: 227873.3125  LR: 0.00001610  \n",
      "Epoch: [2][80/366] Elapsed 2m 23s (remain 8m 24s) Loss: 0.1566(0.2009) Grad: 247124.4219  LR: 0.00001575  \n",
      "Epoch: [2][100/366] Elapsed 2m 56s (remain 7m 42s) Loss: 0.1389(0.1982) Grad: 144786.9062  LR: 0.00001540  \n",
      "Epoch: [2][120/366] Elapsed 3m 35s (remain 7m 16s) Loss: 0.1211(0.1974) Grad: 123769.4375  LR: 0.00001503  \n",
      "Epoch: [2][140/366] Elapsed 4m 10s (remain 6m 39s) Loss: 0.2115(0.1939) Grad: 218219.6719  LR: 0.00001466  \n",
      "Epoch: [2][160/366] Elapsed 4m 43s (remain 6m 1s) Loss: 0.1066(0.1937) Grad: 186114.4062  LR: 0.00001427  \n",
      "Epoch: [2][180/366] Elapsed 5m 23s (remain 5m 30s) Loss: 0.1464(0.1921) Grad: 100285.1016  LR: 0.00001388  \n",
      "Epoch: [2][200/366] Elapsed 5m 57s (remain 4m 53s) Loss: 0.1421(0.1899) Grad: 136563.2188  LR: 0.00001348  \n",
      "Epoch: [2][220/366] Elapsed 6m 37s (remain 4m 20s) Loss: 0.1765(0.1889) Grad: 182019.3125  LR: 0.00001308  \n",
      "Epoch: [2][240/366] Elapsed 7m 12s (remain 3m 44s) Loss: 0.1313(0.1872) Grad: 145912.3438  LR: 0.00001267  \n",
      "Epoch: [2][260/366] Elapsed 7m 58s (remain 3m 12s) Loss: 0.2942(0.1838) Grad: 195118.8750  LR: 0.00001225  \n",
      "Epoch: [2][280/366] Elapsed 8m 29s (remain 2m 34s) Loss: 0.1991(0.1818) Grad: 425797.8750  LR: 0.00001183  \n",
      "Epoch: [2][300/366] Elapsed 9m 9s (remain 1m 58s) Loss: 0.2164(0.1805) Grad: 194503.3125  LR: 0.00001141  \n",
      "Epoch: [2][320/366] Elapsed 9m 44s (remain 1m 21s) Loss: 0.1702(0.1789) Grad: 214933.1250  LR: 0.00001098  \n",
      "Epoch: [2][340/366] Elapsed 10m 22s (remain 0m 45s) Loss: 0.3182(0.1786) Grad: 305366.9375  LR: 0.00001056  \n",
      "Epoch: [2][360/366] Elapsed 11m 0s (remain 0m 9s) Loss: 0.1202(0.1776) Grad: 212060.6250  LR: 0.00001013  \n",
      "Epoch: [2][365/366] Elapsed 11m 8s (remain 0m 0s) Loss: 0.2348(0.1775) Grad: 151664.0469  LR: 0.00001002  \n",
      "EVAL: [0/123] Elapsed 0m 0s (remain 1m 43s) Loss: 0.2017(0.2017) \n",
      "EVAL: [20/123] Elapsed 0m 11s (remain 0m 57s) Loss: 0.1861(0.1449) \n",
      "EVAL: [40/123] Elapsed 0m 19s (remain 0m 39s) Loss: 0.1508(0.1529) \n",
      "EVAL: [60/123] Elapsed 0m 31s (remain 0m 31s) Loss: 0.1420(0.1579) \n",
      "EVAL: [80/123] Elapsed 0m 40s (remain 0m 21s) Loss: 0.0917(0.1622) \n",
      "EVAL: [100/123] Elapsed 0m 49s (remain 0m 10s) Loss: 0.1609(0.1587) \n",
      "EVAL: [120/123] Elapsed 0m 59s (remain 0m 0s) Loss: 0.1179(0.1573) \n"
     ]
    },
    {
     "name": "stderr",
     "output_type": "stream",
     "text": [
      "Epoch 2 - avg_train_loss: 0.1775  avg_val_loss: 0.1573  time: 729s\n",
      "Epoch 2 - Score: 0.5664  Scores: [0.5704632136987586, 0.5399855714416427, 0.49768551364969893, 0.5480496756797453, 0.6126082025866727, 0.629379523699554]\n",
      "Epoch 2 - Save Best Score: 0.5664 Model\n"
     ]
    },
    {
     "name": "stdout",
     "output_type": "stream",
     "text": [
      "EVAL: [122/123] Elapsed 1m 0s (remain 0m 0s) Loss: 0.1618(0.1573) \n",
      "Epoch: [3][0/366] Elapsed 0m 1s (remain 10m 36s) Loss: 0.1034(0.1034) Grad: 219184.7031  LR: 0.00001000  \n",
      "Epoch: [3][20/366] Elapsed 0m 32s (remain 8m 57s) Loss: 0.0788(0.1632) Grad: 201285.0000  LR: 0.00000957  \n",
      "Epoch: [3][40/366] Elapsed 1m 10s (remain 9m 17s) Loss: 0.0996(0.1575) Grad: 161431.3750  LR: 0.00000914  \n",
      "Epoch: [3][60/366] Elapsed 1m 44s (remain 8m 43s) Loss: 0.1954(0.1556) Grad: 216112.0625  LR: 0.00000872  \n",
      "Epoch: [3][80/366] Elapsed 2m 25s (remain 8m 30s) Loss: 0.1872(0.1528) Grad: 184809.5625  LR: 0.00000829  \n",
      "Epoch: [3][100/366] Elapsed 2m 58s (remain 7m 47s) Loss: 0.0725(0.1502) Grad: 299644.4375  LR: 0.00000787  \n",
      "Epoch: [3][120/366] Elapsed 3m 41s (remain 7m 27s) Loss: 0.1731(0.1486) Grad: 185428.8281  LR: 0.00000746  \n",
      "Epoch: [3][140/366] Elapsed 4m 19s (remain 6m 54s) Loss: 0.1354(0.1470) Grad: 109788.3672  LR: 0.00000704  \n",
      "Epoch: [3][160/366] Elapsed 4m 57s (remain 6m 18s) Loss: 0.1404(0.1471) Grad: 95753.8906  LR: 0.00000664  \n",
      "Epoch: [3][180/366] Elapsed 5m 31s (remain 5m 38s) Loss: 0.0820(0.1469) Grad: 68959.3672  LR: 0.00000624  \n",
      "Epoch: [3][200/366] Elapsed 6m 7s (remain 5m 1s) Loss: 0.1166(0.1459) Grad: 70992.7734  LR: 0.00000584  \n",
      "Epoch: [3][220/366] Elapsed 6m 45s (remain 4m 26s) Loss: 0.1622(0.1472) Grad: 94239.9375  LR: 0.00000546  \n",
      "Epoch: [3][240/366] Elapsed 7m 26s (remain 3m 51s) Loss: 0.1549(0.1474) Grad: 113602.8359  LR: 0.00000508  \n",
      "Epoch: [3][260/366] Elapsed 8m 3s (remain 3m 14s) Loss: 0.2380(0.1478) Grad: 124715.5938  LR: 0.00000471  \n",
      "Epoch: [3][280/366] Elapsed 8m 32s (remain 2m 34s) Loss: 0.1252(0.1480) Grad: 103565.9141  LR: 0.00000435  \n",
      "Epoch: [3][300/366] Elapsed 9m 10s (remain 1m 58s) Loss: 0.1569(0.1482) Grad: 150749.2656  LR: 0.00000400  \n",
      "Epoch: [3][320/366] Elapsed 9m 47s (remain 1m 22s) Loss: 0.1602(0.1470) Grad: 126757.1250  LR: 0.00000367  \n",
      "Epoch: [3][340/366] Elapsed 10m 27s (remain 0m 46s) Loss: 0.2357(0.1468) Grad: 78304.3047  LR: 0.00000334  \n",
      "Epoch: [3][360/366] Elapsed 11m 1s (remain 0m 9s) Loss: 0.1118(0.1469) Grad: 70301.2031  LR: 0.00000303  \n",
      "Epoch: [3][365/366] Elapsed 11m 12s (remain 0m 0s) Loss: 0.1281(0.1468) Grad: 45998.8828  LR: 0.00000295  \n",
      "EVAL: [0/123] Elapsed 0m 0s (remain 1m 44s) Loss: 0.1737(0.1737) \n",
      "EVAL: [20/123] Elapsed 0m 11s (remain 0m 57s) Loss: 0.1493(0.1284) \n",
      "EVAL: [40/123] Elapsed 0m 20s (remain 0m 40s) Loss: 0.1295(0.1340) \n",
      "EVAL: [60/123] Elapsed 0m 31s (remain 0m 31s) Loss: 0.1286(0.1386) \n",
      "EVAL: [80/123] Elapsed 0m 40s (remain 0m 21s) Loss: 0.0905(0.1419) \n",
      "EVAL: [100/123] Elapsed 0m 49s (remain 0m 10s) Loss: 0.1267(0.1394) \n",
      "EVAL: [120/123] Elapsed 0m 59s (remain 0m 0s) Loss: 0.0913(0.1386) \n"
     ]
    },
    {
     "name": "stderr",
     "output_type": "stream",
     "text": [
      "Epoch 3 - avg_train_loss: 0.1468  avg_val_loss: 0.1386  time: 733s\n",
      "Epoch 3 - Score: 0.5295  Scores: [0.5385179608038622, 0.5085303420868124, 0.4686888172204806, 0.5134243596242526, 0.5708283999298894, 0.5772790939238854]\n",
      "Epoch 3 - Save Best Score: 0.5295 Model\n"
     ]
    },
    {
     "name": "stdout",
     "output_type": "stream",
     "text": [
      "EVAL: [122/123] Elapsed 1m 0s (remain 0m 0s) Loss: 0.1105(0.1386) \n",
      "Epoch: [4][0/366] Elapsed 0m 1s (remain 9m 3s) Loss: 0.1187(0.1187) Grad: 219752.7969  LR: 0.00000294  \n",
      "Epoch: [4][20/366] Elapsed 0m 34s (remain 9m 20s) Loss: 0.1121(0.1373) Grad: 212228.4219  LR: 0.00000264  \n",
      "Epoch: [4][40/366] Elapsed 1m 11s (remain 9m 29s) Loss: 0.0863(0.1316) Grad: 129568.0938  LR: 0.00000236  \n",
      "Epoch: [4][60/366] Elapsed 1m 47s (remain 8m 57s) Loss: 0.1245(0.1334) Grad: 256971.3438  LR: 0.00000209  \n",
      "Epoch: [4][80/366] Elapsed 2m 21s (remain 8m 19s) Loss: 0.0963(0.1354) Grad: 116725.7891  LR: 0.00000183  \n",
      "Epoch: [4][100/366] Elapsed 2m 58s (remain 7m 49s) Loss: 0.1568(0.1382) Grad: 174343.2812  LR: 0.00000159  \n",
      "Epoch: [4][120/366] Elapsed 3m 31s (remain 7m 8s) Loss: 0.1318(0.1381) Grad: 196394.8594  LR: 0.00000137  \n",
      "Epoch: [4][140/366] Elapsed 4m 8s (remain 6m 36s) Loss: 0.1170(0.1362) Grad: 218458.0312  LR: 0.00000116  \n",
      "Epoch: [4][160/366] Elapsed 4m 48s (remain 6m 6s) Loss: 0.0863(0.1341) Grad: 168782.3438  LR: 0.00000097  \n",
      "Epoch: [4][180/366] Elapsed 5m 23s (remain 5m 30s) Loss: 0.1035(0.1339) Grad: 322409.7500  LR: 0.00000079  \n",
      "Epoch: [4][200/366] Elapsed 6m 2s (remain 4m 57s) Loss: 0.0914(0.1322) Grad: 151734.0000  LR: 0.00000063  \n",
      "Epoch: [4][220/366] Elapsed 6m 34s (remain 4m 19s) Loss: 0.0963(0.1327) Grad: 308315.8438  LR: 0.00000049  \n",
      "Epoch: [4][240/366] Elapsed 7m 14s (remain 3m 45s) Loss: 0.1044(0.1319) Grad: 130417.0156  LR: 0.00000037  \n",
      "Epoch: [4][260/366] Elapsed 7m 55s (remain 3m 11s) Loss: 0.1513(0.1327) Grad: 137260.1562  LR: 0.00000026  \n",
      "Epoch: [4][280/366] Elapsed 8m 38s (remain 2m 36s) Loss: 0.2620(0.1331) Grad: 454947.5938  LR: 0.00000017  \n",
      "Epoch: [4][300/366] Elapsed 9m 15s (remain 1m 59s) Loss: 0.1689(0.1341) Grad: 179803.7344  LR: 0.00000010  \n",
      "Epoch: [4][320/366] Elapsed 9m 52s (remain 1m 23s) Loss: 0.1434(0.1341) Grad: 179441.7031  LR: 0.00000005  \n",
      "Epoch: [4][340/366] Elapsed 10m 26s (remain 0m 45s) Loss: 0.1615(0.1343) Grad: 203114.5156  LR: 0.00000002  \n",
      "Epoch: [4][360/366] Elapsed 11m 3s (remain 0m 9s) Loss: 0.0961(0.1342) Grad: 229688.6406  LR: 0.00000000  \n",
      "Epoch: [4][365/366] Elapsed 11m 12s (remain 0m 0s) Loss: 0.1027(0.1341) Grad: 202537.8438  LR: 0.00000000  \n",
      "EVAL: [0/123] Elapsed 0m 0s (remain 1m 44s) Loss: 0.1683(0.1683) \n",
      "EVAL: [20/123] Elapsed 0m 11s (remain 0m 57s) Loss: 0.1428(0.1266) \n",
      "EVAL: [40/123] Elapsed 0m 19s (remain 0m 39s) Loss: 0.1183(0.1301) \n",
      "EVAL: [60/123] Elapsed 0m 31s (remain 0m 31s) Loss: 0.1207(0.1344) \n",
      "EVAL: [80/123] Elapsed 0m 40s (remain 0m 21s) Loss: 0.0769(0.1368) \n",
      "EVAL: [100/123] Elapsed 0m 49s (remain 0m 10s) Loss: 0.1205(0.1342) \n",
      "EVAL: [120/123] Elapsed 0m 59s (remain 0m 0s) Loss: 0.0963(0.1334) \n"
     ]
    },
    {
     "name": "stderr",
     "output_type": "stream",
     "text": [
      "Epoch 4 - avg_train_loss: 0.1341  avg_val_loss: 0.1335  time: 734s\n",
      "Epoch 4 - Score: 0.5197  Scores: [0.5322481834528409, 0.5005034065906157, 0.46209574408641174, 0.5005973968952103, 0.5583001000063537, 0.5647488150475355]\n",
      "Epoch 4 - Save Best Score: 0.5197 Model\n"
     ]
    },
    {
     "name": "stdout",
     "output_type": "stream",
     "text": [
      "EVAL: [122/123] Elapsed 1m 0s (remain 0m 0s) Loss: 0.1269(0.1335) \n"
     ]
    },
    {
     "name": "stderr",
     "output_type": "stream",
     "text": [
      "========== fold: 3 result ==========\n",
      "Score: 0.5197  Scores: [0.5322481834528409, 0.5005034065906157, 0.46209574408641174, 0.5005973968952103, 0.5583001000063537, 0.5647488150475355]\n",
      "========== CV ==========\n",
      "Score: 0.5308  Scores: [0.54210966831713, 0.5037607336758843, 0.49257482833459215, 0.5297334741488255, 0.5544708879127352, 0.5621184323657255]\n"
     ]
    },
    {
     "data": {
      "text/html": [
       "Waiting for W&B process to finish... <strong style=\"color:green\">(success).</strong>"
      ],
      "text/plain": [
       "<IPython.core.display.HTML object>"
      ]
     },
     "metadata": {},
     "output_type": "display_data"
    },
    {
     "data": {
      "application/vnd.jupyter.widget-view+json": {
       "model_id": "9afdb7d40fea481fa1d7cc094747cf07",
       "version_major": 2,
       "version_minor": 0
      },
      "text/plain": [
       "VBox(children=(Label(value='0.000 MB of 0.000 MB uploaded (0.000 MB deduped)\\r'), FloatProgress(value=1.0, max…"
      ]
     },
     "metadata": {},
     "output_type": "display_data"
    },
    {
     "data": {
      "text/html": [
       "<style>\n",
       "    table.wandb td:nth-child(1) { padding: 0 10px; text-align: left ; width: auto;} td:nth-child(2) {text-align: left ; width: 100%}\n",
       "    .wandb-row { display: flex; flex-direction: row; flex-wrap: wrap; justify-content: flex-start; width: 100% }\n",
       "    .wandb-col { display: flex; flex-direction: column; flex-basis: 100%; flex: 1; padding: 10px; }\n",
       "    </style>\n",
       "<div class=\"wandb-row\"><div class=\"wandb-col\"><h3>Run history:</h3><br/><table class=\"wandb\"><tr><td>[fold0] avg_train_loss</td><td>█▂▁▁</td></tr><tr><td>[fold0] avg_val_loss</td><td>█▃▁▁</td></tr><tr><td>[fold0] epoch</td><td>▁▃▆█</td></tr><tr><td>[fold0] loss</td><td>█▄▂▃▂▂▂▂▂▂▁▁▁▁▁▁▁▂▁▁▁▁▁▁▁▂▁▁▁▁▁▁▁▁▁▁▁▁▁▁</td></tr><tr><td>[fold0] lr</td><td>███████▇▇▇▇▇▇▆▆▆▆▅▅▅▄▄▄▄▃▃▃▃▂▂▂▂▂▁▁▁▁▁▁▁</td></tr><tr><td>[fold0] score</td><td>█▃▁▁</td></tr><tr><td>[fold1] avg_train_loss</td><td>█▂▁▁</td></tr><tr><td>[fold1] avg_val_loss</td><td>█▃▁▁</td></tr><tr><td>[fold1] epoch</td><td>▁▃▆█</td></tr><tr><td>[fold1] loss</td><td>█▆▂▂▂▂▂▁▂▁▁▂▁▁▂▁▂▁▁▁▁▂▁▁▁▂▁▁▁▁▁▁▁▁▁▁▁▁▁▁</td></tr><tr><td>[fold1] lr</td><td>███████▇▇▇▇▇▇▆▆▆▆▅▅▅▄▄▄▄▃▃▃▃▂▂▂▂▂▁▁▁▁▁▁▁</td></tr><tr><td>[fold1] score</td><td>█▃▁▁</td></tr><tr><td>[fold2] avg_train_loss</td><td>█▂▁▁</td></tr><tr><td>[fold2] avg_val_loss</td><td>█▃▁▁</td></tr><tr><td>[fold2] epoch</td><td>▁▃▆█</td></tr><tr><td>[fold2] loss</td><td>█▅▂▂▂▁▂▁▂▁▂▁▁▁▁▁▁▁▁▁▁▁▁▁▁▁▁▁▁▁▁▁▁▁▁▁▁▁▁▁</td></tr><tr><td>[fold2] lr</td><td>███████▇▇▇▇▇▇▆▆▆▆▅▅▅▄▄▄▄▃▃▃▃▂▂▂▂▂▁▁▁▁▁▁▁</td></tr><tr><td>[fold2] score</td><td>█▃▁▁</td></tr><tr><td>[fold3] avg_train_loss</td><td>█▂▁▁</td></tr><tr><td>[fold3] avg_val_loss</td><td>█▄▂▁</td></tr><tr><td>[fold3] epoch</td><td>▁▃▆█</td></tr><tr><td>[fold3] loss</td><td>█▅▂▂▁▁▂▂▁▂▁▁▁▁▁▁▁▁▁▁▁▁▁▁▁▁▁▂▁▁▁▁▁▁▁▁▁▁▁▁</td></tr><tr><td>[fold3] lr</td><td>███████▇▇▇▇▇▇▆▆▆▆▅▅▅▄▄▄▄▃▃▃▃▂▂▂▂▂▁▁▁▁▁▁▁</td></tr><tr><td>[fold3] score</td><td>█▄▂▁</td></tr></table><br/></div><div class=\"wandb-col\"><h3>Run summary:</h3><br/><table class=\"wandb\"><tr><td>[fold0] avg_train_loss</td><td>0.13403</td></tr><tr><td>[fold0] avg_val_loss</td><td>0.13449</td></tr><tr><td>[fold0] epoch</td><td>4</td></tr><tr><td>[fold0] loss</td><td>0.11645</td></tr><tr><td>[fold0] lr</td><td>0.0</td></tr><tr><td>[fold0] score</td><td>0.52192</td></tr><tr><td>[fold1] avg_train_loss</td><td>0.12991</td></tr><tr><td>[fold1] avg_val_loss</td><td>0.14317</td></tr><tr><td>[fold1] epoch</td><td>4</td></tr><tr><td>[fold1] loss</td><td>0.13238</td></tr><tr><td>[fold1] lr</td><td>0.0</td></tr><tr><td>[fold1] score</td><td>0.53857</td></tr><tr><td>[fold2] avg_train_loss</td><td>0.13254</td></tr><tr><td>[fold2] avg_val_loss</td><td>0.14416</td></tr><tr><td>[fold2] epoch</td><td>4</td></tr><tr><td>[fold2] loss</td><td>0.19983</td></tr><tr><td>[fold2] lr</td><td>0.0</td></tr><tr><td>[fold2] score</td><td>0.54117</td></tr><tr><td>[fold3] avg_train_loss</td><td>0.13409</td></tr><tr><td>[fold3] avg_val_loss</td><td>0.13346</td></tr><tr><td>[fold3] epoch</td><td>4</td></tr><tr><td>[fold3] loss</td><td>0.10269</td></tr><tr><td>[fold3] lr</td><td>0.0</td></tr><tr><td>[fold3] score</td><td>0.51975</td></tr></table><br/></div></div>"
      ],
      "text/plain": [
       "<IPython.core.display.HTML object>"
      ]
     },
     "metadata": {},
     "output_type": "display_data"
    },
    {
     "data": {
      "text/html": [
       "Synced <strong style=\"color:#cdcd00\">microsoft/deberta-v3-base</strong>: <a href=\"https://wandb.ai/anony-mouse-445359/FB3-Public/runs/20exmq0y?apiKey=6b15f3993a010d3995ea45d725be1f9a27b6948c\" target=\"_blank\">https://wandb.ai/anony-mouse-445359/FB3-Public/runs/20exmq0y?apiKey=6b15f3993a010d3995ea45d725be1f9a27b6948c</a><br/>Synced 6 W&B file(s), 0 media file(s), 0 artifact file(s) and 0 other file(s)"
      ],
      "text/plain": [
       "<IPython.core.display.HTML object>"
      ]
     },
     "metadata": {},
     "output_type": "display_data"
    },
    {
     "data": {
      "text/html": [
       "Find logs at: <code>./wandb/run-20221120_074705-20exmq0y/logs</code>"
      ],
      "text/plain": [
       "<IPython.core.display.HTML object>"
      ]
     },
     "metadata": {},
     "output_type": "display_data"
    }
   ],
   "source": [
    "if __name__ == '__main__':\n",
    "    \n",
    "    def get_result(oof_df):\n",
    "        labels = oof_df[CFG.target_cols].values\n",
    "        preds = oof_df[[f\"pred_{c}\" for c in CFG.target_cols]].values\n",
    "        score, scores = get_score(labels, preds)\n",
    "        LOGGER.info(f'Score: {score:<.4f}  Scores: {scores}')\n",
    "    \n",
    "    if CFG.train:\n",
    "        oof_df = pd.DataFrame()\n",
    "        for fold in range(CFG.n_fold):\n",
    "            if fold in CFG.trn_fold:\n",
    "                _oof_df = train_loop(train, fold)\n",
    "                oof_df = pd.concat([oof_df, _oof_df])\n",
    "                LOGGER.info(f\"========== fold: {fold} result ==========\")\n",
    "                get_result(_oof_df)\n",
    "        oof_df = oof_df.reset_index(drop=True)\n",
    "        LOGGER.info(f\"========== CV ==========\")\n",
    "        get_result(oof_df)\n",
    "        oof_df.to_pickle(OUTPUT_DIR+'oof_df.pkl')\n",
    "        \n",
    "    if CFG.wandb:\n",
    "        wandb.finish()"
   ]
  },
  {
   "cell_type": "code",
   "execution_count": null,
   "id": "dd96a4bc",
   "metadata": {
    "papermill": {
     "duration": 0.035961,
     "end_time": "2022-11-20T11:04:35.043580",
     "exception": false,
     "start_time": "2022-11-20T11:04:35.007619",
     "status": "completed"
    },
    "tags": []
   },
   "outputs": [],
   "source": []
  }
 ],
 "metadata": {
  "kernelspec": {
   "display_name": "Python 3",
   "language": "python",
   "name": "python3"
  },
  "language_info": {
   "codemirror_mode": {
    "name": "ipython",
    "version": 3
   },
   "file_extension": ".py",
   "mimetype": "text/x-python",
   "name": "python",
   "nbconvert_exporter": "python",
   "pygments_lexer": "ipython3",
   "version": "3.7.12"
  },
  "papermill": {
   "default_parameters": {},
   "duration": 11863.035919,
   "end_time": "2022-11-20T11:04:37.919286",
   "environment_variables": {},
   "exception": null,
   "input_path": "__notebook__.ipynb",
   "output_path": "__notebook__.ipynb",
   "parameters": {},
   "start_time": "2022-11-20T07:46:54.883367",
   "version": "2.3.4"
  },
  "widgets": {
   "application/vnd.jupyter.widget-state+json": {
    "state": {
     "00b4145aec4c4d7f8e49b34f5d8f2ee3": {
      "model_module": "@jupyter-widgets/controls",
      "model_module_version": "1.5.0",
      "model_name": "DescriptionStyleModel",
      "state": {
       "_model_module": "@jupyter-widgets/controls",
       "_model_module_version": "1.5.0",
       "_model_name": "DescriptionStyleModel",
       "_view_count": null,
       "_view_module": "@jupyter-widgets/base",
       "_view_module_version": "1.2.0",
       "_view_name": "StyleView",
       "description_width": ""
      }
     },
     "02be4770d01e4440bcabad7af904a1e1": {
      "model_module": "@jupyter-widgets/controls",
      "model_module_version": "1.5.0",
      "model_name": "FloatProgressModel",
      "state": {
       "_dom_classes": [],
       "_model_module": "@jupyter-widgets/controls",
       "_model_module_version": "1.5.0",
       "_model_name": "FloatProgressModel",
       "_view_count": null,
       "_view_module": "@jupyter-widgets/controls",
       "_view_module_version": "1.5.0",
       "_view_name": "ProgressView",
       "bar_style": "success",
       "description": "",
       "description_tooltip": null,
       "layout": "IPY_MODEL_e0b0bc94e4ba42b799a064f7f6b3864a",
       "max": 52.0,
       "min": 0.0,
       "orientation": "horizontal",
       "style": "IPY_MODEL_ee5b8fe1e5f14134a9d3855a7877ee84",
       "value": 52.0
      }
     },
     "04d1dd4f60264d3ba0f2d250b708db11": {
      "model_module": "@jupyter-widgets/controls",
      "model_module_version": "1.5.0",
      "model_name": "HTMLModel",
      "state": {
       "_dom_classes": [],
       "_model_module": "@jupyter-widgets/controls",
       "_model_module_version": "1.5.0",
       "_model_name": "HTMLModel",
       "_view_count": null,
       "_view_module": "@jupyter-widgets/controls",
       "_view_module_version": "1.5.0",
       "_view_name": "HTMLView",
       "description": "",
       "description_tooltip": null,
       "layout": "IPY_MODEL_d22ac4ff42c54cf394cd8f1e1854a545",
       "placeholder": "​",
       "style": "IPY_MODEL_f560c7074dfe45d6bbe4c681e1390e71",
       "value": "Downloading spm.model: 100%"
      }
     },
     "10e99fb5ecaf448492d9a53f3f3926be": {
      "model_module": "@jupyter-widgets/controls",
      "model_module_version": "1.5.0",
      "model_name": "DescriptionStyleModel",
      "state": {
       "_model_module": "@jupyter-widgets/controls",
       "_model_module_version": "1.5.0",
       "_model_name": "DescriptionStyleModel",
       "_view_count": null,
       "_view_module": "@jupyter-widgets/base",
       "_view_module_version": "1.2.0",
       "_view_name": "StyleView",
       "description_width": ""
      }
     },
     "158b5ac2df8f44a6944330434499dadd": {
      "model_module": "@jupyter-widgets/base",
      "model_module_version": "1.2.0",
      "model_name": "LayoutModel",
      "state": {
       "_model_module": "@jupyter-widgets/base",
       "_model_module_version": "1.2.0",
       "_model_name": "LayoutModel",
       "_view_count": null,
       "_view_module": "@jupyter-widgets/base",
       "_view_module_version": "1.2.0",
       "_view_name": "LayoutView",
       "align_content": null,
       "align_items": null,
       "align_self": null,
       "border": null,
       "bottom": null,
       "display": null,
       "flex": null,
       "flex_flow": null,
       "grid_area": null,
       "grid_auto_columns": null,
       "grid_auto_flow": null,
       "grid_auto_rows": null,
       "grid_column": null,
       "grid_gap": null,
       "grid_row": null,
       "grid_template_areas": null,
       "grid_template_columns": null,
       "grid_template_rows": null,
       "height": null,
       "justify_content": null,
       "justify_items": null,
       "left": null,
       "margin": null,
       "max_height": null,
       "max_width": null,
       "min_height": null,
       "min_width": null,
       "object_fit": null,
       "object_position": null,
       "order": null,
       "overflow": null,
       "overflow_x": null,
       "overflow_y": null,
       "padding": null,
       "right": null,
       "top": null,
       "visibility": null,
       "width": null
      }
     },
     "1684021f0c84470784f238d4257df820": {
      "model_module": "@jupyter-widgets/controls",
      "model_module_version": "1.5.0",
      "model_name": "HTMLModel",
      "state": {
       "_dom_classes": [],
       "_model_module": "@jupyter-widgets/controls",
       "_model_module_version": "1.5.0",
       "_model_name": "HTMLModel",
       "_view_count": null,
       "_view_module": "@jupyter-widgets/controls",
       "_view_module_version": "1.5.0",
       "_view_name": "HTMLView",
       "description": "",
       "description_tooltip": null,
       "layout": "IPY_MODEL_1711a6ba51304770a4a2da64a56409df",
       "placeholder": "​",
       "style": "IPY_MODEL_92342fc0d8054a3f9230314661ae8380",
       "value": " 2.35M/2.35M [00:00&lt;00:00, 3.81MB/s]"
      }
     },
     "1711a6ba51304770a4a2da64a56409df": {
      "model_module": "@jupyter-widgets/base",
      "model_module_version": "1.2.0",
      "model_name": "LayoutModel",
      "state": {
       "_model_module": "@jupyter-widgets/base",
       "_model_module_version": "1.2.0",
       "_model_name": "LayoutModel",
       "_view_count": null,
       "_view_module": "@jupyter-widgets/base",
       "_view_module_version": "1.2.0",
       "_view_name": "LayoutView",
       "align_content": null,
       "align_items": null,
       "align_self": null,
       "border": null,
       "bottom": null,
       "display": null,
       "flex": null,
       "flex_flow": null,
       "grid_area": null,
       "grid_auto_columns": null,
       "grid_auto_flow": null,
       "grid_auto_rows": null,
       "grid_column": null,
       "grid_gap": null,
       "grid_row": null,
       "grid_template_areas": null,
       "grid_template_columns": null,
       "grid_template_rows": null,
       "height": null,
       "justify_content": null,
       "justify_items": null,
       "left": null,
       "margin": null,
       "max_height": null,
       "max_width": null,
       "min_height": null,
       "min_width": null,
       "object_fit": null,
       "object_position": null,
       "order": null,
       "overflow": null,
       "overflow_x": null,
       "overflow_y": null,
       "padding": null,
       "right": null,
       "top": null,
       "visibility": null,
       "width": null
      }
     },
     "231daae6525a4db8911c50d9d2bc0521": {
      "model_module": "@jupyter-widgets/base",
      "model_module_version": "1.2.0",
      "model_name": "LayoutModel",
      "state": {
       "_model_module": "@jupyter-widgets/base",
       "_model_module_version": "1.2.0",
       "_model_name": "LayoutModel",
       "_view_count": null,
       "_view_module": "@jupyter-widgets/base",
       "_view_module_version": "1.2.0",
       "_view_name": "LayoutView",
       "align_content": null,
       "align_items": null,
       "align_self": null,
       "border": null,
       "bottom": null,
       "display": null,
       "flex": null,
       "flex_flow": null,
       "grid_area": null,
       "grid_auto_columns": null,
       "grid_auto_flow": null,
       "grid_auto_rows": null,
       "grid_column": null,
       "grid_gap": null,
       "grid_row": null,
       "grid_template_areas": null,
       "grid_template_columns": null,
       "grid_template_rows": null,
       "height": null,
       "justify_content": null,
       "justify_items": null,
       "left": null,
       "margin": null,
       "max_height": null,
       "max_width": null,
       "min_height": null,
       "min_width": null,
       "object_fit": null,
       "object_position": null,
       "order": null,
       "overflow": null,
       "overflow_x": null,
       "overflow_y": null,
       "padding": null,
       "right": null,
       "top": null,
       "visibility": null,
       "width": null
      }
     },
     "234ffd8fac92425094167d3a7b0c8aaf": {
      "model_module": "@jupyter-widgets/base",
      "model_module_version": "1.2.0",
      "model_name": "LayoutModel",
      "state": {
       "_model_module": "@jupyter-widgets/base",
       "_model_module_version": "1.2.0",
       "_model_name": "LayoutModel",
       "_view_count": null,
       "_view_module": "@jupyter-widgets/base",
       "_view_module_version": "1.2.0",
       "_view_name": "LayoutView",
       "align_content": null,
       "align_items": null,
       "align_self": null,
       "border": null,
       "bottom": null,
       "display": null,
       "flex": null,
       "flex_flow": null,
       "grid_area": null,
       "grid_auto_columns": null,
       "grid_auto_flow": null,
       "grid_auto_rows": null,
       "grid_column": null,
       "grid_gap": null,
       "grid_row": null,
       "grid_template_areas": null,
       "grid_template_columns": null,
       "grid_template_rows": null,
       "height": null,
       "justify_content": null,
       "justify_items": null,
       "left": null,
       "margin": null,
       "max_height": null,
       "max_width": null,
       "min_height": null,
       "min_width": null,
       "object_fit": null,
       "object_position": null,
       "order": null,
       "overflow": null,
       "overflow_x": null,
       "overflow_y": null,
       "padding": null,
       "right": null,
       "top": null,
       "visibility": null,
       "width": null
      }
     },
     "25a51b3a596f4864b07680c647782a2d": {
      "model_module": "@jupyter-widgets/controls",
      "model_module_version": "1.5.0",
      "model_name": "DescriptionStyleModel",
      "state": {
       "_model_module": "@jupyter-widgets/controls",
       "_model_module_version": "1.5.0",
       "_model_name": "DescriptionStyleModel",
       "_view_count": null,
       "_view_module": "@jupyter-widgets/base",
       "_view_module_version": "1.2.0",
       "_view_name": "StyleView",
       "description_width": ""
      }
     },
     "2a9f0b066b4840f484802fa79536b30c": {
      "model_module": "@jupyter-widgets/controls",
      "model_module_version": "1.5.0",
      "model_name": "FloatProgressModel",
      "state": {
       "_dom_classes": [],
       "_model_module": "@jupyter-widgets/controls",
       "_model_module_version": "1.5.0",
       "_model_name": "FloatProgressModel",
       "_view_count": null,
       "_view_module": "@jupyter-widgets/controls",
       "_view_module_version": "1.5.0",
       "_view_name": "ProgressView",
       "bar_style": "success",
       "description": "",
       "description_tooltip": null,
       "layout": "IPY_MODEL_c719572d0f3d495bac6929a882c0ad8e",
       "max": 3911.0,
       "min": 0.0,
       "orientation": "horizontal",
       "style": "IPY_MODEL_6630d8a1be82456fb22cfea9e165e2e9",
       "value": 3911.0
      }
     },
     "2ac544d2be004ba899ef370348269c62": {
      "model_module": "@jupyter-widgets/controls",
      "model_module_version": "1.5.0",
      "model_name": "HBoxModel",
      "state": {
       "_dom_classes": [],
       "_model_module": "@jupyter-widgets/controls",
       "_model_module_version": "1.5.0",
       "_model_name": "HBoxModel",
       "_view_count": null,
       "_view_module": "@jupyter-widgets/controls",
       "_view_module_version": "1.5.0",
       "_view_name": "HBoxView",
       "box_style": "",
       "children": [
        "IPY_MODEL_baa0d0d7f0f04dc6b61175cf22bb45f2",
        "IPY_MODEL_6c5f07f0ac234320820f3b4493eb2cd1",
        "IPY_MODEL_7f508ca49e0d4c6396e378103953ba37"
       ],
       "layout": "IPY_MODEL_a63c14a0734a4366aef572db2106abe0"
      }
     },
     "2dc4da3309aa4e12bd35c1705d86443b": {
      "model_module": "@jupyter-widgets/base",
      "model_module_version": "1.2.0",
      "model_name": "LayoutModel",
      "state": {
       "_model_module": "@jupyter-widgets/base",
       "_model_module_version": "1.2.0",
       "_model_name": "LayoutModel",
       "_view_count": null,
       "_view_module": "@jupyter-widgets/base",
       "_view_module_version": "1.2.0",
       "_view_name": "LayoutView",
       "align_content": null,
       "align_items": null,
       "align_self": null,
       "border": null,
       "bottom": null,
       "display": null,
       "flex": null,
       "flex_flow": null,
       "grid_area": null,
       "grid_auto_columns": null,
       "grid_auto_flow": null,
       "grid_auto_rows": null,
       "grid_column": null,
       "grid_gap": null,
       "grid_row": null,
       "grid_template_areas": null,
       "grid_template_columns": null,
       "grid_template_rows": null,
       "height": null,
       "justify_content": null,
       "justify_items": null,
       "left": null,
       "margin": null,
       "max_height": null,
       "max_width": null,
       "min_height": null,
       "min_width": null,
       "object_fit": null,
       "object_position": null,
       "order": null,
       "overflow": null,
       "overflow_x": null,
       "overflow_y": null,
       "padding": null,
       "right": null,
       "top": null,
       "visibility": null,
       "width": null
      }
     },
     "30940b331a8b453e9ac1c3e860d3fd05": {
      "model_module": "@jupyter-widgets/base",
      "model_module_version": "1.2.0",
      "model_name": "LayoutModel",
      "state": {
       "_model_module": "@jupyter-widgets/base",
       "_model_module_version": "1.2.0",
       "_model_name": "LayoutModel",
       "_view_count": null,
       "_view_module": "@jupyter-widgets/base",
       "_view_module_version": "1.2.0",
       "_view_name": "LayoutView",
       "align_content": null,
       "align_items": null,
       "align_self": null,
       "border": null,
       "bottom": null,
       "display": null,
       "flex": null,
       "flex_flow": null,
       "grid_area": null,
       "grid_auto_columns": null,
       "grid_auto_flow": null,
       "grid_auto_rows": null,
       "grid_column": null,
       "grid_gap": null,
       "grid_row": null,
       "grid_template_areas": null,
       "grid_template_columns": null,
       "grid_template_rows": null,
       "height": null,
       "justify_content": null,
       "justify_items": null,
       "left": null,
       "margin": null,
       "max_height": null,
       "max_width": null,
       "min_height": null,
       "min_width": null,
       "object_fit": null,
       "object_position": null,
       "order": null,
       "overflow": null,
       "overflow_x": null,
       "overflow_y": null,
       "padding": null,
       "right": null,
       "top": null,
       "visibility": null,
       "width": null
      }
     },
     "30a63294d682464d8c6e831de12d6593": {
      "model_module": "@jupyter-widgets/base",
      "model_module_version": "1.2.0",
      "model_name": "LayoutModel",
      "state": {
       "_model_module": "@jupyter-widgets/base",
       "_model_module_version": "1.2.0",
       "_model_name": "LayoutModel",
       "_view_count": null,
       "_view_module": "@jupyter-widgets/base",
       "_view_module_version": "1.2.0",
       "_view_name": "LayoutView",
       "align_content": null,
       "align_items": null,
       "align_self": null,
       "border": null,
       "bottom": null,
       "display": null,
       "flex": null,
       "flex_flow": null,
       "grid_area": null,
       "grid_auto_columns": null,
       "grid_auto_flow": null,
       "grid_auto_rows": null,
       "grid_column": null,
       "grid_gap": null,
       "grid_row": null,
       "grid_template_areas": null,
       "grid_template_columns": null,
       "grid_template_rows": null,
       "height": null,
       "justify_content": null,
       "justify_items": null,
       "left": null,
       "margin": null,
       "max_height": null,
       "max_width": null,
       "min_height": null,
       "min_width": null,
       "object_fit": null,
       "object_position": null,
       "order": null,
       "overflow": null,
       "overflow_x": null,
       "overflow_y": null,
       "padding": null,
       "right": null,
       "top": null,
       "visibility": null,
       "width": null
      }
     },
     "34be5f16f97143e5b26af8e5765d10fb": {
      "model_module": "@jupyter-widgets/controls",
      "model_module_version": "1.5.0",
      "model_name": "ProgressStyleModel",
      "state": {
       "_model_module": "@jupyter-widgets/controls",
       "_model_module_version": "1.5.0",
       "_model_name": "ProgressStyleModel",
       "_view_count": null,
       "_view_module": "@jupyter-widgets/base",
       "_view_module_version": "1.2.0",
       "_view_name": "StyleView",
       "bar_color": null,
       "description_width": ""
      }
     },
     "3c4ab25a7d424562927b50f57606dbea": {
      "model_module": "@jupyter-widgets/base",
      "model_module_version": "1.2.0",
      "model_name": "LayoutModel",
      "state": {
       "_model_module": "@jupyter-widgets/base",
       "_model_module_version": "1.2.0",
       "_model_name": "LayoutModel",
       "_view_count": null,
       "_view_module": "@jupyter-widgets/base",
       "_view_module_version": "1.2.0",
       "_view_name": "LayoutView",
       "align_content": null,
       "align_items": null,
       "align_self": null,
       "border": null,
       "bottom": null,
       "display": null,
       "flex": null,
       "flex_flow": null,
       "grid_area": null,
       "grid_auto_columns": null,
       "grid_auto_flow": null,
       "grid_auto_rows": null,
       "grid_column": null,
       "grid_gap": null,
       "grid_row": null,
       "grid_template_areas": null,
       "grid_template_columns": null,
       "grid_template_rows": null,
       "height": null,
       "justify_content": null,
       "justify_items": null,
       "left": null,
       "margin": null,
       "max_height": null,
       "max_width": null,
       "min_height": null,
       "min_width": null,
       "object_fit": null,
       "object_position": null,
       "order": null,
       "overflow": null,
       "overflow_x": null,
       "overflow_y": null,
       "padding": null,
       "right": null,
       "top": null,
       "visibility": null,
       "width": null
      }
     },
     "49fe28be2aa74335a28f95457b52a34e": {
      "model_module": "@jupyter-widgets/base",
      "model_module_version": "1.2.0",
      "model_name": "LayoutModel",
      "state": {
       "_model_module": "@jupyter-widgets/base",
       "_model_module_version": "1.2.0",
       "_model_name": "LayoutModel",
       "_view_count": null,
       "_view_module": "@jupyter-widgets/base",
       "_view_module_version": "1.2.0",
       "_view_name": "LayoutView",
       "align_content": null,
       "align_items": null,
       "align_self": null,
       "border": null,
       "bottom": null,
       "display": null,
       "flex": null,
       "flex_flow": null,
       "grid_area": null,
       "grid_auto_columns": null,
       "grid_auto_flow": null,
       "grid_auto_rows": null,
       "grid_column": null,
       "grid_gap": null,
       "grid_row": null,
       "grid_template_areas": null,
       "grid_template_columns": null,
       "grid_template_rows": null,
       "height": null,
       "justify_content": null,
       "justify_items": null,
       "left": null,
       "margin": null,
       "max_height": null,
       "max_width": null,
       "min_height": null,
       "min_width": null,
       "object_fit": null,
       "object_position": null,
       "order": null,
       "overflow": null,
       "overflow_x": null,
       "overflow_y": null,
       "padding": null,
       "right": null,
       "top": null,
       "visibility": null,
       "width": null
      }
     },
     "562807c9f87c4194b0b6710a9d04364e": {
      "model_module": "@jupyter-widgets/controls",
      "model_module_version": "1.5.0",
      "model_name": "FloatProgressModel",
      "state": {
       "_dom_classes": [],
       "_model_module": "@jupyter-widgets/controls",
       "_model_module_version": "1.5.0",
       "_model_name": "FloatProgressModel",
       "_view_count": null,
       "_view_module": "@jupyter-widgets/controls",
       "_view_module_version": "1.5.0",
       "_view_name": "ProgressView",
       "bar_style": "",
       "description": "",
       "description_tooltip": null,
       "layout": "IPY_MODEL_fcdb05097e034c3f977a6aadd344e878",
       "max": 1.0,
       "min": 0.0,
       "orientation": "horizontal",
       "style": "IPY_MODEL_f2bcb2ea97fa4cb3bcda001d03495116",
       "value": 1.0
      }
     },
     "5821ad7771ba4f7584112a4ffad0fa53": {
      "model_module": "@jupyter-widgets/controls",
      "model_module_version": "1.5.0",
      "model_name": "DescriptionStyleModel",
      "state": {
       "_model_module": "@jupyter-widgets/controls",
       "_model_module_version": "1.5.0",
       "_model_name": "DescriptionStyleModel",
       "_view_count": null,
       "_view_module": "@jupyter-widgets/base",
       "_view_module_version": "1.2.0",
       "_view_name": "StyleView",
       "description_width": ""
      }
     },
     "5a9cf276765a4e978c43817e1276a2ec": {
      "model_module": "@jupyter-widgets/controls",
      "model_module_version": "1.5.0",
      "model_name": "LabelModel",
      "state": {
       "_dom_classes": [],
       "_model_module": "@jupyter-widgets/controls",
       "_model_module_version": "1.5.0",
       "_model_name": "LabelModel",
       "_view_count": null,
       "_view_module": "@jupyter-widgets/controls",
       "_view_module_version": "1.5.0",
       "_view_name": "LabelView",
       "description": "",
       "description_tooltip": null,
       "layout": "IPY_MODEL_604236ebe47a457dbc93b63b68d83c75",
       "placeholder": "​",
       "style": "IPY_MODEL_10e99fb5ecaf448492d9a53f3f3926be",
       "value": "0.100 MB of 0.100 MB uploaded (0.000 MB deduped)\r"
      }
     },
     "5e35143152ce4dcc8b03d928692334c3": {
      "model_module": "@jupyter-widgets/controls",
      "model_module_version": "1.5.0",
      "model_name": "HTMLModel",
      "state": {
       "_dom_classes": [],
       "_model_module": "@jupyter-widgets/controls",
       "_model_module_version": "1.5.0",
       "_model_name": "HTMLModel",
       "_view_count": null,
       "_view_module": "@jupyter-widgets/controls",
       "_view_module_version": "1.5.0",
       "_view_name": "HTMLView",
       "description": "",
       "description_tooltip": null,
       "layout": "IPY_MODEL_158b5ac2df8f44a6944330434499dadd",
       "placeholder": "​",
       "style": "IPY_MODEL_75fa9663d1254072b15b1434ded82a91",
       "value": "100%"
      }
     },
     "5f6002c927bd4136bbcb15ccdb474b62": {
      "model_module": "@jupyter-widgets/controls",
      "model_module_version": "1.5.0",
      "model_name": "HBoxModel",
      "state": {
       "_dom_classes": [],
       "_model_module": "@jupyter-widgets/controls",
       "_model_module_version": "1.5.0",
       "_model_name": "HBoxModel",
       "_view_count": null,
       "_view_module": "@jupyter-widgets/controls",
       "_view_module_version": "1.5.0",
       "_view_name": "HBoxView",
       "box_style": "",
       "children": [
        "IPY_MODEL_5e35143152ce4dcc8b03d928692334c3",
        "IPY_MODEL_2a9f0b066b4840f484802fa79536b30c",
        "IPY_MODEL_7ad68da7152645c9bfb6fd4e774fafd6"
       ],
       "layout": "IPY_MODEL_49fe28be2aa74335a28f95457b52a34e"
      }
     },
     "604236ebe47a457dbc93b63b68d83c75": {
      "model_module": "@jupyter-widgets/base",
      "model_module_version": "1.2.0",
      "model_name": "LayoutModel",
      "state": {
       "_model_module": "@jupyter-widgets/base",
       "_model_module_version": "1.2.0",
       "_model_name": "LayoutModel",
       "_view_count": null,
       "_view_module": "@jupyter-widgets/base",
       "_view_module_version": "1.2.0",
       "_view_name": "LayoutView",
       "align_content": null,
       "align_items": null,
       "align_self": null,
       "border": null,
       "bottom": null,
       "display": null,
       "flex": null,
       "flex_flow": null,
       "grid_area": null,
       "grid_auto_columns": null,
       "grid_auto_flow": null,
       "grid_auto_rows": null,
       "grid_column": null,
       "grid_gap": null,
       "grid_row": null,
       "grid_template_areas": null,
       "grid_template_columns": null,
       "grid_template_rows": null,
       "height": null,
       "justify_content": null,
       "justify_items": null,
       "left": null,
       "margin": null,
       "max_height": null,
       "max_width": null,
       "min_height": null,
       "min_width": null,
       "object_fit": null,
       "object_position": null,
       "order": null,
       "overflow": null,
       "overflow_x": null,
       "overflow_y": null,
       "padding": null,
       "right": null,
       "top": null,
       "visibility": null,
       "width": null
      }
     },
     "65ab681add4649b8be74054ce6269328": {
      "model_module": "@jupyter-widgets/controls",
      "model_module_version": "1.5.0",
      "model_name": "FloatProgressModel",
      "state": {
       "_dom_classes": [],
       "_model_module": "@jupyter-widgets/controls",
       "_model_module_version": "1.5.0",
       "_model_name": "FloatProgressModel",
       "_view_count": null,
       "_view_module": "@jupyter-widgets/controls",
       "_view_module_version": "1.5.0",
       "_view_name": "ProgressView",
       "bar_style": "success",
       "description": "",
       "description_tooltip": null,
       "layout": "IPY_MODEL_30a63294d682464d8c6e831de12d6593",
       "max": 2464616.0,
       "min": 0.0,
       "orientation": "horizontal",
       "style": "IPY_MODEL_34be5f16f97143e5b26af8e5765d10fb",
       "value": 2464616.0
      }
     },
     "6630d8a1be82456fb22cfea9e165e2e9": {
      "model_module": "@jupyter-widgets/controls",
      "model_module_version": "1.5.0",
      "model_name": "ProgressStyleModel",
      "state": {
       "_model_module": "@jupyter-widgets/controls",
       "_model_module_version": "1.5.0",
       "_model_name": "ProgressStyleModel",
       "_view_count": null,
       "_view_module": "@jupyter-widgets/base",
       "_view_module_version": "1.2.0",
       "_view_name": "StyleView",
       "bar_color": null,
       "description_width": ""
      }
     },
     "6916c7010c3b4412836b1ed106d35e1e": {
      "model_module": "@jupyter-widgets/base",
      "model_module_version": "1.2.0",
      "model_name": "LayoutModel",
      "state": {
       "_model_module": "@jupyter-widgets/base",
       "_model_module_version": "1.2.0",
       "_model_name": "LayoutModel",
       "_view_count": null,
       "_view_module": "@jupyter-widgets/base",
       "_view_module_version": "1.2.0",
       "_view_name": "LayoutView",
       "align_content": null,
       "align_items": null,
       "align_self": null,
       "border": null,
       "bottom": null,
       "display": null,
       "flex": null,
       "flex_flow": null,
       "grid_area": null,
       "grid_auto_columns": null,
       "grid_auto_flow": null,
       "grid_auto_rows": null,
       "grid_column": null,
       "grid_gap": null,
       "grid_row": null,
       "grid_template_areas": null,
       "grid_template_columns": null,
       "grid_template_rows": null,
       "height": null,
       "justify_content": null,
       "justify_items": null,
       "left": null,
       "margin": null,
       "max_height": null,
       "max_width": null,
       "min_height": null,
       "min_width": null,
       "object_fit": null,
       "object_position": null,
       "order": null,
       "overflow": null,
       "overflow_x": null,
       "overflow_y": null,
       "padding": null,
       "right": null,
       "top": null,
       "visibility": null,
       "width": null
      }
     },
     "6a1eeed08f48485681313b3cdfd76759": {
      "model_module": "@jupyter-widgets/controls",
      "model_module_version": "1.5.0",
      "model_name": "HBoxModel",
      "state": {
       "_dom_classes": [],
       "_model_module": "@jupyter-widgets/controls",
       "_model_module_version": "1.5.0",
       "_model_name": "HBoxModel",
       "_view_count": null,
       "_view_module": "@jupyter-widgets/controls",
       "_view_module_version": "1.5.0",
       "_view_name": "HBoxView",
       "box_style": "",
       "children": [
        "IPY_MODEL_77db81ee23d04c30a8788f600ad443a4",
        "IPY_MODEL_e9927fae2f8d432283099bf4a718657f",
        "IPY_MODEL_6ccffbba3fcd49cfb190aa3e59577d5e"
       ],
       "layout": "IPY_MODEL_f98f488e1d0a4ceda92ed1f1fa9eb0c9"
      }
     },
     "6c5f07f0ac234320820f3b4493eb2cd1": {
      "model_module": "@jupyter-widgets/controls",
      "model_module_version": "1.5.0",
      "model_name": "FloatProgressModel",
      "state": {
       "_dom_classes": [],
       "_model_module": "@jupyter-widgets/controls",
       "_model_module_version": "1.5.0",
       "_model_name": "FloatProgressModel",
       "_view_count": null,
       "_view_module": "@jupyter-widgets/controls",
       "_view_module_version": "1.5.0",
       "_view_name": "ProgressView",
       "bar_style": "success",
       "description": "",
       "description_tooltip": null,
       "layout": "IPY_MODEL_231daae6525a4db8911c50d9d2bc0521",
       "max": 371146213.0,
       "min": 0.0,
       "orientation": "horizontal",
       "style": "IPY_MODEL_d1681a37b854449399fd1eb5a7a7560c",
       "value": 371146213.0
      }
     },
     "6ccffbba3fcd49cfb190aa3e59577d5e": {
      "model_module": "@jupyter-widgets/controls",
      "model_module_version": "1.5.0",
      "model_name": "HTMLModel",
      "state": {
       "_dom_classes": [],
       "_model_module": "@jupyter-widgets/controls",
       "_model_module_version": "1.5.0",
       "_model_name": "HTMLModel",
       "_view_count": null,
       "_view_module": "@jupyter-widgets/controls",
       "_view_module_version": "1.5.0",
       "_view_name": "HTMLView",
       "description": "",
       "description_tooltip": null,
       "layout": "IPY_MODEL_3c4ab25a7d424562927b50f57606dbea",
       "placeholder": "​",
       "style": "IPY_MODEL_5821ad7771ba4f7584112a4ffad0fa53",
       "value": " 579/579 [00:00&lt;00:00, 21.9kB/s]"
      }
     },
     "6d047e663930418ab9a0d54191db2fce": {
      "model_module": "@jupyter-widgets/controls",
      "model_module_version": "1.5.0",
      "model_name": "DescriptionStyleModel",
      "state": {
       "_model_module": "@jupyter-widgets/controls",
       "_model_module_version": "1.5.0",
       "_model_name": "DescriptionStyleModel",
       "_view_count": null,
       "_view_module": "@jupyter-widgets/base",
       "_view_module_version": "1.2.0",
       "_view_name": "StyleView",
       "description_width": ""
      }
     },
     "75fa9663d1254072b15b1434ded82a91": {
      "model_module": "@jupyter-widgets/controls",
      "model_module_version": "1.5.0",
      "model_name": "DescriptionStyleModel",
      "state": {
       "_model_module": "@jupyter-widgets/controls",
       "_model_module_version": "1.5.0",
       "_model_name": "DescriptionStyleModel",
       "_view_count": null,
       "_view_module": "@jupyter-widgets/base",
       "_view_module_version": "1.2.0",
       "_view_name": "StyleView",
       "description_width": ""
      }
     },
     "77db81ee23d04c30a8788f600ad443a4": {
      "model_module": "@jupyter-widgets/controls",
      "model_module_version": "1.5.0",
      "model_name": "HTMLModel",
      "state": {
       "_dom_classes": [],
       "_model_module": "@jupyter-widgets/controls",
       "_model_module_version": "1.5.0",
       "_model_name": "HTMLModel",
       "_view_count": null,
       "_view_module": "@jupyter-widgets/controls",
       "_view_module_version": "1.5.0",
       "_view_name": "HTMLView",
       "description": "",
       "description_tooltip": null,
       "layout": "IPY_MODEL_b0d2f5a83fc845e882ce95e956709a19",
       "placeholder": "​",
       "style": "IPY_MODEL_fb3fef1254b04c00be229dd0b1246d7d",
       "value": "Downloading config.json: 100%"
      }
     },
     "7ad68da7152645c9bfb6fd4e774fafd6": {
      "model_module": "@jupyter-widgets/controls",
      "model_module_version": "1.5.0",
      "model_name": "HTMLModel",
      "state": {
       "_dom_classes": [],
       "_model_module": "@jupyter-widgets/controls",
       "_model_module_version": "1.5.0",
       "_model_name": "HTMLModel",
       "_view_count": null,
       "_view_module": "@jupyter-widgets/controls",
       "_view_module_version": "1.5.0",
       "_view_name": "HTMLView",
       "description": "",
       "description_tooltip": null,
       "layout": "IPY_MODEL_234ffd8fac92425094167d3a7b0c8aaf",
       "placeholder": "​",
       "style": "IPY_MODEL_6d047e663930418ab9a0d54191db2fce",
       "value": " 3911/3911 [00:06&lt;00:00, 693.43it/s]"
      }
     },
     "7f508ca49e0d4c6396e378103953ba37": {
      "model_module": "@jupyter-widgets/controls",
      "model_module_version": "1.5.0",
      "model_name": "HTMLModel",
      "state": {
       "_dom_classes": [],
       "_model_module": "@jupyter-widgets/controls",
       "_model_module_version": "1.5.0",
       "_model_name": "HTMLModel",
       "_view_count": null,
       "_view_module": "@jupyter-widgets/controls",
       "_view_module_version": "1.5.0",
       "_view_name": "HTMLView",
       "description": "",
       "description_tooltip": null,
       "layout": "IPY_MODEL_e73f0b397d374d5a818c50dd667432d0",
       "placeholder": "​",
       "style": "IPY_MODEL_00b4145aec4c4d7f8e49b34f5d8f2ee3",
       "value": " 354M/354M [00:16&lt;00:00, 23.4MB/s]"
      }
     },
     "812b0a6bffdb4b2ebb1988c3fd193e09": {
      "model_module": "@jupyter-widgets/base",
      "model_module_version": "1.2.0",
      "model_name": "LayoutModel",
      "state": {
       "_model_module": "@jupyter-widgets/base",
       "_model_module_version": "1.2.0",
       "_model_name": "LayoutModel",
       "_view_count": null,
       "_view_module": "@jupyter-widgets/base",
       "_view_module_version": "1.2.0",
       "_view_name": "LayoutView",
       "align_content": null,
       "align_items": null,
       "align_self": null,
       "border": null,
       "bottom": null,
       "display": null,
       "flex": null,
       "flex_flow": null,
       "grid_area": null,
       "grid_auto_columns": null,
       "grid_auto_flow": null,
       "grid_auto_rows": null,
       "grid_column": null,
       "grid_gap": null,
       "grid_row": null,
       "grid_template_areas": null,
       "grid_template_columns": null,
       "grid_template_rows": null,
       "height": null,
       "justify_content": null,
       "justify_items": null,
       "left": null,
       "margin": null,
       "max_height": null,
       "max_width": null,
       "min_height": null,
       "min_width": null,
       "object_fit": null,
       "object_position": null,
       "order": null,
       "overflow": null,
       "overflow_x": null,
       "overflow_y": null,
       "padding": null,
       "right": null,
       "top": null,
       "visibility": null,
       "width": null
      }
     },
     "8f3dcd75169a46b3a24205f98e6baca2": {
      "model_module": "@jupyter-widgets/base",
      "model_module_version": "1.2.0",
      "model_name": "LayoutModel",
      "state": {
       "_model_module": "@jupyter-widgets/base",
       "_model_module_version": "1.2.0",
       "_model_name": "LayoutModel",
       "_view_count": null,
       "_view_module": "@jupyter-widgets/base",
       "_view_module_version": "1.2.0",
       "_view_name": "LayoutView",
       "align_content": null,
       "align_items": null,
       "align_self": null,
       "border": null,
       "bottom": null,
       "display": null,
       "flex": null,
       "flex_flow": null,
       "grid_area": null,
       "grid_auto_columns": null,
       "grid_auto_flow": null,
       "grid_auto_rows": null,
       "grid_column": null,
       "grid_gap": null,
       "grid_row": null,
       "grid_template_areas": null,
       "grid_template_columns": null,
       "grid_template_rows": null,
       "height": null,
       "justify_content": null,
       "justify_items": null,
       "left": null,
       "margin": null,
       "max_height": null,
       "max_width": null,
       "min_height": null,
       "min_width": null,
       "object_fit": null,
       "object_position": null,
       "order": null,
       "overflow": null,
       "overflow_x": null,
       "overflow_y": null,
       "padding": null,
       "right": null,
       "top": null,
       "visibility": null,
       "width": null
      }
     },
     "92342fc0d8054a3f9230314661ae8380": {
      "model_module": "@jupyter-widgets/controls",
      "model_module_version": "1.5.0",
      "model_name": "DescriptionStyleModel",
      "state": {
       "_model_module": "@jupyter-widgets/controls",
       "_model_module_version": "1.5.0",
       "_model_name": "DescriptionStyleModel",
       "_view_count": null,
       "_view_module": "@jupyter-widgets/base",
       "_view_module_version": "1.2.0",
       "_view_name": "StyleView",
       "description_width": ""
      }
     },
     "9ad9d78ab178459f877e1095f39b5d75": {
      "model_module": "@jupyter-widgets/controls",
      "model_module_version": "1.5.0",
      "model_name": "HTMLModel",
      "state": {
       "_dom_classes": [],
       "_model_module": "@jupyter-widgets/controls",
       "_model_module_version": "1.5.0",
       "_model_name": "HTMLModel",
       "_view_count": null,
       "_view_module": "@jupyter-widgets/controls",
       "_view_module_version": "1.5.0",
       "_view_name": "HTMLView",
       "description": "",
       "description_tooltip": null,
       "layout": "IPY_MODEL_6916c7010c3b4412836b1ed106d35e1e",
       "placeholder": "​",
       "style": "IPY_MODEL_25a51b3a596f4864b07680c647782a2d",
       "value": " 52.0/52.0 [00:00&lt;00:00, 1.98kB/s]"
      }
     },
     "9afdb7d40fea481fa1d7cc094747cf07": {
      "model_module": "@jupyter-widgets/controls",
      "model_module_version": "1.5.0",
      "model_name": "VBoxModel",
      "state": {
       "_dom_classes": [],
       "_model_module": "@jupyter-widgets/controls",
       "_model_module_version": "1.5.0",
       "_model_name": "VBoxModel",
       "_view_count": null,
       "_view_module": "@jupyter-widgets/controls",
       "_view_module_version": "1.5.0",
       "_view_name": "VBoxView",
       "box_style": "",
       "children": [
        "IPY_MODEL_5a9cf276765a4e978c43817e1276a2ec",
        "IPY_MODEL_562807c9f87c4194b0b6710a9d04364e"
       ],
       "layout": "IPY_MODEL_d073fb7c2e28446bbb37e35580c1d030"
      }
     },
     "a2517623802e448d9840f93aa6f13d31": {
      "model_module": "@jupyter-widgets/controls",
      "model_module_version": "1.5.0",
      "model_name": "HTMLModel",
      "state": {
       "_dom_classes": [],
       "_model_module": "@jupyter-widgets/controls",
       "_model_module_version": "1.5.0",
       "_model_name": "HTMLModel",
       "_view_count": null,
       "_view_module": "@jupyter-widgets/controls",
       "_view_module_version": "1.5.0",
       "_view_name": "HTMLView",
       "description": "",
       "description_tooltip": null,
       "layout": "IPY_MODEL_8f3dcd75169a46b3a24205f98e6baca2",
       "placeholder": "​",
       "style": "IPY_MODEL_fbd23b78e582410f93014d84ca3059a8",
       "value": "Downloading tokenizer_config.json: 100%"
      }
     },
     "a63c14a0734a4366aef572db2106abe0": {
      "model_module": "@jupyter-widgets/base",
      "model_module_version": "1.2.0",
      "model_name": "LayoutModel",
      "state": {
       "_model_module": "@jupyter-widgets/base",
       "_model_module_version": "1.2.0",
       "_model_name": "LayoutModel",
       "_view_count": null,
       "_view_module": "@jupyter-widgets/base",
       "_view_module_version": "1.2.0",
       "_view_name": "LayoutView",
       "align_content": null,
       "align_items": null,
       "align_self": null,
       "border": null,
       "bottom": null,
       "display": null,
       "flex": null,
       "flex_flow": null,
       "grid_area": null,
       "grid_auto_columns": null,
       "grid_auto_flow": null,
       "grid_auto_rows": null,
       "grid_column": null,
       "grid_gap": null,
       "grid_row": null,
       "grid_template_areas": null,
       "grid_template_columns": null,
       "grid_template_rows": null,
       "height": null,
       "justify_content": null,
       "justify_items": null,
       "left": null,
       "margin": null,
       "max_height": null,
       "max_width": null,
       "min_height": null,
       "min_width": null,
       "object_fit": null,
       "object_position": null,
       "order": null,
       "overflow": null,
       "overflow_x": null,
       "overflow_y": null,
       "padding": null,
       "right": null,
       "top": null,
       "visibility": null,
       "width": null
      }
     },
     "ab2d5f75f35e4d96bcae194085332fd8": {
      "model_module": "@jupyter-widgets/controls",
      "model_module_version": "1.5.0",
      "model_name": "DescriptionStyleModel",
      "state": {
       "_model_module": "@jupyter-widgets/controls",
       "_model_module_version": "1.5.0",
       "_model_name": "DescriptionStyleModel",
       "_view_count": null,
       "_view_module": "@jupyter-widgets/base",
       "_view_module_version": "1.2.0",
       "_view_name": "StyleView",
       "description_width": ""
      }
     },
     "aca19246e93544aa83ca6f8f61aca19f": {
      "model_module": "@jupyter-widgets/controls",
      "model_module_version": "1.5.0",
      "model_name": "HBoxModel",
      "state": {
       "_dom_classes": [],
       "_model_module": "@jupyter-widgets/controls",
       "_model_module_version": "1.5.0",
       "_model_name": "HBoxModel",
       "_view_count": null,
       "_view_module": "@jupyter-widgets/controls",
       "_view_module_version": "1.5.0",
       "_view_name": "HBoxView",
       "box_style": "",
       "children": [
        "IPY_MODEL_a2517623802e448d9840f93aa6f13d31",
        "IPY_MODEL_02be4770d01e4440bcabad7af904a1e1",
        "IPY_MODEL_9ad9d78ab178459f877e1095f39b5d75"
       ],
       "layout": "IPY_MODEL_2dc4da3309aa4e12bd35c1705d86443b"
      }
     },
     "b0d2f5a83fc845e882ce95e956709a19": {
      "model_module": "@jupyter-widgets/base",
      "model_module_version": "1.2.0",
      "model_name": "LayoutModel",
      "state": {
       "_model_module": "@jupyter-widgets/base",
       "_model_module_version": "1.2.0",
       "_model_name": "LayoutModel",
       "_view_count": null,
       "_view_module": "@jupyter-widgets/base",
       "_view_module_version": "1.2.0",
       "_view_name": "LayoutView",
       "align_content": null,
       "align_items": null,
       "align_self": null,
       "border": null,
       "bottom": null,
       "display": null,
       "flex": null,
       "flex_flow": null,
       "grid_area": null,
       "grid_auto_columns": null,
       "grid_auto_flow": null,
       "grid_auto_rows": null,
       "grid_column": null,
       "grid_gap": null,
       "grid_row": null,
       "grid_template_areas": null,
       "grid_template_columns": null,
       "grid_template_rows": null,
       "height": null,
       "justify_content": null,
       "justify_items": null,
       "left": null,
       "margin": null,
       "max_height": null,
       "max_width": null,
       "min_height": null,
       "min_width": null,
       "object_fit": null,
       "object_position": null,
       "order": null,
       "overflow": null,
       "overflow_x": null,
       "overflow_y": null,
       "padding": null,
       "right": null,
       "top": null,
       "visibility": null,
       "width": null
      }
     },
     "baa0d0d7f0f04dc6b61175cf22bb45f2": {
      "model_module": "@jupyter-widgets/controls",
      "model_module_version": "1.5.0",
      "model_name": "HTMLModel",
      "state": {
       "_dom_classes": [],
       "_model_module": "@jupyter-widgets/controls",
       "_model_module_version": "1.5.0",
       "_model_name": "HTMLModel",
       "_view_count": null,
       "_view_module": "@jupyter-widgets/controls",
       "_view_module_version": "1.5.0",
       "_view_name": "HTMLView",
       "description": "",
       "description_tooltip": null,
       "layout": "IPY_MODEL_c4be4a17054f4401b9783dfae79d2ac8",
       "placeholder": "​",
       "style": "IPY_MODEL_ab2d5f75f35e4d96bcae194085332fd8",
       "value": "Downloading pytorch_model.bin: 100%"
      }
     },
     "beb518a0e5b944bd8cdf07c83944a0fe": {
      "model_module": "@jupyter-widgets/controls",
      "model_module_version": "1.5.0",
      "model_name": "ProgressStyleModel",
      "state": {
       "_model_module": "@jupyter-widgets/controls",
       "_model_module_version": "1.5.0",
       "_model_name": "ProgressStyleModel",
       "_view_count": null,
       "_view_module": "@jupyter-widgets/base",
       "_view_module_version": "1.2.0",
       "_view_name": "StyleView",
       "bar_color": null,
       "description_width": ""
      }
     },
     "c4be4a17054f4401b9783dfae79d2ac8": {
      "model_module": "@jupyter-widgets/base",
      "model_module_version": "1.2.0",
      "model_name": "LayoutModel",
      "state": {
       "_model_module": "@jupyter-widgets/base",
       "_model_module_version": "1.2.0",
       "_model_name": "LayoutModel",
       "_view_count": null,
       "_view_module": "@jupyter-widgets/base",
       "_view_module_version": "1.2.0",
       "_view_name": "LayoutView",
       "align_content": null,
       "align_items": null,
       "align_self": null,
       "border": null,
       "bottom": null,
       "display": null,
       "flex": null,
       "flex_flow": null,
       "grid_area": null,
       "grid_auto_columns": null,
       "grid_auto_flow": null,
       "grid_auto_rows": null,
       "grid_column": null,
       "grid_gap": null,
       "grid_row": null,
       "grid_template_areas": null,
       "grid_template_columns": null,
       "grid_template_rows": null,
       "height": null,
       "justify_content": null,
       "justify_items": null,
       "left": null,
       "margin": null,
       "max_height": null,
       "max_width": null,
       "min_height": null,
       "min_width": null,
       "object_fit": null,
       "object_position": null,
       "order": null,
       "overflow": null,
       "overflow_x": null,
       "overflow_y": null,
       "padding": null,
       "right": null,
       "top": null,
       "visibility": null,
       "width": null
      }
     },
     "c719572d0f3d495bac6929a882c0ad8e": {
      "model_module": "@jupyter-widgets/base",
      "model_module_version": "1.2.0",
      "model_name": "LayoutModel",
      "state": {
       "_model_module": "@jupyter-widgets/base",
       "_model_module_version": "1.2.0",
       "_model_name": "LayoutModel",
       "_view_count": null,
       "_view_module": "@jupyter-widgets/base",
       "_view_module_version": "1.2.0",
       "_view_name": "LayoutView",
       "align_content": null,
       "align_items": null,
       "align_self": null,
       "border": null,
       "bottom": null,
       "display": null,
       "flex": null,
       "flex_flow": null,
       "grid_area": null,
       "grid_auto_columns": null,
       "grid_auto_flow": null,
       "grid_auto_rows": null,
       "grid_column": null,
       "grid_gap": null,
       "grid_row": null,
       "grid_template_areas": null,
       "grid_template_columns": null,
       "grid_template_rows": null,
       "height": null,
       "justify_content": null,
       "justify_items": null,
       "left": null,
       "margin": null,
       "max_height": null,
       "max_width": null,
       "min_height": null,
       "min_width": null,
       "object_fit": null,
       "object_position": null,
       "order": null,
       "overflow": null,
       "overflow_x": null,
       "overflow_y": null,
       "padding": null,
       "right": null,
       "top": null,
       "visibility": null,
       "width": null
      }
     },
     "d073fb7c2e28446bbb37e35580c1d030": {
      "model_module": "@jupyter-widgets/base",
      "model_module_version": "1.2.0",
      "model_name": "LayoutModel",
      "state": {
       "_model_module": "@jupyter-widgets/base",
       "_model_module_version": "1.2.0",
       "_model_name": "LayoutModel",
       "_view_count": null,
       "_view_module": "@jupyter-widgets/base",
       "_view_module_version": "1.2.0",
       "_view_name": "LayoutView",
       "align_content": null,
       "align_items": null,
       "align_self": null,
       "border": null,
       "bottom": null,
       "display": null,
       "flex": null,
       "flex_flow": null,
       "grid_area": null,
       "grid_auto_columns": null,
       "grid_auto_flow": null,
       "grid_auto_rows": null,
       "grid_column": null,
       "grid_gap": null,
       "grid_row": null,
       "grid_template_areas": null,
       "grid_template_columns": null,
       "grid_template_rows": null,
       "height": null,
       "justify_content": null,
       "justify_items": null,
       "left": null,
       "margin": null,
       "max_height": null,
       "max_width": null,
       "min_height": null,
       "min_width": null,
       "object_fit": null,
       "object_position": null,
       "order": null,
       "overflow": null,
       "overflow_x": null,
       "overflow_y": null,
       "padding": null,
       "right": null,
       "top": null,
       "visibility": null,
       "width": null
      }
     },
     "d1681a37b854449399fd1eb5a7a7560c": {
      "model_module": "@jupyter-widgets/controls",
      "model_module_version": "1.5.0",
      "model_name": "ProgressStyleModel",
      "state": {
       "_model_module": "@jupyter-widgets/controls",
       "_model_module_version": "1.5.0",
       "_model_name": "ProgressStyleModel",
       "_view_count": null,
       "_view_module": "@jupyter-widgets/base",
       "_view_module_version": "1.2.0",
       "_view_name": "StyleView",
       "bar_color": null,
       "description_width": ""
      }
     },
     "d22ac4ff42c54cf394cd8f1e1854a545": {
      "model_module": "@jupyter-widgets/base",
      "model_module_version": "1.2.0",
      "model_name": "LayoutModel",
      "state": {
       "_model_module": "@jupyter-widgets/base",
       "_model_module_version": "1.2.0",
       "_model_name": "LayoutModel",
       "_view_count": null,
       "_view_module": "@jupyter-widgets/base",
       "_view_module_version": "1.2.0",
       "_view_name": "LayoutView",
       "align_content": null,
       "align_items": null,
       "align_self": null,
       "border": null,
       "bottom": null,
       "display": null,
       "flex": null,
       "flex_flow": null,
       "grid_area": null,
       "grid_auto_columns": null,
       "grid_auto_flow": null,
       "grid_auto_rows": null,
       "grid_column": null,
       "grid_gap": null,
       "grid_row": null,
       "grid_template_areas": null,
       "grid_template_columns": null,
       "grid_template_rows": null,
       "height": null,
       "justify_content": null,
       "justify_items": null,
       "left": null,
       "margin": null,
       "max_height": null,
       "max_width": null,
       "min_height": null,
       "min_width": null,
       "object_fit": null,
       "object_position": null,
       "order": null,
       "overflow": null,
       "overflow_x": null,
       "overflow_y": null,
       "padding": null,
       "right": null,
       "top": null,
       "visibility": null,
       "width": null
      }
     },
     "d9b6e662847f4beda110dee75d750361": {
      "model_module": "@jupyter-widgets/controls",
      "model_module_version": "1.5.0",
      "model_name": "HBoxModel",
      "state": {
       "_dom_classes": [],
       "_model_module": "@jupyter-widgets/controls",
       "_model_module_version": "1.5.0",
       "_model_name": "HBoxModel",
       "_view_count": null,
       "_view_module": "@jupyter-widgets/controls",
       "_view_module_version": "1.5.0",
       "_view_name": "HBoxView",
       "box_style": "",
       "children": [
        "IPY_MODEL_04d1dd4f60264d3ba0f2d250b708db11",
        "IPY_MODEL_65ab681add4649b8be74054ce6269328",
        "IPY_MODEL_1684021f0c84470784f238d4257df820"
       ],
       "layout": "IPY_MODEL_30940b331a8b453e9ac1c3e860d3fd05"
      }
     },
     "e0b0bc94e4ba42b799a064f7f6b3864a": {
      "model_module": "@jupyter-widgets/base",
      "model_module_version": "1.2.0",
      "model_name": "LayoutModel",
      "state": {
       "_model_module": "@jupyter-widgets/base",
       "_model_module_version": "1.2.0",
       "_model_name": "LayoutModel",
       "_view_count": null,
       "_view_module": "@jupyter-widgets/base",
       "_view_module_version": "1.2.0",
       "_view_name": "LayoutView",
       "align_content": null,
       "align_items": null,
       "align_self": null,
       "border": null,
       "bottom": null,
       "display": null,
       "flex": null,
       "flex_flow": null,
       "grid_area": null,
       "grid_auto_columns": null,
       "grid_auto_flow": null,
       "grid_auto_rows": null,
       "grid_column": null,
       "grid_gap": null,
       "grid_row": null,
       "grid_template_areas": null,
       "grid_template_columns": null,
       "grid_template_rows": null,
       "height": null,
       "justify_content": null,
       "justify_items": null,
       "left": null,
       "margin": null,
       "max_height": null,
       "max_width": null,
       "min_height": null,
       "min_width": null,
       "object_fit": null,
       "object_position": null,
       "order": null,
       "overflow": null,
       "overflow_x": null,
       "overflow_y": null,
       "padding": null,
       "right": null,
       "top": null,
       "visibility": null,
       "width": null
      }
     },
     "e73f0b397d374d5a818c50dd667432d0": {
      "model_module": "@jupyter-widgets/base",
      "model_module_version": "1.2.0",
      "model_name": "LayoutModel",
      "state": {
       "_model_module": "@jupyter-widgets/base",
       "_model_module_version": "1.2.0",
       "_model_name": "LayoutModel",
       "_view_count": null,
       "_view_module": "@jupyter-widgets/base",
       "_view_module_version": "1.2.0",
       "_view_name": "LayoutView",
       "align_content": null,
       "align_items": null,
       "align_self": null,
       "border": null,
       "bottom": null,
       "display": null,
       "flex": null,
       "flex_flow": null,
       "grid_area": null,
       "grid_auto_columns": null,
       "grid_auto_flow": null,
       "grid_auto_rows": null,
       "grid_column": null,
       "grid_gap": null,
       "grid_row": null,
       "grid_template_areas": null,
       "grid_template_columns": null,
       "grid_template_rows": null,
       "height": null,
       "justify_content": null,
       "justify_items": null,
       "left": null,
       "margin": null,
       "max_height": null,
       "max_width": null,
       "min_height": null,
       "min_width": null,
       "object_fit": null,
       "object_position": null,
       "order": null,
       "overflow": null,
       "overflow_x": null,
       "overflow_y": null,
       "padding": null,
       "right": null,
       "top": null,
       "visibility": null,
       "width": null
      }
     },
     "e9927fae2f8d432283099bf4a718657f": {
      "model_module": "@jupyter-widgets/controls",
      "model_module_version": "1.5.0",
      "model_name": "FloatProgressModel",
      "state": {
       "_dom_classes": [],
       "_model_module": "@jupyter-widgets/controls",
       "_model_module_version": "1.5.0",
       "_model_name": "FloatProgressModel",
       "_view_count": null,
       "_view_module": "@jupyter-widgets/controls",
       "_view_module_version": "1.5.0",
       "_view_name": "ProgressView",
       "bar_style": "success",
       "description": "",
       "description_tooltip": null,
       "layout": "IPY_MODEL_812b0a6bffdb4b2ebb1988c3fd193e09",
       "max": 579.0,
       "min": 0.0,
       "orientation": "horizontal",
       "style": "IPY_MODEL_beb518a0e5b944bd8cdf07c83944a0fe",
       "value": 579.0
      }
     },
     "ee5b8fe1e5f14134a9d3855a7877ee84": {
      "model_module": "@jupyter-widgets/controls",
      "model_module_version": "1.5.0",
      "model_name": "ProgressStyleModel",
      "state": {
       "_model_module": "@jupyter-widgets/controls",
       "_model_module_version": "1.5.0",
       "_model_name": "ProgressStyleModel",
       "_view_count": null,
       "_view_module": "@jupyter-widgets/base",
       "_view_module_version": "1.2.0",
       "_view_name": "StyleView",
       "bar_color": null,
       "description_width": ""
      }
     },
     "f2bcb2ea97fa4cb3bcda001d03495116": {
      "model_module": "@jupyter-widgets/controls",
      "model_module_version": "1.5.0",
      "model_name": "ProgressStyleModel",
      "state": {
       "_model_module": "@jupyter-widgets/controls",
       "_model_module_version": "1.5.0",
       "_model_name": "ProgressStyleModel",
       "_view_count": null,
       "_view_module": "@jupyter-widgets/base",
       "_view_module_version": "1.2.0",
       "_view_name": "StyleView",
       "bar_color": null,
       "description_width": ""
      }
     },
     "f560c7074dfe45d6bbe4c681e1390e71": {
      "model_module": "@jupyter-widgets/controls",
      "model_module_version": "1.5.0",
      "model_name": "DescriptionStyleModel",
      "state": {
       "_model_module": "@jupyter-widgets/controls",
       "_model_module_version": "1.5.0",
       "_model_name": "DescriptionStyleModel",
       "_view_count": null,
       "_view_module": "@jupyter-widgets/base",
       "_view_module_version": "1.2.0",
       "_view_name": "StyleView",
       "description_width": ""
      }
     },
     "f98f488e1d0a4ceda92ed1f1fa9eb0c9": {
      "model_module": "@jupyter-widgets/base",
      "model_module_version": "1.2.0",
      "model_name": "LayoutModel",
      "state": {
       "_model_module": "@jupyter-widgets/base",
       "_model_module_version": "1.2.0",
       "_model_name": "LayoutModel",
       "_view_count": null,
       "_view_module": "@jupyter-widgets/base",
       "_view_module_version": "1.2.0",
       "_view_name": "LayoutView",
       "align_content": null,
       "align_items": null,
       "align_self": null,
       "border": null,
       "bottom": null,
       "display": null,
       "flex": null,
       "flex_flow": null,
       "grid_area": null,
       "grid_auto_columns": null,
       "grid_auto_flow": null,
       "grid_auto_rows": null,
       "grid_column": null,
       "grid_gap": null,
       "grid_row": null,
       "grid_template_areas": null,
       "grid_template_columns": null,
       "grid_template_rows": null,
       "height": null,
       "justify_content": null,
       "justify_items": null,
       "left": null,
       "margin": null,
       "max_height": null,
       "max_width": null,
       "min_height": null,
       "min_width": null,
       "object_fit": null,
       "object_position": null,
       "order": null,
       "overflow": null,
       "overflow_x": null,
       "overflow_y": null,
       "padding": null,
       "right": null,
       "top": null,
       "visibility": null,
       "width": null
      }
     },
     "fb3fef1254b04c00be229dd0b1246d7d": {
      "model_module": "@jupyter-widgets/controls",
      "model_module_version": "1.5.0",
      "model_name": "DescriptionStyleModel",
      "state": {
       "_model_module": "@jupyter-widgets/controls",
       "_model_module_version": "1.5.0",
       "_model_name": "DescriptionStyleModel",
       "_view_count": null,
       "_view_module": "@jupyter-widgets/base",
       "_view_module_version": "1.2.0",
       "_view_name": "StyleView",
       "description_width": ""
      }
     },
     "fbd23b78e582410f93014d84ca3059a8": {
      "model_module": "@jupyter-widgets/controls",
      "model_module_version": "1.5.0",
      "model_name": "DescriptionStyleModel",
      "state": {
       "_model_module": "@jupyter-widgets/controls",
       "_model_module_version": "1.5.0",
       "_model_name": "DescriptionStyleModel",
       "_view_count": null,
       "_view_module": "@jupyter-widgets/base",
       "_view_module_version": "1.2.0",
       "_view_name": "StyleView",
       "description_width": ""
      }
     },
     "fcdb05097e034c3f977a6aadd344e878": {
      "model_module": "@jupyter-widgets/base",
      "model_module_version": "1.2.0",
      "model_name": "LayoutModel",
      "state": {
       "_model_module": "@jupyter-widgets/base",
       "_model_module_version": "1.2.0",
       "_model_name": "LayoutModel",
       "_view_count": null,
       "_view_module": "@jupyter-widgets/base",
       "_view_module_version": "1.2.0",
       "_view_name": "LayoutView",
       "align_content": null,
       "align_items": null,
       "align_self": null,
       "border": null,
       "bottom": null,
       "display": null,
       "flex": null,
       "flex_flow": null,
       "grid_area": null,
       "grid_auto_columns": null,
       "grid_auto_flow": null,
       "grid_auto_rows": null,
       "grid_column": null,
       "grid_gap": null,
       "grid_row": null,
       "grid_template_areas": null,
       "grid_template_columns": null,
       "grid_template_rows": null,
       "height": null,
       "justify_content": null,
       "justify_items": null,
       "left": null,
       "margin": null,
       "max_height": null,
       "max_width": null,
       "min_height": null,
       "min_width": null,
       "object_fit": null,
       "object_position": null,
       "order": null,
       "overflow": null,
       "overflow_x": null,
       "overflow_y": null,
       "padding": null,
       "right": null,
       "top": null,
       "visibility": null,
       "width": null
      }
     }
    },
    "version_major": 2,
    "version_minor": 0
   }
  }
 },
 "nbformat": 4,
 "nbformat_minor": 5
}
