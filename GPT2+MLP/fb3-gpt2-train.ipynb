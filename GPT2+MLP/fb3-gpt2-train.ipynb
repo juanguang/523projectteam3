{
 "cells": [
  {
   "cell_type": "markdown",
   "id": "c103d58d",
   "metadata": {
    "papermill": {
     "duration": 0.014651,
     "end_time": "2022-11-23T05:47:39.896450",
     "exception": false,
     "start_time": "2022-11-23T05:47:39.881799",
     "status": "completed"
    },
    "tags": []
   },
   "source": [
    "# About this notebook\n",
    "- Deberta-v3-base starter code\n",
    "- pip wheels is [here](https://www.kaggle.com/code/yasufuminakama/fb3-pip-wheels)\n",
    "- Inference notebook is [here](https://www.kaggle.com/yasufuminakama/fb3-deberta-v3-base-baseline-inference)\n",
    "\n",
    "If this notebook is helpful, feel free to upvote :)"
   ]
  },
  {
   "cell_type": "markdown",
   "id": "55aae7a0",
   "metadata": {
    "papermill": {
     "duration": 0.008698,
     "end_time": "2022-11-23T05:47:39.917384",
     "exception": false,
     "start_time": "2022-11-23T05:47:39.908686",
     "status": "completed"
    },
    "tags": []
   },
   "source": [
    "# Directory settings"
   ]
  },
  {
   "cell_type": "code",
   "execution_count": 1,
   "id": "50899514",
   "metadata": {
    "execution": {
     "iopub.execute_input": "2022-11-23T05:47:39.937239Z",
     "iopub.status.busy": "2022-11-23T05:47:39.936741Z",
     "iopub.status.idle": "2022-11-23T05:47:39.952765Z",
     "shell.execute_reply": "2022-11-23T05:47:39.951683Z"
    },
    "papermill": {
     "duration": 0.029865,
     "end_time": "2022-11-23T05:47:39.956149",
     "exception": false,
     "start_time": "2022-11-23T05:47:39.926284",
     "status": "completed"
    },
    "tags": []
   },
   "outputs": [],
   "source": [
    "# ====================================================\n",
    "# Directory settings\n",
    "# ====================================================\n",
    "import os\n",
    "\n",
    "OUTPUT_DIR = './'\n",
    "if not os.path.exists(OUTPUT_DIR):\n",
    "    os.makedirs(OUTPUT_DIR)"
   ]
  },
  {
   "cell_type": "markdown",
   "id": "828a9550",
   "metadata": {
    "papermill": {
     "duration": 0.00581,
     "end_time": "2022-11-23T05:47:39.968037",
     "exception": false,
     "start_time": "2022-11-23T05:47:39.962227",
     "status": "completed"
    },
    "tags": []
   },
   "source": [
    "# CFG"
   ]
  },
  {
   "cell_type": "code",
   "execution_count": 2,
   "id": "2b41a045",
   "metadata": {
    "execution": {
     "iopub.execute_input": "2022-11-23T05:47:39.982858Z",
     "iopub.status.busy": "2022-11-23T05:47:39.981038Z",
     "iopub.status.idle": "2022-11-23T05:47:39.989251Z",
     "shell.execute_reply": "2022-11-23T05:47:39.988377Z"
    },
    "papermill": {
     "duration": 0.017344,
     "end_time": "2022-11-23T05:47:39.991295",
     "exception": false,
     "start_time": "2022-11-23T05:47:39.973951",
     "status": "completed"
    },
    "tags": []
   },
   "outputs": [],
   "source": [
    "# ====================================================\n",
    "# CFG\n",
    "# ====================================================\n",
    "class CFG:\n",
    "    wandb=True\n",
    "    competition='FB3'\n",
    "    _wandb_kernel='nakama'\n",
    "    debug=False\n",
    "    apex=True\n",
    "    print_freq=20\n",
    "    num_workers=4\n",
    "    model=\"gpt2\"\n",
    "    gradient_checkpointing=True\n",
    "    scheduler='cosine' # ['linear', 'cosine']\n",
    "    batch_scheduler=True\n",
    "    num_cycles=0.5\n",
    "    num_warmup_steps=0\n",
    "    epochs=4\n",
    "    encoder_lr=2e-5\n",
    "    decoder_lr=2e-5\n",
    "    min_lr=1e-6\n",
    "    eps=1e-6\n",
    "    betas=(0.9, 0.999)\n",
    "    batch_size=8\n",
    "    max_len=512\n",
    "    weight_decay=0.01\n",
    "    gradient_accumulation_steps=1\n",
    "    max_grad_norm=1000\n",
    "    target_cols=['cohesion', 'syntax', 'vocabulary', 'phraseology', 'grammar', 'conventions']\n",
    "    seed=42\n",
    "    n_fold=4\n",
    "    trn_fold=[0, 1, 2, 3]\n",
    "    train=True\n",
    "    \n",
    "if CFG.debug:\n",
    "    CFG.epochs = 2\n",
    "    CFG.trn_fold = [0]"
   ]
  },
  {
   "cell_type": "code",
   "execution_count": 3,
   "id": "2eafbccd",
   "metadata": {
    "execution": {
     "iopub.execute_input": "2022-11-23T05:47:40.005940Z",
     "iopub.status.busy": "2022-11-23T05:47:40.005140Z",
     "iopub.status.idle": "2022-11-23T05:47:48.843843Z",
     "shell.execute_reply": "2022-11-23T05:47:48.842785Z"
    },
    "papermill": {
     "duration": 8.849701,
     "end_time": "2022-11-23T05:47:48.846859",
     "exception": false,
     "start_time": "2022-11-23T05:47:39.997158",
     "status": "completed"
    },
    "tags": []
   },
   "outputs": [
    {
     "name": "stdout",
     "output_type": "stream",
     "text": [
      "If you want to use your W&B account, go to Add-ons -> Secrets and provide your W&B access token. Use the Label name as wandb_api. \n",
      "Get your W&B access token from here: https://wandb.ai/authorize\n"
     ]
    },
    {
     "name": "stderr",
     "output_type": "stream",
     "text": [
      "\u001b[34m\u001b[1mwandb\u001b[0m: Appending key for api.wandb.ai to your netrc file: /root/.netrc\n"
     ]
    },
    {
     "data": {
      "text/html": [
       "wandb version 0.13.5 is available!  To upgrade, please run:\n",
       " $ pip install wandb --upgrade"
      ],
      "text/plain": [
       "<IPython.core.display.HTML object>"
      ]
     },
     "metadata": {},
     "output_type": "display_data"
    },
    {
     "data": {
      "text/html": [
       "Tracking run with wandb version 0.12.21"
      ],
      "text/plain": [
       "<IPython.core.display.HTML object>"
      ]
     },
     "metadata": {},
     "output_type": "display_data"
    },
    {
     "data": {
      "text/html": [
       "Run data is saved locally in <code>/kaggle/working/wandb/run-20221123_054742-21xvsisy</code>"
      ],
      "text/plain": [
       "<IPython.core.display.HTML object>"
      ]
     },
     "metadata": {},
     "output_type": "display_data"
    },
    {
     "data": {
      "text/html": [
       "Syncing run <strong><a href=\"https://wandb.ai/anony-moose-447406/FB3-Public/runs/21xvsisy?apiKey=51adccdf5e9078f827c45badea39b6d29ad74087\" target=\"_blank\">gpt2</a></strong> to <a href=\"https://wandb.ai/anony-moose-447406/FB3-Public?apiKey=51adccdf5e9078f827c45badea39b6d29ad74087\" target=\"_blank\">Weights & Biases</a> (<a href=\"https://wandb.me/run\" target=\"_blank\">docs</a>)<br/>"
      ],
      "text/plain": [
       "<IPython.core.display.HTML object>"
      ]
     },
     "metadata": {},
     "output_type": "display_data"
    }
   ],
   "source": [
    "# ====================================================\n",
    "# wandb\n",
    "# ====================================================\n",
    "if CFG.wandb:\n",
    "    \n",
    "    import wandb\n",
    "\n",
    "    try:\n",
    "        from kaggle_secrets import UserSecretsClient\n",
    "        user_secrets = UserSecretsClient()\n",
    "        secret_value_0 = user_secrets.get_secret(\"wandb_api\")\n",
    "        wandb.login(key=secret_value_0)\n",
    "        anony = None\n",
    "    except:\n",
    "        anony = \"must\"\n",
    "        print('If you want to use your W&B account, go to Add-ons -> Secrets and provide your W&B access token. Use the Label name as wandb_api. \\nGet your W&B access token from here: https://wandb.ai/authorize')\n",
    "\n",
    "\n",
    "    def class2dict(f):\n",
    "        return dict((name, getattr(f, name)) for name in dir(f) if not name.startswith('__'))\n",
    "\n",
    "    run = wandb.init(project='FB3-Public', \n",
    "                     name=CFG.model,\n",
    "                     config=class2dict(CFG),\n",
    "                     group=CFG.model,\n",
    "                     job_type=\"train\",\n",
    "                     anonymous=anony)"
   ]
  },
  {
   "cell_type": "markdown",
   "id": "514d5b5d",
   "metadata": {
    "papermill": {
     "duration": 0.012997,
     "end_time": "2022-11-23T05:47:48.883686",
     "exception": false,
     "start_time": "2022-11-23T05:47:48.870689",
     "status": "completed"
    },
    "tags": []
   },
   "source": [
    "# Library"
   ]
  },
  {
   "cell_type": "code",
   "execution_count": 4,
   "id": "70725ae6",
   "metadata": {
    "execution": {
     "iopub.execute_input": "2022-11-23T05:47:48.923325Z",
     "iopub.status.busy": "2022-11-23T05:47:48.922892Z",
     "iopub.status.idle": "2022-11-23T05:48:47.044852Z",
     "shell.execute_reply": "2022-11-23T05:48:47.043615Z"
    },
    "papermill": {
     "duration": 58.145971,
     "end_time": "2022-11-23T05:48:47.047658",
     "exception": false,
     "start_time": "2022-11-23T05:47:48.901687",
     "status": "completed"
    },
    "tags": []
   },
   "outputs": [
    {
     "name": "stdout",
     "output_type": "stream",
     "text": [
      "Collecting iterative-stratification==0.1.7\n",
      "  Downloading iterative_stratification-0.1.7-py3-none-any.whl (8.5 kB)\n",
      "Requirement already satisfied: scikit-learn in /opt/conda/lib/python3.7/site-packages (from iterative-stratification==0.1.7) (1.0.2)\n",
      "Requirement already satisfied: scipy in /opt/conda/lib/python3.7/site-packages (from iterative-stratification==0.1.7) (1.7.3)\n",
      "Requirement already satisfied: numpy in /opt/conda/lib/python3.7/site-packages (from iterative-stratification==0.1.7) (1.21.6)\n",
      "Requirement already satisfied: threadpoolctl>=2.0.0 in /opt/conda/lib/python3.7/site-packages (from scikit-learn->iterative-stratification==0.1.7) (3.1.0)\n",
      "Requirement already satisfied: joblib>=0.11 in /opt/conda/lib/python3.7/site-packages (from scikit-learn->iterative-stratification==0.1.7) (1.0.1)\n",
      "Installing collected packages: iterative-stratification\n",
      "Successfully installed iterative-stratification-0.1.7\n"
     ]
    },
    {
     "name": "stderr",
     "output_type": "stream",
     "text": [
      "WARNING: Running pip as the 'root' user can result in broken permissions and conflicting behaviour with the system package manager. It is recommended to use a virtual environment instead: https://pip.pypa.io/warnings/venv\n"
     ]
    },
    {
     "name": "stdout",
     "output_type": "stream",
     "text": [
      "Found existing installation: transformers 4.20.1\n",
      "Uninstalling transformers-4.20.1:\n",
      "  Successfully uninstalled transformers-4.20.1\n"
     ]
    },
    {
     "name": "stderr",
     "output_type": "stream",
     "text": [
      "WARNING: Running pip as the 'root' user can result in broken permissions and conflicting behaviour with the system package manager. It is recommended to use a virtual environment instead: https://pip.pypa.io/warnings/venv\n"
     ]
    },
    {
     "name": "stdout",
     "output_type": "stream",
     "text": [
      "Found existing installation: tokenizers 0.12.1\n",
      "Uninstalling tokenizers-0.12.1:\n",
      "  Successfully uninstalled tokenizers-0.12.1\n"
     ]
    },
    {
     "name": "stderr",
     "output_type": "stream",
     "text": [
      "WARNING: Running pip as the 'root' user can result in broken permissions and conflicting behaviour with the system package manager. It is recommended to use a virtual environment instead: https://pip.pypa.io/warnings/venv\n"
     ]
    },
    {
     "name": "stdout",
     "output_type": "stream",
     "text": [
      "Looking in links: ../input/fb3-pip-wheels\n",
      "Processing /kaggle/input/fb3-pip-wheels/transformers-4.21.2-py3-none-any.whl\n",
      "Requirement already satisfied: filelock in /opt/conda/lib/python3.7/site-packages (from transformers) (3.7.1)\n",
      "Requirement already satisfied: huggingface-hub<1.0,>=0.1.0 in /opt/conda/lib/python3.7/site-packages (from transformers) (0.10.1)\n",
      "Requirement already satisfied: importlib-metadata in /opt/conda/lib/python3.7/site-packages (from transformers) (4.13.0)\n",
      "Requirement already satisfied: requests in /opt/conda/lib/python3.7/site-packages (from transformers) (2.28.1)\n",
      "Requirement already satisfied: tqdm>=4.27 in /opt/conda/lib/python3.7/site-packages (from transformers) (4.64.0)\n",
      "Requirement already satisfied: numpy>=1.17 in /opt/conda/lib/python3.7/site-packages (from transformers) (1.21.6)\n",
      "Requirement already satisfied: packaging>=20.0 in /opt/conda/lib/python3.7/site-packages (from transformers) (21.3)\n",
      "Requirement already satisfied: pyyaml>=5.1 in /opt/conda/lib/python3.7/site-packages (from transformers) (6.0)\n",
      "Processing /kaggle/input/fb3-pip-wheels/tokenizers-0.12.1-cp37-cp37m-manylinux_2_12_x86_64.manylinux2010_x86_64.whl\n",
      "Requirement already satisfied: regex!=2019.12.17 in /opt/conda/lib/python3.7/site-packages (from transformers) (2021.11.10)\n",
      "Requirement already satisfied: typing-extensions>=3.7.4.3 in /opt/conda/lib/python3.7/site-packages (from huggingface-hub<1.0,>=0.1.0->transformers) (4.1.1)\n",
      "Requirement already satisfied: pyparsing!=3.0.5,>=2.0.2 in /opt/conda/lib/python3.7/site-packages (from packaging>=20.0->transformers) (3.0.9)\n",
      "Requirement already satisfied: zipp>=0.5 in /opt/conda/lib/python3.7/site-packages (from importlib-metadata->transformers) (3.8.0)\n",
      "Requirement already satisfied: idna<4,>=2.5 in /opt/conda/lib/python3.7/site-packages (from requests->transformers) (3.3)\n",
      "Requirement already satisfied: charset-normalizer<3,>=2 in /opt/conda/lib/python3.7/site-packages (from requests->transformers) (2.1.0)\n",
      "Requirement already satisfied: certifi>=2017.4.17 in /opt/conda/lib/python3.7/site-packages (from requests->transformers) (2022.9.24)\n",
      "Requirement already satisfied: urllib3<1.27,>=1.21.1 in /opt/conda/lib/python3.7/site-packages (from requests->transformers) (1.26.12)\n",
      "Installing collected packages: tokenizers, transformers\n"
     ]
    },
    {
     "name": "stderr",
     "output_type": "stream",
     "text": [
      "ERROR: pip's dependency resolver does not currently take into account all the packages that are installed. This behaviour is the source of the following dependency conflicts.\n",
      "allennlp 2.10.1 requires transformers<4.21,>=4.1, but you have transformers 4.21.2 which is incompatible.\n",
      "WARNING: Running pip as the 'root' user can result in broken permissions and conflicting behaviour with the system package manager. It is recommended to use a virtual environment instead: https://pip.pypa.io/warnings/venv\n"
     ]
    },
    {
     "name": "stdout",
     "output_type": "stream",
     "text": [
      "Successfully installed tokenizers-0.12.1 transformers-4.21.2\n",
      "Looking in links: ../input/fb3-pip-wheels\n",
      "Requirement already satisfied: tokenizers in /opt/conda/lib/python3.7/site-packages (0.12.1)\n"
     ]
    },
    {
     "name": "stderr",
     "output_type": "stream",
     "text": [
      "WARNING: Running pip as the 'root' user can result in broken permissions and conflicting behaviour with the system package manager. It is recommended to use a virtual environment instead: https://pip.pypa.io/warnings/venv\n"
     ]
    },
    {
     "name": "stdout",
     "output_type": "stream",
     "text": [
      "tokenizers.__version__: 0.12.1\n",
      "transformers.__version__: 4.21.2\n",
      "env: TOKENIZERS_PARALLELISM=true\n"
     ]
    }
   ],
   "source": [
    "# ====================================================\n",
    "# Library\n",
    "# ====================================================\n",
    "import os\n",
    "import gc\n",
    "import re\n",
    "import ast\n",
    "import sys\n",
    "import copy\n",
    "import json\n",
    "import time\n",
    "import math\n",
    "import string\n",
    "import pickle\n",
    "import random\n",
    "import joblib\n",
    "import itertools\n",
    "import warnings\n",
    "warnings.filterwarnings(\"ignore\")\n",
    "\n",
    "import scipy as sp\n",
    "import numpy as np\n",
    "import pandas as pd\n",
    "pd.set_option('display.max_rows', 500)\n",
    "pd.set_option('display.max_columns', 500)\n",
    "pd.set_option('display.width', 1000)\n",
    "from tqdm.auto import tqdm\n",
    "from sklearn.metrics import mean_squared_error\n",
    "from sklearn.model_selection import StratifiedKFold, GroupKFold, KFold\n",
    "\n",
    "os.system('pip install iterative-stratification==0.1.7')\n",
    "from iterstrat.ml_stratifiers import MultilabelStratifiedKFold\n",
    "\n",
    "import torch\n",
    "import torch.nn as nn\n",
    "from torch.nn import Parameter\n",
    "import torch.nn.functional as F\n",
    "from torch.optim import Adam, SGD, AdamW\n",
    "from torch.utils.data import DataLoader, Dataset\n",
    "\n",
    "os.system('pip uninstall -y transformers')\n",
    "os.system('pip uninstall -y tokenizers')\n",
    "os.system('python -m pip install --no-index --find-links=../input/fb3-pip-wheels transformers')\n",
    "os.system('python -m pip install --no-index --find-links=../input/fb3-pip-wheels tokenizers')\n",
    "import tokenizers\n",
    "import transformers\n",
    "print(f\"tokenizers.__version__: {tokenizers.__version__}\")\n",
    "print(f\"transformers.__version__: {transformers.__version__}\")\n",
    "from transformers import AutoTokenizer, AutoModel\n",
    "\n",
    "from transformers import get_linear_schedule_with_warmup, get_cosine_schedule_with_warmup\n",
    "from transformers import GPT2Tokenizer, GPT2Model, GPT2Config\n",
    "%env TOKENIZERS_PARALLELISM=true\n",
    "\n",
    "device = torch.device('cuda' if torch.cuda.is_available() else 'cpu')"
   ]
  },
  {
   "cell_type": "markdown",
   "id": "64953f32",
   "metadata": {
    "papermill": {
     "duration": 0.007325,
     "end_time": "2022-11-23T05:48:47.063001",
     "exception": false,
     "start_time": "2022-11-23T05:48:47.055676",
     "status": "completed"
    },
    "tags": []
   },
   "source": [
    "# Utils"
   ]
  },
  {
   "cell_type": "code",
   "execution_count": 5,
   "id": "d549c0b7",
   "metadata": {
    "execution": {
     "iopub.execute_input": "2022-11-23T05:48:47.082611Z",
     "iopub.status.busy": "2022-11-23T05:48:47.082052Z",
     "iopub.status.idle": "2022-11-23T05:48:47.097435Z",
     "shell.execute_reply": "2022-11-23T05:48:47.096355Z"
    },
    "papermill": {
     "duration": 0.029662,
     "end_time": "2022-11-23T05:48:47.100085",
     "exception": false,
     "start_time": "2022-11-23T05:48:47.070423",
     "status": "completed"
    },
    "tags": []
   },
   "outputs": [],
   "source": [
    "# ====================================================\n",
    "# Utils\n",
    "# ====================================================\n",
    "def MCRMSE(y_trues, y_preds):\n",
    "    scores = []\n",
    "    idxes = y_trues.shape[1]\n",
    "    for i in range(idxes):\n",
    "        y_true = y_trues[:,i]\n",
    "        y_pred = y_preds[:,i]\n",
    "        score = mean_squared_error(y_true, y_pred, squared=False) # RMSE\n",
    "        scores.append(score)\n",
    "    mcrmse_score = np.mean(scores)\n",
    "    return mcrmse_score, scores\n",
    "\n",
    "\n",
    "def get_score(y_trues, y_preds):\n",
    "    mcrmse_score, scores = MCRMSE(y_trues, y_preds)\n",
    "    return mcrmse_score, scores\n",
    "\n",
    "\n",
    "def get_logger(filename=OUTPUT_DIR+'train'):\n",
    "    from logging import getLogger, INFO, StreamHandler, FileHandler, Formatter\n",
    "    logger = getLogger(__name__)\n",
    "    logger.setLevel(INFO)\n",
    "    handler1 = StreamHandler()\n",
    "    handler1.setFormatter(Formatter(\"%(message)s\"))\n",
    "    handler2 = FileHandler(filename=f\"{filename}.log\")\n",
    "    handler2.setFormatter(Formatter(\"%(message)s\"))\n",
    "    logger.addHandler(handler1)\n",
    "    logger.addHandler(handler2)\n",
    "    return logger\n",
    "\n",
    "LOGGER = get_logger()\n",
    "\n",
    "\n",
    "def seed_everything(seed=42):\n",
    "    random.seed(seed)\n",
    "    os.environ['PYTHONHASHSEED'] = str(seed)\n",
    "    np.random.seed(seed)\n",
    "    torch.manual_seed(seed)\n",
    "    torch.cuda.manual_seed(seed)\n",
    "    torch.backends.cudnn.deterministic = True\n",
    "    \n",
    "seed_everything(seed=42)"
   ]
  },
  {
   "cell_type": "markdown",
   "id": "035a4136",
   "metadata": {
    "papermill": {
     "duration": 0.007129,
     "end_time": "2022-11-23T05:48:47.116424",
     "exception": false,
     "start_time": "2022-11-23T05:48:47.109295",
     "status": "completed"
    },
    "tags": []
   },
   "source": [
    "# Data Loading"
   ]
  },
  {
   "cell_type": "code",
   "execution_count": 6,
   "id": "5e1086da",
   "metadata": {
    "execution": {
     "iopub.execute_input": "2022-11-23T05:48:47.132412Z",
     "iopub.status.busy": "2022-11-23T05:48:47.132123Z",
     "iopub.status.idle": "2022-11-23T05:48:47.376731Z",
     "shell.execute_reply": "2022-11-23T05:48:47.375706Z"
    },
    "papermill": {
     "duration": 0.255263,
     "end_time": "2022-11-23T05:48:47.379047",
     "exception": false,
     "start_time": "2022-11-23T05:48:47.123784",
     "status": "completed"
    },
    "tags": []
   },
   "outputs": [
    {
     "name": "stdout",
     "output_type": "stream",
     "text": [
      "train.shape: (3911, 8)\n"
     ]
    },
    {
     "data": {
      "text/html": [
       "<div>\n",
       "<style scoped>\n",
       "    .dataframe tbody tr th:only-of-type {\n",
       "        vertical-align: middle;\n",
       "    }\n",
       "\n",
       "    .dataframe tbody tr th {\n",
       "        vertical-align: top;\n",
       "    }\n",
       "\n",
       "    .dataframe thead th {\n",
       "        text-align: right;\n",
       "    }\n",
       "</style>\n",
       "<table border=\"1\" class=\"dataframe\">\n",
       "  <thead>\n",
       "    <tr style=\"text-align: right;\">\n",
       "      <th></th>\n",
       "      <th>text_id</th>\n",
       "      <th>full_text</th>\n",
       "      <th>cohesion</th>\n",
       "      <th>syntax</th>\n",
       "      <th>vocabulary</th>\n",
       "      <th>phraseology</th>\n",
       "      <th>grammar</th>\n",
       "      <th>conventions</th>\n",
       "    </tr>\n",
       "  </thead>\n",
       "  <tbody>\n",
       "    <tr>\n",
       "      <th>0</th>\n",
       "      <td>0016926B079C</td>\n",
       "      <td>I think that students would benefit from learn...</td>\n",
       "      <td>3.5</td>\n",
       "      <td>3.5</td>\n",
       "      <td>3.0</td>\n",
       "      <td>3.0</td>\n",
       "      <td>4.0</td>\n",
       "      <td>3.0</td>\n",
       "    </tr>\n",
       "    <tr>\n",
       "      <th>1</th>\n",
       "      <td>0022683E9EA5</td>\n",
       "      <td>When a problem is a change you have to let it ...</td>\n",
       "      <td>2.5</td>\n",
       "      <td>2.5</td>\n",
       "      <td>3.0</td>\n",
       "      <td>2.0</td>\n",
       "      <td>2.0</td>\n",
       "      <td>2.5</td>\n",
       "    </tr>\n",
       "    <tr>\n",
       "      <th>2</th>\n",
       "      <td>00299B378633</td>\n",
       "      <td>Dear, Principal\\n\\nIf u change the school poli...</td>\n",
       "      <td>3.0</td>\n",
       "      <td>3.5</td>\n",
       "      <td>3.0</td>\n",
       "      <td>3.0</td>\n",
       "      <td>3.0</td>\n",
       "      <td>2.5</td>\n",
       "    </tr>\n",
       "    <tr>\n",
       "      <th>3</th>\n",
       "      <td>003885A45F42</td>\n",
       "      <td>The best time in life is when you become yours...</td>\n",
       "      <td>4.5</td>\n",
       "      <td>4.5</td>\n",
       "      <td>4.5</td>\n",
       "      <td>4.5</td>\n",
       "      <td>4.0</td>\n",
       "      <td>5.0</td>\n",
       "    </tr>\n",
       "    <tr>\n",
       "      <th>4</th>\n",
       "      <td>0049B1DF5CCC</td>\n",
       "      <td>Small act of kindness can impact in other peop...</td>\n",
       "      <td>2.5</td>\n",
       "      <td>3.0</td>\n",
       "      <td>3.0</td>\n",
       "      <td>3.0</td>\n",
       "      <td>2.5</td>\n",
       "      <td>2.5</td>\n",
       "    </tr>\n",
       "  </tbody>\n",
       "</table>\n",
       "</div>"
      ],
      "text/plain": [
       "        text_id                                          full_text  cohesion  syntax  vocabulary  phraseology  grammar  conventions\n",
       "0  0016926B079C  I think that students would benefit from learn...       3.5     3.5         3.0          3.0      4.0          3.0\n",
       "1  0022683E9EA5  When a problem is a change you have to let it ...       2.5     2.5         3.0          2.0      2.0          2.5\n",
       "2  00299B378633  Dear, Principal\\n\\nIf u change the school poli...       3.0     3.5         3.0          3.0      3.0          2.5\n",
       "3  003885A45F42  The best time in life is when you become yours...       4.5     4.5         4.5          4.5      4.0          5.0\n",
       "4  0049B1DF5CCC  Small act of kindness can impact in other peop...       2.5     3.0         3.0          3.0      2.5          2.5"
      ]
     },
     "metadata": {},
     "output_type": "display_data"
    },
    {
     "name": "stdout",
     "output_type": "stream",
     "text": [
      "test.shape: (3, 2)\n"
     ]
    },
    {
     "data": {
      "text/html": [
       "<div>\n",
       "<style scoped>\n",
       "    .dataframe tbody tr th:only-of-type {\n",
       "        vertical-align: middle;\n",
       "    }\n",
       "\n",
       "    .dataframe tbody tr th {\n",
       "        vertical-align: top;\n",
       "    }\n",
       "\n",
       "    .dataframe thead th {\n",
       "        text-align: right;\n",
       "    }\n",
       "</style>\n",
       "<table border=\"1\" class=\"dataframe\">\n",
       "  <thead>\n",
       "    <tr style=\"text-align: right;\">\n",
       "      <th></th>\n",
       "      <th>text_id</th>\n",
       "      <th>full_text</th>\n",
       "    </tr>\n",
       "  </thead>\n",
       "  <tbody>\n",
       "    <tr>\n",
       "      <th>0</th>\n",
       "      <td>0000C359D63E</td>\n",
       "      <td>when a person has no experience on a job their...</td>\n",
       "    </tr>\n",
       "    <tr>\n",
       "      <th>1</th>\n",
       "      <td>000BAD50D026</td>\n",
       "      <td>Do you think students would benefit from being...</td>\n",
       "    </tr>\n",
       "    <tr>\n",
       "      <th>2</th>\n",
       "      <td>00367BB2546B</td>\n",
       "      <td>Thomas Jefferson once states that \"it is wonde...</td>\n",
       "    </tr>\n",
       "  </tbody>\n",
       "</table>\n",
       "</div>"
      ],
      "text/plain": [
       "        text_id                                          full_text\n",
       "0  0000C359D63E  when a person has no experience on a job their...\n",
       "1  000BAD50D026  Do you think students would benefit from being...\n",
       "2  00367BB2546B  Thomas Jefferson once states that \"it is wonde..."
      ]
     },
     "metadata": {},
     "output_type": "display_data"
    },
    {
     "name": "stdout",
     "output_type": "stream",
     "text": [
      "submission.shape: (3, 7)\n"
     ]
    },
    {
     "data": {
      "text/html": [
       "<div>\n",
       "<style scoped>\n",
       "    .dataframe tbody tr th:only-of-type {\n",
       "        vertical-align: middle;\n",
       "    }\n",
       "\n",
       "    .dataframe tbody tr th {\n",
       "        vertical-align: top;\n",
       "    }\n",
       "\n",
       "    .dataframe thead th {\n",
       "        text-align: right;\n",
       "    }\n",
       "</style>\n",
       "<table border=\"1\" class=\"dataframe\">\n",
       "  <thead>\n",
       "    <tr style=\"text-align: right;\">\n",
       "      <th></th>\n",
       "      <th>text_id</th>\n",
       "      <th>cohesion</th>\n",
       "      <th>syntax</th>\n",
       "      <th>vocabulary</th>\n",
       "      <th>phraseology</th>\n",
       "      <th>grammar</th>\n",
       "      <th>conventions</th>\n",
       "    </tr>\n",
       "  </thead>\n",
       "  <tbody>\n",
       "    <tr>\n",
       "      <th>0</th>\n",
       "      <td>0000C359D63E</td>\n",
       "      <td>3.0</td>\n",
       "      <td>3.0</td>\n",
       "      <td>3.0</td>\n",
       "      <td>3.0</td>\n",
       "      <td>3.0</td>\n",
       "      <td>3.0</td>\n",
       "    </tr>\n",
       "    <tr>\n",
       "      <th>1</th>\n",
       "      <td>000BAD50D026</td>\n",
       "      <td>3.0</td>\n",
       "      <td>3.0</td>\n",
       "      <td>3.0</td>\n",
       "      <td>3.0</td>\n",
       "      <td>3.0</td>\n",
       "      <td>3.0</td>\n",
       "    </tr>\n",
       "    <tr>\n",
       "      <th>2</th>\n",
       "      <td>00367BB2546B</td>\n",
       "      <td>3.0</td>\n",
       "      <td>3.0</td>\n",
       "      <td>3.0</td>\n",
       "      <td>3.0</td>\n",
       "      <td>3.0</td>\n",
       "      <td>3.0</td>\n",
       "    </tr>\n",
       "  </tbody>\n",
       "</table>\n",
       "</div>"
      ],
      "text/plain": [
       "        text_id  cohesion  syntax  vocabulary  phraseology  grammar  conventions\n",
       "0  0000C359D63E       3.0     3.0         3.0          3.0      3.0          3.0\n",
       "1  000BAD50D026       3.0     3.0         3.0          3.0      3.0          3.0\n",
       "2  00367BB2546B       3.0     3.0         3.0          3.0      3.0          3.0"
      ]
     },
     "metadata": {},
     "output_type": "display_data"
    }
   ],
   "source": [
    "# ====================================================\n",
    "# Data Loading\n",
    "# ====================================================\n",
    "train = pd.read_csv('../input/feedback-prize-english-language-learning/train.csv')\n",
    "test = pd.read_csv('../input/feedback-prize-english-language-learning/test.csv')\n",
    "submission = pd.read_csv('../input/feedback-prize-english-language-learning/sample_submission.csv')\n",
    "\n",
    "print(f\"train.shape: {train.shape}\")\n",
    "display(train.head())\n",
    "print(f\"test.shape: {test.shape}\")\n",
    "display(test.head())\n",
    "print(f\"submission.shape: {submission.shape}\")\n",
    "display(submission.head())"
   ]
  },
  {
   "cell_type": "markdown",
   "id": "484a5c7a",
   "metadata": {
    "papermill": {
     "duration": 0.007992,
     "end_time": "2022-11-23T05:48:47.395309",
     "exception": false,
     "start_time": "2022-11-23T05:48:47.387317",
     "status": "completed"
    },
    "tags": []
   },
   "source": [
    "# CV split"
   ]
  },
  {
   "cell_type": "code",
   "execution_count": 7,
   "id": "ff458c27",
   "metadata": {
    "execution": {
     "iopub.execute_input": "2022-11-23T05:48:47.413099Z",
     "iopub.status.busy": "2022-11-23T05:48:47.412748Z",
     "iopub.status.idle": "2022-11-23T05:48:47.564829Z",
     "shell.execute_reply": "2022-11-23T05:48:47.560746Z"
    },
    "papermill": {
     "duration": 0.164587,
     "end_time": "2022-11-23T05:48:47.567981",
     "exception": false,
     "start_time": "2022-11-23T05:48:47.403394",
     "status": "completed"
    },
    "tags": []
   },
   "outputs": [
    {
     "data": {
      "text/plain": [
       "fold\n",
       "0    978\n",
       "1    977\n",
       "2    978\n",
       "3    978\n",
       "dtype: int64"
      ]
     },
     "metadata": {},
     "output_type": "display_data"
    }
   ],
   "source": [
    "# ====================================================\n",
    "# CV split\n",
    "# ====================================================\n",
    "Fold = MultilabelStratifiedKFold(n_splits=CFG.n_fold, shuffle=True, random_state=CFG.seed)\n",
    "for n, (train_index, val_index) in enumerate(Fold.split(train, train[CFG.target_cols])):\n",
    "    train.loc[val_index, 'fold'] = int(n)\n",
    "train['fold'] = train['fold'].astype(int)\n",
    "display(train.groupby('fold').size())"
   ]
  },
  {
   "cell_type": "code",
   "execution_count": 8,
   "id": "4d10ef0a",
   "metadata": {
    "execution": {
     "iopub.execute_input": "2022-11-23T05:48:47.613184Z",
     "iopub.status.busy": "2022-11-23T05:48:47.612585Z",
     "iopub.status.idle": "2022-11-23T05:48:47.623699Z",
     "shell.execute_reply": "2022-11-23T05:48:47.622531Z"
    },
    "papermill": {
     "duration": 0.040051,
     "end_time": "2022-11-23T05:48:47.627695",
     "exception": false,
     "start_time": "2022-11-23T05:48:47.587644",
     "status": "completed"
    },
    "tags": []
   },
   "outputs": [],
   "source": [
    "if CFG.debug:\n",
    "    display(train.groupby('fold').size())\n",
    "    train = train.sample(n=1000, random_state=0).reset_index(drop=True)\n",
    "    display(train.groupby('fold').size())"
   ]
  },
  {
   "cell_type": "markdown",
   "id": "c1068433",
   "metadata": {
    "papermill": {
     "duration": 0.01777,
     "end_time": "2022-11-23T05:48:47.674527",
     "exception": false,
     "start_time": "2022-11-23T05:48:47.656757",
     "status": "completed"
    },
    "tags": []
   },
   "source": [
    "# tokenizer"
   ]
  },
  {
   "cell_type": "code",
   "execution_count": 9,
   "id": "5237917d",
   "metadata": {
    "execution": {
     "iopub.execute_input": "2022-11-23T05:48:47.702261Z",
     "iopub.status.busy": "2022-11-23T05:48:47.701699Z",
     "iopub.status.idle": "2022-11-23T05:48:51.633389Z",
     "shell.execute_reply": "2022-11-23T05:48:51.632448Z"
    },
    "papermill": {
     "duration": 3.949151,
     "end_time": "2022-11-23T05:48:51.635823",
     "exception": false,
     "start_time": "2022-11-23T05:48:47.686672",
     "status": "completed"
    },
    "tags": []
   },
   "outputs": [
    {
     "data": {
      "application/vnd.jupyter.widget-view+json": {
       "model_id": "ef3877b2834d4029abf36abb1521f251",
       "version_major": 2,
       "version_minor": 0
      },
      "text/plain": [
       "Downloading vocab.json:   0%|          | 0.00/0.99M [00:00<?, ?B/s]"
      ]
     },
     "metadata": {},
     "output_type": "display_data"
    },
    {
     "data": {
      "application/vnd.jupyter.widget-view+json": {
       "model_id": "50cc5318b8f440c48538d872ffdde212",
       "version_major": 2,
       "version_minor": 0
      },
      "text/plain": [
       "Downloading merges.txt:   0%|          | 0.00/446k [00:00<?, ?B/s]"
      ]
     },
     "metadata": {},
     "output_type": "display_data"
    },
    {
     "data": {
      "application/vnd.jupyter.widget-view+json": {
       "model_id": "d79469e5078e4b36abdffa81b081e04c",
       "version_major": 2,
       "version_minor": 0
      },
      "text/plain": [
       "Downloading config.json:   0%|          | 0.00/665 [00:00<?, ?B/s]"
      ]
     },
     "metadata": {},
     "output_type": "display_data"
    }
   ],
   "source": [
    "# ====================================================\n",
    "# tokenizer\n",
    "# ====================================================\n",
    "tokenizer = GPT2Tokenizer.from_pretrained(CFG.model)\n",
    "tokenizer.pad_token = tokenizer.eos_token\n",
    "CFG.tokenizer = tokenizer"
   ]
  },
  {
   "cell_type": "code",
   "execution_count": 10,
   "id": "63162aa9",
   "metadata": {
    "execution": {
     "iopub.execute_input": "2022-11-23T05:48:51.654650Z",
     "iopub.status.busy": "2022-11-23T05:48:51.654324Z",
     "iopub.status.idle": "2022-11-23T05:48:51.661512Z",
     "shell.execute_reply": "2022-11-23T05:48:51.660601Z"
    },
    "papermill": {
     "duration": 0.018573,
     "end_time": "2022-11-23T05:48:51.663422",
     "exception": false,
     "start_time": "2022-11-23T05:48:51.644849",
     "status": "completed"
    },
    "tags": []
   },
   "outputs": [
    {
     "data": {
      "text/plain": [
       "'<|endoftext|>'"
      ]
     },
     "execution_count": 10,
     "metadata": {},
     "output_type": "execute_result"
    }
   ],
   "source": [
    "tokenizer.pad_token"
   ]
  },
  {
   "cell_type": "markdown",
   "id": "e0ba5bc4",
   "metadata": {
    "papermill": {
     "duration": 0.008245,
     "end_time": "2022-11-23T05:48:51.680258",
     "exception": false,
     "start_time": "2022-11-23T05:48:51.672013",
     "status": "completed"
    },
    "tags": []
   },
   "source": [
    "# Dataset"
   ]
  },
  {
   "cell_type": "code",
   "execution_count": 11,
   "id": "bcfd944d",
   "metadata": {
    "execution": {
     "iopub.execute_input": "2022-11-23T05:48:51.698980Z",
     "iopub.status.busy": "2022-11-23T05:48:51.698379Z",
     "iopub.status.idle": "2022-11-23T05:49:06.630289Z",
     "shell.execute_reply": "2022-11-23T05:49:06.629312Z"
    },
    "papermill": {
     "duration": 14.945118,
     "end_time": "2022-11-23T05:49:06.633873",
     "exception": false,
     "start_time": "2022-11-23T05:48:51.688755",
     "status": "completed"
    },
    "tags": []
   },
   "outputs": [
    {
     "data": {
      "application/vnd.jupyter.widget-view+json": {
       "model_id": "8961103eceb0456da7947ac60f4e6749",
       "version_major": 2,
       "version_minor": 0
      },
      "text/plain": [
       "  0%|          | 0/3911 [00:00<?, ?it/s]"
      ]
     },
     "metadata": {},
     "output_type": "display_data"
    },
    {
     "name": "stderr",
     "output_type": "stream",
     "text": [
      "Token indices sequence length is longer than the specified maximum sequence length for this model (1056 > 1024). Running this sequence through the model will result in indexing errors\n",
      "max_len: 5122\n"
     ]
    }
   ],
   "source": [
    "# ====================================================\n",
    "# Define max_len\n",
    "# ====================================================\n",
    "lengths = []\n",
    "tk0 = tqdm(train['full_text'].fillna(\"\").values, total=len(train))\n",
    "for text in tk0:\n",
    "    length = len(tokenizer(text, add_special_tokens=False)['input_ids'])\n",
    "    lengths.append(length)\n",
    "CFG.max_len = max(lengths) + 3 # cls & sep & sep\n",
    "LOGGER.info(f\"max_len: {CFG.max_len}\")"
   ]
  },
  {
   "cell_type": "code",
   "execution_count": 12,
   "id": "3122eaa4",
   "metadata": {
    "execution": {
     "iopub.execute_input": "2022-11-23T05:49:06.653894Z",
     "iopub.status.busy": "2022-11-23T05:49:06.653606Z",
     "iopub.status.idle": "2022-11-23T05:49:06.662967Z",
     "shell.execute_reply": "2022-11-23T05:49:06.662023Z"
    },
    "papermill": {
     "duration": 0.02107,
     "end_time": "2022-11-23T05:49:06.664959",
     "exception": false,
     "start_time": "2022-11-23T05:49:06.643889",
     "status": "completed"
    },
    "tags": []
   },
   "outputs": [],
   "source": [
    "# ====================================================\n",
    "# Dataset\n",
    "# ====================================================\n",
    "def prepare_input(cfg, text):\n",
    "    inputs = cfg.tokenizer(\n",
    "        text, \n",
    "        return_tensors=None, \n",
    "        add_special_tokens=True, \n",
    "        max_length=768,#CFG.max_len,\n",
    "        pad_to_max_length=True,\n",
    "        truncation=True\n",
    "    )\n",
    "    for k, v in inputs.items():\n",
    "        inputs[k] = torch.tensor(v, dtype=torch.long)\n",
    "    return inputs\n",
    "\n",
    "\n",
    "class TrainDataset(Dataset):\n",
    "    def __init__(self, cfg, df):\n",
    "        self.cfg = cfg\n",
    "        self.texts = df['full_text'].values\n",
    "        self.labels = df[cfg.target_cols].values\n",
    "\n",
    "    def __len__(self):\n",
    "        return len(self.texts)\n",
    "\n",
    "    def __getitem__(self, item):\n",
    "        inputs = prepare_input(self.cfg, self.texts[item])\n",
    "        label = torch.tensor(self.labels[item], dtype=torch.float)\n",
    "        return inputs, label\n",
    "    \n",
    "\n",
    "def collate(inputs):\n",
    "    mask_len = int(inputs[\"attention_mask\"].sum(axis=1).max())\n",
    "    for k, v in inputs.items():\n",
    "        inputs[k] = inputs[k][:,:mask_len]\n",
    "    return inputs"
   ]
  },
  {
   "cell_type": "markdown",
   "id": "b57278c4",
   "metadata": {
    "papermill": {
     "duration": 0.008493,
     "end_time": "2022-11-23T05:49:06.682154",
     "exception": false,
     "start_time": "2022-11-23T05:49:06.673661",
     "status": "completed"
    },
    "tags": []
   },
   "source": [
    "# Model"
   ]
  },
  {
   "cell_type": "code",
   "execution_count": 13,
   "id": "16ebe742",
   "metadata": {
    "execution": {
     "iopub.execute_input": "2022-11-23T05:49:06.700908Z",
     "iopub.status.busy": "2022-11-23T05:49:06.700615Z",
     "iopub.status.idle": "2022-11-23T05:49:06.716503Z",
     "shell.execute_reply": "2022-11-23T05:49:06.715405Z"
    },
    "papermill": {
     "duration": 0.027582,
     "end_time": "2022-11-23T05:49:06.718399",
     "exception": false,
     "start_time": "2022-11-23T05:49:06.690817",
     "status": "completed"
    },
    "tags": []
   },
   "outputs": [],
   "source": [
    "# ====================================================\n",
    "# Model\n",
    "# ====================================================\n",
    "class MeanPooling(nn.Module):\n",
    "    def __init__(self):\n",
    "        super(MeanPooling, self).__init__()\n",
    "        \n",
    "    def forward(self, last_hidden_state, attention_mask):\n",
    "        input_mask_expanded = attention_mask.unsqueeze(-1).expand(last_hidden_state.size()).float()\n",
    "        sum_embeddings = torch.sum(last_hidden_state * input_mask_expanded, 1)\n",
    "        sum_mask = input_mask_expanded.sum(1)\n",
    "        sum_mask = torch.clamp(sum_mask, min=1e-9)\n",
    "        mean_embeddings = sum_embeddings / sum_mask\n",
    "        return mean_embeddings\n",
    "    \n",
    "\n",
    "class CustomModel(nn.Module):\n",
    "    def __init__(self, cfg, config_path=None, pretrained=False):\n",
    "        super().__init__()\n",
    "        self.cfg = cfg\n",
    "        if config_path is None:\n",
    "            self.config = GPT2Config()#.from_pretrained(cfg.model, output_hidden_states=True)\n",
    "            self.config.hidden_dropout = 0.\n",
    "            self.config.hidden_dropout_prob = 0.\n",
    "            self.config.attention_dropout = 0.\n",
    "            self.config.attention_probs_dropout_prob = 0.\n",
    "            LOGGER.info('gpt2 config:')\n",
    "            \n",
    "            LOGGER.info(self.config.hidden_size)\n",
    "            LOGGER.info(self.config)\n",
    "        else:\n",
    "            self.config = torch.load(config_path)\n",
    "        if pretrained:\n",
    "            self.model = GPT2Model.from_pretrained(cfg.model, config=self.config)\n",
    "        else:\n",
    "            self.model = GPT2Model(self.config)\n",
    "#         if self.cfg.gradient_checkpointing:\n",
    "#             self.model.gradient_checkpointing_enable()\n",
    "        self.pool = MeanPooling()\n",
    "        self.fc = nn.Linear(self.config.hidden_size, 6)\n",
    "        self._init_weights(self.fc)\n",
    "        \n",
    "    def _init_weights(self, module):\n",
    "        if isinstance(module, nn.Linear):\n",
    "            module.weight.data.normal_(mean=0.0, std=self.config.initializer_range)\n",
    "            if module.bias is not None:\n",
    "                module.bias.data.zero_()\n",
    "        elif isinstance(module, nn.Embedding):\n",
    "            module.weight.data.normal_(mean=0.0, std=self.config.initializer_range)\n",
    "            if module.padding_idx is not None:\n",
    "                module.weight.data[module.padding_idx].zero_()\n",
    "        elif isinstance(module, nn.LayerNorm):\n",
    "            module.bias.data.zero_()\n",
    "            module.weight.data.fill_(1.0)\n",
    "        \n",
    "    def feature(self, inputs):\n",
    "#         print(inputs['input_ids'].shape)\n",
    "#         print(inputs['attention_mask'].shape)\n",
    "        outputs = self.model(**inputs)\n",
    "        last_hidden_states = outputs[0]\n",
    "        feature = self.pool(last_hidden_states, inputs['attention_mask'])\n",
    "        return feature\n",
    "\n",
    "    def forward(self, inputs):\n",
    "        feature = self.feature(inputs)\n",
    "        output = self.fc(feature)\n",
    "        return output"
   ]
  },
  {
   "cell_type": "markdown",
   "id": "ec15d15a",
   "metadata": {
    "papermill": {
     "duration": 0.015395,
     "end_time": "2022-11-23T05:49:06.745067",
     "exception": false,
     "start_time": "2022-11-23T05:49:06.729672",
     "status": "completed"
    },
    "tags": []
   },
   "source": [
    "# Loss"
   ]
  },
  {
   "cell_type": "code",
   "execution_count": 14,
   "id": "896e74da",
   "metadata": {
    "execution": {
     "iopub.execute_input": "2022-11-23T05:49:06.764639Z",
     "iopub.status.busy": "2022-11-23T05:49:06.764312Z",
     "iopub.status.idle": "2022-11-23T05:49:06.771862Z",
     "shell.execute_reply": "2022-11-23T05:49:06.770863Z"
    },
    "papermill": {
     "duration": 0.02027,
     "end_time": "2022-11-23T05:49:06.774815",
     "exception": false,
     "start_time": "2022-11-23T05:49:06.754545",
     "status": "completed"
    },
    "tags": []
   },
   "outputs": [],
   "source": [
    "# ====================================================\n",
    "# Loss\n",
    "# ====================================================\n",
    "class RMSELoss(nn.Module):\n",
    "    def __init__(self, reduction='mean', eps=1e-9):\n",
    "        super().__init__()\n",
    "        self.mse = nn.MSELoss(reduction='none')\n",
    "        self.reduction = reduction\n",
    "        self.eps = eps\n",
    "\n",
    "    def forward(self, y_pred, y_true):\n",
    "        loss = torch.sqrt(self.mse(y_pred, y_true) + self.eps)\n",
    "        if self.reduction == 'none':\n",
    "            loss = loss\n",
    "        elif self.reduction == 'sum':\n",
    "            loss = loss.sum()\n",
    "        elif self.reduction == 'mean':\n",
    "            loss = loss.mean()\n",
    "        return loss"
   ]
  },
  {
   "cell_type": "markdown",
   "id": "22320a53",
   "metadata": {
    "papermill": {
     "duration": 0.008468,
     "end_time": "2022-11-23T05:49:06.794574",
     "exception": false,
     "start_time": "2022-11-23T05:49:06.786106",
     "status": "completed"
    },
    "tags": []
   },
   "source": [
    "# Helpler functions"
   ]
  },
  {
   "cell_type": "code",
   "execution_count": 15,
   "id": "07dd15ef",
   "metadata": {
    "execution": {
     "iopub.execute_input": "2022-11-23T05:49:06.813571Z",
     "iopub.status.busy": "2022-11-23T05:49:06.813269Z",
     "iopub.status.idle": "2022-11-23T05:49:06.835767Z",
     "shell.execute_reply": "2022-11-23T05:49:06.834779Z"
    },
    "papermill": {
     "duration": 0.034307,
     "end_time": "2022-11-23T05:49:06.837701",
     "exception": false,
     "start_time": "2022-11-23T05:49:06.803394",
     "status": "completed"
    },
    "tags": []
   },
   "outputs": [],
   "source": [
    "# ====================================================\n",
    "# Helper functions\n",
    "# ====================================================\n",
    "class AverageMeter(object):\n",
    "    \"\"\"Computes and stores the average and current value\"\"\"\n",
    "    def __init__(self):\n",
    "        self.reset()\n",
    "\n",
    "    def reset(self):\n",
    "        self.val = 0\n",
    "        self.avg = 0\n",
    "        self.sum = 0\n",
    "        self.count = 0\n",
    "\n",
    "    def update(self, val, n=1):\n",
    "        self.val = val\n",
    "        self.sum += val * n\n",
    "        self.count += n\n",
    "        self.avg = self.sum / self.count\n",
    "\n",
    "\n",
    "def asMinutes(s):\n",
    "    m = math.floor(s / 60)\n",
    "    s -= m * 60\n",
    "    return '%dm %ds' % (m, s)\n",
    "\n",
    "\n",
    "def timeSince(since, percent):\n",
    "    now = time.time()\n",
    "    s = now - since\n",
    "    es = s / (percent)\n",
    "    rs = es - s\n",
    "    return '%s (remain %s)' % (asMinutes(s), asMinutes(rs))\n",
    "\n",
    "\n",
    "def train_fn(fold, train_loader, model, criterion, optimizer, epoch, scheduler, device):\n",
    "    model.train()\n",
    "    scaler = torch.cuda.amp.GradScaler(enabled=CFG.apex)\n",
    "    losses = AverageMeter()\n",
    "    start = end = time.time()\n",
    "    global_step = 0\n",
    "    for step, (inputs, labels) in enumerate(train_loader):\n",
    "        inputs = collate(inputs)\n",
    "        for k, v in inputs.items():\n",
    "            inputs[k] = v.to(device)\n",
    "        labels = labels.to(device)\n",
    "        batch_size = labels.size(0)\n",
    "        with torch.cuda.amp.autocast(enabled=CFG.apex):\n",
    "            y_preds = model(inputs)\n",
    "            loss = criterion(y_preds, labels)\n",
    "        if CFG.gradient_accumulation_steps > 1:\n",
    "            loss = loss / CFG.gradient_accumulation_steps\n",
    "        losses.update(loss.item(), batch_size)\n",
    "        scaler.scale(loss).backward()\n",
    "        grad_norm = torch.nn.utils.clip_grad_norm_(model.parameters(), CFG.max_grad_norm)\n",
    "        if (step + 1) % CFG.gradient_accumulation_steps == 0:\n",
    "            scaler.step(optimizer)\n",
    "            scaler.update()\n",
    "            optimizer.zero_grad()\n",
    "            global_step += 1\n",
    "            if CFG.batch_scheduler:\n",
    "                scheduler.step()\n",
    "        end = time.time()\n",
    "        if step % CFG.print_freq == 0 or step == (len(train_loader)-1):\n",
    "            print('Epoch: [{0}][{1}/{2}] '\n",
    "                  'Elapsed {remain:s} '\n",
    "                  'Loss: {loss.val:.4f}({loss.avg:.4f}) '\n",
    "                  'Grad: {grad_norm:.4f}  '\n",
    "                  'LR: {lr:.8f}  '\n",
    "                  .format(epoch+1, step, len(train_loader), \n",
    "                          remain=timeSince(start, float(step+1)/len(train_loader)),\n",
    "                          loss=losses,\n",
    "                          grad_norm=grad_norm,\n",
    "                          lr=scheduler.get_lr()[0]))\n",
    "        if CFG.wandb:\n",
    "            wandb.log({f\"[fold{fold}] loss\": losses.val,\n",
    "                       f\"[fold{fold}] lr\": scheduler.get_lr()[0]})\n",
    "    return losses.avg\n",
    "\n",
    "\n",
    "def valid_fn(valid_loader, model, criterion, device):\n",
    "    losses = AverageMeter()\n",
    "    model.eval()\n",
    "    preds = []\n",
    "    start = end = time.time()\n",
    "    for step, (inputs, labels) in enumerate(valid_loader):\n",
    "        inputs = collate(inputs)\n",
    "        for k, v in inputs.items():\n",
    "            inputs[k] = v.to(device)\n",
    "        labels = labels.to(device)\n",
    "        batch_size = labels.size(0)\n",
    "        with torch.no_grad():\n",
    "            y_preds = model(inputs)\n",
    "            loss = criterion(y_preds, labels)\n",
    "        if CFG.gradient_accumulation_steps > 1:\n",
    "            loss = loss / CFG.gradient_accumulation_steps\n",
    "        losses.update(loss.item(), batch_size)\n",
    "        preds.append(y_preds.to('cpu').numpy())\n",
    "        end = time.time()\n",
    "        if step % CFG.print_freq == 0 or step == (len(valid_loader)-1):\n",
    "            print('EVAL: [{0}/{1}] '\n",
    "                  'Elapsed {remain:s} '\n",
    "                  'Loss: {loss.val:.4f}({loss.avg:.4f}) '\n",
    "                  .format(step, len(valid_loader),\n",
    "                          loss=losses,\n",
    "                          remain=timeSince(start, float(step+1)/len(valid_loader))))\n",
    "    predictions = np.concatenate(preds)\n",
    "    return losses.avg, predictions"
   ]
  },
  {
   "cell_type": "markdown",
   "id": "c6b41635",
   "metadata": {
    "papermill": {
     "duration": 0.010401,
     "end_time": "2022-11-23T05:49:06.860887",
     "exception": false,
     "start_time": "2022-11-23T05:49:06.850486",
     "status": "completed"
    },
    "tags": []
   },
   "source": [
    "# train loop"
   ]
  },
  {
   "cell_type": "code",
   "execution_count": 16,
   "id": "84774b48",
   "metadata": {
    "execution": {
     "iopub.execute_input": "2022-11-23T05:49:06.879979Z",
     "iopub.status.busy": "2022-11-23T05:49:06.879682Z",
     "iopub.status.idle": "2022-11-23T05:49:06.899208Z",
     "shell.execute_reply": "2022-11-23T05:49:06.898306Z"
    },
    "papermill": {
     "duration": 0.032444,
     "end_time": "2022-11-23T05:49:06.901986",
     "exception": false,
     "start_time": "2022-11-23T05:49:06.869542",
     "status": "completed"
    },
    "tags": []
   },
   "outputs": [],
   "source": [
    "# ====================================================\n",
    "# train loop\n",
    "# ====================================================\n",
    "\n",
    "from transformers import AdamW, get_linear_schedule_with_warmup\n",
    "def train_loop(folds, fold):\n",
    "    \n",
    "    LOGGER.info(f\"========== fold: {fold} training ==========\")\n",
    "\n",
    "    # ====================================================\n",
    "    # loader\n",
    "    # ====================================================\n",
    "    train_folds = folds[folds['fold'] != fold].reset_index(drop=True)\n",
    "    valid_folds = folds[folds['fold'] == fold].reset_index(drop=True)\n",
    "    valid_labels = valid_folds[CFG.target_cols].values\n",
    "    \n",
    "    train_dataset = TrainDataset(CFG, train_folds)\n",
    "    valid_dataset = TrainDataset(CFG, valid_folds)\n",
    "\n",
    "    train_loader = DataLoader(train_dataset,\n",
    "                              batch_size=CFG.batch_size,\n",
    "                              shuffle=True,\n",
    "                              num_workers=CFG.num_workers, pin_memory=True, drop_last=True)\n",
    "    valid_loader = DataLoader(valid_dataset,\n",
    "                              batch_size=CFG.batch_size * 2,\n",
    "                              shuffle=False,\n",
    "                              num_workers=CFG.num_workers, pin_memory=True, drop_last=False)\n",
    "\n",
    "    # ====================================================\n",
    "    # model & optimizer\n",
    "    # ====================================================\n",
    "    model = CustomModel(CFG, config_path=None, pretrained=True)\n",
    "    torch.save(model.config, OUTPUT_DIR+'config.pth')\n",
    "    model.to(device)\n",
    "    \n",
    "    def get_optimizer_params(model, encoder_lr, decoder_lr, weight_decay=0.0):\n",
    "        param_optimizer = list(model.named_parameters())\n",
    "        no_decay = [\"bias\", \"LayerNorm.bias\", \"LayerNorm.weight\"]\n",
    "        optimizer_parameters = [\n",
    "            {'params': [p for n, p in model.model.named_parameters() if not any(nd in n for nd in no_decay)],\n",
    "             'lr': encoder_lr, 'weight_decay': weight_decay},\n",
    "            {'params': [p for n, p in model.model.named_parameters() if any(nd in n for nd in no_decay)],\n",
    "             'lr': encoder_lr, 'weight_decay': 0.0},\n",
    "            {'params': [p for n, p in model.named_parameters() if \"model\" not in n],\n",
    "             'lr': decoder_lr, 'weight_decay': 0.0}\n",
    "        ]\n",
    "        return optimizer_parameters\n",
    "\n",
    "    optimizer_parameters = get_optimizer_params(model,\n",
    "                                                encoder_lr=CFG.encoder_lr, \n",
    "                                                decoder_lr=CFG.decoder_lr,\n",
    "                                                weight_decay=CFG.weight_decay)\n",
    "    optimizer = AdamW(optimizer_parameters, lr=CFG.encoder_lr, eps=CFG.eps, betas=CFG.betas)\n",
    "#     optimizer = AdamW(model.parameters(), lr=CFG.encoder_lr)\n",
    "\n",
    "    \n",
    "    # ====================================================\n",
    "    # scheduler\n",
    "    # ====================================================\n",
    "    def get_scheduler(cfg, optimizer, num_train_steps):\n",
    "        if cfg.scheduler == 'linear':\n",
    "            scheduler = get_linear_schedule_with_warmup(\n",
    "                optimizer, num_warmup_steps=cfg.num_warmup_steps, num_training_steps=num_train_steps\n",
    "            )\n",
    "        elif cfg.scheduler == 'cosine':\n",
    "            scheduler = get_cosine_schedule_with_warmup(\n",
    "                optimizer, num_warmup_steps=cfg.num_warmup_steps, num_training_steps=num_train_steps, num_cycles=cfg.num_cycles\n",
    "            )\n",
    "        return scheduler\n",
    "    \n",
    "    num_train_steps = int(len(train_folds) / CFG.batch_size * CFG.epochs)\n",
    "    scheduler = get_scheduler(CFG, optimizer, num_train_steps)\n",
    "#     scheduler = get_linear_schedule_with_warmup(optimizer, num_warmup_steps=0, num_training_steps = -1)\n",
    "\n",
    "    # ====================================================\n",
    "    # loop\n",
    "    # ====================================================\n",
    "    criterion = nn.SmoothL1Loss(reduction='mean') # RMSELoss(reduction=\"mean\")\n",
    "    \n",
    "    best_score = np.inf\n",
    "\n",
    "    for epoch in range(CFG.epochs):\n",
    "\n",
    "        start_time = time.time()\n",
    "\n",
    "        # train\n",
    "        avg_loss = train_fn(fold, train_loader, model, criterion, optimizer, epoch, scheduler, device)\n",
    "\n",
    "        # eval\n",
    "        avg_val_loss, predictions = valid_fn(valid_loader, model, criterion, device)\n",
    "        \n",
    "        # scoring\n",
    "        score, scores = get_score(valid_labels, predictions)\n",
    "\n",
    "        elapsed = time.time() - start_time\n",
    "\n",
    "        LOGGER.info(f'Epoch {epoch+1} - avg_train_loss: {avg_loss:.4f}  avg_val_loss: {avg_val_loss:.4f}  time: {elapsed:.0f}s')\n",
    "        LOGGER.info(f'Epoch {epoch+1} - Score: {score:.4f}  Scores: {scores}')\n",
    "        if CFG.wandb:\n",
    "            wandb.log({f\"[fold{fold}] epoch\": epoch+1, \n",
    "                       f\"[fold{fold}] avg_train_loss\": avg_loss, \n",
    "                       f\"[fold{fold}] avg_val_loss\": avg_val_loss,\n",
    "                       f\"[fold{fold}] score\": score})\n",
    "        \n",
    "        if best_score > score:\n",
    "            best_score = score\n",
    "            LOGGER.info(f'Epoch {epoch+1} - Save Best Score: {best_score:.4f} Model')\n",
    "            torch.save({'model': model.state_dict(),\n",
    "                        'predictions': predictions},\n",
    "                        OUTPUT_DIR+f\"{CFG.model.replace('/', '-')}_fold{fold}_best.pth\")\n",
    "\n",
    "    predictions = torch.load(OUTPUT_DIR+f\"{CFG.model.replace('/', '-')}_fold{fold}_best.pth\", \n",
    "                             map_location=torch.device('cpu'))['predictions']\n",
    "    valid_folds[[f\"pred_{c}\" for c in CFG.target_cols]] = predictions\n",
    "\n",
    "    torch.cuda.empty_cache()\n",
    "    gc.collect()\n",
    "    \n",
    "    return valid_folds"
   ]
  },
  {
   "cell_type": "code",
   "execution_count": 17,
   "id": "0c40019c",
   "metadata": {
    "execution": {
     "iopub.execute_input": "2022-11-23T05:49:06.925770Z",
     "iopub.status.busy": "2022-11-23T05:49:06.925484Z",
     "iopub.status.idle": "2022-11-23T07:24:08.651916Z",
     "shell.execute_reply": "2022-11-23T07:24:08.650975Z"
    },
    "papermill": {
     "duration": 5701.738226,
     "end_time": "2022-11-23T07:24:08.654069",
     "exception": false,
     "start_time": "2022-11-23T05:49:06.915843",
     "status": "completed"
    },
    "tags": []
   },
   "outputs": [
    {
     "name": "stderr",
     "output_type": "stream",
     "text": [
      "========== fold: 0 training ==========\n",
      "gpt2 config:\n",
      "768\n",
      "GPT2Config {\n",
      "  \"activation_function\": \"gelu_new\",\n",
      "  \"attention_dropout\": 0.0,\n",
      "  \"attention_probs_dropout_prob\": 0.0,\n",
      "  \"attn_pdrop\": 0.1,\n",
      "  \"bos_token_id\": 50256,\n",
      "  \"embd_pdrop\": 0.1,\n",
      "  \"eos_token_id\": 50256,\n",
      "  \"hidden_dropout\": 0.0,\n",
      "  \"hidden_dropout_prob\": 0.0,\n",
      "  \"initializer_range\": 0.02,\n",
      "  \"layer_norm_epsilon\": 1e-05,\n",
      "  \"model_type\": \"gpt2\",\n",
      "  \"n_embd\": 768,\n",
      "  \"n_head\": 12,\n",
      "  \"n_inner\": null,\n",
      "  \"n_layer\": 12,\n",
      "  \"n_positions\": 1024,\n",
      "  \"reorder_and_upcast_attn\": false,\n",
      "  \"resid_pdrop\": 0.1,\n",
      "  \"scale_attn_by_inverse_layer_idx\": false,\n",
      "  \"scale_attn_weights\": true,\n",
      "  \"summary_activation\": null,\n",
      "  \"summary_first_dropout\": 0.1,\n",
      "  \"summary_proj_to_labels\": true,\n",
      "  \"summary_type\": \"cls_index\",\n",
      "  \"summary_use_proj\": true,\n",
      "  \"transformers_version\": \"4.21.2\",\n",
      "  \"use_cache\": true,\n",
      "  \"vocab_size\": 50257\n",
      "}\n",
      "\n"
     ]
    },
    {
     "data": {
      "application/vnd.jupyter.widget-view+json": {
       "model_id": "4196b1c856b24e6f9ccc4a664f9af035",
       "version_major": 2,
       "version_minor": 0
      },
      "text/plain": [
       "Downloading pytorch_model.bin:   0%|          | 0.00/523M [00:00<?, ?B/s]"
      ]
     },
     "metadata": {},
     "output_type": "display_data"
    },
    {
     "name": "stdout",
     "output_type": "stream",
     "text": [
      "Epoch: [1][0/366] Elapsed 0m 2s (remain 13m 51s) Loss: 3.1083(3.1083) Grad: inf  LR: 0.00002000  \n",
      "Epoch: [1][20/366] Elapsed 0m 19s (remain 5m 27s) Loss: 1.8949(2.5588) Grad: 51964.1953  LR: 0.00001999  \n",
      "Epoch: [1][40/366] Elapsed 0m 37s (remain 5m 0s) Loss: 0.4694(1.9076) Grad: 20302.7559  LR: 0.00001996  \n",
      "Epoch: [1][60/366] Elapsed 0m 55s (remain 4m 39s) Loss: 0.1829(1.3629) Grad: 5299.7510  LR: 0.00001991  \n",
      "Epoch: [1][80/366] Elapsed 1m 13s (remain 4m 17s) Loss: 0.1476(1.0742) Grad: 8130.2217  LR: 0.00001985  \n",
      "Epoch: [1][100/366] Elapsed 1m 30s (remain 3m 58s) Loss: 0.1409(0.8999) Grad: 11384.2422  LR: 0.00001977  \n",
      "Epoch: [1][120/366] Elapsed 1m 48s (remain 3m 40s) Loss: 0.1482(0.7807) Grad: 3879.1602  LR: 0.00001967  \n",
      "Epoch: [1][140/366] Elapsed 2m 6s (remain 3m 21s) Loss: 0.1873(0.6952) Grad: 8181.3599  LR: 0.00001955  \n",
      "Epoch: [1][160/366] Elapsed 2m 23s (remain 3m 2s) Loss: 0.1538(0.6296) Grad: 6837.6978  LR: 0.00001941  \n",
      "Epoch: [1][180/366] Elapsed 2m 41s (remain 2m 45s) Loss: 0.2341(0.5825) Grad: 17447.0684  LR: 0.00001926  \n",
      "Epoch: [1][200/366] Elapsed 2m 58s (remain 2m 26s) Loss: 0.1360(0.5418) Grad: 3681.4988  LR: 0.00001909  \n",
      "Epoch: [1][220/366] Elapsed 3m 15s (remain 2m 8s) Loss: 0.1757(0.5069) Grad: 12183.7109  LR: 0.00001890  \n",
      "Epoch: [1][240/366] Elapsed 3m 32s (remain 1m 50s) Loss: 0.1321(0.4791) Grad: 12145.3125  LR: 0.00001870  \n",
      "Epoch: [1][260/366] Elapsed 3m 50s (remain 1m 32s) Loss: 0.1581(0.4545) Grad: 8677.2549  LR: 0.00001848  \n",
      "Epoch: [1][280/366] Elapsed 4m 7s (remain 1m 14s) Loss: 0.2391(0.4333) Grad: 5603.5566  LR: 0.00001824  \n",
      "Epoch: [1][300/366] Elapsed 4m 24s (remain 0m 57s) Loss: 0.1227(0.4140) Grad: 10114.8721  LR: 0.00001799  \n",
      "Epoch: [1][320/366] Elapsed 4m 42s (remain 0m 39s) Loss: 0.1240(0.3969) Grad: 3945.3145  LR: 0.00001773  \n",
      "Epoch: [1][340/366] Elapsed 5m 0s (remain 0m 22s) Loss: 0.0875(0.3818) Grad: 10266.9326  LR: 0.00001745  \n",
      "Epoch: [1][360/366] Elapsed 5m 17s (remain 0m 4s) Loss: 0.1351(0.3693) Grad: 4472.7764  LR: 0.00001715  \n",
      "Epoch: [1][365/366] Elapsed 5m 21s (remain 0m 0s) Loss: 0.1435(0.3661) Grad: 11382.0977  LR: 0.00001708  \n",
      "EVAL: [0/62] Elapsed 0m 0s (remain 0m 58s) Loss: 0.1749(0.1749) \n",
      "EVAL: [20/62] Elapsed 0m 11s (remain 0m 22s) Loss: 0.1808(0.1678) \n",
      "EVAL: [40/62] Elapsed 0m 21s (remain 0m 11s) Loss: 0.1327(0.1637) \n"
     ]
    },
    {
     "name": "stderr",
     "output_type": "stream",
     "text": [
      "Epoch 1 - avg_train_loss: 0.3661  avg_val_loss: 0.1678  time: 354s\n",
      "Epoch 1 - Score: 0.5773  Scores: [0.5337771895533633, 0.5388325881214225, 0.4687858883748661, 0.5433814644171789, 0.575590040295545, 0.8032213671425926]\n",
      "Epoch 1 - Save Best Score: 0.5773 Model\n"
     ]
    },
    {
     "name": "stdout",
     "output_type": "stream",
     "text": [
      "EVAL: [60/62] Elapsed 0m 32s (remain 0m 0s) Loss: 0.1377(0.1678) \n",
      "EVAL: [61/62] Elapsed 0m 32s (remain 0m 0s) Loss: 0.1858(0.1678) \n",
      "Epoch: [2][0/366] Elapsed 0m 1s (remain 6m 45s) Loss: 0.1668(0.1668) Grad: inf  LR: 0.00001706  \n",
      "Epoch: [2][20/366] Elapsed 0m 18s (remain 5m 8s) Loss: 0.0838(0.1220) Grad: 40543.5469  LR: 0.00001675  \n",
      "Epoch: [2][40/366] Elapsed 0m 35s (remain 4m 42s) Loss: 0.1892(0.1276) Grad: 56423.9258  LR: 0.00001643  \n",
      "Epoch: [2][60/366] Elapsed 0m 53s (remain 4m 26s) Loss: 0.1149(0.1264) Grad: 84264.4531  LR: 0.00001610  \n",
      "Epoch: [2][80/366] Elapsed 1m 10s (remain 4m 6s) Loss: 0.1993(0.1265) Grad: 138538.3125  LR: 0.00001575  \n",
      "Epoch: [2][100/366] Elapsed 1m 27s (remain 3m 50s) Loss: 0.2058(0.1287) Grad: 64422.5117  LR: 0.00001540  \n",
      "Epoch: [2][120/366] Elapsed 1m 44s (remain 3m 32s) Loss: 0.0901(0.1291) Grad: 26811.4082  LR: 0.00001503  \n",
      "Epoch: [2][140/366] Elapsed 2m 1s (remain 3m 14s) Loss: 0.0805(0.1288) Grad: 59079.4648  LR: 0.00001466  \n",
      "Epoch: [2][160/366] Elapsed 2m 19s (remain 2m 58s) Loss: 0.0894(0.1277) Grad: 48927.1328  LR: 0.00001427  \n",
      "Epoch: [2][180/366] Elapsed 2m 37s (remain 2m 40s) Loss: 0.1272(0.1270) Grad: 65737.6875  LR: 0.00001388  \n",
      "Epoch: [2][200/366] Elapsed 2m 55s (remain 2m 23s) Loss: 0.1341(0.1269) Grad: 33843.7891  LR: 0.00001348  \n",
      "Epoch: [2][220/366] Elapsed 3m 13s (remain 2m 6s) Loss: 0.1385(0.1263) Grad: 69926.6562  LR: 0.00001308  \n",
      "Epoch: [2][240/366] Elapsed 3m 30s (remain 1m 49s) Loss: 0.1292(0.1271) Grad: 49176.0234  LR: 0.00001267  \n",
      "Epoch: [2][260/366] Elapsed 3m 48s (remain 1m 31s) Loss: 0.1911(0.1269) Grad: 30547.3066  LR: 0.00001225  \n",
      "Epoch: [2][280/366] Elapsed 4m 6s (remain 1m 14s) Loss: 0.1116(0.1269) Grad: 47351.0469  LR: 0.00001183  \n",
      "Epoch: [2][300/366] Elapsed 4m 23s (remain 0m 56s) Loss: 0.1523(0.1268) Grad: 43161.4023  LR: 0.00001141  \n",
      "Epoch: [2][320/366] Elapsed 4m 40s (remain 0m 39s) Loss: 0.1075(0.1275) Grad: 61268.3203  LR: 0.00001098  \n",
      "Epoch: [2][340/366] Elapsed 4m 57s (remain 0m 21s) Loss: 0.0958(0.1268) Grad: 20062.3418  LR: 0.00001056  \n",
      "Epoch: [2][360/366] Elapsed 5m 15s (remain 0m 4s) Loss: 0.0760(0.1268) Grad: 41191.4453  LR: 0.00001013  \n",
      "Epoch: [2][365/366] Elapsed 5m 19s (remain 0m 0s) Loss: 0.1046(0.1269) Grad: 58643.3555  LR: 0.00001002  \n",
      "EVAL: [0/62] Elapsed 0m 1s (remain 1m 1s) Loss: 0.1397(0.1397) \n",
      "EVAL: [20/62] Elapsed 0m 11s (remain 0m 22s) Loss: 0.1666(0.1567) \n",
      "EVAL: [40/62] Elapsed 0m 21s (remain 0m 11s) Loss: 0.1450(0.1516) \n"
     ]
    },
    {
     "name": "stderr",
     "output_type": "stream",
     "text": [
      "Epoch 2 - avg_train_loss: 0.1269  avg_val_loss: 0.1583  time: 353s\n",
      "Epoch 2 - Score: 0.5645  Scores: [0.5268011066277839, 0.5710675059316824, 0.46725565226122834, 0.5743004536946676, 0.5537098054374111, 0.6941568091953478]\n",
      "Epoch 2 - Save Best Score: 0.5645 Model\n"
     ]
    },
    {
     "name": "stdout",
     "output_type": "stream",
     "text": [
      "EVAL: [60/62] Elapsed 0m 32s (remain 0m 0s) Loss: 0.1393(0.1582) \n",
      "EVAL: [61/62] Elapsed 0m 32s (remain 0m 0s) Loss: 0.2057(0.1583) \n",
      "Epoch: [3][0/366] Elapsed 0m 1s (remain 7m 31s) Loss: 0.1310(0.1310) Grad: inf  LR: 0.00001000  \n",
      "Epoch: [3][20/366] Elapsed 0m 18s (remain 5m 4s) Loss: 0.0909(0.1267) Grad: 28447.0312  LR: 0.00000957  \n",
      "Epoch: [3][40/366] Elapsed 0m 35s (remain 4m 42s) Loss: 0.0789(0.1225) Grad: 25144.2168  LR: 0.00000914  \n",
      "Epoch: [3][60/366] Elapsed 0m 52s (remain 4m 23s) Loss: 0.1804(0.1252) Grad: 22982.4609  LR: 0.00000872  \n",
      "Epoch: [3][80/366] Elapsed 1m 10s (remain 4m 6s) Loss: 0.0903(0.1248) Grad: 14293.7080  LR: 0.00000829  \n",
      "Epoch: [3][100/366] Elapsed 1m 26s (remain 3m 48s) Loss: 0.0729(0.1272) Grad: 15146.7109  LR: 0.00000787  \n",
      "Epoch: [3][120/366] Elapsed 1m 44s (remain 3m 32s) Loss: 0.0771(0.1267) Grad: 18917.9258  LR: 0.00000746  \n",
      "Epoch: [3][140/366] Elapsed 2m 1s (remain 3m 14s) Loss: 0.0845(0.1260) Grad: 15221.8262  LR: 0.00000704  \n",
      "Epoch: [3][160/366] Elapsed 2m 19s (remain 2m 57s) Loss: 0.0597(0.1236) Grad: 17515.9629  LR: 0.00000664  \n",
      "Epoch: [3][180/366] Elapsed 2m 36s (remain 2m 40s) Loss: 0.0992(0.1233) Grad: 34117.1172  LR: 0.00000624  \n",
      "Epoch: [3][200/366] Elapsed 2m 53s (remain 2m 22s) Loss: 0.0940(0.1223) Grad: 38014.1328  LR: 0.00000584  \n",
      "Epoch: [3][220/366] Elapsed 3m 11s (remain 2m 5s) Loss: 0.0777(0.1234) Grad: 22623.5586  LR: 0.00000546  \n",
      "Epoch: [3][240/366] Elapsed 3m 28s (remain 1m 48s) Loss: 0.1484(0.1235) Grad: 27511.8848  LR: 0.00000508  \n",
      "Epoch: [3][260/366] Elapsed 3m 46s (remain 1m 31s) Loss: 0.1912(0.1237) Grad: 33236.7070  LR: 0.00000471  \n",
      "Epoch: [3][280/366] Elapsed 4m 3s (remain 1m 13s) Loss: 0.1439(0.1236) Grad: 38297.4727  LR: 0.00000435  \n",
      "Epoch: [3][300/366] Elapsed 4m 21s (remain 0m 56s) Loss: 0.2212(0.1242) Grad: 86870.0625  LR: 0.00000400  \n",
      "Epoch: [3][320/366] Elapsed 4m 38s (remain 0m 39s) Loss: 0.1415(0.1237) Grad: 24077.3789  LR: 0.00000367  \n",
      "Epoch: [3][340/366] Elapsed 4m 55s (remain 0m 21s) Loss: 0.1470(0.1234) Grad: 39177.7344  LR: 0.00000334  \n",
      "Epoch: [3][360/366] Elapsed 5m 12s (remain 0m 4s) Loss: 0.0876(0.1228) Grad: 35033.6289  LR: 0.00000303  \n",
      "Epoch: [3][365/366] Elapsed 5m 17s (remain 0m 0s) Loss: 0.1393(0.1227) Grad: 28876.0801  LR: 0.00000295  \n",
      "EVAL: [0/62] Elapsed 0m 1s (remain 1m 2s) Loss: 0.1389(0.1389) \n",
      "EVAL: [20/62] Elapsed 0m 11s (remain 0m 22s) Loss: 0.1756(0.1669) \n",
      "EVAL: [40/62] Elapsed 0m 21s (remain 0m 11s) Loss: 0.1761(0.1622) \n"
     ]
    },
    {
     "name": "stderr",
     "output_type": "stream",
     "text": [
      "Epoch 3 - avg_train_loss: 0.1227  avg_val_loss: 0.1705  time: 350s\n",
      "Epoch 3 - Score: 0.5862  Scores: [0.5402390320754478, 0.6025179382452129, 0.4930225395283537, 0.5690073514580838, 0.5683011290321411, 0.7443419964225229]\n"
     ]
    },
    {
     "name": "stdout",
     "output_type": "stream",
     "text": [
      "EVAL: [60/62] Elapsed 0m 32s (remain 0m 0s) Loss: 0.1559(0.1704) \n",
      "EVAL: [61/62] Elapsed 0m 32s (remain 0m 0s) Loss: 0.2540(0.1705) \n",
      "Epoch: [4][0/366] Elapsed 0m 1s (remain 8m 42s) Loss: 0.0908(0.0908) Grad: inf  LR: 0.00000294  \n",
      "Epoch: [4][20/366] Elapsed 0m 19s (remain 5m 17s) Loss: 0.1005(0.1229) Grad: 43815.3008  LR: 0.00000264  \n",
      "Epoch: [4][40/366] Elapsed 0m 37s (remain 4m 54s) Loss: 0.1433(0.1246) Grad: 31314.0547  LR: 0.00000236  \n",
      "Epoch: [4][60/366] Elapsed 0m 53s (remain 4m 29s) Loss: 0.1366(0.1193) Grad: 44265.9375  LR: 0.00000209  \n",
      "Epoch: [4][80/366] Elapsed 1m 11s (remain 4m 11s) Loss: 0.1311(0.1174) Grad: 61020.7188  LR: 0.00000183  \n",
      "Epoch: [4][100/366] Elapsed 1m 29s (remain 3m 54s) Loss: 0.1808(0.1187) Grad: 81481.1641  LR: 0.00000159  \n",
      "Epoch: [4][120/366] Elapsed 1m 46s (remain 3m 36s) Loss: 0.1783(0.1199) Grad: 88210.5234  LR: 0.00000137  \n",
      "Epoch: [4][140/366] Elapsed 2m 4s (remain 3m 19s) Loss: 0.1259(0.1196) Grad: 76414.7031  LR: 0.00000116  \n",
      "Epoch: [4][160/366] Elapsed 2m 21s (remain 3m 0s) Loss: 0.1405(0.1198) Grad: 62298.5352  LR: 0.00000097  \n",
      "Epoch: [4][180/366] Elapsed 2m 39s (remain 2m 43s) Loss: 0.1022(0.1190) Grad: 54803.3008  LR: 0.00000079  \n",
      "Epoch: [4][200/366] Elapsed 2m 57s (remain 2m 25s) Loss: 0.1115(0.1193) Grad: 83131.6406  LR: 0.00000063  \n",
      "Epoch: [4][220/366] Elapsed 3m 14s (remain 2m 7s) Loss: 0.1253(0.1182) Grad: 92429.1328  LR: 0.00000049  \n",
      "Epoch: [4][240/366] Elapsed 3m 32s (remain 1m 50s) Loss: 0.1561(0.1184) Grad: 41340.6953  LR: 0.00000037  \n",
      "Epoch: [4][260/366] Elapsed 3m 49s (remain 1m 32s) Loss: 0.0771(0.1173) Grad: 36061.5898  LR: 0.00000026  \n",
      "Epoch: [4][280/366] Elapsed 4m 7s (remain 1m 14s) Loss: 0.1488(0.1171) Grad: 58683.9844  LR: 0.00000017  \n",
      "Epoch: [4][300/366] Elapsed 4m 24s (remain 0m 57s) Loss: 0.0971(0.1164) Grad: 40104.1797  LR: 0.00000010  \n",
      "Epoch: [4][320/366] Elapsed 4m 42s (remain 0m 39s) Loss: 0.1041(0.1168) Grad: 35000.1836  LR: 0.00000005  \n",
      "Epoch: [4][340/366] Elapsed 4m 59s (remain 0m 21s) Loss: 0.0933(0.1166) Grad: 49470.9297  LR: 0.00000002  \n",
      "Epoch: [4][360/366] Elapsed 5m 16s (remain 0m 4s) Loss: 0.1346(0.1166) Grad: 106216.8438  LR: 0.00000000  \n",
      "Epoch: [4][365/366] Elapsed 5m 21s (remain 0m 0s) Loss: 0.0705(0.1168) Grad: 48782.1562  LR: 0.00000000  \n",
      "EVAL: [0/62] Elapsed 0m 0s (remain 0m 58s) Loss: 0.1377(0.1377) \n",
      "EVAL: [20/62] Elapsed 0m 11s (remain 0m 22s) Loss: 0.1746(0.1658) \n",
      "EVAL: [40/62] Elapsed 0m 21s (remain 0m 11s) Loss: 0.1756(0.1612) \n"
     ]
    },
    {
     "name": "stderr",
     "output_type": "stream",
     "text": [
      "Epoch 4 - avg_train_loss: 0.1168  avg_val_loss: 0.1693  time: 354s\n",
      "Epoch 4 - Score: 0.5842  Scores: [0.5351375721575766, 0.5977699426872755, 0.4882273054518955, 0.5830966507414316, 0.56267013051383, 0.7380103689570754]\n"
     ]
    },
    {
     "name": "stdout",
     "output_type": "stream",
     "text": [
      "EVAL: [60/62] Elapsed 0m 32s (remain 0m 0s) Loss: 0.1549(0.1692) \n",
      "EVAL: [61/62] Elapsed 0m 32s (remain 0m 0s) Loss: 0.2483(0.1693) \n"
     ]
    },
    {
     "name": "stderr",
     "output_type": "stream",
     "text": [
      "========== fold: 0 result ==========\n",
      "Score: 0.5645  Scores: [0.5268011066277839, 0.5710675059316824, 0.46725565226122834, 0.5743004536946676, 0.5537098054374111, 0.6941568091953478]\n",
      "========== fold: 1 training ==========\n",
      "gpt2 config:\n",
      "768\n",
      "GPT2Config {\n",
      "  \"activation_function\": \"gelu_new\",\n",
      "  \"attention_dropout\": 0.0,\n",
      "  \"attention_probs_dropout_prob\": 0.0,\n",
      "  \"attn_pdrop\": 0.1,\n",
      "  \"bos_token_id\": 50256,\n",
      "  \"embd_pdrop\": 0.1,\n",
      "  \"eos_token_id\": 50256,\n",
      "  \"hidden_dropout\": 0.0,\n",
      "  \"hidden_dropout_prob\": 0.0,\n",
      "  \"initializer_range\": 0.02,\n",
      "  \"layer_norm_epsilon\": 1e-05,\n",
      "  \"model_type\": \"gpt2\",\n",
      "  \"n_embd\": 768,\n",
      "  \"n_head\": 12,\n",
      "  \"n_inner\": null,\n",
      "  \"n_layer\": 12,\n",
      "  \"n_positions\": 1024,\n",
      "  \"reorder_and_upcast_attn\": false,\n",
      "  \"resid_pdrop\": 0.1,\n",
      "  \"scale_attn_by_inverse_layer_idx\": false,\n",
      "  \"scale_attn_weights\": true,\n",
      "  \"summary_activation\": null,\n",
      "  \"summary_first_dropout\": 0.1,\n",
      "  \"summary_proj_to_labels\": true,\n",
      "  \"summary_type\": \"cls_index\",\n",
      "  \"summary_use_proj\": true,\n",
      "  \"transformers_version\": \"4.21.2\",\n",
      "  \"use_cache\": true,\n",
      "  \"vocab_size\": 50257\n",
      "}\n",
      "\n"
     ]
    },
    {
     "name": "stdout",
     "output_type": "stream",
     "text": [
      "Epoch: [1][0/366] Elapsed 0m 1s (remain 7m 20s) Loss: 1.8736(1.8736) Grad: inf  LR: 0.00002000  \n",
      "Epoch: [1][20/366] Elapsed 0m 18s (remain 4m 59s) Loss: 0.6798(1.4369) Grad: 39607.3672  LR: 0.00001999  \n",
      "Epoch: [1][40/366] Elapsed 0m 34s (remain 4m 35s) Loss: 0.2757(0.9632) Grad: 19914.5391  LR: 0.00001996  \n",
      "Epoch: [1][60/366] Elapsed 0m 52s (remain 4m 21s) Loss: 0.0828(0.7245) Grad: 8577.6455  LR: 0.00001991  \n",
      "Epoch: [1][80/366] Elapsed 1m 9s (remain 4m 5s) Loss: 0.0776(0.5896) Grad: 9537.0674  LR: 0.00001985  \n",
      "Epoch: [1][100/366] Elapsed 1m 27s (remain 3m 48s) Loss: 0.2181(0.5076) Grad: 29573.9512  LR: 0.00001977  \n",
      "Epoch: [1][120/366] Elapsed 1m 44s (remain 3m 32s) Loss: 0.2145(0.4500) Grad: 14554.5029  LR: 0.00001967  \n",
      "Epoch: [1][140/366] Elapsed 2m 2s (remain 3m 14s) Loss: 0.0971(0.4074) Grad: 13158.8896  LR: 0.00001955  \n",
      "Epoch: [1][160/366] Elapsed 2m 18s (remain 2m 56s) Loss: 0.1582(0.3793) Grad: 11754.2764  LR: 0.00001941  \n",
      "Epoch: [1][180/366] Elapsed 2m 36s (remain 2m 40s) Loss: 0.0868(0.3534) Grad: 14879.4102  LR: 0.00001926  \n",
      "Epoch: [1][200/366] Elapsed 2m 54s (remain 2m 23s) Loss: 0.1562(0.3337) Grad: 26335.1621  LR: 0.00001909  \n",
      "Epoch: [1][220/366] Elapsed 3m 11s (remain 2m 5s) Loss: 0.1308(0.3178) Grad: 15331.1729  LR: 0.00001890  \n",
      "Epoch: [1][240/366] Elapsed 3m 28s (remain 1m 48s) Loss: 0.1141(0.3027) Grad: 14303.1455  LR: 0.00001870  \n",
      "Epoch: [1][260/366] Elapsed 3m 46s (remain 1m 30s) Loss: 0.1196(0.2908) Grad: 8907.3760  LR: 0.00001848  \n",
      "Epoch: [1][280/366] Elapsed 4m 3s (remain 1m 13s) Loss: 0.1308(0.2803) Grad: 10299.5391  LR: 0.00001824  \n",
      "Epoch: [1][300/366] Elapsed 4m 20s (remain 0m 56s) Loss: 0.2120(0.2702) Grad: 10767.5850  LR: 0.00001799  \n",
      "Epoch: [1][320/366] Elapsed 4m 38s (remain 0m 39s) Loss: 0.1534(0.2617) Grad: 12944.9629  LR: 0.00001773  \n",
      "Epoch: [1][340/366] Elapsed 4m 56s (remain 0m 21s) Loss: 0.1292(0.2540) Grad: 11561.6465  LR: 0.00001745  \n",
      "Epoch: [1][360/366] Elapsed 5m 13s (remain 0m 4s) Loss: 0.1525(0.2474) Grad: 22885.6016  LR: 0.00001716  \n",
      "Epoch: [1][365/366] Elapsed 5m 17s (remain 0m 0s) Loss: 0.0944(0.2459) Grad: 12428.6338  LR: 0.00001708  \n",
      "EVAL: [0/62] Elapsed 0m 1s (remain 1m 1s) Loss: 0.2854(0.2854) \n",
      "EVAL: [20/62] Elapsed 0m 11s (remain 0m 22s) Loss: 0.1871(0.2702) \n",
      "EVAL: [40/62] Elapsed 0m 22s (remain 0m 11s) Loss: 0.2641(0.2903) \n"
     ]
    },
    {
     "name": "stderr",
     "output_type": "stream",
     "text": [
      "Epoch 1 - avg_train_loss: 0.2459  avg_val_loss: 0.2986  time: 350s\n",
      "Epoch 1 - Score: 0.7890  Scores: [0.7795718458618217, 0.652559944840086, 0.8903904491950136, 0.7850207101791259, 0.677656726264996, 0.949022319107724]\n",
      "Epoch 1 - Save Best Score: 0.7890 Model\n"
     ]
    },
    {
     "name": "stdout",
     "output_type": "stream",
     "text": [
      "EVAL: [60/62] Elapsed 0m 32s (remain 0m 0s) Loss: 0.2964(0.2987) \n",
      "EVAL: [61/62] Elapsed 0m 32s (remain 0m 0s) Loss: 0.1379(0.2986) \n",
      "Epoch: [2][0/366] Elapsed 0m 1s (remain 7m 28s) Loss: 0.0844(0.0844) Grad: inf  LR: 0.00001707  \n",
      "Epoch: [2][20/366] Elapsed 0m 18s (remain 5m 1s) Loss: 0.1307(0.1519) Grad: 33921.6875  LR: 0.00001676  \n",
      "Epoch: [2][40/366] Elapsed 0m 35s (remain 4m 44s) Loss: 0.0669(0.1331) Grad: 23898.8965  LR: 0.00001644  \n",
      "Epoch: [2][60/366] Elapsed 0m 53s (remain 4m 25s) Loss: 0.1478(0.1287) Grad: 29981.5449  LR: 0.00001610  \n",
      "Epoch: [2][80/366] Elapsed 1m 10s (remain 4m 9s) Loss: 0.1822(0.1260) Grad: 33735.9961  LR: 0.00001576  \n",
      "Epoch: [2][100/366] Elapsed 1m 27s (remain 3m 50s) Loss: 0.1987(0.1240) Grad: 23091.2754  LR: 0.00001540  \n",
      "Epoch: [2][120/366] Elapsed 1m 45s (remain 3m 34s) Loss: 0.1481(0.1257) Grad: 12635.3633  LR: 0.00001504  \n",
      "Epoch: [2][140/366] Elapsed 2m 3s (remain 3m 17s) Loss: 0.1716(0.1248) Grad: 6498.1372  LR: 0.00001466  \n",
      "Epoch: [2][160/366] Elapsed 2m 20s (remain 2m 59s) Loss: 0.0980(0.1212) Grad: 19973.5586  LR: 0.00001428  \n",
      "Epoch: [2][180/366] Elapsed 2m 38s (remain 2m 41s) Loss: 0.1044(0.1197) Grad: 21979.8438  LR: 0.00001389  \n",
      "Epoch: [2][200/366] Elapsed 2m 55s (remain 2m 24s) Loss: 0.0761(0.1197) Grad: 25696.1777  LR: 0.00001349  \n",
      "Epoch: [2][220/366] Elapsed 3m 12s (remain 2m 6s) Loss: 0.1628(0.1202) Grad: 29488.7246  LR: 0.00001309  \n",
      "Epoch: [2][240/366] Elapsed 3m 29s (remain 1m 48s) Loss: 0.0678(0.1198) Grad: 17535.5039  LR: 0.00001268  \n",
      "Epoch: [2][260/366] Elapsed 3m 45s (remain 1m 30s) Loss: 0.1132(0.1190) Grad: 7213.3184  LR: 0.00001226  \n",
      "Epoch: [2][280/366] Elapsed 4m 3s (remain 1m 13s) Loss: 0.0711(0.1193) Grad: 14452.7715  LR: 0.00001184  \n",
      "Epoch: [2][300/366] Elapsed 4m 21s (remain 0m 56s) Loss: 0.1513(0.1187) Grad: 33487.2539  LR: 0.00001142  \n",
      "Epoch: [2][320/366] Elapsed 4m 38s (remain 0m 39s) Loss: 0.1190(0.1185) Grad: 26001.7227  LR: 0.00001099  \n",
      "Epoch: [2][340/366] Elapsed 4m 56s (remain 0m 21s) Loss: 0.0981(0.1192) Grad: 13485.0664  LR: 0.00001057  \n",
      "Epoch: [2][360/366] Elapsed 5m 13s (remain 0m 4s) Loss: 0.1188(0.1189) Grad: 24654.3613  LR: 0.00001014  \n",
      "Epoch: [2][365/366] Elapsed 5m 17s (remain 0m 0s) Loss: 0.0906(0.1187) Grad: 24821.3652  LR: 0.00001003  \n",
      "EVAL: [0/62] Elapsed 0m 0s (remain 0m 59s) Loss: 0.2331(0.2331) \n",
      "EVAL: [20/62] Elapsed 0m 11s (remain 0m 22s) Loss: 0.1480(0.2117) \n",
      "EVAL: [40/62] Elapsed 0m 22s (remain 0m 11s) Loss: 0.1978(0.2268) \n"
     ]
    },
    {
     "name": "stderr",
     "output_type": "stream",
     "text": [
      "Epoch 2 - avg_train_loss: 0.1187  avg_val_loss: 0.2339  time: 350s\n",
      "Epoch 2 - Score: 0.6955  Scores: [0.6852914670125942, 0.6580568027803579, 0.6958798633971811, 0.719449046878276, 0.6423181917102706, 0.7719555854629456]\n",
      "Epoch 2 - Save Best Score: 0.6955 Model\n"
     ]
    },
    {
     "name": "stdout",
     "output_type": "stream",
     "text": [
      "EVAL: [60/62] Elapsed 0m 32s (remain 0m 0s) Loss: 0.2371(0.2340) \n",
      "EVAL: [61/62] Elapsed 0m 32s (remain 0m 0s) Loss: 0.1109(0.2339) \n",
      "Epoch: [3][0/366] Elapsed 0m 0s (remain 5m 38s) Loss: 0.1002(0.1002) Grad: inf  LR: 0.00001001  \n",
      "Epoch: [3][20/366] Elapsed 0m 17s (remain 4m 55s) Loss: 0.1179(0.1105) Grad: 37139.7656  LR: 0.00000958  \n",
      "Epoch: [3][40/366] Elapsed 0m 35s (remain 4m 41s) Loss: 0.1118(0.1063) Grad: 33460.5273  LR: 0.00000916  \n",
      "Epoch: [3][60/366] Elapsed 0m 53s (remain 4m 25s) Loss: 0.1565(0.1063) Grad: 52632.5938  LR: 0.00000873  \n",
      "Epoch: [3][80/366] Elapsed 1m 10s (remain 4m 7s) Loss: 0.0865(0.1061) Grad: 32217.9609  LR: 0.00000831  \n",
      "Epoch: [3][100/366] Elapsed 1m 27s (remain 3m 50s) Loss: 0.1462(0.1092) Grad: 61627.6055  LR: 0.00000789  \n",
      "Epoch: [3][120/366] Elapsed 1m 45s (remain 3m 33s) Loss: 0.1263(0.1096) Grad: 42503.6328  LR: 0.00000747  \n",
      "Epoch: [3][140/366] Elapsed 2m 2s (remain 3m 15s) Loss: 0.1151(0.1103) Grad: 41100.6367  LR: 0.00000706  \n",
      "Epoch: [3][160/366] Elapsed 2m 20s (remain 2m 58s) Loss: 0.0854(0.1109) Grad: 30058.8809  LR: 0.00000665  \n",
      "Epoch: [3][180/366] Elapsed 2m 37s (remain 2m 40s) Loss: 0.0898(0.1095) Grad: 51714.3516  LR: 0.00000625  \n",
      "Epoch: [3][200/366] Elapsed 2m 54s (remain 2m 23s) Loss: 0.1062(0.1106) Grad: 29678.9531  LR: 0.00000586  \n",
      "Epoch: [3][220/366] Elapsed 3m 12s (remain 2m 6s) Loss: 0.0975(0.1101) Grad: 37361.6602  LR: 0.00000547  \n",
      "Epoch: [3][240/366] Elapsed 3m 29s (remain 1m 48s) Loss: 0.1141(0.1096) Grad: 42151.9844  LR: 0.00000509  \n",
      "Epoch: [3][260/366] Elapsed 3m 46s (remain 1m 31s) Loss: 0.1272(0.1089) Grad: 23830.2188  LR: 0.00000472  \n",
      "Epoch: [3][280/366] Elapsed 4m 4s (remain 1m 13s) Loss: 0.1442(0.1084) Grad: 43373.3047  LR: 0.00000437  \n",
      "Epoch: [3][300/366] Elapsed 4m 21s (remain 0m 56s) Loss: 0.0565(0.1083) Grad: 45266.5820  LR: 0.00000402  \n",
      "Epoch: [3][320/366] Elapsed 4m 39s (remain 0m 39s) Loss: 0.1161(0.1081) Grad: 30069.8945  LR: 0.00000368  \n",
      "Epoch: [3][340/366] Elapsed 4m 56s (remain 0m 21s) Loss: 0.1149(0.1077) Grad: 45522.4766  LR: 0.00000335  \n",
      "Epoch: [3][360/366] Elapsed 5m 14s (remain 0m 4s) Loss: 0.0876(0.1083) Grad: 24860.7188  LR: 0.00000304  \n",
      "Epoch: [3][365/366] Elapsed 5m 18s (remain 0m 0s) Loss: 0.0755(0.1084) Grad: 45381.6289  LR: 0.00000296  \n",
      "EVAL: [0/62] Elapsed 0m 0s (remain 1m 0s) Loss: 0.2574(0.2574) \n",
      "EVAL: [20/62] Elapsed 0m 11s (remain 0m 22s) Loss: 0.1570(0.2330) \n",
      "EVAL: [40/62] Elapsed 0m 22s (remain 0m 11s) Loss: 0.2206(0.2487) \n"
     ]
    },
    {
     "name": "stderr",
     "output_type": "stream",
     "text": [
      "Epoch 3 - avg_train_loss: 0.1084  avg_val_loss: 0.2561  time: 351s\n",
      "Epoch 3 - Score: 0.7284  Scores: [0.7403776335665391, 0.6303049038150544, 0.8022195792728489, 0.7628125996928729, 0.635986310218025, 0.7988600274519578]\n"
     ]
    },
    {
     "name": "stdout",
     "output_type": "stream",
     "text": [
      "EVAL: [60/62] Elapsed 0m 32s (remain 0m 0s) Loss: 0.2690(0.2563) \n",
      "EVAL: [61/62] Elapsed 0m 32s (remain 0m 0s) Loss: 0.1055(0.2561) \n",
      "Epoch: [4][0/366] Elapsed 0m 1s (remain 7m 10s) Loss: 0.0596(0.0596) Grad: inf  LR: 0.00000295  \n",
      "Epoch: [4][20/366] Elapsed 0m 18s (remain 5m 4s) Loss: 0.1334(0.0948) Grad: 37540.4648  LR: 0.00000265  \n",
      "Epoch: [4][40/366] Elapsed 0m 35s (remain 4m 41s) Loss: 0.0793(0.0934) Grad: 41195.2812  LR: 0.00000237  \n",
      "Epoch: [4][60/366] Elapsed 0m 52s (remain 4m 23s) Loss: 0.1178(0.1000) Grad: 59584.5703  LR: 0.00000210  \n",
      "Epoch: [4][80/366] Elapsed 1m 9s (remain 4m 5s) Loss: 0.1097(0.1014) Grad: 25195.0098  LR: 0.00000184  \n",
      "Epoch: [4][100/366] Elapsed 1m 27s (remain 3m 49s) Loss: 0.1016(0.1016) Grad: 43908.4297  LR: 0.00000160  \n",
      "Epoch: [4][120/366] Elapsed 1m 45s (remain 3m 33s) Loss: 0.1021(0.1006) Grad: 42363.2266  LR: 0.00000138  \n",
      "Epoch: [4][140/366] Elapsed 2m 2s (remain 3m 15s) Loss: 0.1385(0.1020) Grad: 33468.1250  LR: 0.00000117  \n",
      "Epoch: [4][160/366] Elapsed 2m 20s (remain 2m 58s) Loss: 0.1107(0.1023) Grad: 31843.8242  LR: 0.00000098  \n",
      "Epoch: [4][180/366] Elapsed 2m 37s (remain 2m 40s) Loss: 0.0802(0.1017) Grad: 26283.2812  LR: 0.00000080  \n",
      "Epoch: [4][200/366] Elapsed 2m 55s (remain 2m 24s) Loss: 0.1143(0.1018) Grad: 36438.0898  LR: 0.00000064  \n",
      "Epoch: [4][220/366] Elapsed 3m 13s (remain 2m 6s) Loss: 0.1553(0.1024) Grad: 19924.2539  LR: 0.00000050  \n",
      "Epoch: [4][240/366] Elapsed 3m 31s (remain 1m 49s) Loss: 0.0688(0.1020) Grad: 37259.5039  LR: 0.00000037  \n",
      "Epoch: [4][260/366] Elapsed 3m 48s (remain 1m 32s) Loss: 0.1110(0.1027) Grad: 46274.2734  LR: 0.00000027  \n",
      "Epoch: [4][280/366] Elapsed 4m 5s (remain 1m 14s) Loss: 0.0781(0.1029) Grad: 32677.0273  LR: 0.00000018  \n",
      "Epoch: [4][300/366] Elapsed 4m 22s (remain 0m 56s) Loss: 0.0829(0.1029) Grad: 62798.3125  LR: 0.00000011  \n",
      "Epoch: [4][320/366] Elapsed 4m 40s (remain 0m 39s) Loss: 0.1133(0.1032) Grad: 35761.0430  LR: 0.00000005  \n",
      "Epoch: [4][340/366] Elapsed 4m 58s (remain 0m 21s) Loss: 0.1248(0.1033) Grad: 46985.5703  LR: 0.00000002  \n",
      "Epoch: [4][360/366] Elapsed 5m 15s (remain 0m 4s) Loss: 0.1097(0.1033) Grad: 37299.8320  LR: 0.00000000  \n",
      "Epoch: [4][365/366] Elapsed 5m 19s (remain 0m 0s) Loss: 0.0844(0.1034) Grad: 36185.9297  LR: 0.00000000  \n",
      "EVAL: [0/62] Elapsed 0m 0s (remain 0m 59s) Loss: 0.2779(0.2779) \n",
      "EVAL: [20/62] Elapsed 0m 11s (remain 0m 22s) Loss: 0.1691(0.2497) \n",
      "EVAL: [40/62] Elapsed 0m 22s (remain 0m 11s) Loss: 0.2353(0.2662) \n"
     ]
    },
    {
     "name": "stderr",
     "output_type": "stream",
     "text": [
      "Epoch 4 - avg_train_loss: 0.1034  avg_val_loss: 0.2741  time: 353s\n",
      "Epoch 4 - Score: 0.7547  Scores: [0.7423104715417335, 0.657040350661553, 0.8240398070259034, 0.7859734518119356, 0.6515550016847323, 0.8672723922720886]\n"
     ]
    },
    {
     "name": "stdout",
     "output_type": "stream",
     "text": [
      "EVAL: [60/62] Elapsed 0m 32s (remain 0m 0s) Loss: 0.2900(0.2742) \n",
      "EVAL: [61/62] Elapsed 0m 32s (remain 0m 0s) Loss: 0.1294(0.2741) \n"
     ]
    },
    {
     "name": "stderr",
     "output_type": "stream",
     "text": [
      "========== fold: 1 result ==========\n",
      "Score: 0.6955  Scores: [0.6852914670125942, 0.6580568027803579, 0.6958798633971811, 0.719449046878276, 0.6423181917102706, 0.7719555854629456]\n",
      "========== fold: 2 training ==========\n",
      "gpt2 config:\n",
      "768\n",
      "GPT2Config {\n",
      "  \"activation_function\": \"gelu_new\",\n",
      "  \"attention_dropout\": 0.0,\n",
      "  \"attention_probs_dropout_prob\": 0.0,\n",
      "  \"attn_pdrop\": 0.1,\n",
      "  \"bos_token_id\": 50256,\n",
      "  \"embd_pdrop\": 0.1,\n",
      "  \"eos_token_id\": 50256,\n",
      "  \"hidden_dropout\": 0.0,\n",
      "  \"hidden_dropout_prob\": 0.0,\n",
      "  \"initializer_range\": 0.02,\n",
      "  \"layer_norm_epsilon\": 1e-05,\n",
      "  \"model_type\": \"gpt2\",\n",
      "  \"n_embd\": 768,\n",
      "  \"n_head\": 12,\n",
      "  \"n_inner\": null,\n",
      "  \"n_layer\": 12,\n",
      "  \"n_positions\": 1024,\n",
      "  \"reorder_and_upcast_attn\": false,\n",
      "  \"resid_pdrop\": 0.1,\n",
      "  \"scale_attn_by_inverse_layer_idx\": false,\n",
      "  \"scale_attn_weights\": true,\n",
      "  \"summary_activation\": null,\n",
      "  \"summary_first_dropout\": 0.1,\n",
      "  \"summary_proj_to_labels\": true,\n",
      "  \"summary_type\": \"cls_index\",\n",
      "  \"summary_use_proj\": true,\n",
      "  \"transformers_version\": \"4.21.2\",\n",
      "  \"use_cache\": true,\n",
      "  \"vocab_size\": 50257\n",
      "}\n",
      "\n"
     ]
    },
    {
     "name": "stdout",
     "output_type": "stream",
     "text": [
      "Epoch: [1][0/366] Elapsed 0m 1s (remain 7m 51s) Loss: 6.1865(6.1865) Grad: inf  LR: 0.00002000  \n",
      "Epoch: [1][20/366] Elapsed 0m 19s (remain 5m 14s) Loss: 3.0739(4.8769) Grad: 25536.3867  LR: 0.00001999  \n",
      "Epoch: [1][40/366] Elapsed 0m 37s (remain 4m 53s) Loss: 0.6269(3.3009) Grad: 28005.9609  LR: 0.00001996  \n",
      "Epoch: [1][60/366] Elapsed 0m 54s (remain 4m 31s) Loss: 0.2399(2.3340) Grad: 9954.8975  LR: 0.00001991  \n",
      "Epoch: [1][80/366] Elapsed 1m 11s (remain 4m 12s) Loss: 0.2439(1.8076) Grad: 8907.5312  LR: 0.00001985  \n",
      "Epoch: [1][100/366] Elapsed 1m 29s (remain 3m 54s) Loss: 0.3136(1.4952) Grad: 13542.8975  LR: 0.00001977  \n",
      "Epoch: [1][120/366] Elapsed 1m 46s (remain 3m 35s) Loss: 0.1336(1.2840) Grad: 7251.4419  LR: 0.00001967  \n",
      "Epoch: [1][140/366] Elapsed 2m 4s (remain 3m 18s) Loss: 0.1466(1.1272) Grad: 7656.7529  LR: 0.00001955  \n",
      "Epoch: [1][160/366] Elapsed 2m 21s (remain 3m 0s) Loss: 0.3602(1.0096) Grad: 14618.6104  LR: 0.00001941  \n",
      "Epoch: [1][180/366] Elapsed 2m 39s (remain 2m 43s) Loss: 0.1732(0.9199) Grad: 5039.3818  LR: 0.00001926  \n",
      "Epoch: [1][200/366] Elapsed 2m 57s (remain 2m 25s) Loss: 0.0988(0.8456) Grad: 11509.1787  LR: 0.00001909  \n",
      "Epoch: [1][220/366] Elapsed 3m 15s (remain 2m 8s) Loss: 0.1056(0.7824) Grad: 5288.7505  LR: 0.00001890  \n",
      "Epoch: [1][240/366] Elapsed 3m 32s (remain 1m 50s) Loss: 0.2395(0.7327) Grad: 12012.4453  LR: 0.00001870  \n",
      "Epoch: [1][260/366] Elapsed 3m 49s (remain 1m 32s) Loss: 0.2067(0.6910) Grad: 5795.3711  LR: 0.00001848  \n",
      "Epoch: [1][280/366] Elapsed 4m 7s (remain 1m 14s) Loss: 0.2195(0.6546) Grad: 15171.5996  LR: 0.00001824  \n",
      "Epoch: [1][300/366] Elapsed 4m 25s (remain 0m 57s) Loss: 0.1955(0.6227) Grad: 5886.1562  LR: 0.00001799  \n",
      "Epoch: [1][320/366] Elapsed 4m 43s (remain 0m 39s) Loss: 0.2058(0.5932) Grad: 9835.6543  LR: 0.00001773  \n",
      "Epoch: [1][340/366] Elapsed 5m 0s (remain 0m 22s) Loss: 0.2182(0.5684) Grad: 10614.4814  LR: 0.00001745  \n",
      "Epoch: [1][360/366] Elapsed 5m 17s (remain 0m 4s) Loss: 0.1246(0.5450) Grad: 7329.8301  LR: 0.00001715  \n",
      "Epoch: [1][365/366] Elapsed 5m 22s (remain 0m 0s) Loss: 0.1095(0.5394) Grad: 4397.7085  LR: 0.00001708  \n",
      "EVAL: [0/62] Elapsed 0m 0s (remain 1m 0s) Loss: 0.1537(0.1537) \n",
      "EVAL: [20/62] Elapsed 0m 11s (remain 0m 22s) Loss: 0.1228(0.1507) \n",
      "EVAL: [40/62] Elapsed 0m 21s (remain 0m 11s) Loss: 0.1508(0.1469) \n",
      "EVAL: [60/62] Elapsed 0m 32s (remain 0m 0s) Loss: 0.1119(0.1433) \n",
      "EVAL: [61/62] Elapsed 0m 32s (remain 0m 0s) Loss: 0.3171(0.1436) \n"
     ]
    },
    {
     "name": "stderr",
     "output_type": "stream",
     "text": [
      "Epoch 1 - avg_train_loss: 0.5394  avg_val_loss: 0.1436  time: 355s\n",
      "Epoch 1 - Score: 0.5398  Scores: [0.588749602497341, 0.5387929057371663, 0.46483233895878445, 0.5496353125088658, 0.5715980631899438, 0.5249578186939294]\n",
      "Epoch 1 - Save Best Score: 0.5398 Model\n"
     ]
    },
    {
     "name": "stdout",
     "output_type": "stream",
     "text": [
      "Epoch: [2][0/366] Elapsed 0m 1s (remain 7m 35s) Loss: 0.0698(0.0698) Grad: inf  LR: 0.00001706  \n",
      "Epoch: [2][20/366] Elapsed 0m 19s (remain 5m 16s) Loss: 0.1900(0.1405) Grad: 89197.7891  LR: 0.00001675  \n",
      "Epoch: [2][40/366] Elapsed 0m 36s (remain 4m 51s) Loss: 0.0924(0.1407) Grad: 25783.4160  LR: 0.00001643  \n",
      "Epoch: [2][60/366] Elapsed 0m 54s (remain 4m 30s) Loss: 0.0829(0.1352) Grad: 41587.3008  LR: 0.00001610  \n",
      "Epoch: [2][80/366] Elapsed 1m 11s (remain 4m 12s) Loss: 0.1632(0.1387) Grad: 44375.8984  LR: 0.00001575  \n",
      "Epoch: [2][100/366] Elapsed 1m 29s (remain 3m 54s) Loss: 0.1628(0.1382) Grad: 73968.1953  LR: 0.00001540  \n",
      "Epoch: [2][120/366] Elapsed 1m 46s (remain 3m 36s) Loss: 0.1617(0.1401) Grad: 21248.5820  LR: 0.00001503  \n",
      "Epoch: [2][140/366] Elapsed 2m 4s (remain 3m 19s) Loss: 0.1927(0.1377) Grad: 31425.4258  LR: 0.00001466  \n",
      "Epoch: [2][160/366] Elapsed 2m 23s (remain 3m 2s) Loss: 0.1397(0.1387) Grad: 53759.6250  LR: 0.00001427  \n",
      "Epoch: [2][180/366] Elapsed 2m 40s (remain 2m 44s) Loss: 0.1260(0.1368) Grad: 27132.7188  LR: 0.00001388  \n",
      "Epoch: [2][200/366] Elapsed 2m 58s (remain 2m 26s) Loss: 0.2109(0.1353) Grad: 43152.3203  LR: 0.00001348  \n",
      "Epoch: [2][220/366] Elapsed 3m 16s (remain 2m 8s) Loss: 0.1298(0.1345) Grad: 52807.2656  LR: 0.00001308  \n",
      "Epoch: [2][240/366] Elapsed 3m 33s (remain 1m 50s) Loss: 0.1533(0.1345) Grad: 23865.7949  LR: 0.00001267  \n",
      "Epoch: [2][260/366] Elapsed 3m 52s (remain 1m 33s) Loss: 0.0845(0.1344) Grad: 48965.8789  LR: 0.00001225  \n",
      "Epoch: [2][280/366] Elapsed 4m 9s (remain 1m 15s) Loss: 0.0820(0.1344) Grad: 38648.1484  LR: 0.00001183  \n",
      "Epoch: [2][300/366] Elapsed 4m 27s (remain 0m 57s) Loss: 0.1522(0.1338) Grad: 67795.6875  LR: 0.00001141  \n",
      "Epoch: [2][320/366] Elapsed 4m 45s (remain 0m 39s) Loss: 0.1791(0.1342) Grad: 60364.3398  LR: 0.00001098  \n",
      "Epoch: [2][340/366] Elapsed 5m 3s (remain 0m 22s) Loss: 0.1211(0.1340) Grad: 61626.9023  LR: 0.00001056  \n",
      "Epoch: [2][360/366] Elapsed 5m 20s (remain 0m 4s) Loss: 0.1421(0.1342) Grad: 30762.4902  LR: 0.00001013  \n",
      "Epoch: [2][365/366] Elapsed 5m 24s (remain 0m 0s) Loss: 0.1310(0.1342) Grad: 37386.1953  LR: 0.00001002  \n",
      "EVAL: [0/62] Elapsed 0m 1s (remain 1m 1s) Loss: 0.1788(0.1788) \n",
      "EVAL: [20/62] Elapsed 0m 11s (remain 0m 22s) Loss: 0.1138(0.1521) \n",
      "EVAL: [40/62] Elapsed 0m 21s (remain 0m 11s) Loss: 0.1533(0.1501) \n"
     ]
    },
    {
     "name": "stderr",
     "output_type": "stream",
     "text": [
      "Epoch 2 - avg_train_loss: 0.1342  avg_val_loss: 0.1475  time: 357s\n",
      "Epoch 2 - Score: 0.5473  Scores: [0.6404767164001333, 0.531406570930958, 0.4677771102723569, 0.5401255361229886, 0.5634724189685062, 0.5403928994248295]\n"
     ]
    },
    {
     "name": "stdout",
     "output_type": "stream",
     "text": [
      "EVAL: [60/62] Elapsed 0m 32s (remain 0m 0s) Loss: 0.1224(0.1472) \n",
      "EVAL: [61/62] Elapsed 0m 32s (remain 0m 0s) Loss: 0.2815(0.1475) \n",
      "Epoch: [3][0/366] Elapsed 0m 0s (remain 5m 1s) Loss: 0.2019(0.2019) Grad: inf  LR: 0.00001000  \n",
      "Epoch: [3][20/366] Elapsed 0m 18s (remain 4m 59s) Loss: 0.0658(0.1290) Grad: 66764.2266  LR: 0.00000957  \n",
      "Epoch: [3][40/366] Elapsed 0m 36s (remain 4m 45s) Loss: 0.0788(0.1265) Grad: 38978.1953  LR: 0.00000914  \n",
      "Epoch: [3][60/366] Elapsed 0m 53s (remain 4m 25s) Loss: 0.1844(0.1255) Grad: 107623.5469  LR: 0.00000872  \n",
      "Epoch: [3][80/366] Elapsed 1m 11s (remain 4m 10s) Loss: 0.1180(0.1305) Grad: 31593.2109  LR: 0.00000829  \n",
      "Epoch: [3][100/366] Elapsed 1m 29s (remain 3m 53s) Loss: 0.1402(0.1292) Grad: 24636.9512  LR: 0.00000787  \n",
      "Epoch: [3][120/366] Elapsed 1m 46s (remain 3m 36s) Loss: 0.1361(0.1303) Grad: 60066.8203  LR: 0.00000746  \n",
      "Epoch: [3][140/366] Elapsed 2m 4s (remain 3m 18s) Loss: 0.1062(0.1287) Grad: 36801.4570  LR: 0.00000704  \n",
      "Epoch: [3][160/366] Elapsed 2m 21s (remain 3m 0s) Loss: 0.0890(0.1268) Grad: 49153.5352  LR: 0.00000664  \n",
      "Epoch: [3][180/366] Elapsed 2m 38s (remain 2m 42s) Loss: 0.0696(0.1255) Grad: 47595.5742  LR: 0.00000624  \n",
      "Epoch: [3][200/366] Elapsed 2m 56s (remain 2m 25s) Loss: 0.1234(0.1271) Grad: 50574.8984  LR: 0.00000584  \n",
      "Epoch: [3][220/366] Elapsed 3m 14s (remain 2m 7s) Loss: 0.1219(0.1274) Grad: 31274.4668  LR: 0.00000546  \n",
      "Epoch: [3][240/366] Elapsed 3m 32s (remain 1m 50s) Loss: 0.1438(0.1267) Grad: 39932.4531  LR: 0.00000508  \n",
      "Epoch: [3][260/366] Elapsed 3m 50s (remain 1m 32s) Loss: 0.1033(0.1272) Grad: 37838.7734  LR: 0.00000471  \n",
      "Epoch: [3][280/366] Elapsed 4m 7s (remain 1m 14s) Loss: 0.1196(0.1269) Grad: 65816.0859  LR: 0.00000435  \n",
      "Epoch: [3][300/366] Elapsed 4m 25s (remain 0m 57s) Loss: 0.0641(0.1271) Grad: 31115.3613  LR: 0.00000400  \n",
      "Epoch: [3][320/366] Elapsed 4m 43s (remain 0m 39s) Loss: 0.1164(0.1274) Grad: 29345.4336  LR: 0.00000367  \n",
      "Epoch: [3][340/366] Elapsed 5m 0s (remain 0m 22s) Loss: 0.1868(0.1271) Grad: 31840.4082  LR: 0.00000334  \n",
      "Epoch: [3][360/366] Elapsed 5m 18s (remain 0m 4s) Loss: 0.1438(0.1277) Grad: 37427.8125  LR: 0.00000303  \n",
      "Epoch: [3][365/366] Elapsed 5m 22s (remain 0m 0s) Loss: 0.1081(0.1278) Grad: 75562.0312  LR: 0.00000295  \n",
      "EVAL: [0/62] Elapsed 0m 1s (remain 1m 1s) Loss: 0.1951(0.1951) \n",
      "EVAL: [20/62] Elapsed 0m 11s (remain 0m 22s) Loss: 0.1086(0.1597) \n",
      "EVAL: [40/62] Elapsed 0m 21s (remain 0m 11s) Loss: 0.1664(0.1581) \n"
     ]
    },
    {
     "name": "stderr",
     "output_type": "stream",
     "text": [
      "Epoch 3 - avg_train_loss: 0.1278  avg_val_loss: 0.1554  time: 355s\n",
      "Epoch 3 - Score: 0.5628  Scores: [0.6432057937180309, 0.5212264392065294, 0.4848481807544647, 0.5598531941724364, 0.5810067703545823, 0.5869582324488041]\n"
     ]
    },
    {
     "name": "stdout",
     "output_type": "stream",
     "text": [
      "EVAL: [60/62] Elapsed 0m 32s (remain 0m 0s) Loss: 0.1296(0.1553) \n",
      "EVAL: [61/62] Elapsed 0m 32s (remain 0m 0s) Loss: 0.2260(0.1554) \n",
      "Epoch: [4][0/366] Elapsed 0m 1s (remain 7m 35s) Loss: 0.1578(0.1578) Grad: inf  LR: 0.00000294  \n",
      "Epoch: [4][20/366] Elapsed 0m 18s (remain 5m 8s) Loss: 0.1050(0.1232) Grad: 57600.4727  LR: 0.00000264  \n",
      "Epoch: [4][40/366] Elapsed 0m 36s (remain 4m 51s) Loss: 0.0755(0.1196) Grad: 23888.5645  LR: 0.00000236  \n",
      "Epoch: [4][60/366] Elapsed 0m 54s (remain 4m 33s) Loss: 0.1005(0.1193) Grad: 41192.4414  LR: 0.00000209  \n",
      "Epoch: [4][80/366] Elapsed 1m 12s (remain 4m 14s) Loss: 0.1242(0.1237) Grad: 35047.5508  LR: 0.00000183  \n",
      "Epoch: [4][100/366] Elapsed 1m 30s (remain 3m 56s) Loss: 0.1669(0.1225) Grad: 25921.8008  LR: 0.00000159  \n",
      "Epoch: [4][120/366] Elapsed 1m 47s (remain 3m 37s) Loss: 0.1266(0.1228) Grad: 62232.8398  LR: 0.00000137  \n",
      "Epoch: [4][140/366] Elapsed 2m 5s (remain 3m 20s) Loss: 0.1146(0.1217) Grad: 37557.4023  LR: 0.00000116  \n",
      "Epoch: [4][160/366] Elapsed 2m 23s (remain 3m 2s) Loss: 0.1372(0.1233) Grad: 40667.1875  LR: 0.00000097  \n",
      "Epoch: [4][180/366] Elapsed 2m 41s (remain 2m 44s) Loss: 0.1358(0.1231) Grad: 41417.4805  LR: 0.00000079  \n",
      "Epoch: [4][200/366] Elapsed 2m 58s (remain 2m 26s) Loss: 0.1229(0.1231) Grad: 56531.6562  LR: 0.00000063  \n",
      "Epoch: [4][220/366] Elapsed 3m 16s (remain 2m 8s) Loss: 0.1830(0.1225) Grad: 59413.8594  LR: 0.00000049  \n",
      "Epoch: [4][240/366] Elapsed 3m 33s (remain 1m 50s) Loss: 0.1685(0.1239) Grad: 34852.0547  LR: 0.00000037  \n",
      "Epoch: [4][260/366] Elapsed 3m 51s (remain 1m 33s) Loss: 0.1987(0.1245) Grad: 80019.8281  LR: 0.00000026  \n",
      "Epoch: [4][280/366] Elapsed 4m 8s (remain 1m 15s) Loss: 0.0971(0.1243) Grad: 30448.0312  LR: 0.00000017  \n",
      "Epoch: [4][300/366] Elapsed 4m 26s (remain 0m 57s) Loss: 0.2022(0.1242) Grad: 71207.6719  LR: 0.00000010  \n",
      "Epoch: [4][320/366] Elapsed 4m 44s (remain 0m 39s) Loss: 0.1250(0.1253) Grad: 58805.9531  LR: 0.00000005  \n",
      "Epoch: [4][340/366] Elapsed 5m 2s (remain 0m 22s) Loss: 0.0786(0.1248) Grad: 58259.5859  LR: 0.00000002  \n",
      "Epoch: [4][360/366] Elapsed 5m 19s (remain 0m 4s) Loss: 0.1491(0.1242) Grad: 96970.4375  LR: 0.00000000  \n",
      "Epoch: [4][365/366] Elapsed 5m 23s (remain 0m 0s) Loss: 0.0862(0.1243) Grad: 44592.6797  LR: 0.00000000  \n",
      "EVAL: [0/62] Elapsed 0m 1s (remain 1m 1s) Loss: 0.2043(0.2043) \n",
      "EVAL: [20/62] Elapsed 0m 11s (remain 0m 22s) Loss: 0.1072(0.1677) \n",
      "EVAL: [40/62] Elapsed 0m 21s (remain 0m 11s) Loss: 0.1790(0.1662) \n",
      "EVAL: [60/62] Elapsed 0m 32s (remain 0m 0s) Loss: 0.1391(0.1631) \n",
      "EVAL: [61/62] Elapsed 0m 32s (remain 0m 0s) Loss: 0.2031(0.1632) \n"
     ]
    },
    {
     "name": "stderr",
     "output_type": "stream",
     "text": [
      "Epoch 4 - avg_train_loss: 0.1243  avg_val_loss: 0.1632  time: 356s\n",
      "Epoch 4 - Score: 0.5771  Scores: [0.6688646109692281, 0.5195803148613332, 0.503173369458256, 0.5755276856560217, 0.5914000085582883, 0.6039569140860594]\n",
      "========== fold: 2 result ==========\n",
      "Score: 0.5398  Scores: [0.588749602497341, 0.5387929057371663, 0.46483233895878445, 0.5496353125088658, 0.5715980631899438, 0.5249578186939294]\n",
      "========== fold: 3 training ==========\n",
      "gpt2 config:\n",
      "768\n",
      "GPT2Config {\n",
      "  \"activation_function\": \"gelu_new\",\n",
      "  \"attention_dropout\": 0.0,\n",
      "  \"attention_probs_dropout_prob\": 0.0,\n",
      "  \"attn_pdrop\": 0.1,\n",
      "  \"bos_token_id\": 50256,\n",
      "  \"embd_pdrop\": 0.1,\n",
      "  \"eos_token_id\": 50256,\n",
      "  \"hidden_dropout\": 0.0,\n",
      "  \"hidden_dropout_prob\": 0.0,\n",
      "  \"initializer_range\": 0.02,\n",
      "  \"layer_norm_epsilon\": 1e-05,\n",
      "  \"model_type\": \"gpt2\",\n",
      "  \"n_embd\": 768,\n",
      "  \"n_head\": 12,\n",
      "  \"n_inner\": null,\n",
      "  \"n_layer\": 12,\n",
      "  \"n_positions\": 1024,\n",
      "  \"reorder_and_upcast_attn\": false,\n",
      "  \"resid_pdrop\": 0.1,\n",
      "  \"scale_attn_by_inverse_layer_idx\": false,\n",
      "  \"scale_attn_weights\": true,\n",
      "  \"summary_activation\": null,\n",
      "  \"summary_first_dropout\": 0.1,\n",
      "  \"summary_proj_to_labels\": true,\n",
      "  \"summary_type\": \"cls_index\",\n",
      "  \"summary_use_proj\": true,\n",
      "  \"transformers_version\": \"4.21.2\",\n",
      "  \"use_cache\": true,\n",
      "  \"vocab_size\": 50257\n",
      "}\n",
      "\n"
     ]
    },
    {
     "name": "stdout",
     "output_type": "stream",
     "text": [
      "Epoch: [1][0/366] Elapsed 0m 1s (remain 6m 51s) Loss: 1.4110(1.4110) Grad: inf  LR: 0.00002000  \n",
      "Epoch: [1][20/366] Elapsed 0m 18s (remain 5m 9s) Loss: 0.8306(1.1895) Grad: 50632.1758  LR: 0.00001999  \n",
      "Epoch: [1][40/366] Elapsed 0m 36s (remain 4m 46s) Loss: 0.4782(0.9196) Grad: 37261.8594  LR: 0.00001996  \n",
      "Epoch: [1][60/366] Elapsed 0m 53s (remain 4m 28s) Loss: 0.2405(0.6887) Grad: 15373.0107  LR: 0.00001991  \n",
      "Epoch: [1][80/366] Elapsed 1m 11s (remain 4m 12s) Loss: 0.1960(0.5641) Grad: 31225.6680  LR: 0.00001985  \n",
      "Epoch: [1][100/366] Elapsed 1m 29s (remain 3m 55s) Loss: 0.2268(0.4866) Grad: 11992.4814  LR: 0.00001977  \n",
      "Epoch: [1][120/366] Elapsed 1m 47s (remain 3m 37s) Loss: 0.2068(0.4328) Grad: 20021.1777  LR: 0.00001967  \n",
      "Epoch: [1][140/366] Elapsed 2m 4s (remain 3m 19s) Loss: 0.0897(0.3980) Grad: 19754.5352  LR: 0.00001955  \n",
      "Epoch: [1][160/366] Elapsed 2m 21s (remain 3m 0s) Loss: 0.1802(0.3677) Grad: 18343.2891  LR: 0.00001941  \n",
      "Epoch: [1][180/366] Elapsed 2m 39s (remain 2m 42s) Loss: 0.1748(0.3427) Grad: 25022.9727  LR: 0.00001926  \n",
      "Epoch: [1][200/366] Elapsed 2m 56s (remain 2m 24s) Loss: 0.1311(0.3233) Grad: 13225.4297  LR: 0.00001909  \n",
      "Epoch: [1][220/366] Elapsed 3m 13s (remain 2m 6s) Loss: 0.1274(0.3061) Grad: 12566.3066  LR: 0.00001890  \n",
      "Epoch: [1][240/366] Elapsed 3m 31s (remain 1m 49s) Loss: 0.1964(0.2923) Grad: 21049.6523  LR: 0.00001870  \n",
      "Epoch: [1][260/366] Elapsed 3m 48s (remain 1m 32s) Loss: 0.1365(0.2808) Grad: 11187.9277  LR: 0.00001848  \n",
      "Epoch: [1][280/366] Elapsed 4m 5s (remain 1m 14s) Loss: 0.1312(0.2698) Grad: 14634.2031  LR: 0.00001824  \n",
      "Epoch: [1][300/366] Elapsed 4m 22s (remain 0m 56s) Loss: 0.2165(0.2601) Grad: 8363.7285  LR: 0.00001799  \n",
      "Epoch: [1][320/366] Elapsed 4m 40s (remain 0m 39s) Loss: 0.1243(0.2518) Grad: 8274.0898  LR: 0.00001773  \n",
      "Epoch: [1][340/366] Elapsed 4m 57s (remain 0m 21s) Loss: 0.1261(0.2445) Grad: 10089.0156  LR: 0.00001745  \n",
      "Epoch: [1][360/366] Elapsed 5m 15s (remain 0m 4s) Loss: 0.1739(0.2391) Grad: 31669.2637  LR: 0.00001715  \n",
      "Epoch: [1][365/366] Elapsed 5m 19s (remain 0m 0s) Loss: 0.1235(0.2377) Grad: 20521.0625  LR: 0.00001708  \n",
      "EVAL: [0/62] Elapsed 0m 1s (remain 1m 5s) Loss: 0.1098(0.1098) \n",
      "EVAL: [20/62] Elapsed 0m 11s (remain 0m 22s) Loss: 0.2084(0.1932) \n",
      "EVAL: [40/62] Elapsed 0m 21s (remain 0m 11s) Loss: 0.1913(0.2021) \n"
     ]
    },
    {
     "name": "stderr",
     "output_type": "stream",
     "text": [
      "Epoch 1 - avg_train_loss: 0.2377  avg_val_loss: 0.2061  time: 352s\n",
      "Epoch 1 - Score: 0.6464  Scores: [0.5406440852823401, 0.5813227140530306, 0.648238374275336, 0.5866284001432251, 0.7797008585611795, 0.7416743587443512]\n"
     ]
    },
    {
     "name": "stdout",
     "output_type": "stream",
     "text": [
      "EVAL: [60/62] Elapsed 0m 32s (remain 0m 0s) Loss: 0.1926(0.2062) \n",
      "EVAL: [61/62] Elapsed 0m 32s (remain 0m 0s) Loss: 0.1370(0.2061) \n"
     ]
    },
    {
     "name": "stderr",
     "output_type": "stream",
     "text": [
      "Epoch 1 - Save Best Score: 0.6464 Model\n"
     ]
    },
    {
     "name": "stdout",
     "output_type": "stream",
     "text": [
      "Epoch: [2][0/366] Elapsed 0m 1s (remain 7m 33s) Loss: 0.2044(0.2044) Grad: inf  LR: 0.00001706  \n",
      "Epoch: [2][20/366] Elapsed 0m 18s (remain 5m 7s) Loss: 0.1207(0.1153) Grad: 42044.8867  LR: 0.00001675  \n",
      "Epoch: [2][40/366] Elapsed 0m 36s (remain 4m 51s) Loss: 0.0894(0.1133) Grad: 48393.9766  LR: 0.00001643  \n",
      "Epoch: [2][60/366] Elapsed 0m 53s (remain 4m 29s) Loss: 0.0518(0.1165) Grad: 36811.5977  LR: 0.00001610  \n",
      "Epoch: [2][80/366] Elapsed 1m 11s (remain 4m 10s) Loss: 0.1166(0.1161) Grad: 50976.4258  LR: 0.00001575  \n",
      "Epoch: [2][100/366] Elapsed 1m 28s (remain 3m 53s) Loss: 0.0833(0.1173) Grad: 28029.2383  LR: 0.00001540  \n",
      "Epoch: [2][120/366] Elapsed 1m 46s (remain 3m 35s) Loss: 0.0827(0.1161) Grad: 57429.9492  LR: 0.00001503  \n",
      "Epoch: [2][140/366] Elapsed 2m 4s (remain 3m 18s) Loss: 0.0683(0.1153) Grad: 29319.8828  LR: 0.00001466  \n",
      "Epoch: [2][160/366] Elapsed 2m 21s (remain 3m 0s) Loss: 0.0892(0.1149) Grad: 37694.5547  LR: 0.00001427  \n",
      "Epoch: [2][180/366] Elapsed 2m 39s (remain 2m 42s) Loss: 0.1370(0.1143) Grad: 93976.8672  LR: 0.00001388  \n",
      "Epoch: [2][200/366] Elapsed 2m 56s (remain 2m 25s) Loss: 0.1006(0.1149) Grad: 61839.7734  LR: 0.00001348  \n",
      "Epoch: [2][220/366] Elapsed 3m 13s (remain 2m 7s) Loss: 0.0906(0.1164) Grad: 69682.0078  LR: 0.00001308  \n",
      "Epoch: [2][240/366] Elapsed 3m 30s (remain 1m 49s) Loss: 0.1042(0.1167) Grad: 41444.3828  LR: 0.00001267  \n",
      "Epoch: [2][260/366] Elapsed 3m 47s (remain 1m 31s) Loss: 0.0973(0.1163) Grad: 18924.8574  LR: 0.00001225  \n",
      "Epoch: [2][280/366] Elapsed 4m 5s (remain 1m 14s) Loss: 0.1488(0.1156) Grad: 40677.1680  LR: 0.00001183  \n",
      "Epoch: [2][300/366] Elapsed 4m 23s (remain 0m 56s) Loss: 0.1168(0.1163) Grad: 61717.1680  LR: 0.00001141  \n",
      "Epoch: [2][320/366] Elapsed 4m 41s (remain 0m 39s) Loss: 0.1038(0.1161) Grad: 95077.1562  LR: 0.00001098  \n",
      "Epoch: [2][340/366] Elapsed 4m 59s (remain 0m 21s) Loss: 0.1108(0.1163) Grad: 59224.9141  LR: 0.00001056  \n",
      "Epoch: [2][360/366] Elapsed 5m 16s (remain 0m 4s) Loss: 0.0714(0.1158) Grad: 48093.8672  LR: 0.00001013  \n",
      "Epoch: [2][365/366] Elapsed 5m 21s (remain 0m 0s) Loss: 0.0941(0.1158) Grad: 47933.4492  LR: 0.00001002  \n",
      "EVAL: [0/62] Elapsed 0m 1s (remain 1m 1s) Loss: 0.1297(0.1297) \n",
      "EVAL: [20/62] Elapsed 0m 11s (remain 0m 22s) Loss: 0.2677(0.2470) \n",
      "EVAL: [40/62] Elapsed 0m 21s (remain 0m 11s) Loss: 0.2704(0.2568) \n"
     ]
    },
    {
     "name": "stderr",
     "output_type": "stream",
     "text": [
      "Epoch 2 - avg_train_loss: 0.1158  avg_val_loss: 0.2608  time: 354s\n",
      "Epoch 2 - Score: 0.7290  Scores: [0.5340989066763732, 0.6821109493758525, 0.7054858384749135, 0.6625224967356279, 0.8630169022812334, 0.9264806227856693]\n"
     ]
    },
    {
     "name": "stdout",
     "output_type": "stream",
     "text": [
      "EVAL: [60/62] Elapsed 0m 32s (remain 0m 0s) Loss: 0.2514(0.2611) \n",
      "EVAL: [61/62] Elapsed 0m 32s (remain 0m 0s) Loss: 0.1469(0.2608) \n",
      "Epoch: [3][0/366] Elapsed 0m 1s (remain 7m 26s) Loss: 0.0669(0.0669) Grad: inf  LR: 0.00001000  \n",
      "Epoch: [3][20/366] Elapsed 0m 18s (remain 5m 7s) Loss: 0.0649(0.1113) Grad: 44785.8984  LR: 0.00000957  \n",
      "Epoch: [3][40/366] Elapsed 0m 36s (remain 4m 46s) Loss: 0.1384(0.1145) Grad: 34060.5742  LR: 0.00000914  \n",
      "Epoch: [3][60/366] Elapsed 0m 53s (remain 4m 26s) Loss: 0.1498(0.1121) Grad: 59864.6875  LR: 0.00000872  \n",
      "Epoch: [3][80/366] Elapsed 1m 10s (remain 4m 7s) Loss: 0.0959(0.1113) Grad: 32411.2539  LR: 0.00000829  \n",
      "Epoch: [3][100/366] Elapsed 1m 27s (remain 3m 49s) Loss: 0.0899(0.1102) Grad: 55432.7031  LR: 0.00000787  \n",
      "Epoch: [3][120/366] Elapsed 1m 44s (remain 3m 32s) Loss: 0.1070(0.1121) Grad: 44712.3398  LR: 0.00000746  \n",
      "Epoch: [3][140/366] Elapsed 2m 2s (remain 3m 15s) Loss: 0.1029(0.1121) Grad: 72438.3203  LR: 0.00000704  \n",
      "Epoch: [3][160/366] Elapsed 2m 19s (remain 2m 58s) Loss: 0.1154(0.1126) Grad: 53084.4180  LR: 0.00000664  \n",
      "Epoch: [3][180/366] Elapsed 2m 37s (remain 2m 40s) Loss: 0.1441(0.1125) Grad: 37561.4688  LR: 0.00000624  \n",
      "Epoch: [3][200/366] Elapsed 2m 55s (remain 2m 23s) Loss: 0.0969(0.1117) Grad: 56463.6523  LR: 0.00000584  \n",
      "Epoch: [3][220/366] Elapsed 3m 12s (remain 2m 6s) Loss: 0.0854(0.1104) Grad: 39300.7773  LR: 0.00000546  \n",
      "Epoch: [3][240/366] Elapsed 3m 30s (remain 1m 48s) Loss: 0.1046(0.1104) Grad: 31371.3496  LR: 0.00000508  \n",
      "Epoch: [3][260/366] Elapsed 3m 47s (remain 1m 31s) Loss: 0.1063(0.1106) Grad: 52441.4297  LR: 0.00000471  \n",
      "Epoch: [3][280/366] Elapsed 4m 4s (remain 1m 14s) Loss: 0.1508(0.1101) Grad: 43104.9609  LR: 0.00000435  \n",
      "Epoch: [3][300/366] Elapsed 4m 22s (remain 0m 56s) Loss: 0.1178(0.1100) Grad: 79515.6719  LR: 0.00000400  \n",
      "Epoch: [3][320/366] Elapsed 4m 40s (remain 0m 39s) Loss: 0.1011(0.1096) Grad: 44420.9531  LR: 0.00000367  \n",
      "Epoch: [3][340/366] Elapsed 4m 57s (remain 0m 21s) Loss: 0.1455(0.1095) Grad: 86891.2734  LR: 0.00000334  \n",
      "Epoch: [3][360/366] Elapsed 5m 14s (remain 0m 4s) Loss: 0.0944(0.1097) Grad: 34711.9688  LR: 0.00000303  \n",
      "Epoch: [3][365/366] Elapsed 5m 19s (remain 0m 0s) Loss: 0.1063(0.1095) Grad: 37691.8789  LR: 0.00000295  \n",
      "EVAL: [0/62] Elapsed 0m 1s (remain 1m 4s) Loss: 0.1401(0.1401) \n",
      "EVAL: [20/62] Elapsed 0m 11s (remain 0m 22s) Loss: 0.3003(0.2680) \n",
      "EVAL: [40/62] Elapsed 0m 21s (remain 0m 11s) Loss: 0.2963(0.2779) \n"
     ]
    },
    {
     "name": "stderr",
     "output_type": "stream",
     "text": [
      "Epoch 3 - avg_train_loss: 0.1095  avg_val_loss: 0.2815  time: 352s\n",
      "Epoch 3 - Score: 0.7591  Scores: [0.5731706193554047, 0.714413426019476, 0.6957009933101974, 0.7084180181921719, 0.9081229046029197, 0.9546283857611111]\n"
     ]
    },
    {
     "name": "stdout",
     "output_type": "stream",
     "text": [
      "EVAL: [60/62] Elapsed 0m 32s (remain 0m 0s) Loss: 0.2668(0.2817) \n",
      "EVAL: [61/62] Elapsed 0m 32s (remain 0m 0s) Loss: 0.1667(0.2815) \n",
      "Epoch: [4][0/366] Elapsed 0m 1s (remain 7m 28s) Loss: 0.0694(0.0694) Grad: inf  LR: 0.00000294  \n",
      "Epoch: [4][20/366] Elapsed 0m 18s (remain 5m 9s) Loss: 0.1388(0.1046) Grad: 50002.0547  LR: 0.00000264  \n",
      "Epoch: [4][40/366] Elapsed 0m 36s (remain 4m 48s) Loss: 0.1279(0.1027) Grad: 72790.2188  LR: 0.00000236  \n",
      "Epoch: [4][60/366] Elapsed 0m 53s (remain 4m 28s) Loss: 0.1288(0.1027) Grad: 117231.3906  LR: 0.00000209  \n",
      "Epoch: [4][80/366] Elapsed 1m 11s (remain 4m 10s) Loss: 0.1319(0.1039) Grad: 47928.4062  LR: 0.00000183  \n",
      "Epoch: [4][100/366] Elapsed 1m 28s (remain 3m 52s) Loss: 0.0812(0.1038) Grad: 34376.2734  LR: 0.00000159  \n",
      "Epoch: [4][120/366] Elapsed 1m 45s (remain 3m 34s) Loss: 0.1479(0.1057) Grad: 79032.9062  LR: 0.00000137  \n",
      "Epoch: [4][140/366] Elapsed 2m 3s (remain 3m 17s) Loss: 0.0728(0.1062) Grad: 43399.0898  LR: 0.00000116  \n",
      "Epoch: [4][160/366] Elapsed 2m 21s (remain 3m 0s) Loss: 0.1393(0.1062) Grad: 58871.0195  LR: 0.00000097  \n",
      "Epoch: [4][180/366] Elapsed 2m 39s (remain 2m 42s) Loss: 0.1227(0.1048) Grad: 41867.8047  LR: 0.00000079  \n",
      "Epoch: [4][200/366] Elapsed 2m 56s (remain 2m 25s) Loss: 0.1012(0.1043) Grad: 60051.0508  LR: 0.00000063  \n",
      "Epoch: [4][220/366] Elapsed 3m 14s (remain 2m 7s) Loss: 0.1461(0.1044) Grad: 55652.5508  LR: 0.00000049  \n",
      "Epoch: [4][240/366] Elapsed 3m 31s (remain 1m 49s) Loss: 0.0735(0.1045) Grad: 26462.7227  LR: 0.00000037  \n",
      "Epoch: [4][260/366] Elapsed 3m 49s (remain 1m 32s) Loss: 0.0954(0.1057) Grad: 26524.4453  LR: 0.00000026  \n",
      "Epoch: [4][280/366] Elapsed 4m 6s (remain 1m 14s) Loss: 0.0853(0.1057) Grad: 56637.9531  LR: 0.00000017  \n",
      "Epoch: [4][300/366] Elapsed 4m 23s (remain 0m 56s) Loss: 0.0863(0.1056) Grad: 53959.8438  LR: 0.00000010  \n",
      "Epoch: [4][320/366] Elapsed 4m 40s (remain 0m 39s) Loss: 0.1653(0.1055) Grad: 57983.0391  LR: 0.00000005  \n",
      "Epoch: [4][340/366] Elapsed 4m 58s (remain 0m 21s) Loss: 0.1162(0.1055) Grad: 87515.0156  LR: 0.00000002  \n",
      "Epoch: [4][360/366] Elapsed 5m 15s (remain 0m 4s) Loss: 0.0637(0.1054) Grad: 31946.2969  LR: 0.00000000  \n",
      "Epoch: [4][365/366] Elapsed 5m 19s (remain 0m 0s) Loss: 0.1057(0.1053) Grad: 82746.4766  LR: 0.00000000  \n",
      "EVAL: [0/62] Elapsed 0m 0s (remain 1m 0s) Loss: 0.1337(0.1337) \n",
      "EVAL: [20/62] Elapsed 0m 11s (remain 0m 22s) Loss: 0.2944(0.2612) \n",
      "EVAL: [40/62] Elapsed 0m 21s (remain 0m 11s) Loss: 0.2916(0.2707) \n"
     ]
    },
    {
     "name": "stderr",
     "output_type": "stream",
     "text": [
      "Epoch 4 - avg_train_loss: 0.1053  avg_val_loss: 0.2744  time: 352s\n",
      "Epoch 4 - Score: 0.7481  Scores: [0.5536962618752406, 0.6944383858052888, 0.6808446524479363, 0.6973974135897467, 0.9179943869148077, 0.943971366819366]\n"
     ]
    },
    {
     "name": "stdout",
     "output_type": "stream",
     "text": [
      "EVAL: [60/62] Elapsed 0m 32s (remain 0m 0s) Loss: 0.2662(0.2746) \n",
      "EVAL: [61/62] Elapsed 0m 32s (remain 0m 0s) Loss: 0.1566(0.2744) \n"
     ]
    },
    {
     "name": "stderr",
     "output_type": "stream",
     "text": [
      "========== fold: 3 result ==========\n",
      "Score: 0.6464  Scores: [0.5406440852823401, 0.5813227140530306, 0.648238374275336, 0.5866284001432251, 0.7797008585611795, 0.7416743587443512]\n",
      "========== CV ==========\n",
      "Score: 0.6167  Scores: [0.5886297674892379, 0.5889190506133998, 0.5785122697760718, 0.6110467096543957, 0.6430058099302994, 0.6898021233791629]\n"
     ]
    },
    {
     "data": {
      "text/html": [
       "Waiting for W&B process to finish... <strong style=\"color:green\">(success).</strong>"
      ],
      "text/plain": [
       "<IPython.core.display.HTML object>"
      ]
     },
     "metadata": {},
     "output_type": "display_data"
    },
    {
     "data": {
      "application/vnd.jupyter.widget-view+json": {
       "model_id": "cc4ac697c64d492795e57294cd9f7642",
       "version_major": 2,
       "version_minor": 0
      },
      "text/plain": [
       "VBox(children=(Label(value='0.000 MB of 0.000 MB uploaded (0.000 MB deduped)\\r'), FloatProgress(value=1.0, max…"
      ]
     },
     "metadata": {},
     "output_type": "display_data"
    },
    {
     "data": {
      "text/html": [
       "<style>\n",
       "    table.wandb td:nth-child(1) { padding: 0 10px; text-align: left ; width: auto;} td:nth-child(2) {text-align: left ; width: 100%}\n",
       "    .wandb-row { display: flex; flex-direction: row; flex-wrap: wrap; justify-content: flex-start; width: 100% }\n",
       "    .wandb-col { display: flex; flex-direction: column; flex-basis: 100%; flex: 1; padding: 10px; }\n",
       "    </style>\n",
       "<div class=\"wandb-row\"><div class=\"wandb-col\"><h3>Run history:</h3><br/><table class=\"wandb\"><tr><td>[fold0] avg_train_loss</td><td>█▁▁▁</td></tr><tr><td>[fold0] avg_val_loss</td><td>▆▁█▇</td></tr><tr><td>[fold0] epoch</td><td>▁▃▆█</td></tr><tr><td>[fold0] loss</td><td>█▂▁▁▁▁▁▁▁▁▁▁▁▁▁▁▁▁▁▁▁▁▁▁▁▁▁▁▁▁▁▁▁▁▁▁▁▁▁▁</td></tr><tr><td>[fold0] lr</td><td>███████▇▇▇▇▇▇▆▆▆▆▅▅▅▄▄▄▄▃▃▃▃▂▂▂▂▂▁▁▁▁▁▁▁</td></tr><tr><td>[fold0] score</td><td>▅▁█▇</td></tr><tr><td>[fold1] avg_train_loss</td><td>█▂▁▁</td></tr><tr><td>[fold1] avg_val_loss</td><td>█▁▃▅</td></tr><tr><td>[fold1] epoch</td><td>▁▃▆█</td></tr><tr><td>[fold1] loss</td><td>█▃▂▁▂▂▁▁▂▁▁▁▁▂▁▁▁▁▁▁▁▁▁▁▁▁▁▁▁▁▁▁▁▁▁▁▁▁▁▁</td></tr><tr><td>[fold1] lr</td><td>███████▇▇▇▇▇▇▆▆▆▆▅▅▅▄▄▄▄▃▃▃▃▂▂▂▂▂▁▁▁▁▁▁▁</td></tr><tr><td>[fold1] score</td><td>█▁▃▅</td></tr><tr><td>[fold2] avg_train_loss</td><td>█▁▁▁</td></tr><tr><td>[fold2] avg_val_loss</td><td>▁▂▅█</td></tr><tr><td>[fold2] epoch</td><td>▁▃▆█</td></tr><tr><td>[fold2] loss</td><td>█▂▁▁▁▁▁▁▁▁▁▁▁▁▁▁▁▁▁▁▁▁▁▁▁▁▁▁▁▁▁▁▁▁▁▁▁▁▁▁</td></tr><tr><td>[fold2] lr</td><td>███████▇▇▇▇▇▇▆▆▆▆▅▅▅▄▄▄▄▃▃▃▃▂▂▂▂▂▁▁▁▁▁▁▁</td></tr><tr><td>[fold2] score</td><td>▁▂▅█</td></tr><tr><td>[fold3] avg_train_loss</td><td>█▂▁▁</td></tr><tr><td>[fold3] avg_val_loss</td><td>▁▆█▇</td></tr><tr><td>[fold3] epoch</td><td>▁▃▆█</td></tr><tr><td>[fold3] loss</td><td>█▂▂▂▂▂▂▁▂▂▁▂▁▂▁▁▁▁▁▁▂▁▁▂▂▁▁▁▁▂▂▁▁▁▁▁▁▁▁▁</td></tr><tr><td>[fold3] lr</td><td>███████▇▇▇▇▇▇▆▆▆▆▅▅▅▄▄▄▄▃▃▃▃▂▂▂▂▂▁▁▁▁▁▁▁</td></tr><tr><td>[fold3] score</td><td>▁▆█▇</td></tr></table><br/></div><div class=\"wandb-col\"><h3>Run summary:</h3><br/><table class=\"wandb\"><tr><td>[fold0] avg_train_loss</td><td>0.11683</td></tr><tr><td>[fold0] avg_val_loss</td><td>0.16934</td></tr><tr><td>[fold0] epoch</td><td>4</td></tr><tr><td>[fold0] loss</td><td>0.07048</td></tr><tr><td>[fold0] lr</td><td>0.0</td></tr><tr><td>[fold0] score</td><td>0.58415</td></tr><tr><td>[fold1] avg_train_loss</td><td>0.10342</td></tr><tr><td>[fold1] avg_val_loss</td><td>0.27409</td></tr><tr><td>[fold1] epoch</td><td>4</td></tr><tr><td>[fold1] loss</td><td>0.08438</td></tr><tr><td>[fold1] lr</td><td>0.0</td></tr><tr><td>[fold1] score</td><td>0.7547</td></tr><tr><td>[fold2] avg_train_loss</td><td>0.12428</td></tr><tr><td>[fold2] avg_val_loss</td><td>0.16318</td></tr><tr><td>[fold2] epoch</td><td>4</td></tr><tr><td>[fold2] loss</td><td>0.08624</td></tr><tr><td>[fold2] lr</td><td>0.0</td></tr><tr><td>[fold2] score</td><td>0.57708</td></tr><tr><td>[fold3] avg_train_loss</td><td>0.10533</td></tr><tr><td>[fold3] avg_val_loss</td><td>0.2744</td></tr><tr><td>[fold3] epoch</td><td>4</td></tr><tr><td>[fold3] loss</td><td>0.1057</td></tr><tr><td>[fold3] lr</td><td>0.0</td></tr><tr><td>[fold3] score</td><td>0.74806</td></tr></table><br/></div></div>"
      ],
      "text/plain": [
       "<IPython.core.display.HTML object>"
      ]
     },
     "metadata": {},
     "output_type": "display_data"
    },
    {
     "data": {
      "text/html": [
       "Synced <strong style=\"color:#cdcd00\">gpt2</strong>: <a href=\"https://wandb.ai/anony-moose-447406/FB3-Public/runs/21xvsisy?apiKey=51adccdf5e9078f827c45badea39b6d29ad74087\" target=\"_blank\">https://wandb.ai/anony-moose-447406/FB3-Public/runs/21xvsisy?apiKey=51adccdf5e9078f827c45badea39b6d29ad74087</a><br/>Synced 6 W&B file(s), 0 media file(s), 0 artifact file(s) and 0 other file(s)"
      ],
      "text/plain": [
       "<IPython.core.display.HTML object>"
      ]
     },
     "metadata": {},
     "output_type": "display_data"
    },
    {
     "data": {
      "text/html": [
       "Find logs at: <code>./wandb/run-20221123_054742-21xvsisy/logs</code>"
      ],
      "text/plain": [
       "<IPython.core.display.HTML object>"
      ]
     },
     "metadata": {},
     "output_type": "display_data"
    }
   ],
   "source": [
    "import os\n",
    "if __name__ == '__main__':\n",
    "    \n",
    "    os.environ['CUDA_LAUNCH_BLOCKING'] = \"1\" \n",
    "    def get_result(oof_df):\n",
    "        labels = oof_df[CFG.target_cols].values\n",
    "        preds = oof_df[[f\"pred_{c}\" for c in CFG.target_cols]].values\n",
    "        score, scores = get_score(labels, preds)\n",
    "        LOGGER.info(f'Score: {score:<.4f}  Scores: {scores}')\n",
    "    \n",
    "    if CFG.train:\n",
    "        oof_df = pd.DataFrame()\n",
    "        for fold in range(CFG.n_fold):\n",
    "            if fold in CFG.trn_fold:\n",
    "                _oof_df = train_loop(train, fold)\n",
    "                oof_df = pd.concat([oof_df, _oof_df])\n",
    "                LOGGER.info(f\"========== fold: {fold} result ==========\")\n",
    "                get_result(_oof_df)\n",
    "        oof_df = oof_df.reset_index(drop=True)\n",
    "        LOGGER.info(f\"========== CV ==========\")\n",
    "        get_result(oof_df)\n",
    "        oof_df.to_pickle(OUTPUT_DIR+'oof_df.pkl')\n",
    "        \n",
    "    if CFG.wandb:\n",
    "        wandb.finish()"
   ]
  },
  {
   "cell_type": "code",
   "execution_count": null,
   "id": "a67099f3",
   "metadata": {
    "papermill": {
     "duration": 0.030834,
     "end_time": "2022-11-23T07:24:08.716780",
     "exception": false,
     "start_time": "2022-11-23T07:24:08.685946",
     "status": "completed"
    },
    "tags": []
   },
   "outputs": [],
   "source": []
  },
  {
   "cell_type": "code",
   "execution_count": null,
   "id": "bff27cf3",
   "metadata": {
    "papermill": {
     "duration": 0.030597,
     "end_time": "2022-11-23T07:24:08.778213",
     "exception": false,
     "start_time": "2022-11-23T07:24:08.747616",
     "status": "completed"
    },
    "tags": []
   },
   "outputs": [],
   "source": []
  }
 ],
 "metadata": {
  "kernelspec": {
   "display_name": "Python 3",
   "language": "python",
   "name": "python3"
  },
  "language_info": {
   "codemirror_mode": {
    "name": "ipython",
    "version": 3
   },
   "file_extension": ".py",
   "mimetype": "text/x-python",
   "name": "python",
   "nbconvert_exporter": "python",
   "pygments_lexer": "ipython3",
   "version": "3.7.12"
  },
  "papermill": {
   "default_parameters": {},
   "duration": 5799.627591,
   "end_time": "2022-11-23T07:24:11.653835",
   "environment_variables": {},
   "exception": null,
   "input_path": "__notebook__.ipynb",
   "output_path": "__notebook__.ipynb",
   "parameters": {},
   "start_time": "2022-11-23T05:47:32.026244",
   "version": "2.3.4"
  },
  "widgets": {
   "application/vnd.jupyter.widget-state+json": {
    "state": {
     "0027e62cbed44d52a14bbe98f9587b12": {
      "model_module": "@jupyter-widgets/base",
      "model_module_version": "1.2.0",
      "model_name": "LayoutModel",
      "state": {
       "_model_module": "@jupyter-widgets/base",
       "_model_module_version": "1.2.0",
       "_model_name": "LayoutModel",
       "_view_count": null,
       "_view_module": "@jupyter-widgets/base",
       "_view_module_version": "1.2.0",
       "_view_name": "LayoutView",
       "align_content": null,
       "align_items": null,
       "align_self": null,
       "border": null,
       "bottom": null,
       "display": null,
       "flex": null,
       "flex_flow": null,
       "grid_area": null,
       "grid_auto_columns": null,
       "grid_auto_flow": null,
       "grid_auto_rows": null,
       "grid_column": null,
       "grid_gap": null,
       "grid_row": null,
       "grid_template_areas": null,
       "grid_template_columns": null,
       "grid_template_rows": null,
       "height": null,
       "justify_content": null,
       "justify_items": null,
       "left": null,
       "margin": null,
       "max_height": null,
       "max_width": null,
       "min_height": null,
       "min_width": null,
       "object_fit": null,
       "object_position": null,
       "order": null,
       "overflow": null,
       "overflow_x": null,
       "overflow_y": null,
       "padding": null,
       "right": null,
       "top": null,
       "visibility": null,
       "width": null
      }
     },
     "041ca5ea85cc4c0aa26b9a1270af8a6e": {
      "model_module": "@jupyter-widgets/base",
      "model_module_version": "1.2.0",
      "model_name": "LayoutModel",
      "state": {
       "_model_module": "@jupyter-widgets/base",
       "_model_module_version": "1.2.0",
       "_model_name": "LayoutModel",
       "_view_count": null,
       "_view_module": "@jupyter-widgets/base",
       "_view_module_version": "1.2.0",
       "_view_name": "LayoutView",
       "align_content": null,
       "align_items": null,
       "align_self": null,
       "border": null,
       "bottom": null,
       "display": null,
       "flex": null,
       "flex_flow": null,
       "grid_area": null,
       "grid_auto_columns": null,
       "grid_auto_flow": null,
       "grid_auto_rows": null,
       "grid_column": null,
       "grid_gap": null,
       "grid_row": null,
       "grid_template_areas": null,
       "grid_template_columns": null,
       "grid_template_rows": null,
       "height": null,
       "justify_content": null,
       "justify_items": null,
       "left": null,
       "margin": null,
       "max_height": null,
       "max_width": null,
       "min_height": null,
       "min_width": null,
       "object_fit": null,
       "object_position": null,
       "order": null,
       "overflow": null,
       "overflow_x": null,
       "overflow_y": null,
       "padding": null,
       "right": null,
       "top": null,
       "visibility": null,
       "width": null
      }
     },
     "0c445be2cb8646518c7d9632f9885818": {
      "model_module": "@jupyter-widgets/base",
      "model_module_version": "1.2.0",
      "model_name": "LayoutModel",
      "state": {
       "_model_module": "@jupyter-widgets/base",
       "_model_module_version": "1.2.0",
       "_model_name": "LayoutModel",
       "_view_count": null,
       "_view_module": "@jupyter-widgets/base",
       "_view_module_version": "1.2.0",
       "_view_name": "LayoutView",
       "align_content": null,
       "align_items": null,
       "align_self": null,
       "border": null,
       "bottom": null,
       "display": null,
       "flex": null,
       "flex_flow": null,
       "grid_area": null,
       "grid_auto_columns": null,
       "grid_auto_flow": null,
       "grid_auto_rows": null,
       "grid_column": null,
       "grid_gap": null,
       "grid_row": null,
       "grid_template_areas": null,
       "grid_template_columns": null,
       "grid_template_rows": null,
       "height": null,
       "justify_content": null,
       "justify_items": null,
       "left": null,
       "margin": null,
       "max_height": null,
       "max_width": null,
       "min_height": null,
       "min_width": null,
       "object_fit": null,
       "object_position": null,
       "order": null,
       "overflow": null,
       "overflow_x": null,
       "overflow_y": null,
       "padding": null,
       "right": null,
       "top": null,
       "visibility": null,
       "width": null
      }
     },
     "0e7cad7ff4aa44dea818d5761d268a58": {
      "model_module": "@jupyter-widgets/base",
      "model_module_version": "1.2.0",
      "model_name": "LayoutModel",
      "state": {
       "_model_module": "@jupyter-widgets/base",
       "_model_module_version": "1.2.0",
       "_model_name": "LayoutModel",
       "_view_count": null,
       "_view_module": "@jupyter-widgets/base",
       "_view_module_version": "1.2.0",
       "_view_name": "LayoutView",
       "align_content": null,
       "align_items": null,
       "align_self": null,
       "border": null,
       "bottom": null,
       "display": null,
       "flex": null,
       "flex_flow": null,
       "grid_area": null,
       "grid_auto_columns": null,
       "grid_auto_flow": null,
       "grid_auto_rows": null,
       "grid_column": null,
       "grid_gap": null,
       "grid_row": null,
       "grid_template_areas": null,
       "grid_template_columns": null,
       "grid_template_rows": null,
       "height": null,
       "justify_content": null,
       "justify_items": null,
       "left": null,
       "margin": null,
       "max_height": null,
       "max_width": null,
       "min_height": null,
       "min_width": null,
       "object_fit": null,
       "object_position": null,
       "order": null,
       "overflow": null,
       "overflow_x": null,
       "overflow_y": null,
       "padding": null,
       "right": null,
       "top": null,
       "visibility": null,
       "width": null
      }
     },
     "15ba22fdbb884386bcb7b06f164256b6": {
      "model_module": "@jupyter-widgets/controls",
      "model_module_version": "1.5.0",
      "model_name": "ProgressStyleModel",
      "state": {
       "_model_module": "@jupyter-widgets/controls",
       "_model_module_version": "1.5.0",
       "_model_name": "ProgressStyleModel",
       "_view_count": null,
       "_view_module": "@jupyter-widgets/base",
       "_view_module_version": "1.2.0",
       "_view_name": "StyleView",
       "bar_color": null,
       "description_width": ""
      }
     },
     "21a35f10e07c49c3929ef000c86727ec": {
      "model_module": "@jupyter-widgets/controls",
      "model_module_version": "1.5.0",
      "model_name": "DescriptionStyleModel",
      "state": {
       "_model_module": "@jupyter-widgets/controls",
       "_model_module_version": "1.5.0",
       "_model_name": "DescriptionStyleModel",
       "_view_count": null,
       "_view_module": "@jupyter-widgets/base",
       "_view_module_version": "1.2.0",
       "_view_name": "StyleView",
       "description_width": ""
      }
     },
     "233bb8a8beb74e829390501489b746b7": {
      "model_module": "@jupyter-widgets/controls",
      "model_module_version": "1.5.0",
      "model_name": "ProgressStyleModel",
      "state": {
       "_model_module": "@jupyter-widgets/controls",
       "_model_module_version": "1.5.0",
       "_model_name": "ProgressStyleModel",
       "_view_count": null,
       "_view_module": "@jupyter-widgets/base",
       "_view_module_version": "1.2.0",
       "_view_name": "StyleView",
       "bar_color": null,
       "description_width": ""
      }
     },
     "267f159f6d9e427fabd4160a867cc513": {
      "model_module": "@jupyter-widgets/controls",
      "model_module_version": "1.5.0",
      "model_name": "DescriptionStyleModel",
      "state": {
       "_model_module": "@jupyter-widgets/controls",
       "_model_module_version": "1.5.0",
       "_model_name": "DescriptionStyleModel",
       "_view_count": null,
       "_view_module": "@jupyter-widgets/base",
       "_view_module_version": "1.2.0",
       "_view_name": "StyleView",
       "description_width": ""
      }
     },
     "2c9e4d7c25414b37ba3f6358ed6a1394": {
      "model_module": "@jupyter-widgets/controls",
      "model_module_version": "1.5.0",
      "model_name": "FloatProgressModel",
      "state": {
       "_dom_classes": [],
       "_model_module": "@jupyter-widgets/controls",
       "_model_module_version": "1.5.0",
       "_model_name": "FloatProgressModel",
       "_view_count": null,
       "_view_module": "@jupyter-widgets/controls",
       "_view_module_version": "1.5.0",
       "_view_name": "ProgressView",
       "bar_style": "success",
       "description": "",
       "description_tooltip": null,
       "layout": "IPY_MODEL_d54b57de0cff42a6b86a245adca8253e",
       "max": 1042301.0,
       "min": 0.0,
       "orientation": "horizontal",
       "style": "IPY_MODEL_4e6e4f2055f94b56b0a9f56228e2dd21",
       "value": 1042301.0
      }
     },
     "2e378cded3ff4c96b8e5dcc211b1aefa": {
      "model_module": "@jupyter-widgets/controls",
      "model_module_version": "1.5.0",
      "model_name": "LabelModel",
      "state": {
       "_dom_classes": [],
       "_model_module": "@jupyter-widgets/controls",
       "_model_module_version": "1.5.0",
       "_model_name": "LabelModel",
       "_view_count": null,
       "_view_module": "@jupyter-widgets/controls",
       "_view_module_version": "1.5.0",
       "_view_name": "LabelView",
       "description": "",
       "description_tooltip": null,
       "layout": "IPY_MODEL_0027e62cbed44d52a14bbe98f9587b12",
       "placeholder": "​",
       "style": "IPY_MODEL_fa5743d871724ada84844ca53f92192a",
       "value": "0.092 MB of 0.092 MB uploaded (0.000 MB deduped)\r"
      }
     },
     "2fdf96ca72a64925be0dc1d3aae6c4c9": {
      "model_module": "@jupyter-widgets/controls",
      "model_module_version": "1.5.0",
      "model_name": "ProgressStyleModel",
      "state": {
       "_model_module": "@jupyter-widgets/controls",
       "_model_module_version": "1.5.0",
       "_model_name": "ProgressStyleModel",
       "_view_count": null,
       "_view_module": "@jupyter-widgets/base",
       "_view_module_version": "1.2.0",
       "_view_name": "StyleView",
       "bar_color": null,
       "description_width": ""
      }
     },
     "304e9c80546e4d888af6aabe8c3940b0": {
      "model_module": "@jupyter-widgets/controls",
      "model_module_version": "1.5.0",
      "model_name": "FloatProgressModel",
      "state": {
       "_dom_classes": [],
       "_model_module": "@jupyter-widgets/controls",
       "_model_module_version": "1.5.0",
       "_model_name": "FloatProgressModel",
       "_view_count": null,
       "_view_module": "@jupyter-widgets/controls",
       "_view_module_version": "1.5.0",
       "_view_name": "ProgressView",
       "bar_style": "success",
       "description": "",
       "description_tooltip": null,
       "layout": "IPY_MODEL_92b8128e05c947c085ce6f5df80f82e5",
       "max": 665.0,
       "min": 0.0,
       "orientation": "horizontal",
       "style": "IPY_MODEL_2fdf96ca72a64925be0dc1d3aae6c4c9",
       "value": 665.0
      }
     },
     "3307e730ef0f4eaeb2e494aaffc7835c": {
      "model_module": "@jupyter-widgets/base",
      "model_module_version": "1.2.0",
      "model_name": "LayoutModel",
      "state": {
       "_model_module": "@jupyter-widgets/base",
       "_model_module_version": "1.2.0",
       "_model_name": "LayoutModel",
       "_view_count": null,
       "_view_module": "@jupyter-widgets/base",
       "_view_module_version": "1.2.0",
       "_view_name": "LayoutView",
       "align_content": null,
       "align_items": null,
       "align_self": null,
       "border": null,
       "bottom": null,
       "display": null,
       "flex": null,
       "flex_flow": null,
       "grid_area": null,
       "grid_auto_columns": null,
       "grid_auto_flow": null,
       "grid_auto_rows": null,
       "grid_column": null,
       "grid_gap": null,
       "grid_row": null,
       "grid_template_areas": null,
       "grid_template_columns": null,
       "grid_template_rows": null,
       "height": null,
       "justify_content": null,
       "justify_items": null,
       "left": null,
       "margin": null,
       "max_height": null,
       "max_width": null,
       "min_height": null,
       "min_width": null,
       "object_fit": null,
       "object_position": null,
       "order": null,
       "overflow": null,
       "overflow_x": null,
       "overflow_y": null,
       "padding": null,
       "right": null,
       "top": null,
       "visibility": null,
       "width": null
      }
     },
     "35ed3153c334404a832cb5f0daa8808a": {
      "model_module": "@jupyter-widgets/base",
      "model_module_version": "1.2.0",
      "model_name": "LayoutModel",
      "state": {
       "_model_module": "@jupyter-widgets/base",
       "_model_module_version": "1.2.0",
       "_model_name": "LayoutModel",
       "_view_count": null,
       "_view_module": "@jupyter-widgets/base",
       "_view_module_version": "1.2.0",
       "_view_name": "LayoutView",
       "align_content": null,
       "align_items": null,
       "align_self": null,
       "border": null,
       "bottom": null,
       "display": null,
       "flex": null,
       "flex_flow": null,
       "grid_area": null,
       "grid_auto_columns": null,
       "grid_auto_flow": null,
       "grid_auto_rows": null,
       "grid_column": null,
       "grid_gap": null,
       "grid_row": null,
       "grid_template_areas": null,
       "grid_template_columns": null,
       "grid_template_rows": null,
       "height": null,
       "justify_content": null,
       "justify_items": null,
       "left": null,
       "margin": null,
       "max_height": null,
       "max_width": null,
       "min_height": null,
       "min_width": null,
       "object_fit": null,
       "object_position": null,
       "order": null,
       "overflow": null,
       "overflow_x": null,
       "overflow_y": null,
       "padding": null,
       "right": null,
       "top": null,
       "visibility": null,
       "width": null
      }
     },
     "3feca81ebfdf45d28d1fe3c3fb0f910d": {
      "model_module": "@jupyter-widgets/controls",
      "model_module_version": "1.5.0",
      "model_name": "FloatProgressModel",
      "state": {
       "_dom_classes": [],
       "_model_module": "@jupyter-widgets/controls",
       "_model_module_version": "1.5.0",
       "_model_name": "FloatProgressModel",
       "_view_count": null,
       "_view_module": "@jupyter-widgets/controls",
       "_view_module_version": "1.5.0",
       "_view_name": "ProgressView",
       "bar_style": "success",
       "description": "",
       "description_tooltip": null,
       "layout": "IPY_MODEL_95e95e44dd9547338683ae7d68bb74bb",
       "max": 456318.0,
       "min": 0.0,
       "orientation": "horizontal",
       "style": "IPY_MODEL_c913b2d69a3942edbbae6b97ef1971bd",
       "value": 456318.0
      }
     },
     "4196b1c856b24e6f9ccc4a664f9af035": {
      "model_module": "@jupyter-widgets/controls",
      "model_module_version": "1.5.0",
      "model_name": "HBoxModel",
      "state": {
       "_dom_classes": [],
       "_model_module": "@jupyter-widgets/controls",
       "_model_module_version": "1.5.0",
       "_model_name": "HBoxModel",
       "_view_count": null,
       "_view_module": "@jupyter-widgets/controls",
       "_view_module_version": "1.5.0",
       "_view_name": "HBoxView",
       "box_style": "",
       "children": [
        "IPY_MODEL_78f1e83b317b4a389948442e26243860",
        "IPY_MODEL_a283f57eb4ee41998cb2ad1bc8393267",
        "IPY_MODEL_57b6c58d6a2849af900aa9a312a71095"
       ],
       "layout": "IPY_MODEL_6bad3d5307494902a908278f9bf551fa"
      }
     },
     "427a944d48bf426f8cc048397e2490b3": {
      "model_module": "@jupyter-widgets/base",
      "model_module_version": "1.2.0",
      "model_name": "LayoutModel",
      "state": {
       "_model_module": "@jupyter-widgets/base",
       "_model_module_version": "1.2.0",
       "_model_name": "LayoutModel",
       "_view_count": null,
       "_view_module": "@jupyter-widgets/base",
       "_view_module_version": "1.2.0",
       "_view_name": "LayoutView",
       "align_content": null,
       "align_items": null,
       "align_self": null,
       "border": null,
       "bottom": null,
       "display": null,
       "flex": null,
       "flex_flow": null,
       "grid_area": null,
       "grid_auto_columns": null,
       "grid_auto_flow": null,
       "grid_auto_rows": null,
       "grid_column": null,
       "grid_gap": null,
       "grid_row": null,
       "grid_template_areas": null,
       "grid_template_columns": null,
       "grid_template_rows": null,
       "height": null,
       "justify_content": null,
       "justify_items": null,
       "left": null,
       "margin": null,
       "max_height": null,
       "max_width": null,
       "min_height": null,
       "min_width": null,
       "object_fit": null,
       "object_position": null,
       "order": null,
       "overflow": null,
       "overflow_x": null,
       "overflow_y": null,
       "padding": null,
       "right": null,
       "top": null,
       "visibility": null,
       "width": null
      }
     },
     "46ebbbc706ab4c32b5dd1f25f38e5000": {
      "model_module": "@jupyter-widgets/base",
      "model_module_version": "1.2.0",
      "model_name": "LayoutModel",
      "state": {
       "_model_module": "@jupyter-widgets/base",
       "_model_module_version": "1.2.0",
       "_model_name": "LayoutModel",
       "_view_count": null,
       "_view_module": "@jupyter-widgets/base",
       "_view_module_version": "1.2.0",
       "_view_name": "LayoutView",
       "align_content": null,
       "align_items": null,
       "align_self": null,
       "border": null,
       "bottom": null,
       "display": null,
       "flex": null,
       "flex_flow": null,
       "grid_area": null,
       "grid_auto_columns": null,
       "grid_auto_flow": null,
       "grid_auto_rows": null,
       "grid_column": null,
       "grid_gap": null,
       "grid_row": null,
       "grid_template_areas": null,
       "grid_template_columns": null,
       "grid_template_rows": null,
       "height": null,
       "justify_content": null,
       "justify_items": null,
       "left": null,
       "margin": null,
       "max_height": null,
       "max_width": null,
       "min_height": null,
       "min_width": null,
       "object_fit": null,
       "object_position": null,
       "order": null,
       "overflow": null,
       "overflow_x": null,
       "overflow_y": null,
       "padding": null,
       "right": null,
       "top": null,
       "visibility": null,
       "width": null
      }
     },
     "4a8358b57c7d443cb571129b904903ed": {
      "model_module": "@jupyter-widgets/controls",
      "model_module_version": "1.5.0",
      "model_name": "DescriptionStyleModel",
      "state": {
       "_model_module": "@jupyter-widgets/controls",
       "_model_module_version": "1.5.0",
       "_model_name": "DescriptionStyleModel",
       "_view_count": null,
       "_view_module": "@jupyter-widgets/base",
       "_view_module_version": "1.2.0",
       "_view_name": "StyleView",
       "description_width": ""
      }
     },
     "4e6e4f2055f94b56b0a9f56228e2dd21": {
      "model_module": "@jupyter-widgets/controls",
      "model_module_version": "1.5.0",
      "model_name": "ProgressStyleModel",
      "state": {
       "_model_module": "@jupyter-widgets/controls",
       "_model_module_version": "1.5.0",
       "_model_name": "ProgressStyleModel",
       "_view_count": null,
       "_view_module": "@jupyter-widgets/base",
       "_view_module_version": "1.2.0",
       "_view_name": "StyleView",
       "bar_color": null,
       "description_width": ""
      }
     },
     "4fd46d8e252041989190283fcf571818": {
      "model_module": "@jupyter-widgets/controls",
      "model_module_version": "1.5.0",
      "model_name": "DescriptionStyleModel",
      "state": {
       "_model_module": "@jupyter-widgets/controls",
       "_model_module_version": "1.5.0",
       "_model_name": "DescriptionStyleModel",
       "_view_count": null,
       "_view_module": "@jupyter-widgets/base",
       "_view_module_version": "1.2.0",
       "_view_name": "StyleView",
       "description_width": ""
      }
     },
     "50cc5318b8f440c48538d872ffdde212": {
      "model_module": "@jupyter-widgets/controls",
      "model_module_version": "1.5.0",
      "model_name": "HBoxModel",
      "state": {
       "_dom_classes": [],
       "_model_module": "@jupyter-widgets/controls",
       "_model_module_version": "1.5.0",
       "_model_name": "HBoxModel",
       "_view_count": null,
       "_view_module": "@jupyter-widgets/controls",
       "_view_module_version": "1.5.0",
       "_view_name": "HBoxView",
       "box_style": "",
       "children": [
        "IPY_MODEL_da11d4fc16a749b38971c3bd05aeb16d",
        "IPY_MODEL_3feca81ebfdf45d28d1fe3c3fb0f910d",
        "IPY_MODEL_f18441ad3a7945fc8e7caf184db04e24"
       ],
       "layout": "IPY_MODEL_97bedfd70d294adda77fd404092aa96f"
      }
     },
     "51c79deba7284939a2305ea7a63db414": {
      "model_module": "@jupyter-widgets/controls",
      "model_module_version": "1.5.0",
      "model_name": "DescriptionStyleModel",
      "state": {
       "_model_module": "@jupyter-widgets/controls",
       "_model_module_version": "1.5.0",
       "_model_name": "DescriptionStyleModel",
       "_view_count": null,
       "_view_module": "@jupyter-widgets/base",
       "_view_module_version": "1.2.0",
       "_view_name": "StyleView",
       "description_width": ""
      }
     },
     "57b6c58d6a2849af900aa9a312a71095": {
      "model_module": "@jupyter-widgets/controls",
      "model_module_version": "1.5.0",
      "model_name": "HTMLModel",
      "state": {
       "_dom_classes": [],
       "_model_module": "@jupyter-widgets/controls",
       "_model_module_version": "1.5.0",
       "_model_name": "HTMLModel",
       "_view_count": null,
       "_view_module": "@jupyter-widgets/controls",
       "_view_module_version": "1.5.0",
       "_view_name": "HTMLView",
       "description": "",
       "description_tooltip": null,
       "layout": "IPY_MODEL_7870f376f7f544b584ad04f4479e55cf",
       "placeholder": "​",
       "style": "IPY_MODEL_4fd46d8e252041989190283fcf571818",
       "value": " 523M/523M [00:24&lt;00:00, 23.2MB/s]"
      }
     },
     "5cc563b862cb4352a487ff4b38a48a22": {
      "model_module": "@jupyter-widgets/base",
      "model_module_version": "1.2.0",
      "model_name": "LayoutModel",
      "state": {
       "_model_module": "@jupyter-widgets/base",
       "_model_module_version": "1.2.0",
       "_model_name": "LayoutModel",
       "_view_count": null,
       "_view_module": "@jupyter-widgets/base",
       "_view_module_version": "1.2.0",
       "_view_name": "LayoutView",
       "align_content": null,
       "align_items": null,
       "align_self": null,
       "border": null,
       "bottom": null,
       "display": null,
       "flex": null,
       "flex_flow": null,
       "grid_area": null,
       "grid_auto_columns": null,
       "grid_auto_flow": null,
       "grid_auto_rows": null,
       "grid_column": null,
       "grid_gap": null,
       "grid_row": null,
       "grid_template_areas": null,
       "grid_template_columns": null,
       "grid_template_rows": null,
       "height": null,
       "justify_content": null,
       "justify_items": null,
       "left": null,
       "margin": null,
       "max_height": null,
       "max_width": null,
       "min_height": null,
       "min_width": null,
       "object_fit": null,
       "object_position": null,
       "order": null,
       "overflow": null,
       "overflow_x": null,
       "overflow_y": null,
       "padding": null,
       "right": null,
       "top": null,
       "visibility": null,
       "width": null
      }
     },
     "6129182617384eaeae3d25a01a9271a7": {
      "model_module": "@jupyter-widgets/controls",
      "model_module_version": "1.5.0",
      "model_name": "HTMLModel",
      "state": {
       "_dom_classes": [],
       "_model_module": "@jupyter-widgets/controls",
       "_model_module_version": "1.5.0",
       "_model_name": "HTMLModel",
       "_view_count": null,
       "_view_module": "@jupyter-widgets/controls",
       "_view_module_version": "1.5.0",
       "_view_name": "HTMLView",
       "description": "",
       "description_tooltip": null,
       "layout": "IPY_MODEL_3307e730ef0f4eaeb2e494aaffc7835c",
       "placeholder": "​",
       "style": "IPY_MODEL_f4e8fc1e68d2499a9c1fb7cc00198eba",
       "value": " 3911/3911 [00:14&lt;00:00, 303.26it/s]"
      }
     },
     "6bad3d5307494902a908278f9bf551fa": {
      "model_module": "@jupyter-widgets/base",
      "model_module_version": "1.2.0",
      "model_name": "LayoutModel",
      "state": {
       "_model_module": "@jupyter-widgets/base",
       "_model_module_version": "1.2.0",
       "_model_name": "LayoutModel",
       "_view_count": null,
       "_view_module": "@jupyter-widgets/base",
       "_view_module_version": "1.2.0",
       "_view_name": "LayoutView",
       "align_content": null,
       "align_items": null,
       "align_self": null,
       "border": null,
       "bottom": null,
       "display": null,
       "flex": null,
       "flex_flow": null,
       "grid_area": null,
       "grid_auto_columns": null,
       "grid_auto_flow": null,
       "grid_auto_rows": null,
       "grid_column": null,
       "grid_gap": null,
       "grid_row": null,
       "grid_template_areas": null,
       "grid_template_columns": null,
       "grid_template_rows": null,
       "height": null,
       "justify_content": null,
       "justify_items": null,
       "left": null,
       "margin": null,
       "max_height": null,
       "max_width": null,
       "min_height": null,
       "min_width": null,
       "object_fit": null,
       "object_position": null,
       "order": null,
       "overflow": null,
       "overflow_x": null,
       "overflow_y": null,
       "padding": null,
       "right": null,
       "top": null,
       "visibility": null,
       "width": null
      }
     },
     "6ceb2c0e60294a719dc6ef260fc664f2": {
      "model_module": "@jupyter-widgets/controls",
      "model_module_version": "1.5.0",
      "model_name": "HTMLModel",
      "state": {
       "_dom_classes": [],
       "_model_module": "@jupyter-widgets/controls",
       "_model_module_version": "1.5.0",
       "_model_name": "HTMLModel",
       "_view_count": null,
       "_view_module": "@jupyter-widgets/controls",
       "_view_module_version": "1.5.0",
       "_view_name": "HTMLView",
       "description": "",
       "description_tooltip": null,
       "layout": "IPY_MODEL_c203b1dc5d8b479bba79cd67aff61534",
       "placeholder": "​",
       "style": "IPY_MODEL_7fa7db4beff3443db6f35d094c16f8c4",
       "value": " 0.99M/0.99M [00:00&lt;00:00, 3.12MB/s]"
      }
     },
     "74dbc478efd846ee86e7e991869348ee": {
      "model_module": "@jupyter-widgets/base",
      "model_module_version": "1.2.0",
      "model_name": "LayoutModel",
      "state": {
       "_model_module": "@jupyter-widgets/base",
       "_model_module_version": "1.2.0",
       "_model_name": "LayoutModel",
       "_view_count": null,
       "_view_module": "@jupyter-widgets/base",
       "_view_module_version": "1.2.0",
       "_view_name": "LayoutView",
       "align_content": null,
       "align_items": null,
       "align_self": null,
       "border": null,
       "bottom": null,
       "display": null,
       "flex": null,
       "flex_flow": null,
       "grid_area": null,
       "grid_auto_columns": null,
       "grid_auto_flow": null,
       "grid_auto_rows": null,
       "grid_column": null,
       "grid_gap": null,
       "grid_row": null,
       "grid_template_areas": null,
       "grid_template_columns": null,
       "grid_template_rows": null,
       "height": null,
       "justify_content": null,
       "justify_items": null,
       "left": null,
       "margin": null,
       "max_height": null,
       "max_width": null,
       "min_height": null,
       "min_width": null,
       "object_fit": null,
       "object_position": null,
       "order": null,
       "overflow": null,
       "overflow_x": null,
       "overflow_y": null,
       "padding": null,
       "right": null,
       "top": null,
       "visibility": null,
       "width": null
      }
     },
     "7671d6a2499b4c62be86d11e01764bd4": {
      "model_module": "@jupyter-widgets/controls",
      "model_module_version": "1.5.0",
      "model_name": "ProgressStyleModel",
      "state": {
       "_model_module": "@jupyter-widgets/controls",
       "_model_module_version": "1.5.0",
       "_model_name": "ProgressStyleModel",
       "_view_count": null,
       "_view_module": "@jupyter-widgets/base",
       "_view_module_version": "1.2.0",
       "_view_name": "StyleView",
       "bar_color": null,
       "description_width": ""
      }
     },
     "7870f376f7f544b584ad04f4479e55cf": {
      "model_module": "@jupyter-widgets/base",
      "model_module_version": "1.2.0",
      "model_name": "LayoutModel",
      "state": {
       "_model_module": "@jupyter-widgets/base",
       "_model_module_version": "1.2.0",
       "_model_name": "LayoutModel",
       "_view_count": null,
       "_view_module": "@jupyter-widgets/base",
       "_view_module_version": "1.2.0",
       "_view_name": "LayoutView",
       "align_content": null,
       "align_items": null,
       "align_self": null,
       "border": null,
       "bottom": null,
       "display": null,
       "flex": null,
       "flex_flow": null,
       "grid_area": null,
       "grid_auto_columns": null,
       "grid_auto_flow": null,
       "grid_auto_rows": null,
       "grid_column": null,
       "grid_gap": null,
       "grid_row": null,
       "grid_template_areas": null,
       "grid_template_columns": null,
       "grid_template_rows": null,
       "height": null,
       "justify_content": null,
       "justify_items": null,
       "left": null,
       "margin": null,
       "max_height": null,
       "max_width": null,
       "min_height": null,
       "min_width": null,
       "object_fit": null,
       "object_position": null,
       "order": null,
       "overflow": null,
       "overflow_x": null,
       "overflow_y": null,
       "padding": null,
       "right": null,
       "top": null,
       "visibility": null,
       "width": null
      }
     },
     "78f1e83b317b4a389948442e26243860": {
      "model_module": "@jupyter-widgets/controls",
      "model_module_version": "1.5.0",
      "model_name": "HTMLModel",
      "state": {
       "_dom_classes": [],
       "_model_module": "@jupyter-widgets/controls",
       "_model_module_version": "1.5.0",
       "_model_name": "HTMLModel",
       "_view_count": null,
       "_view_module": "@jupyter-widgets/controls",
       "_view_module_version": "1.5.0",
       "_view_name": "HTMLView",
       "description": "",
       "description_tooltip": null,
       "layout": "IPY_MODEL_74dbc478efd846ee86e7e991869348ee",
       "placeholder": "​",
       "style": "IPY_MODEL_bd6859b2feed4ecf82e0c648673bf117",
       "value": "Downloading pytorch_model.bin: 100%"
      }
     },
     "7fa7db4beff3443db6f35d094c16f8c4": {
      "model_module": "@jupyter-widgets/controls",
      "model_module_version": "1.5.0",
      "model_name": "DescriptionStyleModel",
      "state": {
       "_model_module": "@jupyter-widgets/controls",
       "_model_module_version": "1.5.0",
       "_model_name": "DescriptionStyleModel",
       "_view_count": null,
       "_view_module": "@jupyter-widgets/base",
       "_view_module_version": "1.2.0",
       "_view_name": "StyleView",
       "description_width": ""
      }
     },
     "8961103eceb0456da7947ac60f4e6749": {
      "model_module": "@jupyter-widgets/controls",
      "model_module_version": "1.5.0",
      "model_name": "HBoxModel",
      "state": {
       "_dom_classes": [],
       "_model_module": "@jupyter-widgets/controls",
       "_model_module_version": "1.5.0",
       "_model_name": "HBoxModel",
       "_view_count": null,
       "_view_module": "@jupyter-widgets/controls",
       "_view_module_version": "1.5.0",
       "_view_name": "HBoxView",
       "box_style": "",
       "children": [
        "IPY_MODEL_a4f6a84d54584f5f932ae9aa9112af2e",
        "IPY_MODEL_954a98045f2f4e468734149836f6c40a",
        "IPY_MODEL_6129182617384eaeae3d25a01a9271a7"
       ],
       "layout": "IPY_MODEL_b79b2ac0a1bd49fd9ce9218dfc66683f"
      }
     },
     "92b8128e05c947c085ce6f5df80f82e5": {
      "model_module": "@jupyter-widgets/base",
      "model_module_version": "1.2.0",
      "model_name": "LayoutModel",
      "state": {
       "_model_module": "@jupyter-widgets/base",
       "_model_module_version": "1.2.0",
       "_model_name": "LayoutModel",
       "_view_count": null,
       "_view_module": "@jupyter-widgets/base",
       "_view_module_version": "1.2.0",
       "_view_name": "LayoutView",
       "align_content": null,
       "align_items": null,
       "align_self": null,
       "border": null,
       "bottom": null,
       "display": null,
       "flex": null,
       "flex_flow": null,
       "grid_area": null,
       "grid_auto_columns": null,
       "grid_auto_flow": null,
       "grid_auto_rows": null,
       "grid_column": null,
       "grid_gap": null,
       "grid_row": null,
       "grid_template_areas": null,
       "grid_template_columns": null,
       "grid_template_rows": null,
       "height": null,
       "justify_content": null,
       "justify_items": null,
       "left": null,
       "margin": null,
       "max_height": null,
       "max_width": null,
       "min_height": null,
       "min_width": null,
       "object_fit": null,
       "object_position": null,
       "order": null,
       "overflow": null,
       "overflow_x": null,
       "overflow_y": null,
       "padding": null,
       "right": null,
       "top": null,
       "visibility": null,
       "width": null
      }
     },
     "954a98045f2f4e468734149836f6c40a": {
      "model_module": "@jupyter-widgets/controls",
      "model_module_version": "1.5.0",
      "model_name": "FloatProgressModel",
      "state": {
       "_dom_classes": [],
       "_model_module": "@jupyter-widgets/controls",
       "_model_module_version": "1.5.0",
       "_model_name": "FloatProgressModel",
       "_view_count": null,
       "_view_module": "@jupyter-widgets/controls",
       "_view_module_version": "1.5.0",
       "_view_name": "ProgressView",
       "bar_style": "success",
       "description": "",
       "description_tooltip": null,
       "layout": "IPY_MODEL_5cc563b862cb4352a487ff4b38a48a22",
       "max": 3911.0,
       "min": 0.0,
       "orientation": "horizontal",
       "style": "IPY_MODEL_15ba22fdbb884386bcb7b06f164256b6",
       "value": 3911.0
      }
     },
     "95e95e44dd9547338683ae7d68bb74bb": {
      "model_module": "@jupyter-widgets/base",
      "model_module_version": "1.2.0",
      "model_name": "LayoutModel",
      "state": {
       "_model_module": "@jupyter-widgets/base",
       "_model_module_version": "1.2.0",
       "_model_name": "LayoutModel",
       "_view_count": null,
       "_view_module": "@jupyter-widgets/base",
       "_view_module_version": "1.2.0",
       "_view_name": "LayoutView",
       "align_content": null,
       "align_items": null,
       "align_self": null,
       "border": null,
       "bottom": null,
       "display": null,
       "flex": null,
       "flex_flow": null,
       "grid_area": null,
       "grid_auto_columns": null,
       "grid_auto_flow": null,
       "grid_auto_rows": null,
       "grid_column": null,
       "grid_gap": null,
       "grid_row": null,
       "grid_template_areas": null,
       "grid_template_columns": null,
       "grid_template_rows": null,
       "height": null,
       "justify_content": null,
       "justify_items": null,
       "left": null,
       "margin": null,
       "max_height": null,
       "max_width": null,
       "min_height": null,
       "min_width": null,
       "object_fit": null,
       "object_position": null,
       "order": null,
       "overflow": null,
       "overflow_x": null,
       "overflow_y": null,
       "padding": null,
       "right": null,
       "top": null,
       "visibility": null,
       "width": null
      }
     },
     "97bedfd70d294adda77fd404092aa96f": {
      "model_module": "@jupyter-widgets/base",
      "model_module_version": "1.2.0",
      "model_name": "LayoutModel",
      "state": {
       "_model_module": "@jupyter-widgets/base",
       "_model_module_version": "1.2.0",
       "_model_name": "LayoutModel",
       "_view_count": null,
       "_view_module": "@jupyter-widgets/base",
       "_view_module_version": "1.2.0",
       "_view_name": "LayoutView",
       "align_content": null,
       "align_items": null,
       "align_self": null,
       "border": null,
       "bottom": null,
       "display": null,
       "flex": null,
       "flex_flow": null,
       "grid_area": null,
       "grid_auto_columns": null,
       "grid_auto_flow": null,
       "grid_auto_rows": null,
       "grid_column": null,
       "grid_gap": null,
       "grid_row": null,
       "grid_template_areas": null,
       "grid_template_columns": null,
       "grid_template_rows": null,
       "height": null,
       "justify_content": null,
       "justify_items": null,
       "left": null,
       "margin": null,
       "max_height": null,
       "max_width": null,
       "min_height": null,
       "min_width": null,
       "object_fit": null,
       "object_position": null,
       "order": null,
       "overflow": null,
       "overflow_x": null,
       "overflow_y": null,
       "padding": null,
       "right": null,
       "top": null,
       "visibility": null,
       "width": null
      }
     },
     "9c38149deb4c4f92bc699f0265a2581d": {
      "model_module": "@jupyter-widgets/controls",
      "model_module_version": "1.5.0",
      "model_name": "FloatProgressModel",
      "state": {
       "_dom_classes": [],
       "_model_module": "@jupyter-widgets/controls",
       "_model_module_version": "1.5.0",
       "_model_name": "FloatProgressModel",
       "_view_count": null,
       "_view_module": "@jupyter-widgets/controls",
       "_view_module_version": "1.5.0",
       "_view_name": "ProgressView",
       "bar_style": "",
       "description": "",
       "description_tooltip": null,
       "layout": "IPY_MODEL_0c445be2cb8646518c7d9632f9885818",
       "max": 1.0,
       "min": 0.0,
       "orientation": "horizontal",
       "style": "IPY_MODEL_233bb8a8beb74e829390501489b746b7",
       "value": 1.0
      }
     },
     "a283f57eb4ee41998cb2ad1bc8393267": {
      "model_module": "@jupyter-widgets/controls",
      "model_module_version": "1.5.0",
      "model_name": "FloatProgressModel",
      "state": {
       "_dom_classes": [],
       "_model_module": "@jupyter-widgets/controls",
       "_model_module_version": "1.5.0",
       "_model_name": "FloatProgressModel",
       "_view_count": null,
       "_view_module": "@jupyter-widgets/controls",
       "_view_module_version": "1.5.0",
       "_view_name": "ProgressView",
       "bar_style": "success",
       "description": "",
       "description_tooltip": null,
       "layout": "IPY_MODEL_e7071c648abf446a8246e2cfef5038cf",
       "max": 548118077.0,
       "min": 0.0,
       "orientation": "horizontal",
       "style": "IPY_MODEL_7671d6a2499b4c62be86d11e01764bd4",
       "value": 548118077.0
      }
     },
     "a4f6a84d54584f5f932ae9aa9112af2e": {
      "model_module": "@jupyter-widgets/controls",
      "model_module_version": "1.5.0",
      "model_name": "HTMLModel",
      "state": {
       "_dom_classes": [],
       "_model_module": "@jupyter-widgets/controls",
       "_model_module_version": "1.5.0",
       "_model_name": "HTMLModel",
       "_view_count": null,
       "_view_module": "@jupyter-widgets/controls",
       "_view_module_version": "1.5.0",
       "_view_name": "HTMLView",
       "description": "",
       "description_tooltip": null,
       "layout": "IPY_MODEL_c90a40c21773418da84c4ca5a776f313",
       "placeholder": "​",
       "style": "IPY_MODEL_4a8358b57c7d443cb571129b904903ed",
       "value": "100%"
      }
     },
     "b79b2ac0a1bd49fd9ce9218dfc66683f": {
      "model_module": "@jupyter-widgets/base",
      "model_module_version": "1.2.0",
      "model_name": "LayoutModel",
      "state": {
       "_model_module": "@jupyter-widgets/base",
       "_model_module_version": "1.2.0",
       "_model_name": "LayoutModel",
       "_view_count": null,
       "_view_module": "@jupyter-widgets/base",
       "_view_module_version": "1.2.0",
       "_view_name": "LayoutView",
       "align_content": null,
       "align_items": null,
       "align_self": null,
       "border": null,
       "bottom": null,
       "display": null,
       "flex": null,
       "flex_flow": null,
       "grid_area": null,
       "grid_auto_columns": null,
       "grid_auto_flow": null,
       "grid_auto_rows": null,
       "grid_column": null,
       "grid_gap": null,
       "grid_row": null,
       "grid_template_areas": null,
       "grid_template_columns": null,
       "grid_template_rows": null,
       "height": null,
       "justify_content": null,
       "justify_items": null,
       "left": null,
       "margin": null,
       "max_height": null,
       "max_width": null,
       "min_height": null,
       "min_width": null,
       "object_fit": null,
       "object_position": null,
       "order": null,
       "overflow": null,
       "overflow_x": null,
       "overflow_y": null,
       "padding": null,
       "right": null,
       "top": null,
       "visibility": null,
       "width": null
      }
     },
     "bd6859b2feed4ecf82e0c648673bf117": {
      "model_module": "@jupyter-widgets/controls",
      "model_module_version": "1.5.0",
      "model_name": "DescriptionStyleModel",
      "state": {
       "_model_module": "@jupyter-widgets/controls",
       "_model_module_version": "1.5.0",
       "_model_name": "DescriptionStyleModel",
       "_view_count": null,
       "_view_module": "@jupyter-widgets/base",
       "_view_module_version": "1.2.0",
       "_view_name": "StyleView",
       "description_width": ""
      }
     },
     "be7e026874fe42cdb502cebdf373b8ac": {
      "model_module": "@jupyter-widgets/controls",
      "model_module_version": "1.5.0",
      "model_name": "HTMLModel",
      "state": {
       "_dom_classes": [],
       "_model_module": "@jupyter-widgets/controls",
       "_model_module_version": "1.5.0",
       "_model_name": "HTMLModel",
       "_view_count": null,
       "_view_module": "@jupyter-widgets/controls",
       "_view_module_version": "1.5.0",
       "_view_name": "HTMLView",
       "description": "",
       "description_tooltip": null,
       "layout": "IPY_MODEL_46ebbbc706ab4c32b5dd1f25f38e5000",
       "placeholder": "​",
       "style": "IPY_MODEL_fe2acf7fb938437ebb43266c15b96bb8",
       "value": " 665/665 [00:00&lt;00:00, 25.8kB/s]"
      }
     },
     "c203b1dc5d8b479bba79cd67aff61534": {
      "model_module": "@jupyter-widgets/base",
      "model_module_version": "1.2.0",
      "model_name": "LayoutModel",
      "state": {
       "_model_module": "@jupyter-widgets/base",
       "_model_module_version": "1.2.0",
       "_model_name": "LayoutModel",
       "_view_count": null,
       "_view_module": "@jupyter-widgets/base",
       "_view_module_version": "1.2.0",
       "_view_name": "LayoutView",
       "align_content": null,
       "align_items": null,
       "align_self": null,
       "border": null,
       "bottom": null,
       "display": null,
       "flex": null,
       "flex_flow": null,
       "grid_area": null,
       "grid_auto_columns": null,
       "grid_auto_flow": null,
       "grid_auto_rows": null,
       "grid_column": null,
       "grid_gap": null,
       "grid_row": null,
       "grid_template_areas": null,
       "grid_template_columns": null,
       "grid_template_rows": null,
       "height": null,
       "justify_content": null,
       "justify_items": null,
       "left": null,
       "margin": null,
       "max_height": null,
       "max_width": null,
       "min_height": null,
       "min_width": null,
       "object_fit": null,
       "object_position": null,
       "order": null,
       "overflow": null,
       "overflow_x": null,
       "overflow_y": null,
       "padding": null,
       "right": null,
       "top": null,
       "visibility": null,
       "width": null
      }
     },
     "c90a40c21773418da84c4ca5a776f313": {
      "model_module": "@jupyter-widgets/base",
      "model_module_version": "1.2.0",
      "model_name": "LayoutModel",
      "state": {
       "_model_module": "@jupyter-widgets/base",
       "_model_module_version": "1.2.0",
       "_model_name": "LayoutModel",
       "_view_count": null,
       "_view_module": "@jupyter-widgets/base",
       "_view_module_version": "1.2.0",
       "_view_name": "LayoutView",
       "align_content": null,
       "align_items": null,
       "align_self": null,
       "border": null,
       "bottom": null,
       "display": null,
       "flex": null,
       "flex_flow": null,
       "grid_area": null,
       "grid_auto_columns": null,
       "grid_auto_flow": null,
       "grid_auto_rows": null,
       "grid_column": null,
       "grid_gap": null,
       "grid_row": null,
       "grid_template_areas": null,
       "grid_template_columns": null,
       "grid_template_rows": null,
       "height": null,
       "justify_content": null,
       "justify_items": null,
       "left": null,
       "margin": null,
       "max_height": null,
       "max_width": null,
       "min_height": null,
       "min_width": null,
       "object_fit": null,
       "object_position": null,
       "order": null,
       "overflow": null,
       "overflow_x": null,
       "overflow_y": null,
       "padding": null,
       "right": null,
       "top": null,
       "visibility": null,
       "width": null
      }
     },
     "c913b2d69a3942edbbae6b97ef1971bd": {
      "model_module": "@jupyter-widgets/controls",
      "model_module_version": "1.5.0",
      "model_name": "ProgressStyleModel",
      "state": {
       "_model_module": "@jupyter-widgets/controls",
       "_model_module_version": "1.5.0",
       "_model_name": "ProgressStyleModel",
       "_view_count": null,
       "_view_module": "@jupyter-widgets/base",
       "_view_module_version": "1.2.0",
       "_view_name": "StyleView",
       "bar_color": null,
       "description_width": ""
      }
     },
     "c954a78a4e8746c898d12a5aa1504db3": {
      "model_module": "@jupyter-widgets/controls",
      "model_module_version": "1.5.0",
      "model_name": "HTMLModel",
      "state": {
       "_dom_classes": [],
       "_model_module": "@jupyter-widgets/controls",
       "_model_module_version": "1.5.0",
       "_model_name": "HTMLModel",
       "_view_count": null,
       "_view_module": "@jupyter-widgets/controls",
       "_view_module_version": "1.5.0",
       "_view_name": "HTMLView",
       "description": "",
       "description_tooltip": null,
       "layout": "IPY_MODEL_f53e1afbfd8e407eafe573aefade63c3",
       "placeholder": "​",
       "style": "IPY_MODEL_51c79deba7284939a2305ea7a63db414",
       "value": "Downloading vocab.json: 100%"
      }
     },
     "ca83bd4c9b3a4fd191ec94c2aaa05dca": {
      "model_module": "@jupyter-widgets/controls",
      "model_module_version": "1.5.0",
      "model_name": "HTMLModel",
      "state": {
       "_dom_classes": [],
       "_model_module": "@jupyter-widgets/controls",
       "_model_module_version": "1.5.0",
       "_model_name": "HTMLModel",
       "_view_count": null,
       "_view_module": "@jupyter-widgets/controls",
       "_view_module_version": "1.5.0",
       "_view_name": "HTMLView",
       "description": "",
       "description_tooltip": null,
       "layout": "IPY_MODEL_35ed3153c334404a832cb5f0daa8808a",
       "placeholder": "​",
       "style": "IPY_MODEL_21a35f10e07c49c3929ef000c86727ec",
       "value": "Downloading config.json: 100%"
      }
     },
     "cc4ac697c64d492795e57294cd9f7642": {
      "model_module": "@jupyter-widgets/controls",
      "model_module_version": "1.5.0",
      "model_name": "VBoxModel",
      "state": {
       "_dom_classes": [],
       "_model_module": "@jupyter-widgets/controls",
       "_model_module_version": "1.5.0",
       "_model_name": "VBoxModel",
       "_view_count": null,
       "_view_module": "@jupyter-widgets/controls",
       "_view_module_version": "1.5.0",
       "_view_name": "VBoxView",
       "box_style": "",
       "children": [
        "IPY_MODEL_2e378cded3ff4c96b8e5dcc211b1aefa",
        "IPY_MODEL_9c38149deb4c4f92bc699f0265a2581d"
       ],
       "layout": "IPY_MODEL_f28aa83615c94e87a01584134d43eead"
      }
     },
     "cddf3bef704a4915b632cf6e7a0a41d2": {
      "model_module": "@jupyter-widgets/controls",
      "model_module_version": "1.5.0",
      "model_name": "DescriptionStyleModel",
      "state": {
       "_model_module": "@jupyter-widgets/controls",
       "_model_module_version": "1.5.0",
       "_model_name": "DescriptionStyleModel",
       "_view_count": null,
       "_view_module": "@jupyter-widgets/base",
       "_view_module_version": "1.2.0",
       "_view_name": "StyleView",
       "description_width": ""
      }
     },
     "d54b57de0cff42a6b86a245adca8253e": {
      "model_module": "@jupyter-widgets/base",
      "model_module_version": "1.2.0",
      "model_name": "LayoutModel",
      "state": {
       "_model_module": "@jupyter-widgets/base",
       "_model_module_version": "1.2.0",
       "_model_name": "LayoutModel",
       "_view_count": null,
       "_view_module": "@jupyter-widgets/base",
       "_view_module_version": "1.2.0",
       "_view_name": "LayoutView",
       "align_content": null,
       "align_items": null,
       "align_self": null,
       "border": null,
       "bottom": null,
       "display": null,
       "flex": null,
       "flex_flow": null,
       "grid_area": null,
       "grid_auto_columns": null,
       "grid_auto_flow": null,
       "grid_auto_rows": null,
       "grid_column": null,
       "grid_gap": null,
       "grid_row": null,
       "grid_template_areas": null,
       "grid_template_columns": null,
       "grid_template_rows": null,
       "height": null,
       "justify_content": null,
       "justify_items": null,
       "left": null,
       "margin": null,
       "max_height": null,
       "max_width": null,
       "min_height": null,
       "min_width": null,
       "object_fit": null,
       "object_position": null,
       "order": null,
       "overflow": null,
       "overflow_x": null,
       "overflow_y": null,
       "padding": null,
       "right": null,
       "top": null,
       "visibility": null,
       "width": null
      }
     },
     "d79469e5078e4b36abdffa81b081e04c": {
      "model_module": "@jupyter-widgets/controls",
      "model_module_version": "1.5.0",
      "model_name": "HBoxModel",
      "state": {
       "_dom_classes": [],
       "_model_module": "@jupyter-widgets/controls",
       "_model_module_version": "1.5.0",
       "_model_name": "HBoxModel",
       "_view_count": null,
       "_view_module": "@jupyter-widgets/controls",
       "_view_module_version": "1.5.0",
       "_view_name": "HBoxView",
       "box_style": "",
       "children": [
        "IPY_MODEL_ca83bd4c9b3a4fd191ec94c2aaa05dca",
        "IPY_MODEL_304e9c80546e4d888af6aabe8c3940b0",
        "IPY_MODEL_be7e026874fe42cdb502cebdf373b8ac"
       ],
       "layout": "IPY_MODEL_427a944d48bf426f8cc048397e2490b3"
      }
     },
     "da11d4fc16a749b38971c3bd05aeb16d": {
      "model_module": "@jupyter-widgets/controls",
      "model_module_version": "1.5.0",
      "model_name": "HTMLModel",
      "state": {
       "_dom_classes": [],
       "_model_module": "@jupyter-widgets/controls",
       "_model_module_version": "1.5.0",
       "_model_name": "HTMLModel",
       "_view_count": null,
       "_view_module": "@jupyter-widgets/controls",
       "_view_module_version": "1.5.0",
       "_view_name": "HTMLView",
       "description": "",
       "description_tooltip": null,
       "layout": "IPY_MODEL_da3c7b821b634887ba3b81b05c0a4ee2",
       "placeholder": "​",
       "style": "IPY_MODEL_267f159f6d9e427fabd4160a867cc513",
       "value": "Downloading merges.txt: 100%"
      }
     },
     "da3c7b821b634887ba3b81b05c0a4ee2": {
      "model_module": "@jupyter-widgets/base",
      "model_module_version": "1.2.0",
      "model_name": "LayoutModel",
      "state": {
       "_model_module": "@jupyter-widgets/base",
       "_model_module_version": "1.2.0",
       "_model_name": "LayoutModel",
       "_view_count": null,
       "_view_module": "@jupyter-widgets/base",
       "_view_module_version": "1.2.0",
       "_view_name": "LayoutView",
       "align_content": null,
       "align_items": null,
       "align_self": null,
       "border": null,
       "bottom": null,
       "display": null,
       "flex": null,
       "flex_flow": null,
       "grid_area": null,
       "grid_auto_columns": null,
       "grid_auto_flow": null,
       "grid_auto_rows": null,
       "grid_column": null,
       "grid_gap": null,
       "grid_row": null,
       "grid_template_areas": null,
       "grid_template_columns": null,
       "grid_template_rows": null,
       "height": null,
       "justify_content": null,
       "justify_items": null,
       "left": null,
       "margin": null,
       "max_height": null,
       "max_width": null,
       "min_height": null,
       "min_width": null,
       "object_fit": null,
       "object_position": null,
       "order": null,
       "overflow": null,
       "overflow_x": null,
       "overflow_y": null,
       "padding": null,
       "right": null,
       "top": null,
       "visibility": null,
       "width": null
      }
     },
     "e7071c648abf446a8246e2cfef5038cf": {
      "model_module": "@jupyter-widgets/base",
      "model_module_version": "1.2.0",
      "model_name": "LayoutModel",
      "state": {
       "_model_module": "@jupyter-widgets/base",
       "_model_module_version": "1.2.0",
       "_model_name": "LayoutModel",
       "_view_count": null,
       "_view_module": "@jupyter-widgets/base",
       "_view_module_version": "1.2.0",
       "_view_name": "LayoutView",
       "align_content": null,
       "align_items": null,
       "align_self": null,
       "border": null,
       "bottom": null,
       "display": null,
       "flex": null,
       "flex_flow": null,
       "grid_area": null,
       "grid_auto_columns": null,
       "grid_auto_flow": null,
       "grid_auto_rows": null,
       "grid_column": null,
       "grid_gap": null,
       "grid_row": null,
       "grid_template_areas": null,
       "grid_template_columns": null,
       "grid_template_rows": null,
       "height": null,
       "justify_content": null,
       "justify_items": null,
       "left": null,
       "margin": null,
       "max_height": null,
       "max_width": null,
       "min_height": null,
       "min_width": null,
       "object_fit": null,
       "object_position": null,
       "order": null,
       "overflow": null,
       "overflow_x": null,
       "overflow_y": null,
       "padding": null,
       "right": null,
       "top": null,
       "visibility": null,
       "width": null
      }
     },
     "ef3877b2834d4029abf36abb1521f251": {
      "model_module": "@jupyter-widgets/controls",
      "model_module_version": "1.5.0",
      "model_name": "HBoxModel",
      "state": {
       "_dom_classes": [],
       "_model_module": "@jupyter-widgets/controls",
       "_model_module_version": "1.5.0",
       "_model_name": "HBoxModel",
       "_view_count": null,
       "_view_module": "@jupyter-widgets/controls",
       "_view_module_version": "1.5.0",
       "_view_name": "HBoxView",
       "box_style": "",
       "children": [
        "IPY_MODEL_c954a78a4e8746c898d12a5aa1504db3",
        "IPY_MODEL_2c9e4d7c25414b37ba3f6358ed6a1394",
        "IPY_MODEL_6ceb2c0e60294a719dc6ef260fc664f2"
       ],
       "layout": "IPY_MODEL_0e7cad7ff4aa44dea818d5761d268a58"
      }
     },
     "f18441ad3a7945fc8e7caf184db04e24": {
      "model_module": "@jupyter-widgets/controls",
      "model_module_version": "1.5.0",
      "model_name": "HTMLModel",
      "state": {
       "_dom_classes": [],
       "_model_module": "@jupyter-widgets/controls",
       "_model_module_version": "1.5.0",
       "_model_name": "HTMLModel",
       "_view_count": null,
       "_view_module": "@jupyter-widgets/controls",
       "_view_module_version": "1.5.0",
       "_view_name": "HTMLView",
       "description": "",
       "description_tooltip": null,
       "layout": "IPY_MODEL_041ca5ea85cc4c0aa26b9a1270af8a6e",
       "placeholder": "​",
       "style": "IPY_MODEL_cddf3bef704a4915b632cf6e7a0a41d2",
       "value": " 446k/446k [00:00&lt;00:00, 908kB/s]"
      }
     },
     "f28aa83615c94e87a01584134d43eead": {
      "model_module": "@jupyter-widgets/base",
      "model_module_version": "1.2.0",
      "model_name": "LayoutModel",
      "state": {
       "_model_module": "@jupyter-widgets/base",
       "_model_module_version": "1.2.0",
       "_model_name": "LayoutModel",
       "_view_count": null,
       "_view_module": "@jupyter-widgets/base",
       "_view_module_version": "1.2.0",
       "_view_name": "LayoutView",
       "align_content": null,
       "align_items": null,
       "align_self": null,
       "border": null,
       "bottom": null,
       "display": null,
       "flex": null,
       "flex_flow": null,
       "grid_area": null,
       "grid_auto_columns": null,
       "grid_auto_flow": null,
       "grid_auto_rows": null,
       "grid_column": null,
       "grid_gap": null,
       "grid_row": null,
       "grid_template_areas": null,
       "grid_template_columns": null,
       "grid_template_rows": null,
       "height": null,
       "justify_content": null,
       "justify_items": null,
       "left": null,
       "margin": null,
       "max_height": null,
       "max_width": null,
       "min_height": null,
       "min_width": null,
       "object_fit": null,
       "object_position": null,
       "order": null,
       "overflow": null,
       "overflow_x": null,
       "overflow_y": null,
       "padding": null,
       "right": null,
       "top": null,
       "visibility": null,
       "width": null
      }
     },
     "f4e8fc1e68d2499a9c1fb7cc00198eba": {
      "model_module": "@jupyter-widgets/controls",
      "model_module_version": "1.5.0",
      "model_name": "DescriptionStyleModel",
      "state": {
       "_model_module": "@jupyter-widgets/controls",
       "_model_module_version": "1.5.0",
       "_model_name": "DescriptionStyleModel",
       "_view_count": null,
       "_view_module": "@jupyter-widgets/base",
       "_view_module_version": "1.2.0",
       "_view_name": "StyleView",
       "description_width": ""
      }
     },
     "f53e1afbfd8e407eafe573aefade63c3": {
      "model_module": "@jupyter-widgets/base",
      "model_module_version": "1.2.0",
      "model_name": "LayoutModel",
      "state": {
       "_model_module": "@jupyter-widgets/base",
       "_model_module_version": "1.2.0",
       "_model_name": "LayoutModel",
       "_view_count": null,
       "_view_module": "@jupyter-widgets/base",
       "_view_module_version": "1.2.0",
       "_view_name": "LayoutView",
       "align_content": null,
       "align_items": null,
       "align_self": null,
       "border": null,
       "bottom": null,
       "display": null,
       "flex": null,
       "flex_flow": null,
       "grid_area": null,
       "grid_auto_columns": null,
       "grid_auto_flow": null,
       "grid_auto_rows": null,
       "grid_column": null,
       "grid_gap": null,
       "grid_row": null,
       "grid_template_areas": null,
       "grid_template_columns": null,
       "grid_template_rows": null,
       "height": null,
       "justify_content": null,
       "justify_items": null,
       "left": null,
       "margin": null,
       "max_height": null,
       "max_width": null,
       "min_height": null,
       "min_width": null,
       "object_fit": null,
       "object_position": null,
       "order": null,
       "overflow": null,
       "overflow_x": null,
       "overflow_y": null,
       "padding": null,
       "right": null,
       "top": null,
       "visibility": null,
       "width": null
      }
     },
     "fa5743d871724ada84844ca53f92192a": {
      "model_module": "@jupyter-widgets/controls",
      "model_module_version": "1.5.0",
      "model_name": "DescriptionStyleModel",
      "state": {
       "_model_module": "@jupyter-widgets/controls",
       "_model_module_version": "1.5.0",
       "_model_name": "DescriptionStyleModel",
       "_view_count": null,
       "_view_module": "@jupyter-widgets/base",
       "_view_module_version": "1.2.0",
       "_view_name": "StyleView",
       "description_width": ""
      }
     },
     "fe2acf7fb938437ebb43266c15b96bb8": {
      "model_module": "@jupyter-widgets/controls",
      "model_module_version": "1.5.0",
      "model_name": "DescriptionStyleModel",
      "state": {
       "_model_module": "@jupyter-widgets/controls",
       "_model_module_version": "1.5.0",
       "_model_name": "DescriptionStyleModel",
       "_view_count": null,
       "_view_module": "@jupyter-widgets/base",
       "_view_module_version": "1.2.0",
       "_view_name": "StyleView",
       "description_width": ""
      }
     }
    },
    "version_major": 2,
    "version_minor": 0
   }
  }
 },
 "nbformat": 4,
 "nbformat_minor": 5
}
